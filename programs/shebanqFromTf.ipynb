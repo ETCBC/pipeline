{
 "cells": [
  {
   "cell_type": "markdown",
   "metadata": {},
   "source": [
    "![pipeline](pictures/pictures.003.png)\n",
    "\n",
    "# SHEBANQ from Text-Fabric\n",
    "\n",
    "This notebook assembles data from relevant Github repositories of the ETCBC.\n",
    "It selects the data that is needed for the website\n",
    "[SHEBANQ](https://shebanq.ancient-data.org).\n",
    "\n",
    "\n",
    "## Pipeline\n",
    "This is **pipe 2** of the pipeline from ETCBC data to the website SHEBANQ.\n",
    "\n",
    "A run of this pipe produces shebanq data according to a chosen *version*.\n",
    "It should be run whenever there are new or updated data sources present that affect the output data.\n",
    "Since all input data is delivered in Github repositories, we have excellent machinery to \n",
    "work with versioning.\n",
    "\n",
    "Which directories the pipe should access for which version is specified in the configuration below.\n",
    "\n",
    "### Core data\n",
    "The core data is what resides in \n",
    "the Github repo [bhsa](https://github.com/ETCBC/bhsa) in directory `tf`.\n",
    "\n",
    "This data will be converted by notebook `tfFromMQL` in its `programs` directory.\n",
    "\n",
    "The result of this action will be an updated TF resource in its \n",
    "`tf/core` directory, under the chosen *version*.\n",
    "\n",
    "### Additional data\n",
    "\n",
    "The pipe will try to load any text-fabric data features found in the `tf` subdirectories\n",
    "of the designated additional repos.\n",
    "It will descend one level deeper, according to the chosen *version*.\n",
    "\n",
    "### Resulting data\n",
    "The resulting data will be delivered in the `shebanq` subdirectory of the core repo `bhsa`, \n",
    "and then under the chosen *version* subdirectory.\n",
    "\n",
    "The resulting data consists of three parts:\n",
    "\n",
    "* One big mql file, containing the core data plus **all** additions: `bhsa-xx.mql`.\n",
    "  It will be bzipped.\n",
    "* **not yet implemented** \n",
    "  A subdirectory `mysql` with database tables, containing everything SHEBANQ needs to construct its pages.\n",
    "* **not yet implemented**\n",
    "  A subdirectory `annotations`, containing bulk-uploadable annotation sets, that SHEBANQ can show in notes view,\n",
    "  between the clause atoms of the text."
   ]
  },
  {
   "cell_type": "code",
   "execution_count": 1,
   "metadata": {
    "collapsed": true
   },
   "outputs": [],
   "source": [
    "import os,sys,collections\n",
    "from pipeline import webPipeline\n",
    "from tf.fabric import Fabric"
   ]
  },
  {
   "cell_type": "markdown",
   "metadata": {},
   "source": [
    "# Config"
   ]
  },
  {
   "cell_type": "code",
   "execution_count": 2,
   "metadata": {
    "collapsed": true
   },
   "outputs": [],
   "source": [
    "if 'SCRIPT' not in locals(): \n",
    "    SCRIPT = False"
   ]
  },
  {
   "cell_type": "code",
   "execution_count": 3,
   "metadata": {
    "collapsed": true
   },
   "outputs": [],
   "source": [
    "pipeline = dict(\n",
    "    repoOrder = '''\n",
    "        bhsa\n",
    "        phono\n",
    "        valence\n",
    "        parallels\n",
    "    ''',\n",
    "    coreModule='core',\n",
    ")"
   ]
  },
  {
   "cell_type": "code",
   "execution_count": 4,
   "metadata": {
    "scrolled": false
   },
   "outputs": [
    {
     "name": "stdout",
     "output_type": "stream",
     "text": [
      "\n",
      "##############################################################################################\n",
      "#                                                                                            #\n",
      "#       0.00s Aggregate MLQ for version c                                                    #\n",
      "#                                                                                            #\n",
      "##############################################################################################\n",
      "\n",
      "|       0.00s \tAlready up to date\n",
      "|       0.00s \tbzipping /Users/dirk/github/etcbc/bhsa/_temp/c/bhsa_xx.mql\n",
      "|       0.00s \tand delivering as /Users/dirk/github/etcbc/bhsa/shebanq/c/bhsa_xx.mql.bz2\n",
      "|       0.00s \tNOTE: Using existing bzipped file which is newer than unzipped one\n"
     ]
    }
   ],
   "source": [
    "good = webPipeline(pipeline, version='c', force=False)"
   ]
  },
  {
   "cell_type": "code",
   "execution_count": null,
   "metadata": {
    "collapsed": true
   },
   "outputs": [],
   "source": []
  }
 ],
 "metadata": {
  "kernelspec": {
   "display_name": "Python 3",
   "language": "python",
   "name": "python3"
  },
  "language_info": {
   "codemirror_mode": {
    "name": "ipython",
    "version": 3
   },
   "file_extension": ".py",
   "mimetype": "text/x-python",
   "name": "python",
   "nbconvert_exporter": "python",
   "pygments_lexer": "ipython3",
   "version": "3.6.2"
  }
 },
 "nbformat": 4,
 "nbformat_minor": 1
}
