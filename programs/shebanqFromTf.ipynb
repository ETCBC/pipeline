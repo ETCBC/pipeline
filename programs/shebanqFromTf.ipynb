{
 "cells": [
  {
   "cell_type": "markdown",
   "metadata": {},
   "source": [
    "![pipeline](pictures/pictures.003.png)\n",
    "\n",
    "# SHEBANQ from Text-Fabric\n",
    "\n",
    "This notebook assembles data from relevant GitHub repositories of the ETCBC.\n",
    "It selects the data that is needed for the website\n",
    "[SHEBANQ](https://shebanq.ancient-data.org).\n",
    "\n",
    "\n",
    "## Pipeline\n",
    "This is **pipe 2** of the pipeline from ETCBC data to the website SHEBANQ.\n",
    "\n",
    "A run of this pipe produces SHEBANQ data according to a chosen *version*.\n",
    "It should be run whenever there are new or updated data sources present that affect the output data.\n",
    "Since all input data is delivered in GitHub repositories, we have excellent machinery to \n",
    "work with versioning.\n",
    "\n",
    "Which directories the pipe should access for which version is specified in the configuration below.\n",
    "\n",
    "### Core data\n",
    "The core data is what resides in \n",
    "the GitHub repo [BHSA](https://github.com/ETCBC/bhsa) in directory `tf`.\n",
    "\n",
    "This data will be converted by notebook `coreData` in its `programs` directory.\n",
    "\n",
    "The result of this action will be an updated Text-Fabric resource in its \n",
    "`tf` directory, under the chosen *version*.\n",
    "\n",
    "### Additional data\n",
    "\n",
    "The pipe will try to load any text-fabric data features found in the `tf` subdirectories\n",
    "of the designated additional repos.\n",
    "It will descend one level deeper, according to the chosen *version*.\n",
    "\n",
    "### Resulting data\n",
    "The resulting data will be delivered in the `shebanq` subdirectory of the core repo `bhsa`, \n",
    "and then under the chosen *version* subdirectory.\n",
    "\n",
    "The resulting data consists of three parts:\n",
    "\n",
    "* One big MQL file, containing the core data plus **all** additions: `bhsa-xx.mql`.\n",
    "  It will be bzipped.\n",
    "* **not yet implemented** \n",
    "  A subdirectory `mysql` with database tables, containing everything SHEBANQ needs to construct its pages.\n",
    "* **not yet implemented**\n",
    "  A subdirectory `annotations`, containing bulk-uploadable annotation sets, that SHEBANQ can show in notes view,\n",
    "  between the clause atoms of the text."
   ]
  },
  {
   "cell_type": "code",
   "execution_count": 1,
   "metadata": {},
   "outputs": [],
   "source": [
    "import os,sys,collections\n",
    "from pipeline import webPipeline, importLocal, copyServer\n",
    "from tf.fabric import Fabric"
   ]
  },
  {
   "cell_type": "markdown",
   "metadata": {},
   "source": [
    "# Config"
   ]
  },
  {
   "cell_type": "code",
   "execution_count": 2,
   "metadata": {},
   "outputs": [],
   "source": [
    "if 'SCRIPT' not in locals(): \n",
    "    SCRIPT = False\n",
    "    VERSIONS = ['c']\n",
    "    KINDS = {'mql', 'mysql'}"
   ]
  },
  {
   "cell_type": "code",
   "execution_count": 3,
   "metadata": {},
   "outputs": [],
   "source": [
    "pipeline = dict(\n",
    "    repoOrder = '''\n",
    "        bhsa\n",
    "        phono\n",
    "        valence\n",
    "        parallels\n",
    "    ''',\n",
    ")\n",
    "user = 'dirkr'\n",
    "server = 'clarin11.dans.knaw.nl'\n",
    "remoteDir = '/home/dirkr/shebanq-install'"
   ]
  },
  {
   "cell_type": "code",
   "execution_count": 4,
   "metadata": {
    "scrolled": false
   },
   "outputs": [
    {
     "name": "stdout",
     "output_type": "stream",
     "text": [
      "\n",
      "##############################################################################################\n",
      "#                                                                                            #\n",
      "#       0.00s Aggregate MQL for version c                                                    #\n",
      "#                                                                                            #\n",
      "##############################################################################################\n",
      "\n",
      "|       0.00s \tWork to do because /Users/dirk/github/etcbc/bhsa/shebanq/c/shebanq_etcbcc.mql.bz2 does not exist\n",
      "\n",
      "##############################################################################################\n",
      "#                                                                                            #\n",
      "#       0.00s Using TF to make an MQL export                                                 #\n",
      "#                                                                                            #\n",
      "##############################################################################################\n",
      "\n",
      "This is Text-Fabric 5.5.18\n",
      "Api reference : https://dans-labs.github.io/text-fabric/Api/General/\n",
      "Tutorial      : https://github.com/Dans-labs/text-fabric/blob/master/docs/tutorial.ipynb\n",
      "Example data  : https://github.com/Dans-labs/text-fabric-data\n",
      "\n",
      "130 features found and 0 ignored\n",
      "  0.00s Checking features of dataset shebanq_etcbcc\n",
      "   |     0.00s M book                 from /Users/dirk/github/etcbc/bhsa/tf/c\n",
      "   |     0.00s M book@am              from /Users/dirk/github/etcbc/bhsa/tf/c\n"
     ]
    },
    {
     "name": "stderr",
     "output_type": "stream",
     "text": [
      "   |     0.00s feature \"book@am\" => \"book_am\"\n"
     ]
    },
    {
     "name": "stdout",
     "output_type": "stream",
     "text": [
      "   |     0.00s M book@ar              from /Users/dirk/github/etcbc/bhsa/tf/c\n"
     ]
    },
    {
     "name": "stderr",
     "output_type": "stream",
     "text": [
      "   |     0.00s feature \"book@ar\" => \"book_ar\"\n"
     ]
    },
    {
     "name": "stdout",
     "output_type": "stream",
     "text": [
      "   |     0.00s M book@bn              from /Users/dirk/github/etcbc/bhsa/tf/c\n"
     ]
    },
    {
     "name": "stderr",
     "output_type": "stream",
     "text": [
      "   |     0.00s feature \"book@bn\" => \"book_bn\"\n"
     ]
    },
    {
     "name": "stdout",
     "output_type": "stream",
     "text": [
      "   |     0.00s M book@da              from /Users/dirk/github/etcbc/bhsa/tf/c\n"
     ]
    },
    {
     "name": "stderr",
     "output_type": "stream",
     "text": [
      "   |     0.00s feature \"book@da\" => \"book_da\"\n"
     ]
    },
    {
     "name": "stdout",
     "output_type": "stream",
     "text": [
      "   |     0.00s M book@de              from /Users/dirk/github/etcbc/bhsa/tf/c\n"
     ]
    },
    {
     "name": "stderr",
     "output_type": "stream",
     "text": [
      "   |     0.00s feature \"book@de\" => \"book_de\"\n"
     ]
    },
    {
     "name": "stdout",
     "output_type": "stream",
     "text": [
      "   |     0.00s M book@el              from /Users/dirk/github/etcbc/bhsa/tf/c\n"
     ]
    },
    {
     "name": "stderr",
     "output_type": "stream",
     "text": [
      "   |     0.01s feature \"book@el\" => \"book_el\"\n"
     ]
    },
    {
     "name": "stdout",
     "output_type": "stream",
     "text": [
      "   |     0.00s M book@en              from /Users/dirk/github/etcbc/bhsa/tf/c\n"
     ]
    },
    {
     "name": "stderr",
     "output_type": "stream",
     "text": [
      "   |     0.00s feature \"book@en\" => \"book_en\"\n"
     ]
    },
    {
     "name": "stdout",
     "output_type": "stream",
     "text": [
      "   |     0.01s M book@es              from /Users/dirk/github/etcbc/bhsa/tf/c\n"
     ]
    },
    {
     "name": "stderr",
     "output_type": "stream",
     "text": [
      "   |     0.01s feature \"book@es\" => \"book_es\"\n"
     ]
    },
    {
     "name": "stdout",
     "output_type": "stream",
     "text": [
      "   |     0.00s M book@fa              from /Users/dirk/github/etcbc/bhsa/tf/c\n"
     ]
    },
    {
     "name": "stderr",
     "output_type": "stream",
     "text": [
      "   |     0.00s feature \"book@fa\" => \"book_fa\"\n"
     ]
    },
    {
     "name": "stdout",
     "output_type": "stream",
     "text": [
      "   |     0.00s M book@fr              from /Users/dirk/github/etcbc/bhsa/tf/c\n"
     ]
    },
    {
     "name": "stderr",
     "output_type": "stream",
     "text": [
      "   |     0.00s feature \"book@fr\" => \"book_fr\"\n"
     ]
    },
    {
     "name": "stdout",
     "output_type": "stream",
     "text": [
      "   |     0.00s M book@he              from /Users/dirk/github/etcbc/bhsa/tf/c\n"
     ]
    },
    {
     "name": "stderr",
     "output_type": "stream",
     "text": [
      "   |     0.00s feature \"book@he\" => \"book_he\"\n"
     ]
    },
    {
     "name": "stdout",
     "output_type": "stream",
     "text": [
      "   |     0.00s M book@hi              from /Users/dirk/github/etcbc/bhsa/tf/c\n"
     ]
    },
    {
     "name": "stderr",
     "output_type": "stream",
     "text": [
      "   |     0.00s feature \"book@hi\" => \"book_hi\"\n"
     ]
    },
    {
     "name": "stdout",
     "output_type": "stream",
     "text": [
      "   |     0.00s M book@id              from /Users/dirk/github/etcbc/bhsa/tf/c\n"
     ]
    },
    {
     "name": "stderr",
     "output_type": "stream",
     "text": [
      "   |     0.00s feature \"book@id\" => \"book_id\"\n"
     ]
    },
    {
     "name": "stdout",
     "output_type": "stream",
     "text": [
      "   |     0.00s M book@ja              from /Users/dirk/github/etcbc/bhsa/tf/c\n"
     ]
    },
    {
     "name": "stderr",
     "output_type": "stream",
     "text": [
      "   |     0.01s feature \"book@ja\" => \"book_ja\"\n"
     ]
    },
    {
     "name": "stdout",
     "output_type": "stream",
     "text": [
      "   |     0.00s M book@ko              from /Users/dirk/github/etcbc/bhsa/tf/c\n"
     ]
    },
    {
     "name": "stderr",
     "output_type": "stream",
     "text": [
      "   |     0.00s feature \"book@ko\" => \"book_ko\"\n"
     ]
    },
    {
     "name": "stdout",
     "output_type": "stream",
     "text": [
      "   |     0.00s M book@la              from /Users/dirk/github/etcbc/bhsa/tf/c\n"
     ]
    },
    {
     "name": "stderr",
     "output_type": "stream",
     "text": [
      "   |     0.00s feature \"book@la\" => \"book_la\"\n"
     ]
    },
    {
     "name": "stdout",
     "output_type": "stream",
     "text": [
      "   |     0.00s M book@nl              from /Users/dirk/github/etcbc/bhsa/tf/c\n"
     ]
    },
    {
     "name": "stderr",
     "output_type": "stream",
     "text": [
      "   |     0.00s feature \"book@nl\" => \"book_nl\"\n"
     ]
    },
    {
     "name": "stdout",
     "output_type": "stream",
     "text": [
      "   |     0.00s M book@pa              from /Users/dirk/github/etcbc/bhsa/tf/c\n"
     ]
    },
    {
     "name": "stderr",
     "output_type": "stream",
     "text": [
      "   |     0.00s feature \"book@pa\" => \"book_pa\"\n"
     ]
    },
    {
     "name": "stdout",
     "output_type": "stream",
     "text": [
      "   |     0.00s M book@pt              from /Users/dirk/github/etcbc/bhsa/tf/c\n"
     ]
    },
    {
     "name": "stderr",
     "output_type": "stream",
     "text": [
      "   |     0.00s feature \"book@pt\" => \"book_pt\"\n"
     ]
    },
    {
     "name": "stdout",
     "output_type": "stream",
     "text": [
      "   |     0.00s M book@ru              from /Users/dirk/github/etcbc/bhsa/tf/c\n"
     ]
    },
    {
     "name": "stderr",
     "output_type": "stream",
     "text": [
      "   |     0.00s feature \"book@ru\" => \"book_ru\"\n"
     ]
    },
    {
     "name": "stdout",
     "output_type": "stream",
     "text": [
      "   |     0.00s M book@sw              from /Users/dirk/github/etcbc/bhsa/tf/c\n"
     ]
    },
    {
     "name": "stderr",
     "output_type": "stream",
     "text": [
      "   |     0.00s feature \"book@sw\" => \"book_sw\"\n"
     ]
    },
    {
     "name": "stdout",
     "output_type": "stream",
     "text": [
      "   |     0.00s M book@syc             from /Users/dirk/github/etcbc/bhsa/tf/c\n"
     ]
    },
    {
     "name": "stderr",
     "output_type": "stream",
     "text": [
      "   |     0.01s feature \"book@syc\" => \"book_syc\"\n"
     ]
    },
    {
     "name": "stdout",
     "output_type": "stream",
     "text": [
      "   |     0.00s M book@tr              from /Users/dirk/github/etcbc/bhsa/tf/c\n"
     ]
    },
    {
     "name": "stderr",
     "output_type": "stream",
     "text": [
      "   |     0.00s feature \"book@tr\" => \"book_tr\"\n"
     ]
    },
    {
     "name": "stdout",
     "output_type": "stream",
     "text": [
      "   |     0.00s M book@ur              from /Users/dirk/github/etcbc/bhsa/tf/c\n"
     ]
    },
    {
     "name": "stderr",
     "output_type": "stream",
     "text": [
      "   |     0.01s feature \"book@ur\" => \"book_ur\"\n"
     ]
    },
    {
     "name": "stdout",
     "output_type": "stream",
     "text": [
      "   |     0.00s M book@yo              from /Users/dirk/github/etcbc/bhsa/tf/c\n"
     ]
    },
    {
     "name": "stderr",
     "output_type": "stream",
     "text": [
      "   |     0.00s feature \"book@yo\" => \"book_yo\"\n"
     ]
    },
    {
     "name": "stdout",
     "output_type": "stream",
     "text": [
      "   |     0.00s M book@zh              from /Users/dirk/github/etcbc/bhsa/tf/c\n"
     ]
    },
    {
     "name": "stderr",
     "output_type": "stream",
     "text": [
      "   |     0.01s feature \"book@zh\" => \"book_zh\"\n"
     ]
    },
    {
     "name": "stdout",
     "output_type": "stream",
     "text": [
      "   |     0.00s M cfunction            from /Users/dirk/github/etcbc/valence/tf/c\n",
      "   |     0.00s M chapter              from /Users/dirk/github/etcbc/bhsa/tf/c\n",
      "   |     0.00s M code                 from /Users/dirk/github/etcbc/bhsa/tf/c\n",
      "   |     0.00s M crossref             from /Users/dirk/github/etcbc/parallels/tf/c\n",
      "   |     0.00s M crossrefLCS          from /Users/dirk/github/etcbc/parallels/tf/c\n",
      "   |     0.00s M crossrefSET          from /Users/dirk/github/etcbc/parallels/tf/c\n",
      "   |     0.00s M det                  from /Users/dirk/github/etcbc/bhsa/tf/c\n",
      "   |     0.00s M dist                 from /Users/dirk/github/etcbc/bhsa/tf/c\n",
      "   |     0.00s M dist_unit            from /Users/dirk/github/etcbc/bhsa/tf/c\n",
      "   |     0.00s M distributional_parent from /Users/dirk/github/etcbc/bhsa/tf/c\n",
      "   |     0.00s M domain               from /Users/dirk/github/etcbc/bhsa/tf/c\n",
      "   |     0.00s M f_correction         from /Users/dirk/github/etcbc/valence/tf/c\n",
      "   |     0.00s M freq_lex             from /Users/dirk/github/etcbc/bhsa/tf/c\n",
      "   |     0.00s M freq_occ             from /Users/dirk/github/etcbc/bhsa/tf/c\n",
      "   |     0.00s M function             from /Users/dirk/github/etcbc/bhsa/tf/c\n",
      "   |     0.00s M functional_parent    from /Users/dirk/github/etcbc/bhsa/tf/c\n",
      "   |     0.00s M g_cons               from /Users/dirk/github/etcbc/bhsa/tf/c\n",
      "   |     0.00s M g_cons_utf8          from /Users/dirk/github/etcbc/bhsa/tf/c\n",
      "   |     0.00s M g_lex                from /Users/dirk/github/etcbc/bhsa/tf/c\n",
      "   |     0.00s M g_lex_utf8           from /Users/dirk/github/etcbc/bhsa/tf/c\n",
      "   |     0.00s M g_nme                from /Users/dirk/github/etcbc/bhsa/tf/c\n",
      "   |     0.00s M g_nme_utf8           from /Users/dirk/github/etcbc/bhsa/tf/c\n",
      "   |     0.00s M g_pfm                from /Users/dirk/github/etcbc/bhsa/tf/c\n",
      "   |     0.00s M g_pfm_utf8           from /Users/dirk/github/etcbc/bhsa/tf/c\n",
      "   |     0.00s M g_prs                from /Users/dirk/github/etcbc/bhsa/tf/c\n",
      "   |     0.00s M g_prs_utf8           from /Users/dirk/github/etcbc/bhsa/tf/c\n",
      "   |     0.00s M g_uvf                from /Users/dirk/github/etcbc/bhsa/tf/c\n",
      "   |     0.00s M g_uvf_utf8           from /Users/dirk/github/etcbc/bhsa/tf/c\n",
      "   |     0.00s M g_vbe                from /Users/dirk/github/etcbc/bhsa/tf/c\n",
      "   |     0.00s M g_vbe_utf8           from /Users/dirk/github/etcbc/bhsa/tf/c\n",
      "   |     0.00s M g_vbs                from /Users/dirk/github/etcbc/bhsa/tf/c\n",
      "   |     0.00s M g_vbs_utf8           from /Users/dirk/github/etcbc/bhsa/tf/c\n",
      "   |     0.00s M g_word               from /Users/dirk/github/etcbc/bhsa/tf/c\n",
      "   |     0.00s M g_word_utf8          from /Users/dirk/github/etcbc/bhsa/tf/c\n",
      "   |     0.01s M gloss                from /Users/dirk/github/etcbc/bhsa/tf/c\n",
      "   |     0.00s M gn                   from /Users/dirk/github/etcbc/bhsa/tf/c\n",
      "   |     0.00s M grammatical          from /Users/dirk/github/etcbc/valence/tf/c\n",
      "   |     0.00s M instruction          from /Users/dirk/github/etcbc/bhsa/tf/c\n",
      "   |     0.00s M is_root              from /Users/dirk/github/etcbc/bhsa/tf/c\n",
      "   |     0.00s M kind                 from /Users/dirk/github/etcbc/bhsa/tf/c\n",
      "   |     0.00s M kq_hybrid            from /Users/dirk/github/etcbc/bhsa/tf/c\n",
      "   |     0.00s M kq_hybrid_utf8       from /Users/dirk/github/etcbc/bhsa/tf/c\n",
      "   |     0.00s M label                from /Users/dirk/github/etcbc/bhsa/tf/c\n",
      "   |     0.00s M language             from /Users/dirk/github/etcbc/bhsa/tf/c\n",
      "   |     0.00s M languageISO          from /Users/dirk/github/etcbc/bhsa/tf/c\n",
      "   |     0.00s M lex                  from /Users/dirk/github/etcbc/bhsa/tf/c\n",
      "   |     0.00s M lex0                 from /Users/dirk/github/etcbc/bhsa/tf/c\n",
      "   |     0.00s M lex_utf8             from /Users/dirk/github/etcbc/bhsa/tf/c\n",
      "   |     0.00s M lexeme_count         from /Users/dirk/github/etcbc/bhsa/tf/c\n",
      "   |     0.00s M lexical              from /Users/dirk/github/etcbc/valence/tf/c\n",
      "   |     0.00s M ls                   from /Users/dirk/github/etcbc/bhsa/tf/c\n",
      "   |     0.00s M mother               from /Users/dirk/github/etcbc/bhsa/tf/c\n",
      "   |     0.00s M mother_object_type   from /Users/dirk/github/etcbc/bhsa/tf/c\n",
      "   |     0.00s M nametype             from /Users/dirk/github/etcbc/bhsa/tf/c\n",
      "   |     0.00s M nme                  from /Users/dirk/github/etcbc/bhsa/tf/c\n",
      "   |     0.00s M nu                   from /Users/dirk/github/etcbc/bhsa/tf/c\n",
      "   |     0.00s M number               from /Users/dirk/github/etcbc/bhsa/tf/c\n",
      "   |     0.00s M original             from /Users/dirk/github/etcbc/valence/tf/c\n",
      "   |     0.00s M otext@phono          from /Users/dirk/github/etcbc/phono/tf/c\n",
      "   |     0.00s M pargr                from /Users/dirk/github/etcbc/bhsa/tf/c\n",
      "   |     0.00s M pdp                  from /Users/dirk/github/etcbc/bhsa/tf/c\n",
      "   |     0.00s M pfm                  from /Users/dirk/github/etcbc/bhsa/tf/c\n",
      "   |     0.00s M phono                from /Users/dirk/github/etcbc/phono/tf/c\n",
      "   |     0.00s M phono_trailer        from /Users/dirk/github/etcbc/phono/tf/c\n",
      "   |     0.00s M predication          from /Users/dirk/github/etcbc/valence/tf/c\n",
      "   |     0.00s M prs                  from /Users/dirk/github/etcbc/bhsa/tf/c\n",
      "   |     0.00s M prs_gn               from /Users/dirk/github/etcbc/bhsa/tf/c\n",
      "   |     0.00s M prs_nu               from /Users/dirk/github/etcbc/bhsa/tf/c\n",
      "   |     0.00s M prs_ps               from /Users/dirk/github/etcbc/bhsa/tf/c\n",
      "   |     0.00s M ps                   from /Users/dirk/github/etcbc/bhsa/tf/c\n",
      "   |     0.00s M qere                 from /Users/dirk/github/etcbc/bhsa/tf/c\n",
      "   |     0.00s M qere_trailer         from /Users/dirk/github/etcbc/bhsa/tf/c\n",
      "   |     0.00s M qere_trailer_utf8    from /Users/dirk/github/etcbc/bhsa/tf/c\n",
      "   |     0.00s M qere_utf8            from /Users/dirk/github/etcbc/bhsa/tf/c\n",
      "   |     0.00s M rank_lex             from /Users/dirk/github/etcbc/bhsa/tf/c\n",
      "   |     0.00s M rank_occ             from /Users/dirk/github/etcbc/bhsa/tf/c\n",
      "   |     0.00s M rela                 from /Users/dirk/github/etcbc/bhsa/tf/c\n",
      "   |     0.01s M root                 from /Users/dirk/github/etcbc/bhsa/tf/c\n",
      "   |     0.00s M s_manual             from /Users/dirk/github/etcbc/valence/tf/c\n",
      "   |     0.00s M semantic             from /Users/dirk/github/etcbc/valence/tf/c\n",
      "   |     0.00s M sense                from /Users/dirk/github/etcbc/valence/tf/c\n",
      "   |     0.00s M sp                   from /Users/dirk/github/etcbc/bhsa/tf/c\n",
      "   |     0.00s M st                   from /Users/dirk/github/etcbc/bhsa/tf/c\n",
      "   |     0.00s M suffix_gender        from /Users/dirk/github/etcbc/bhsa/tf/c\n",
      "   |     0.00s M suffix_number        from /Users/dirk/github/etcbc/bhsa/tf/c\n",
      "   |     0.00s M suffix_person        from /Users/dirk/github/etcbc/bhsa/tf/c\n",
      "   |     0.00s M tab                  from /Users/dirk/github/etcbc/bhsa/tf/c\n",
      "   |     0.00s M trailer              from /Users/dirk/github/etcbc/bhsa/tf/c\n",
      "   |     0.00s M trailer_utf8         from /Users/dirk/github/etcbc/bhsa/tf/c\n",
      "   |     0.00s M txt                  from /Users/dirk/github/etcbc/bhsa/tf/c\n",
      "   |     0.00s M typ                  from /Users/dirk/github/etcbc/bhsa/tf/c\n",
      "   |     0.00s M uvf                  from /Users/dirk/github/etcbc/bhsa/tf/c\n",
      "   |     0.00s M valence              from /Users/dirk/github/etcbc/valence/tf/c\n",
      "   |     0.00s M vbe                  from /Users/dirk/github/etcbc/bhsa/tf/c\n",
      "   |     0.00s M vbs                  from /Users/dirk/github/etcbc/bhsa/tf/c\n",
      "   |     0.00s M verse                from /Users/dirk/github/etcbc/bhsa/tf/c\n",
      "   |     0.00s M voc_lex              from /Users/dirk/github/etcbc/bhsa/tf/c\n",
      "   |     0.00s M voc_lex_utf8         from /Users/dirk/github/etcbc/bhsa/tf/c\n",
      "   |     0.00s M vs                   from /Users/dirk/github/etcbc/bhsa/tf/c\n",
      "   |     0.00s M vt                   from /Users/dirk/github/etcbc/bhsa/tf/c\n",
      "   |     0.74s T otype                from /Users/dirk/github/etcbc/bhsa/tf/c\n",
      "   |       11s T oslots               from /Users/dirk/github/etcbc/bhsa/tf/c\n",
      "   |     0.00s M otext                from /Users/dirk/github/etcbc/bhsa/tf/c\n",
      "   |      |     1.08s C __levels__           from otype, oslots, otext\n",
      "    14s 126 features to export to MQL ...\n",
      "    14s Loading 126 features\n",
      "   |     0.08s T book                 from /Users/dirk/github/etcbc/bhsa/tf/c\n",
      "   |     0.00s T book@am              from /Users/dirk/github/etcbc/bhsa/tf/c\n",
      "   |     0.00s T book@ar              from /Users/dirk/github/etcbc/bhsa/tf/c\n",
      "   |     0.00s T book@bn              from /Users/dirk/github/etcbc/bhsa/tf/c\n",
      "   |     0.00s T book@da              from /Users/dirk/github/etcbc/bhsa/tf/c\n",
      "   |     0.00s T book@de              from /Users/dirk/github/etcbc/bhsa/tf/c\n",
      "   |     0.00s T book@el              from /Users/dirk/github/etcbc/bhsa/tf/c\n",
      "   |     0.00s T book@en              from /Users/dirk/github/etcbc/bhsa/tf/c\n",
      "   |     0.00s T book@es              from /Users/dirk/github/etcbc/bhsa/tf/c\n",
      "   |     0.00s T book@fa              from /Users/dirk/github/etcbc/bhsa/tf/c\n",
      "   |     0.00s T book@fr              from /Users/dirk/github/etcbc/bhsa/tf/c\n",
      "   |     0.00s T book@he              from /Users/dirk/github/etcbc/bhsa/tf/c\n",
      "   |     0.01s T book@hi              from /Users/dirk/github/etcbc/bhsa/tf/c\n",
      "   |     0.00s T book@id              from /Users/dirk/github/etcbc/bhsa/tf/c\n",
      "   |     0.01s T book@ja              from /Users/dirk/github/etcbc/bhsa/tf/c\n",
      "   |     0.00s T book@ko              from /Users/dirk/github/etcbc/bhsa/tf/c\n",
      "   |     0.00s T book@la              from /Users/dirk/github/etcbc/bhsa/tf/c\n",
      "   |     0.00s T book@nl              from /Users/dirk/github/etcbc/bhsa/tf/c\n",
      "   |     0.00s T book@pa              from /Users/dirk/github/etcbc/bhsa/tf/c\n",
      "   |     0.00s T book@pt              from /Users/dirk/github/etcbc/bhsa/tf/c\n",
      "   |     0.00s T book@ru              from /Users/dirk/github/etcbc/bhsa/tf/c\n",
      "   |     0.00s T book@sw              from /Users/dirk/github/etcbc/bhsa/tf/c\n",
      "   |     0.00s T book@syc             from /Users/dirk/github/etcbc/bhsa/tf/c\n",
      "   |     0.00s T book@tr              from /Users/dirk/github/etcbc/bhsa/tf/c\n",
      "   |     0.00s T book@ur              from /Users/dirk/github/etcbc/bhsa/tf/c\n",
      "   |     0.01s T book@yo              from /Users/dirk/github/etcbc/bhsa/tf/c\n",
      "   |     0.00s T book@zh              from /Users/dirk/github/etcbc/bhsa/tf/c\n",
      "   |     0.42s T cfunction            from /Users/dirk/github/etcbc/valence/tf/c\n",
      "   |     0.04s T chapter              from /Users/dirk/github/etcbc/bhsa/tf/c\n",
      "   |     0.17s T code                 from /Users/dirk/github/etcbc/bhsa/tf/c\n",
      "   |     0.09s T crossref             from /Users/dirk/github/etcbc/parallels/tf/c\n",
      "   |     0.07s T crossrefLCS          from /Users/dirk/github/etcbc/parallels/tf/c\n",
      "   |     0.04s T crossrefSET          from /Users/dirk/github/etcbc/parallels/tf/c\n",
      "   |     1.68s T det                  from /Users/dirk/github/etcbc/bhsa/tf/c\n",
      "   |     1.40s T dist                 from /Users/dirk/github/etcbc/bhsa/tf/c\n",
      "   |     1.79s T dist_unit            from /Users/dirk/github/etcbc/bhsa/tf/c\n",
      "   |     3.52s T distributional_parent from /Users/dirk/github/etcbc/bhsa/tf/c\n",
      "   |     0.23s T domain               from /Users/dirk/github/etcbc/bhsa/tf/c\n",
      "   |     0.33s T f_correction         from /Users/dirk/github/etcbc/valence/tf/c\n",
      "   |     0.80s T freq_lex             from /Users/dirk/github/etcbc/bhsa/tf/c\n",
      "   |     0.79s T freq_occ             from /Users/dirk/github/etcbc/bhsa/tf/c\n",
      "   |     0.76s T function             from /Users/dirk/github/etcbc/bhsa/tf/c\n",
      "   |     6.43s T functional_parent    from /Users/dirk/github/etcbc/bhsa/tf/c\n",
      "   |     1.29s T g_cons               from /Users/dirk/github/etcbc/bhsa/tf/c\n",
      "   |     1.61s T g_cons_utf8          from /Users/dirk/github/etcbc/bhsa/tf/c\n",
      "   |     1.60s T g_lex                from /Users/dirk/github/etcbc/bhsa/tf/c\n",
      "   |     1.55s T g_lex_utf8           from /Users/dirk/github/etcbc/bhsa/tf/c\n",
      "   |     0.86s T g_nme                from /Users/dirk/github/etcbc/bhsa/tf/c\n",
      "   |     0.94s T g_nme_utf8           from /Users/dirk/github/etcbc/bhsa/tf/c\n",
      "   |     0.67s T g_pfm                from /Users/dirk/github/etcbc/bhsa/tf/c\n",
      "   |     0.66s T g_pfm_utf8           from /Users/dirk/github/etcbc/bhsa/tf/c\n",
      "   |     0.67s T g_prs                from /Users/dirk/github/etcbc/bhsa/tf/c\n",
      "   |     0.68s T g_prs_utf8           from /Users/dirk/github/etcbc/bhsa/tf/c\n",
      "   |     0.59s T g_uvf                from /Users/dirk/github/etcbc/bhsa/tf/c\n",
      "   |     0.64s T g_uvf_utf8           from /Users/dirk/github/etcbc/bhsa/tf/c\n",
      "   |     0.83s T g_vbe                from /Users/dirk/github/etcbc/bhsa/tf/c\n",
      "   |     0.63s T g_vbe_utf8           from /Users/dirk/github/etcbc/bhsa/tf/c\n",
      "   |     0.62s T g_vbs                from /Users/dirk/github/etcbc/bhsa/tf/c\n",
      "   |     0.60s T g_vbs_utf8           from /Users/dirk/github/etcbc/bhsa/tf/c\n",
      "   |     1.39s T g_word               from /Users/dirk/github/etcbc/bhsa/tf/c\n",
      "   |     1.54s T g_word_utf8          from /Users/dirk/github/etcbc/bhsa/tf/c\n",
      "   |     0.03s T gloss                from /Users/dirk/github/etcbc/bhsa/tf/c\n",
      "   |     1.20s T gn                   from /Users/dirk/github/etcbc/bhsa/tf/c\n",
      "   |     0.68s T grammatical          from /Users/dirk/github/etcbc/valence/tf/c\n",
      "   |     0.27s T instruction          from /Users/dirk/github/etcbc/bhsa/tf/c\n",
      "   |     0.26s T is_root              from /Users/dirk/github/etcbc/bhsa/tf/c\n",
      "   |     0.25s T kind                 from /Users/dirk/github/etcbc/bhsa/tf/c\n",
      "   |     0.59s T kq_hybrid            from /Users/dirk/github/etcbc/bhsa/tf/c\n",
      "   |     0.74s T kq_hybrid_utf8       from /Users/dirk/github/etcbc/bhsa/tf/c\n",
      "   |     0.22s T label                from /Users/dirk/github/etcbc/bhsa/tf/c\n",
      "   |     1.30s T language             from /Users/dirk/github/etcbc/bhsa/tf/c\n",
      "   |     1.40s T languageISO          from /Users/dirk/github/etcbc/bhsa/tf/c\n",
      "   |     1.51s T lex                  from /Users/dirk/github/etcbc/bhsa/tf/c\n",
      "   |     1.54s T lex0                 from /Users/dirk/github/etcbc/bhsa/tf/c\n",
      "   |     1.79s T lex_utf8             from /Users/dirk/github/etcbc/bhsa/tf/c\n",
      "   |     0.71s T lexeme_count         from /Users/dirk/github/etcbc/bhsa/tf/c\n",
      "   |     0.54s T lexical              from /Users/dirk/github/etcbc/valence/tf/c\n",
      "   |     1.46s T ls                   from /Users/dirk/github/etcbc/bhsa/tf/c\n",
      "   |     0.96s T mother               from /Users/dirk/github/etcbc/bhsa/tf/c\n",
      "   |     1.13s T mother_object_type   from /Users/dirk/github/etcbc/bhsa/tf/c\n",
      "   |     0.01s T nametype             from /Users/dirk/github/etcbc/bhsa/tf/c\n",
      "   |     1.22s T nme                  from /Users/dirk/github/etcbc/bhsa/tf/c\n",
      "   |     1.32s T nu                   from /Users/dirk/github/etcbc/bhsa/tf/c\n",
      "   |     2.23s T number               from /Users/dirk/github/etcbc/bhsa/tf/c\n",
      "   |     0.34s T original             from /Users/dirk/github/etcbc/valence/tf/c\n",
      "   |     0.26s T pargr                from /Users/dirk/github/etcbc/bhsa/tf/c\n",
      "   |     1.29s T pdp                  from /Users/dirk/github/etcbc/bhsa/tf/c\n",
      "   |     1.28s T pfm                  from /Users/dirk/github/etcbc/bhsa/tf/c\n",
      "   |     1.73s T phono                from /Users/dirk/github/etcbc/phono/tf/c\n",
      "   |     0.92s T phono_trailer        from /Users/dirk/github/etcbc/phono/tf/c\n",
      "   |     0.68s T predication          from /Users/dirk/github/etcbc/valence/tf/c\n",
      "   |     1.36s T prs                  from /Users/dirk/github/etcbc/bhsa/tf/c\n",
      "   |     1.30s T prs_gn               from /Users/dirk/github/etcbc/bhsa/tf/c\n",
      "   |     1.32s T prs_nu               from /Users/dirk/github/etcbc/bhsa/tf/c\n",
      "   |     1.32s T prs_ps               from /Users/dirk/github/etcbc/bhsa/tf/c\n",
      "   |     1.29s T ps                   from /Users/dirk/github/etcbc/bhsa/tf/c\n",
      "   |     0.01s T qere                 from /Users/dirk/github/etcbc/bhsa/tf/c\n",
      "   |     0.01s T qere_trailer         from /Users/dirk/github/etcbc/bhsa/tf/c\n",
      "   |     0.01s T qere_trailer_utf8    from /Users/dirk/github/etcbc/bhsa/tf/c\n",
      "   |     0.01s T qere_utf8            from /Users/dirk/github/etcbc/bhsa/tf/c\n",
      "   |     0.80s T rank_lex             from /Users/dirk/github/etcbc/bhsa/tf/c\n",
      "   |     0.79s T rank_occ             from /Users/dirk/github/etcbc/bhsa/tf/c\n",
      "   |     2.25s T rela                 from /Users/dirk/github/etcbc/bhsa/tf/c\n",
      "   |     0.01s T root                 from /Users/dirk/github/etcbc/bhsa/tf/c\n",
      "   |     0.34s T s_manual             from /Users/dirk/github/etcbc/valence/tf/c\n",
      "   |     0.45s T semantic             from /Users/dirk/github/etcbc/valence/tf/c\n",
      "   |     0.20s T sense                from /Users/dirk/github/etcbc/valence/tf/c\n",
      "   |     1.34s T sp                   from /Users/dirk/github/etcbc/bhsa/tf/c\n",
      "   |     1.37s T st                   from /Users/dirk/github/etcbc/bhsa/tf/c\n",
      "   |     1.52s T suffix_gender        from /Users/dirk/github/etcbc/bhsa/tf/c\n",
      "   |     1.39s T suffix_number        from /Users/dirk/github/etcbc/bhsa/tf/c\n",
      "   |     1.40s T suffix_person        from /Users/dirk/github/etcbc/bhsa/tf/c\n",
      "   |     0.16s T tab                  from /Users/dirk/github/etcbc/bhsa/tf/c\n",
      "   |     0.99s T trailer              from /Users/dirk/github/etcbc/bhsa/tf/c\n",
      "   |     1.06s T trailer_utf8         from /Users/dirk/github/etcbc/bhsa/tf/c\n",
      "   |     0.25s T txt                  from /Users/dirk/github/etcbc/bhsa/tf/c\n",
      "   |     2.25s T typ                  from /Users/dirk/github/etcbc/bhsa/tf/c\n",
      "   |     1.29s T uvf                  from /Users/dirk/github/etcbc/bhsa/tf/c\n",
      "   |     0.70s T valence              from /Users/dirk/github/etcbc/valence/tf/c\n",
      "   |     1.21s T vbe                  from /Users/dirk/github/etcbc/bhsa/tf/c\n",
      "   |     1.28s T vbs                  from /Users/dirk/github/etcbc/bhsa/tf/c\n",
      "   |     0.04s T verse                from /Users/dirk/github/etcbc/bhsa/tf/c\n",
      "   |     0.04s T voc_lex              from /Users/dirk/github/etcbc/bhsa/tf/c\n",
      "   |     0.04s T voc_lex_utf8         from /Users/dirk/github/etcbc/bhsa/tf/c\n",
      "   |     1.29s T vs                   from /Users/dirk/github/etcbc/bhsa/tf/c\n",
      "   |     1.28s T vt                   from /Users/dirk/github/etcbc/bhsa/tf/c\n",
      " 1m 48s Writing enumerations\n",
      "\tbook_am        :   39 values, 39 not a name, e.g. «መኃልየ_መኃልይ_ዘሰሎሞን»\n",
      "\tbook_ar        :   39 values, 39 not a name, e.g. «1_اخبار»\n",
      "\tbook_bn        :   39 values, 39 not a name, e.g. «আদিপুস্তক»\n",
      "\tbook_da        :   39 values, 13 not a name, e.g. «1.Kongebog»\n",
      "\tbook_de        :   39 values, 7 not a name, e.g. «1_Chronik»\n",
      "\tbook_el        :   39 values, 39 not a name, e.g. «Άσμα_Ασμάτων»\n",
      "\tbook_en        :   39 values, 6 not a name, e.g. «1_Chronicles»\n",
      "\tbook_es        :   39 values, 22 not a name, e.g. «1_Crónicas»\n",
      "\tbook_fa        :   39 values, 39 not a name, e.g. «استر»\n",
      "\tbook_fr        :   39 values, 19 not a name, e.g. «1_Chroniques»\n",
      "\tbook_he        :   39 values, 39 not a name, e.g. «איוב»\n",
      "\tbook_hi        :   39 values, 39 not a name, e.g. «1_इतिहास»\n",
      "\tbook_id        :   39 values, 7 not a name, e.g. «1_Raja-raja»\n",
      "\tbook_ja        :   39 values, 39 not a name, e.g. «アモス書»\n",
      "\tbook_ko        :   39 values, 39 not a name, e.g. «나훔»\n",
      "\tbook_nl        :   39 values, 8 not a name, e.g. «1_Koningen»\n",
      "\tbook_pa        :   39 values, 39 not a name, e.g. «1_ਇਤਹਾਸ»\n",
      "\tbook_pt        :   39 values, 21 not a name, e.g. «1_Crônicas»\n",
      "\tbook_ru        :   39 values, 39 not a name, e.g. «1-я_Паралипоменон»\n",
      "\tbook_sw        :   39 values, 6 not a name, e.g. «1_Mambo_ya_Nyakati»\n",
      "\tbook_syc       :   39 values, 39 not a name, e.g. «ܐ_ܒܪܝܡܝܢ»\n",
      "\tbook_tr        :   39 values, 16 not a name, e.g. «1_Krallar»\n",
      "\tbook_ur        :   39 values, 39 not a name, e.g. «احبار»\n",
      "\tbook_yo        :   39 values, 8 not a name, e.g. «Amọsi»\n",
      "\tbook_zh        :   38 values, 37 not a name, e.g. «以斯帖记»\n",
      "\tcfunction      :   26 values, 1 not a name, e.g. «»\n",
      "\tdomain         :    4 values, 1 not a name, e.g. «?»\n",
      "\tf_correction   :    1 values, 1 not a name, e.g. «»\n",
      "\tg_nme          :  108 values, 108 not a name, e.g. «»\n",
      "\tg_nme_utf8     :  106 values, 106 not a name, e.g. «»\n",
      "\tg_pfm          :   87 values, 87 not a name, e.g. «»\n",
      "\tg_pfm_utf8     :   86 values, 86 not a name, e.g. «»\n",
      "\tg_prs          :  127 values, 127 not a name, e.g. «»\n",
      "\tg_prs_utf8     :  126 values, 126 not a name, e.g. «»\n",
      "\tg_uvf          :   19 values, 19 not a name, e.g. «»\n",
      "\tg_uvf_utf8     :   17 values, 17 not a name, e.g. «»\n",
      "\tg_vbe          :  101 values, 101 not a name, e.g. «»\n",
      "\tg_vbe_utf8     :   97 values, 97 not a name, e.g. «»\n",
      "\tg_vbs          :   66 values, 66 not a name, e.g. «»\n",
      "\tg_vbs_utf8     :   65 values, 65 not a name, e.g. «»\n",
      "\tgrammatical    :   11 values, 2 not a name, e.g. «»\n",
      "\tinstruction    :   35 values, 20 not a name, e.g. «.#»\n",
      "\tlexical        :    4 values, 1 not a name, e.g. «»\n",
      "\tnametype       :    9 values, 4 not a name, e.g. «gens,topo»\n",
      "\tnme            :   20 values, 7 not a name, e.g. «»\n",
      "\toriginal       :    2 values, 2 not a name, e.g. «»\n",
      "\tpfm            :   11 values, 4 not a name, e.g. «»\n",
      "\tphono_trailer  :    4 values, 4 not a name, e.g. «»\n",
      "\tprs            :   22 values, 4 not a name, e.g. «H=»\n",
      "\tqere_trailer   :    5 values, 5 not a name, e.g. «»\n",
      "\tqere_trailer_utf8:    5 values, 5 not a name, e.g. «»\n",
      "\troot           :  648 values, 187 not a name, e.g. «<Assyrian>»\n",
      "\ts_manual       :    1 values, 1 not a name, e.g. «»\n",
      "\tsemantic       :    5 values, 1 not a name, e.g. «»\n",
      "\tsense          :   15 values, 11 not a name, e.g. «--»\n",
      "\ttrailer        :   12 values, 12 not a name, e.g. «»\n",
      "\ttrailer_utf8   :   12 values, 12 not a name, e.g. «»\n",
      "\ttxt            :  136 values, 59 not a name, e.g. «?»\n",
      "\tuvf            :    6 values, 1 not a name, e.g. «>»\n",
      "\tvbe            :   19 values, 6 not a name, e.g. «»\n",
      "\tvbs            :   11 values, 3 not a name, e.g. «>»\n",
      "   |     3.07s Writing an all-in-one enum with  237 values\n",
      " 1m 50s Mapping 126 features onto 13 object types\n",
      " 1m 57s Writing 126 features as data in 13 object types\n",
      "   |     0.00s word data ...\n",
      "   |      |     4.52s batch of size               45.5MB with   50000 of   50000 words\n",
      "   |      |     8.99s batch of size               45.5MB with   50000 of  100000 words\n",
      "   |      |       13s batch of size               45.6MB with   50000 of  150000 words\n",
      "   |      |       18s batch of size               45.6MB with   50000 of  200000 words\n",
      "   |      |       22s batch of size               45.8MB with   50000 of  250000 words\n",
      "   |      |       27s batch of size               45.8MB with   50000 of  300000 words\n",
      "   |      |       32s batch of size               46.0MB with   50000 of  350000 words\n",
      "   |      |       36s batch of size               45.8MB with   50000 of  400000 words\n",
      "   |      |       38s batch of size               24.3MB with   26584 of  426584 words\n",
      "   |       38s word data: 426584 objects\n",
      "   |     0.00s subphrase data ...\n",
      "   |      |     0.43s batch of size                5.7MB with   50000 of   50000 subphrases\n",
      "   |      |     0.84s batch of size                5.7MB with   50000 of  100000 subphrases\n",
      "   |      |     0.96s batch of size                1.6MB with   13812 of  113812 subphrases\n",
      "   |     0.96s subphrase data: 113812 objects\n",
      "   |     0.00s phrase_atom data ...\n",
      "   |      |     0.77s batch of size                9.6MB with   50000 of   50000 phrase_atoms\n",
      "   |      |     1.55s batch of size                9.7MB with   50000 of  100000 phrase_atoms\n",
      "   |      |     2.35s batch of size                9.7MB with   50000 of  150000 phrase_atoms\n",
      "   |      |     3.40s batch of size                9.7MB with   50000 of  200000 phrase_atoms\n",
      "   |      |     4.16s batch of size                9.7MB with   50000 of  250000 phrase_atoms\n",
      "   |      |     4.44s batch of size                3.4MB with   17541 of  267541 phrase_atoms\n",
      "   |     4.44s phrase_atom data: 267541 objects\n",
      "   |     0.00s phrase data ...\n",
      "   |      |     1.22s batch of size               14.6MB with   50000 of   50000 phrases\n",
      "   |      |     2.43s batch of size               14.9MB with   50000 of  100000 phrases\n",
      "   |      |     3.63s batch of size               14.8MB with   50000 of  150000 phrases\n",
      "   |      |     4.81s batch of size               14.5MB with   50000 of  200000 phrases\n",
      "   |      |     6.00s batch of size               14.3MB with   50000 of  250000 phrases\n",
      "   |      |     6.08s batch of size              978.7KB with    3207 of  253207 phrases\n",
      "   |     6.08s phrase data: 253207 objects\n",
      "   |     0.00s clause_atom data ...\n",
      "   |      |     1.03s batch of size               12.0MB with   50000 of   50000 clause_atoms\n",
      "   |      |     1.86s batch of size                9.8MB with   40688 of   90688 clause_atoms\n",
      "   |     1.86s clause_atom data: 90688 objects\n",
      "   |     0.00s clause data ...\n",
      "   |      |     1.00s batch of size               11.5MB with   50000 of   50000 clauses\n",
      "   |      |     1.94s batch of size                8.7MB with   38121 of   88121 clauses\n",
      "   |     1.94s clause data: 88121 objects\n",
      "   |     0.00s sentence_atom data ...\n",
      "   |      |     0.47s batch of size                5.3MB with   50000 of   50000 sentence_atoms\n",
      "   |      |     0.59s batch of size                1.6MB with   14525 of   64525 sentence_atoms\n",
      "   |     0.59s sentence_atom data: 64525 objects\n",
      "   |     0.00s sentence data ...\n",
      "   |      |     0.29s batch of size                3.8MB with   50000 of   50000 sentences\n",
      "   |      |     0.36s batch of size                1.1MB with   13727 of   63727 sentences\n",
      "   |     0.36s sentence data: 63727 objects\n",
      "   |     0.00s half_verse data ...\n",
      "   |      |     0.27s batch of size                3.4MB with   45180 of   45180 half_verses\n",
      "   |     0.27s half_verse data: 45180 objects\n",
      "   |     0.00s verse data ...\n",
      "   |      |     0.32s batch of size                3.6MB with   23213 of   23213 verses\n",
      "   |     0.32s verse data: 23213 objects\n",
      "   |     0.00s lex data ...\n",
      "   |      |     0.49s batch of size                4.5MB with    9233 of    9233 lexs\n",
      "   |     0.50s lex data: 9233 objects\n",
      "   |     0.00s chapter data ...\n",
      "   |      |     0.07s batch of size               86.6KB with     929 of     929 chapters\n",
      "   |     0.07s chapter data: 929 objects\n",
      "   |     0.00s book data ...\n",
      "   |      |     0.06s batch of size               27.3KB with      39 of      39 books\n",
      "   |     0.06s book data: 39 objects\n",
      " 2m 53s Done\n",
      "|      2m 53s \tbzipping /Users/dirk/github/etcbc/bhsa/_temp/c/shebanq/shebanq_etcbcc.mql\n",
      "|      2m 53s \tand delivering as /Users/dirk/github/etcbc/bhsa/shebanq/c/shebanq_etcbcc.mql.bz2 ...\n",
      "|      4m 44s \tDone\n",
      "\n",
      "##############################################################################################\n",
      "#                                                                                            #\n",
      "#      4m 44s Create Mysql passage db for version c                                          #\n",
      "#                                                                                            #\n",
      "##############################################################################################\n",
      "\n",
      "\n",
      "----------------------------------------------------------------------------------------------\n",
      "-      4m 44s Run notebook [pipeline/passageFromTf] with parameters:                         -\n",
      "----------------------------------------------------------------------------------------------\n",
      "\n",
      "|      4m 44s \tVERSION              = c\n",
      "|      4m 44s \tDestination /Users/dirk/github/etcbc/bhsa/shebanq/c/shebanq_passagec.sql.gz does not exist\n",
      "..............................................................................................\n",
      ".      4m 44s Loading relevant features                                                      .\n",
      "..............................................................................................\n",
      "This is Text-Fabric 5.5.18\n",
      "Api reference : https://dans-labs.github.io/text-fabric/Api/General/\n",
      "Tutorial      : https://github.com/Dans-labs/text-fabric/blob/master/docs/tutorial.ipynb\n",
      "Example data  : https://github.com/Dans-labs/text-fabric-data\n",
      "\n",
      "117 features found and 0 ignored\n",
      "  0.00s loading features ...\n",
      "   |     0.01s B book                 from /Users/dirk/github/etcbc/bhsa/tf/c\n",
      "   |     0.01s B chapter              from /Users/dirk/github/etcbc/bhsa/tf/c\n",
      "   |     0.01s B verse                from /Users/dirk/github/etcbc/bhsa/tf/c\n",
      "   |     0.16s B g_cons               from /Users/dirk/github/etcbc/bhsa/tf/c\n",
      "   |     0.19s B g_cons_utf8          from /Users/dirk/github/etcbc/bhsa/tf/c\n",
      "   |     0.17s B g_lex                from /Users/dirk/github/etcbc/bhsa/tf/c\n",
      "   |     0.15s B g_word               from /Users/dirk/github/etcbc/bhsa/tf/c\n",
      "   |     0.21s B g_word_utf8          from /Users/dirk/github/etcbc/bhsa/tf/c\n",
      "   |     0.18s B lex_utf8             from /Users/dirk/github/etcbc/bhsa/tf/c\n",
      "   |     0.21s B phono                from /Users/dirk/github/etcbc/phono/tf/c\n",
      "   |     0.07s B phono_trailer        from /Users/dirk/github/etcbc/phono/tf/c\n",
      "   |     0.00s B qere_trailer_utf8    from /Users/dirk/github/etcbc/bhsa/tf/c\n",
      "   |     0.00s B qere_utf8            from /Users/dirk/github/etcbc/bhsa/tf/c\n",
      "   |     0.08s B trailer_utf8         from /Users/dirk/github/etcbc/bhsa/tf/c\n",
      "   |      |       17s C __order__            from otype, oslots, __levels__\n",
      "   |      |     0.89s C __rank__             from otype, __order__\n",
      "   |      |       15s C __levUp__            from otype, oslots, __rank__\n",
      "   |      |       11s C __levDown__          from otype, __levUp__, __rank__\n",
      "   |      |     3.37s C __boundary__         from otype, oslots, __rank__\n",
      "   |     0.00s M otext                from /Users/dirk/github/etcbc/bhsa/tf/c\n",
      "   |      |     0.12s C __sections__         from otype, oslots, otext, __levUp__, __levels__, book, chapter, verse\n",
      "   |     0.11s B languageISO          from /Users/dirk/github/etcbc/bhsa/tf/c\n",
      "   |     0.12s B lex                  from /Users/dirk/github/etcbc/bhsa/tf/c\n",
      "   |     0.14s B sp                   from /Users/dirk/github/etcbc/bhsa/tf/c\n",
      "   |     0.11s B pdp                  from /Users/dirk/github/etcbc/bhsa/tf/c\n",
      "   |     0.12s B ls                   from /Users/dirk/github/etcbc/bhsa/tf/c\n",
      "   |     0.01s B voc_lex              from /Users/dirk/github/etcbc/bhsa/tf/c\n",
      "   |     0.02s B voc_lex_utf8         from /Users/dirk/github/etcbc/bhsa/tf/c\n",
      "   |     0.12s B vt                   from /Users/dirk/github/etcbc/bhsa/tf/c\n",
      "   |     0.10s B vs                   from /Users/dirk/github/etcbc/bhsa/tf/c\n",
      "   |     0.10s B gn                   from /Users/dirk/github/etcbc/bhsa/tf/c\n",
      "   |     0.13s B nu                   from /Users/dirk/github/etcbc/bhsa/tf/c\n",
      "   |     0.14s B ps                   from /Users/dirk/github/etcbc/bhsa/tf/c\n",
      "   |     0.11s B st                   from /Users/dirk/github/etcbc/bhsa/tf/c\n",
      "   |     0.12s B nme                  from /Users/dirk/github/etcbc/bhsa/tf/c\n",
      "   |     0.12s B pfm                  from /Users/dirk/github/etcbc/bhsa/tf/c\n",
      "   |     0.13s B prs                  from /Users/dirk/github/etcbc/bhsa/tf/c\n",
      "   |     0.13s B uvf                  from /Users/dirk/github/etcbc/bhsa/tf/c\n",
      "   |     0.13s B vbe                  from /Users/dirk/github/etcbc/bhsa/tf/c\n",
      "   |     0.13s B vbs                  from /Users/dirk/github/etcbc/bhsa/tf/c\n",
      "   |     0.01s B gloss                from /Users/dirk/github/etcbc/bhsa/tf/c\n",
      "   |     0.00s B nametype             from /Users/dirk/github/etcbc/bhsa/tf/c\n",
      "   |     0.00s B root                 from /Users/dirk/github/etcbc/bhsa/tf/c\n",
      "   |     0.04s B pargr                from /Users/dirk/github/etcbc/bhsa/tf/c\n",
      "   |     0.08s B function             from /Users/dirk/github/etcbc/bhsa/tf/c\n",
      "   |     0.26s B typ                  from /Users/dirk/github/etcbc/bhsa/tf/c\n",
      "   |     0.29s B rela                 from /Users/dirk/github/etcbc/bhsa/tf/c\n",
      "   |     0.03s B txt                  from /Users/dirk/github/etcbc/bhsa/tf/c\n",
      "   |     0.15s B det                  from /Users/dirk/github/etcbc/bhsa/tf/c\n",
      "   |     0.04s B code                 from /Users/dirk/github/etcbc/bhsa/tf/c\n",
      "   |     0.02s B tab                  from /Users/dirk/github/etcbc/bhsa/tf/c\n",
      "   |     0.26s B number               from /Users/dirk/github/etcbc/bhsa/tf/c\n",
      "   |     0.09s B freq_lex             from /Users/dirk/github/etcbc/bhsa/tf/c\n",
      "   |     0.13s B freq_occ             from /Users/dirk/github/etcbc/bhsa/tf/c\n",
      "   |     0.14s B rank_lex             from /Users/dirk/github/etcbc/bhsa/tf/c\n",
      "   |     0.13s B rank_occ             from /Users/dirk/github/etcbc/bhsa/tf/c\n",
      "    54s All features loaded/computed - for details use loadLog()\n",
      "|      5m 39s Lexicon arc has   708 entries\n",
      "|      5m 39s Lexicon hbo has  8525 entries\n",
      "|      5m 39s Building qere index\n",
      "|      5m 40s Found 1892 qeres\n",
      "|      5m 40s Building para index\n",
      "|      5m 40s Found para information for 90688 clause_atoms\n",
      "..............................................................................................\n",
      ".      5m 40s Fill the tables ...                                                            .\n",
      "..............................................................................................\n",
      "|      5m 47s OK    book           name           : max size =      13 of    32\n",
      "|      5m 47s OK    clause_atom    text           : max size =     271 of   512\n",
      "|      5m 47s OK    lexicon        entry          : max size =      14 of    32\n",
      "|      5m 47s OK    lexicon        entry_heb      : max size =      15 of    32\n",
      "|      5m 47s OK    lexicon        entryid        : max size =      15 of    32\n",
      "|      5m 47s OK    lexicon        entryid_heb    : max size =      16 of    32\n",
      "|      5m 47s OK    lexicon        g_entry        : max size =      24 of    32\n",
      "|      5m 47s OK    lexicon        g_entry_heb    : max size =      23 of    32\n",
      "|      5m 47s OK    lexicon        gloss          : max size =      27 of    32\n",
      "|      5m 47s OK    lexicon        id             : max size =      16 of    32\n",
      "|      5m 47s OK    lexicon        lan            : max size =       3 of     4\n",
      "|      5m 47s OK    lexicon        nametype       : max size =      14 of    16\n",
      "|      5m 47s OK    lexicon        pos            : max size =       4 of     8\n",
      "|      5m 47s OK    lexicon        root           : max size =      11 of    32\n",
      "|      5m 47s OK    lexicon        subpos         : max size =       4 of     8\n",
      "|      5m 47s OK    verse          text           : max size =     449 of  1024\n",
      "|      5m 47s OK    verse          xml            : max size =    2869 of  4096\n",
      "|      5m 47s Done\n",
      "All lexemes have been found in the lexicon\n",
      "..............................................................................................\n",
      ".      5m 47s Generating word info data ...                                                  .\n",
      "..............................................................................................\n",
      "|      5m 47s \tGenesis\n",
      "|      6m 03s \tExodus\n",
      "|      6m 15s \tLeviticus\n",
      "|      6m 23s \tNumeri\n",
      "|      6m 33s \tDeuteronomium\n",
      "|      6m 43s \tJosua\n",
      "|      6m 49s \tJudices\n",
      "|      6m 55s \tSamuel_I\n",
      "|      7m 04s \tSamuel_II\n",
      "|      7m 11s \tReges_I\n",
      "|      7m 19s \tReges_II\n",
      "|      7m 27s \tJesaia\n",
      "|      7m 38s \tJeremia\n",
      "|      7m 51s \tEzechiel\n",
      "|      8m 03s \tHosea\n",
      "|      8m 04s \tJoel\n",
      "|      8m 05s \tAmos\n",
      "|      8m 06s \tObadia\n",
      "|      8m 06s \tJona\n",
      "|      8m 07s \tMicha\n",
      "|      8m 08s \tNahum\n",
      "|      8m 08s \tHabakuk\n",
      "|      8m 08s \tZephania\n",
      "|      8m 09s \tHaggai\n",
      "|      8m 09s \tSacharia\n",
      "|      8m 11s \tMaleachi\n",
      "|      8m 12s \tPsalmi\n",
      "|      8m 23s \tIob\n",
      "|      8m 28s \tProverbia\n",
      "|      8m 32s \tRuth\n",
      "|      8m 33s \tCanticum\n",
      "|      8m 34s \tEcclesiastes\n",
      "|      8m 36s \tThreni\n",
      "|      8m 36s \tEsther\n",
      "|      8m 39s \tDaniel\n",
      "|      8m 42s \tEsra\n",
      "|      8m 45s \tNehemia\n",
      "|      8m 48s \tChronica_I\n",
      "|      8m 55s \tChronica_II\n",
      "|      9m 05s Done\n",
      "OK    word           word_heb            : max size =      28 of    32\n",
      "OK    word           word_ktv            : max size =      15 of    32\n",
      "OK    word           word_vlex           : max size =      23 of    32\n",
      "OK    word           word_clex           : max size =      15 of    32\n",
      "OK    word           word_tran           : max size =      28 of    32\n",
      "OK    word           word_phono          : max size =      23 of    32\n",
      "OK    word           word_phono_sep      : max size =       3 of     8\n",
      "OK    word           word_lex            : max size =      15 of    32\n",
      "OK    word           word_glex           : max size =      24 of    32\n",
      "OK    word           word_gloss          : max size =      27 of    32\n",
      "OK    word           word_lang           : max size =       3 of     8\n",
      "OK    word           word_pos            : max size =       4 of     8\n",
      "OK    word           word_pdp            : max size =       4 of     8\n",
      "OK    word           word_subpos         : max size =       4 of     8\n",
      "OK    word           word_nmtp           : max size =      14 of    32\n",
      "OK    word           word_tense          : max size =       4 of     8\n",
      "OK    word           word_stem           : max size =       4 of     8\n",
      "OK    word           word_gender         : max size =       7 of     8\n",
      "OK    word           word_gnumber        : max size =       7 of     8\n",
      "OK    word           word_person         : max size =       7 of     8\n",
      "OK    word           word_state          : max size =       2 of     8\n",
      "OK    word           word_nme            : max size =       6 of     8\n",
      "OK    word           word_pfm            : max size =       6 of     8\n",
      "OK    word           word_prs            : max size =       6 of     8\n",
      "OK    word           word_uvf            : max size =       6 of     8\n",
      "OK    word           word_vbe            : max size =       3 of     8\n",
      "OK    word           word_vbs            : max size =       6 of     8\n",
      "OK    word           subphrase_border    : max size =       8 of    16\n",
      "OK    word           subphrase_number    : max size =      14 of    32\n",
      "OK    word           subphrase_rela      : max size =       3 of     8\n",
      "OK    word           phrase_border       : max size =       5 of     8\n",
      "OK    word           phrase_atom_rela    : max size =       4 of     8\n",
      "OK    word           phrase_function     : max size =       4 of     8\n",
      "OK    word           phrase_rela         : max size =       4 of     8\n",
      "OK    word           phrase_typ          : max size =       4 of     8\n",
      "OK    word           phrase_det          : max size =       3 of     8\n",
      "OK    word           clause_border       : max size =       5 of     8\n",
      "OK    word           clause_atom_pargr   : max size =      39 of    64\n",
      "OK    word           clause_rela         : max size =       4 of     8\n",
      "OK    word           clause_typ          : max size =       4 of     8\n",
      "OK    word           clause_txt          : max size =       7 of     8\n",
      "OK    word           sentence_border     : max size =       5 of     8\n",
      "..............................................................................................\n",
      ".      9m 05s Generating SQL ...                                                             .\n",
      "..............................................................................................\n",
      "|      9m 05s \ttable book\n",
      "|      9m 05s \ttable chapter\n",
      "|      9m 05s \ttable verse\n",
      "|      9m 05s \ttable clause_atom\n",
      "|      9m 05s \ttable lexicon\n",
      "|      9m 05s \ttable word\n",
      "|      9m 06s \ttable word_verse\n",
      "|      9m 06s Done\n",
      "|      9m 37s SUCCESS passageFromTf\n",
      "\n",
      "----------------------------------------------------------------------------------------------\n",
      "-      9m 37s SUCCES [pipeline/passageFromTf]                                                -\n",
      "----------------------------------------------------------------------------------------------\n",
      "\n",
      "|      9m 37s \tDone\n"
     ]
    }
   ],
   "source": [
    "good = webPipeline(pipeline, versions=VERSIONS, force=True, kinds=KINDS)"
   ]
  },
  {
   "cell_type": "code",
   "execution_count": null,
   "metadata": {},
   "outputs": [],
   "source": [
    "#good = True\n",
    "if good:\n",
    "    good = importLocal(pipeline, versions=VERSIONS, kinds=KINDS)"
   ]
  },
  {
   "cell_type": "code",
   "execution_count": 5,
   "metadata": {},
   "outputs": [
    {
     "name": "stdout",
     "output_type": "stream",
     "text": [
      "\n",
      "##############################################################################################\n",
      "#                                                                                            #\n",
      "#     10m 01s Sending MQL database for version c to server                                   #\n",
      "#                                                                                            #\n",
      "##############################################################################################\n",
      "\n",
      "|     10m 01s \tshebanq_etcbcc.mql.bz2\n",
      "|     10m 01s \tscp /Users/dirk/github/etcbc/bhsa/shebanq/c/shebanq_etcbcc.mql.bz2 dirkr@clarin11.dans.knaw.nl:/home/dirkr/shebanq-install/shebanq_etcbcc.mql.bz2\n",
      "|     10m 14s \tdone\n",
      "\n",
      "##############################################################################################\n",
      "#                                                                                            #\n",
      "#     10m 14s Sending passage database for version c to server                               #\n",
      "#                                                                                            #\n",
      "##############################################################################################\n",
      "\n",
      "|     10m 14s \tshebanq_passagec.sql.gz\n",
      "|     10m 14s \tscp /Users/dirk/github/etcbc/bhsa/shebanq/c/shebanq_passagec.sql.gz dirkr@clarin11.dans.knaw.nl:/home/dirkr/shebanq-install/shebanq_passagec.sql.gz\n",
      "|     10m 26s \tdone\n"
     ]
    }
   ],
   "source": [
    "#good = True\n",
    "if good:\n",
    "    good = copyServer(pipeline, user, server, remoteDir, versions=VERSIONS, kinds=KINDS)"
   ]
  },
  {
   "cell_type": "code",
   "execution_count": null,
   "metadata": {
    "collapsed": true
   },
   "outputs": [],
   "source": []
  }
 ],
 "metadata": {
  "kernelspec": {
   "display_name": "Python 3",
   "language": "python",
   "name": "python3"
  },
  "language_info": {
   "codemirror_mode": {
    "name": "ipython",
    "version": 3
   },
   "file_extension": ".py",
   "mimetype": "text/x-python",
   "name": "python",
   "nbconvert_exporter": "python",
   "pygments_lexer": "ipython3",
   "version": "3.7.0"
  }
 },
 "nbformat": 4,
 "nbformat_minor": 2
}
