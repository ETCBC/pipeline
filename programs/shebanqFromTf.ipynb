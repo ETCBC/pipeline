{
 "cells": [
  {
   "cell_type": "markdown",
   "metadata": {},
   "source": [
    "![pipeline](pictures/pictures.003.png)\n",
    "\n",
    "# SHEBANQ from Text-Fabric\n",
    "\n",
    "This notebook assembles data from relevant GitHub repositories of the ETCBC.\n",
    "It selects the data that is needed for the website\n",
    "[SHEBANQ](https://shebanq.ancient-data.org).\n",
    "\n",
    "\n",
    "## Pipeline\n",
    "This is **pipe 2** of the pipeline from ETCBC data to the website SHEBANQ.\n",
    "\n",
    "A run of this pipe produces SHEBANQ data according to a chosen *version*.\n",
    "It should be run whenever there are new or updated data sources present that affect the output data.\n",
    "Since all input data is delivered in GitHub repositories, we have excellent machinery to \n",
    "work with versioning.\n",
    "\n",
    "Which directories the pipe should access for which version is specified in the configuration below.\n",
    "\n",
    "### Core data\n",
    "The core data is what resides in \n",
    "the GitHub repo [BHSA](https://github.com/ETCBC/bhsa) in directory `tf`.\n",
    "\n",
    "This data will be converted by notebook `coreData` in its `programs` directory.\n",
    "\n",
    "The result of this action will be an updated Text-Fabric resource in its \n",
    "`tf` directory, under the chosen *version*.\n",
    "\n",
    "### Additional data\n",
    "\n",
    "The pipe will try to load any text-fabric data features found in the `tf` subdirectories\n",
    "of the designated additional repos.\n",
    "It will descend one level deeper, according to the chosen *version*.\n",
    "\n",
    "### Resulting data\n",
    "The resulting data will be delivered in the `shebanq` subdirectory of the core repo `bhsa`, \n",
    "and then under the chosen *version* subdirectory.\n",
    "\n",
    "The resulting data consists of three parts:\n",
    "\n",
    "* One big MQL file, containing the core data plus **all** additions: `bhsa-xx.mql`.\n",
    "  It will be bzipped.\n",
    "* **not yet implemented** \n",
    "  A subdirectory `mysql` with database tables, containing everything SHEBANQ needs to construct its pages.\n",
    "* **not yet implemented**\n",
    "  A subdirectory `annotations`, containing bulk-uploadable annotation sets, that SHEBANQ can show in notes view,\n",
    "  between the clause atoms of the text."
   ]
  },
  {
   "cell_type": "code",
   "execution_count": 1,
   "metadata": {},
   "outputs": [],
   "source": [
    "import os,sys,collections\n",
    "from pipeline import webPipeline, importLocal, copyServer\n",
    "from tf.fabric import Fabric"
   ]
  },
  {
   "cell_type": "markdown",
   "metadata": {},
   "source": [
    "# Config"
   ]
  },
  {
   "cell_type": "code",
   "execution_count": 2,
   "metadata": {},
   "outputs": [],
   "source": [
    "if 'SCRIPT' not in locals(): \n",
    "    SCRIPT = False\n",
    "    VERSIONS = ['2017', 'c']"
   ]
  },
  {
   "cell_type": "code",
   "execution_count": 3,
   "metadata": {},
   "outputs": [],
   "source": [
    "pipeline = dict(\n",
    "    repoOrder = '''\n",
    "        bhsa\n",
    "        phono\n",
    "        valence\n",
    "        parallels\n",
    "    ''',\n",
    ")\n",
    "user = 'dirkr'\n",
    "server = 'clarin11.dans.knaw.nl'\n",
    "remoteDir = '/home/dirkr/shebanq-install'"
   ]
  },
  {
   "cell_type": "code",
   "execution_count": 4,
   "metadata": {
    "scrolled": false
   },
   "outputs": [
    {
     "name": "stdout",
     "output_type": "stream",
     "text": [
      "\n",
      "##############################################################################################\n",
      "#                                                                                            #\n",
      "#       0.00s Aggregate MQL for version 2017                                                 #\n",
      "#                                                                                            #\n",
      "##############################################################################################\n",
      "\n",
      "|       0.00s \tWork to do because the tf in bhsa is recently compiled\n",
      "|       0.00s \t\t/Users/dirk/github/etcbc/bhsa/tf/2017/.tf\n",
      "\n",
      "##############################################################################################\n",
      "#                                                                                            #\n",
      "#       0.00s Using TF to make an MQL export                                                 #\n",
      "#                                                                                            #\n",
      "##############################################################################################\n",
      "\n",
      "This is Text-Fabric 3.1.1\n",
      "Api reference : https://github.com/Dans-labs/text-fabric/wiki/Api\n",
      "Tutorial      : https://github.com/Dans-labs/text-fabric/blob/master/docs/tutorial.ipynb\n",
      "Example data  : https://github.com/Dans-labs/text-fabric-data\n",
      "\n",
      "131 features found and 0 ignored\n",
      "  0.00s Checking features of dataset shebanq_etcbc2017\n",
      "   |     0.00s M book                 from /Users/dirk/github/etcbc/bhsa/tf/2017\n",
      "   |     0.00s M book@am              from /Users/dirk/github/etcbc/bhsa/tf/2017\n"
     ]
    },
    {
     "name": "stderr",
     "output_type": "stream",
     "text": [
      "   |     0.00s feature \"book@am\" => \"book_am\"\n"
     ]
    },
    {
     "name": "stdout",
     "output_type": "stream",
     "text": [
      "   |     0.00s M book@ar              from /Users/dirk/github/etcbc/bhsa/tf/2017\n"
     ]
    },
    {
     "name": "stderr",
     "output_type": "stream",
     "text": [
      "   |     0.00s feature \"book@ar\" => \"book_ar\"\n"
     ]
    },
    {
     "name": "stdout",
     "output_type": "stream",
     "text": [
      "   |     0.00s M book@bn              from /Users/dirk/github/etcbc/bhsa/tf/2017\n"
     ]
    },
    {
     "name": "stderr",
     "output_type": "stream",
     "text": [
      "   |     0.00s feature \"book@bn\" => \"book_bn\"\n"
     ]
    },
    {
     "name": "stdout",
     "output_type": "stream",
     "text": [
      "   |     0.00s M book@da              from /Users/dirk/github/etcbc/bhsa/tf/2017\n"
     ]
    },
    {
     "name": "stderr",
     "output_type": "stream",
     "text": [
      "   |     0.00s feature \"book@da\" => \"book_da\"\n"
     ]
    },
    {
     "name": "stdout",
     "output_type": "stream",
     "text": [
      "   |     0.00s M book@de              from /Users/dirk/github/etcbc/bhsa/tf/2017\n"
     ]
    },
    {
     "name": "stderr",
     "output_type": "stream",
     "text": [
      "   |     0.00s feature \"book@de\" => \"book_de\"\n"
     ]
    },
    {
     "name": "stdout",
     "output_type": "stream",
     "text": [
      "   |     0.00s M book@el              from /Users/dirk/github/etcbc/bhsa/tf/2017\n"
     ]
    },
    {
     "name": "stderr",
     "output_type": "stream",
     "text": [
      "   |     0.00s feature \"book@el\" => \"book_el\"\n"
     ]
    },
    {
     "name": "stdout",
     "output_type": "stream",
     "text": [
      "   |     0.00s M book@en              from /Users/dirk/github/etcbc/bhsa/tf/2017\n"
     ]
    },
    {
     "name": "stderr",
     "output_type": "stream",
     "text": [
      "   |     0.00s feature \"book@en\" => \"book_en\"\n"
     ]
    },
    {
     "name": "stdout",
     "output_type": "stream",
     "text": [
      "   |     0.00s M book@es              from /Users/dirk/github/etcbc/bhsa/tf/2017\n"
     ]
    },
    {
     "name": "stderr",
     "output_type": "stream",
     "text": [
      "   |     0.00s feature \"book@es\" => \"book_es\"\n"
     ]
    },
    {
     "name": "stdout",
     "output_type": "stream",
     "text": [
      "   |     0.00s M book@fa              from /Users/dirk/github/etcbc/bhsa/tf/2017\n"
     ]
    },
    {
     "name": "stderr",
     "output_type": "stream",
     "text": [
      "   |     0.00s feature \"book@fa\" => \"book_fa\"\n"
     ]
    },
    {
     "name": "stdout",
     "output_type": "stream",
     "text": [
      "   |     0.00s M book@fr              from /Users/dirk/github/etcbc/bhsa/tf/2017\n"
     ]
    },
    {
     "name": "stderr",
     "output_type": "stream",
     "text": [
      "   |     0.00s feature \"book@fr\" => \"book_fr\"\n"
     ]
    },
    {
     "name": "stdout",
     "output_type": "stream",
     "text": [
      "   |     0.00s M book@he              from /Users/dirk/github/etcbc/bhsa/tf/2017\n"
     ]
    },
    {
     "name": "stderr",
     "output_type": "stream",
     "text": [
      "   |     0.00s feature \"book@he\" => \"book_he\"\n"
     ]
    },
    {
     "name": "stdout",
     "output_type": "stream",
     "text": [
      "   |     0.00s M book@hi              from /Users/dirk/github/etcbc/bhsa/tf/2017\n"
     ]
    },
    {
     "name": "stderr",
     "output_type": "stream",
     "text": [
      "   |     0.00s feature \"book@hi\" => \"book_hi\"\n"
     ]
    },
    {
     "name": "stdout",
     "output_type": "stream",
     "text": [
      "   |     0.00s M book@id              from /Users/dirk/github/etcbc/bhsa/tf/2017\n"
     ]
    },
    {
     "name": "stderr",
     "output_type": "stream",
     "text": [
      "   |     0.00s feature \"book@id\" => \"book_id\"\n"
     ]
    },
    {
     "name": "stdout",
     "output_type": "stream",
     "text": [
      "   |     0.00s M book@ja              from /Users/dirk/github/etcbc/bhsa/tf/2017\n"
     ]
    },
    {
     "name": "stderr",
     "output_type": "stream",
     "text": [
      "   |     0.01s feature \"book@ja\" => \"book_ja\"\n"
     ]
    },
    {
     "name": "stdout",
     "output_type": "stream",
     "text": [
      "   |     0.00s M book@ko              from /Users/dirk/github/etcbc/bhsa/tf/2017\n"
     ]
    },
    {
     "name": "stderr",
     "output_type": "stream",
     "text": [
      "   |     0.00s feature \"book@ko\" => \"book_ko\"\n"
     ]
    },
    {
     "name": "stdout",
     "output_type": "stream",
     "text": [
      "   |     0.00s M book@la              from /Users/dirk/github/etcbc/bhsa/tf/2017\n"
     ]
    },
    {
     "name": "stderr",
     "output_type": "stream",
     "text": [
      "   |     0.00s feature \"book@la\" => \"book_la\"\n"
     ]
    },
    {
     "name": "stdout",
     "output_type": "stream",
     "text": [
      "   |     0.00s M book@nl              from /Users/dirk/github/etcbc/bhsa/tf/2017\n"
     ]
    },
    {
     "name": "stderr",
     "output_type": "stream",
     "text": [
      "   |     0.00s feature \"book@nl\" => \"book_nl\"\n"
     ]
    },
    {
     "name": "stdout",
     "output_type": "stream",
     "text": [
      "   |     0.00s M book@pa              from /Users/dirk/github/etcbc/bhsa/tf/2017\n"
     ]
    },
    {
     "name": "stderr",
     "output_type": "stream",
     "text": [
      "   |     0.00s feature \"book@pa\" => \"book_pa\"\n"
     ]
    },
    {
     "name": "stdout",
     "output_type": "stream",
     "text": [
      "   |     0.00s M book@pt              from /Users/dirk/github/etcbc/bhsa/tf/2017\n"
     ]
    },
    {
     "name": "stderr",
     "output_type": "stream",
     "text": [
      "   |     0.01s feature \"book@pt\" => \"book_pt\"\n"
     ]
    },
    {
     "name": "stdout",
     "output_type": "stream",
     "text": [
      "   |     0.00s M book@ru              from /Users/dirk/github/etcbc/bhsa/tf/2017\n"
     ]
    },
    {
     "name": "stderr",
     "output_type": "stream",
     "text": [
      "   |     0.00s feature \"book@ru\" => \"book_ru\"\n"
     ]
    },
    {
     "name": "stdout",
     "output_type": "stream",
     "text": [
      "   |     0.00s M book@sw              from /Users/dirk/github/etcbc/bhsa/tf/2017\n"
     ]
    },
    {
     "name": "stderr",
     "output_type": "stream",
     "text": [
      "   |     0.00s feature \"book@sw\" => \"book_sw\"\n"
     ]
    },
    {
     "name": "stdout",
     "output_type": "stream",
     "text": [
      "   |     0.00s M book@syc             from /Users/dirk/github/etcbc/bhsa/tf/2017\n"
     ]
    },
    {
     "name": "stderr",
     "output_type": "stream",
     "text": [
      "   |     0.00s feature \"book@syc\" => \"book_syc\"\n"
     ]
    },
    {
     "name": "stdout",
     "output_type": "stream",
     "text": [
      "   |     0.00s M book@tr              from /Users/dirk/github/etcbc/bhsa/tf/2017\n"
     ]
    },
    {
     "name": "stderr",
     "output_type": "stream",
     "text": [
      "   |     0.00s feature \"book@tr\" => \"book_tr\"\n"
     ]
    },
    {
     "name": "stdout",
     "output_type": "stream",
     "text": [
      "   |     0.00s M book@ur              from /Users/dirk/github/etcbc/bhsa/tf/2017\n"
     ]
    },
    {
     "name": "stderr",
     "output_type": "stream",
     "text": [
      "   |     0.00s feature \"book@ur\" => \"book_ur\"\n"
     ]
    },
    {
     "name": "stdout",
     "output_type": "stream",
     "text": [
      "   |     0.00s M book@yo              from /Users/dirk/github/etcbc/bhsa/tf/2017\n"
     ]
    },
    {
     "name": "stderr",
     "output_type": "stream",
     "text": [
      "   |     0.00s feature \"book@yo\" => \"book_yo\"\n"
     ]
    },
    {
     "name": "stdout",
     "output_type": "stream",
     "text": [
      "   |     0.00s M book@zh              from /Users/dirk/github/etcbc/bhsa/tf/2017\n"
     ]
    },
    {
     "name": "stderr",
     "output_type": "stream",
     "text": [
      "   |     0.00s feature \"book@zh\" => \"book_zh\"\n"
     ]
    },
    {
     "name": "stdout",
     "output_type": "stream",
     "text": [
      "   |     0.00s M cfunction            from /Users/dirk/github/etcbc/valence/tf/2017\n",
      "   |     0.00s M chapter              from /Users/dirk/github/etcbc/bhsa/tf/2017\n",
      "   |     0.00s M code                 from /Users/dirk/github/etcbc/bhsa/tf/2017\n",
      "   |     0.00s M crossref             from /Users/dirk/github/etcbc/parallels/tf/2017\n",
      "   |     0.00s M crossrefLCS          from /Users/dirk/github/etcbc/parallels/tf/2017\n",
      "   |     0.00s M crossrefSET          from /Users/dirk/github/etcbc/parallels/tf/2017\n",
      "   |     0.00s M det                  from /Users/dirk/github/etcbc/bhsa/tf/2017\n",
      "   |     0.00s M dist                 from /Users/dirk/github/etcbc/bhsa/tf/2017\n",
      "   |     0.00s M dist_unit            from /Users/dirk/github/etcbc/bhsa/tf/2017\n",
      "   |     0.00s M distributional_parent from /Users/dirk/github/etcbc/bhsa/tf/2017\n",
      "   |     0.00s M domain               from /Users/dirk/github/etcbc/bhsa/tf/2017\n",
      "   |     0.00s M f_correction         from /Users/dirk/github/etcbc/valence/tf/2017\n",
      "   |     0.00s M freq_lex             from /Users/dirk/github/etcbc/bhsa/tf/2017\n",
      "   |     0.00s M freq_occ             from /Users/dirk/github/etcbc/bhsa/tf/2017\n",
      "   |     0.00s M function             from /Users/dirk/github/etcbc/bhsa/tf/2017\n",
      "   |     0.00s M functional_parent    from /Users/dirk/github/etcbc/bhsa/tf/2017\n",
      "   |     0.00s M g_cons               from /Users/dirk/github/etcbc/bhsa/tf/2017\n",
      "   |     0.00s M g_cons_utf8          from /Users/dirk/github/etcbc/bhsa/tf/2017\n",
      "   |     0.00s M g_lex                from /Users/dirk/github/etcbc/bhsa/tf/2017\n",
      "   |     0.00s M g_lex_utf8           from /Users/dirk/github/etcbc/bhsa/tf/2017\n",
      "   |     0.00s M g_nme                from /Users/dirk/github/etcbc/bhsa/tf/2017\n",
      "   |     0.00s M g_nme_utf8           from /Users/dirk/github/etcbc/bhsa/tf/2017\n",
      "   |     0.00s M g_pfm                from /Users/dirk/github/etcbc/bhsa/tf/2017\n",
      "   |     0.00s M g_pfm_utf8           from /Users/dirk/github/etcbc/bhsa/tf/2017\n",
      "   |     0.00s M g_prs                from /Users/dirk/github/etcbc/bhsa/tf/2017\n",
      "   |     0.00s M g_prs_utf8           from /Users/dirk/github/etcbc/bhsa/tf/2017\n",
      "   |     0.00s M g_uvf                from /Users/dirk/github/etcbc/bhsa/tf/2017\n",
      "   |     0.00s M g_uvf_utf8           from /Users/dirk/github/etcbc/bhsa/tf/2017\n",
      "   |     0.00s M g_vbe                from /Users/dirk/github/etcbc/bhsa/tf/2017\n",
      "   |     0.00s M g_vbe_utf8           from /Users/dirk/github/etcbc/bhsa/tf/2017\n",
      "   |     0.00s M g_vbs                from /Users/dirk/github/etcbc/bhsa/tf/2017\n",
      "   |     0.00s M g_vbs_utf8           from /Users/dirk/github/etcbc/bhsa/tf/2017\n",
      "   |     0.00s M g_word               from /Users/dirk/github/etcbc/bhsa/tf/2017\n",
      "   |     0.00s M g_word_utf8          from /Users/dirk/github/etcbc/bhsa/tf/2017\n",
      "   |     0.00s M gloss                from /Users/dirk/github/etcbc/bhsa/tf/2017\n",
      "   |     0.00s M gn                   from /Users/dirk/github/etcbc/bhsa/tf/2017\n",
      "   |     0.00s M grammatical          from /Users/dirk/github/etcbc/valence/tf/2017\n",
      "   |     0.00s M instruction          from /Users/dirk/github/etcbc/bhsa/tf/2017\n",
      "   |     0.00s M is_root              from /Users/dirk/github/etcbc/bhsa/tf/2017\n",
      "   |     0.00s M kind                 from /Users/dirk/github/etcbc/bhsa/tf/2017\n",
      "   |     0.00s M kq_hybrid            from /Users/dirk/github/etcbc/bhsa/tf/2017\n",
      "   |     0.00s M kq_hybrid_utf8       from /Users/dirk/github/etcbc/bhsa/tf/2017\n",
      "   |     0.00s M label                from /Users/dirk/github/etcbc/bhsa/tf/2017\n",
      "   |     0.00s M language             from /Users/dirk/github/etcbc/bhsa/tf/2017\n",
      "   |     0.00s M languageEN           from /Users/dirk/github/etcbc/bhsa/tf/2017\n",
      "   |     0.00s M lex                  from /Users/dirk/github/etcbc/bhsa/tf/2017\n",
      "   |     0.00s M lex0                 from /Users/dirk/github/etcbc/bhsa/tf/2017\n",
      "   |     0.00s M lex_utf8             from /Users/dirk/github/etcbc/bhsa/tf/2017\n",
      "   |     0.00s M lexeme_count         from /Users/dirk/github/etcbc/bhsa/tf/2017\n",
      "   |     0.00s M lexical              from /Users/dirk/github/etcbc/valence/tf/2017\n",
      "   |     0.00s M ls                   from /Users/dirk/github/etcbc/bhsa/tf/2017\n",
      "   |     0.00s M mother               from /Users/dirk/github/etcbc/bhsa/tf/2017\n",
      "   |     0.00s M mother_object_type   from /Users/dirk/github/etcbc/bhsa/tf/2017\n",
      "   |     0.00s M nametype             from /Users/dirk/github/etcbc/bhsa/tf/2017\n",
      "   |     0.00s M nme                  from /Users/dirk/github/etcbc/bhsa/tf/2017\n",
      "   |     0.00s M nu                   from /Users/dirk/github/etcbc/bhsa/tf/2017\n",
      "   |     0.00s M number               from /Users/dirk/github/etcbc/bhsa/tf/2017\n",
      "   |     0.00s M omap@2016-2017       from /Users/dirk/github/etcbc/bhsa/tf/2017\n"
     ]
    },
    {
     "name": "stderr",
     "output_type": "stream",
     "text": [
      "   |     0.00s feature \"omap@2016-2017\" => \"omap_2016_2017\"\n"
     ]
    },
    {
     "name": "stdout",
     "output_type": "stream",
     "text": [
      "   |     0.00s M original             from /Users/dirk/github/etcbc/valence/tf/2017\n",
      "   |     0.00s M otext@phono          from /Users/dirk/github/etcbc/phono/tf/2017\n",
      "   |     0.00s M pargr                from /Users/dirk/github/etcbc/bhsa/tf/2017\n",
      "   |     0.00s M pdp                  from /Users/dirk/github/etcbc/bhsa/tf/2017\n",
      "   |     0.00s M pfm                  from /Users/dirk/github/etcbc/bhsa/tf/2017\n",
      "   |     0.00s M phono                from /Users/dirk/github/etcbc/phono/tf/2017\n",
      "   |     0.00s M phono_trailer        from /Users/dirk/github/etcbc/phono/tf/2017\n",
      "   |     0.00s M predication          from /Users/dirk/github/etcbc/valence/tf/2017\n",
      "   |     0.00s M prs                  from /Users/dirk/github/etcbc/bhsa/tf/2017\n",
      "   |     0.00s M prs_gn               from /Users/dirk/github/etcbc/bhsa/tf/2017\n",
      "   |     0.00s M prs_nu               from /Users/dirk/github/etcbc/bhsa/tf/2017\n",
      "   |     0.00s M prs_ps               from /Users/dirk/github/etcbc/bhsa/tf/2017\n",
      "   |     0.00s M ps                   from /Users/dirk/github/etcbc/bhsa/tf/2017\n",
      "   |     0.00s M qere                 from /Users/dirk/github/etcbc/bhsa/tf/2017\n",
      "   |     0.00s M qere_trailer         from /Users/dirk/github/etcbc/bhsa/tf/2017\n",
      "   |     0.00s M qere_trailer_utf8    from /Users/dirk/github/etcbc/bhsa/tf/2017\n",
      "   |     0.00s M qere_utf8            from /Users/dirk/github/etcbc/bhsa/tf/2017\n",
      "   |     0.00s M rank_lex             from /Users/dirk/github/etcbc/bhsa/tf/2017\n",
      "   |     0.00s M rank_occ             from /Users/dirk/github/etcbc/bhsa/tf/2017\n",
      "   |     0.00s M rela                 from /Users/dirk/github/etcbc/bhsa/tf/2017\n",
      "   |     0.00s M root                 from /Users/dirk/github/etcbc/bhsa/tf/2017\n",
      "   |     0.00s M s_manual             from /Users/dirk/github/etcbc/valence/tf/2017\n",
      "   |     0.00s M semantic             from /Users/dirk/github/etcbc/valence/tf/2017\n",
      "   |     0.00s M sense                from /Users/dirk/github/etcbc/valence/tf/2017\n",
      "   |     0.00s M sp                   from /Users/dirk/github/etcbc/bhsa/tf/2017\n",
      "   |     0.00s M st                   from /Users/dirk/github/etcbc/bhsa/tf/2017\n",
      "   |     0.00s M suffix_gender        from /Users/dirk/github/etcbc/bhsa/tf/2017\n",
      "   |     0.00s M suffix_number        from /Users/dirk/github/etcbc/bhsa/tf/2017\n",
      "   |     0.00s M suffix_person        from /Users/dirk/github/etcbc/bhsa/tf/2017\n",
      "   |     0.00s M tab                  from /Users/dirk/github/etcbc/bhsa/tf/2017\n",
      "   |     0.00s M trailer              from /Users/dirk/github/etcbc/bhsa/tf/2017\n",
      "   |     0.00s M trailer_utf8         from /Users/dirk/github/etcbc/bhsa/tf/2017\n",
      "   |     0.00s M txt                  from /Users/dirk/github/etcbc/bhsa/tf/2017\n",
      "   |     0.00s M typ                  from /Users/dirk/github/etcbc/bhsa/tf/2017\n",
      "   |     0.00s M uvf                  from /Users/dirk/github/etcbc/bhsa/tf/2017\n",
      "   |     0.00s M valence              from /Users/dirk/github/etcbc/valence/tf/2017\n",
      "   |     0.00s M vbe                  from /Users/dirk/github/etcbc/bhsa/tf/2017\n",
      "   |     0.00s M vbs                  from /Users/dirk/github/etcbc/bhsa/tf/2017\n",
      "   |     0.00s M verse                from /Users/dirk/github/etcbc/bhsa/tf/2017\n",
      "   |     0.00s M voc_lex              from /Users/dirk/github/etcbc/bhsa/tf/2017\n",
      "   |     0.00s M voc_lex_utf8         from /Users/dirk/github/etcbc/bhsa/tf/2017\n",
      "   |     0.00s M vs                   from /Users/dirk/github/etcbc/bhsa/tf/2017\n",
      "   |     0.00s M vt                   from /Users/dirk/github/etcbc/bhsa/tf/2017\n",
      "   |     0.04s B otype                from /Users/dirk/github/etcbc/bhsa/tf/2017\n",
      "   |     0.60s B oslots               from /Users/dirk/github/etcbc/bhsa/tf/2017\n",
      "   |     0.00s B __levels__           from otype, oslots\n",
      "  1.05s 127 features to export to MQL ...\n",
      "  1.05s Loading 127 features\n",
      "   |     0.01s B book                 from /Users/dirk/github/etcbc/bhsa/tf/2017\n",
      "   |     0.00s B book@am              from /Users/dirk/github/etcbc/bhsa/tf/2017\n",
      "   |     0.00s B book@ar              from /Users/dirk/github/etcbc/bhsa/tf/2017\n",
      "   |     0.00s B book@bn              from /Users/dirk/github/etcbc/bhsa/tf/2017\n",
      "   |     0.00s B book@da              from /Users/dirk/github/etcbc/bhsa/tf/2017\n",
      "   |     0.00s B book@de              from /Users/dirk/github/etcbc/bhsa/tf/2017\n",
      "   |     0.00s B book@el              from /Users/dirk/github/etcbc/bhsa/tf/2017\n",
      "   |     0.00s B book@en              from /Users/dirk/github/etcbc/bhsa/tf/2017\n",
      "   |     0.00s B book@es              from /Users/dirk/github/etcbc/bhsa/tf/2017\n",
      "   |     0.00s B book@fa              from /Users/dirk/github/etcbc/bhsa/tf/2017\n",
      "   |     0.00s B book@fr              from /Users/dirk/github/etcbc/bhsa/tf/2017\n",
      "   |     0.00s B book@he              from /Users/dirk/github/etcbc/bhsa/tf/2017\n",
      "   |     0.00s B book@hi              from /Users/dirk/github/etcbc/bhsa/tf/2017\n",
      "   |     0.00s B book@id              from /Users/dirk/github/etcbc/bhsa/tf/2017\n",
      "   |     0.00s B book@ja              from /Users/dirk/github/etcbc/bhsa/tf/2017\n",
      "   |     0.00s B book@ko              from /Users/dirk/github/etcbc/bhsa/tf/2017\n",
      "   |     0.00s B book@la              from /Users/dirk/github/etcbc/bhsa/tf/2017\n",
      "   |     0.00s B book@nl              from /Users/dirk/github/etcbc/bhsa/tf/2017\n",
      "   |     0.00s B book@pa              from /Users/dirk/github/etcbc/bhsa/tf/2017\n",
      "   |     0.00s B book@pt              from /Users/dirk/github/etcbc/bhsa/tf/2017\n",
      "   |     0.00s B book@ru              from /Users/dirk/github/etcbc/bhsa/tf/2017\n",
      "   |     0.00s B book@sw              from /Users/dirk/github/etcbc/bhsa/tf/2017\n",
      "   |     0.00s B book@syc             from /Users/dirk/github/etcbc/bhsa/tf/2017\n",
      "   |     0.00s B book@tr              from /Users/dirk/github/etcbc/bhsa/tf/2017\n",
      "   |     0.00s B book@ur              from /Users/dirk/github/etcbc/bhsa/tf/2017\n",
      "   |     0.00s B book@yo              from /Users/dirk/github/etcbc/bhsa/tf/2017\n",
      "   |     0.00s B book@zh              from /Users/dirk/github/etcbc/bhsa/tf/2017\n",
      "   |     0.06s B cfunction            from /Users/dirk/github/etcbc/valence/tf/2017\n",
      "   |     0.01s B chapter              from /Users/dirk/github/etcbc/bhsa/tf/2017\n",
      "   |     0.02s B code                 from /Users/dirk/github/etcbc/bhsa/tf/2017\n",
      "   |     0.01s B crossref             from /Users/dirk/github/etcbc/parallels/tf/2017\n",
      "   |     0.04s B crossrefLCS          from /Users/dirk/github/etcbc/parallels/tf/2017\n",
      "   |     0.01s B crossrefSET          from /Users/dirk/github/etcbc/parallels/tf/2017\n",
      "   |     0.15s B det                  from /Users/dirk/github/etcbc/bhsa/tf/2017\n",
      "   |     0.15s B dist                 from /Users/dirk/github/etcbc/bhsa/tf/2017\n",
      "   |     0.18s B dist_unit            from /Users/dirk/github/etcbc/bhsa/tf/2017\n",
      "   |     1.46s B distributional_parent from /Users/dirk/github/etcbc/bhsa/tf/2017\n",
      "   |     0.03s B domain               from /Users/dirk/github/etcbc/bhsa/tf/2017\n",
      "   |     0.05s B f_correction         from /Users/dirk/github/etcbc/valence/tf/2017\n",
      "   |     0.13s B freq_lex             from /Users/dirk/github/etcbc/bhsa/tf/2017\n",
      "   |     0.11s B freq_occ             from /Users/dirk/github/etcbc/bhsa/tf/2017\n",
      "   |     0.09s B function             from /Users/dirk/github/etcbc/bhsa/tf/2017\n",
      "   |     2.70s B functional_parent    from /Users/dirk/github/etcbc/bhsa/tf/2017\n",
      "   |     0.18s B g_cons               from /Users/dirk/github/etcbc/bhsa/tf/2017\n",
      "   |     0.25s B g_cons_utf8          from /Users/dirk/github/etcbc/bhsa/tf/2017\n",
      "   |     0.18s B g_lex                from /Users/dirk/github/etcbc/bhsa/tf/2017\n",
      "   |     0.29s B g_lex_utf8           from /Users/dirk/github/etcbc/bhsa/tf/2017\n",
      "   |     0.11s B g_nme                from /Users/dirk/github/etcbc/bhsa/tf/2017\n",
      "   |     0.15s B g_nme_utf8           from /Users/dirk/github/etcbc/bhsa/tf/2017\n",
      "   |     0.10s B g_pfm                from /Users/dirk/github/etcbc/bhsa/tf/2017\n",
      "   |     0.10s B g_pfm_utf8           from /Users/dirk/github/etcbc/bhsa/tf/2017\n",
      "   |     0.09s B g_prs                from /Users/dirk/github/etcbc/bhsa/tf/2017\n",
      "   |     0.09s B g_prs_utf8           from /Users/dirk/github/etcbc/bhsa/tf/2017\n",
      "   |     0.07s B g_uvf                from /Users/dirk/github/etcbc/bhsa/tf/2017\n",
      "   |     0.07s B g_uvf_utf8           from /Users/dirk/github/etcbc/bhsa/tf/2017\n"
     ]
    },
    {
     "name": "stdout",
     "output_type": "stream",
     "text": [
      "   |     0.08s B g_vbe                from /Users/dirk/github/etcbc/bhsa/tf/2017\n",
      "   |     0.08s B g_vbe_utf8           from /Users/dirk/github/etcbc/bhsa/tf/2017\n",
      "   |     0.07s B g_vbs                from /Users/dirk/github/etcbc/bhsa/tf/2017\n",
      "   |     0.07s B g_vbs_utf8           from /Users/dirk/github/etcbc/bhsa/tf/2017\n",
      "   |     0.15s B g_word               from /Users/dirk/github/etcbc/bhsa/tf/2017\n",
      "   |     0.22s B g_word_utf8          from /Users/dirk/github/etcbc/bhsa/tf/2017\n",
      "   |     0.01s B gloss                from /Users/dirk/github/etcbc/bhsa/tf/2017\n",
      "   |     0.10s B gn                   from /Users/dirk/github/etcbc/bhsa/tf/2017\n",
      "   |     0.06s B grammatical          from /Users/dirk/github/etcbc/valence/tf/2017\n",
      "   |     0.03s B instruction          from /Users/dirk/github/etcbc/bhsa/tf/2017\n",
      "   |     0.03s B is_root              from /Users/dirk/github/etcbc/bhsa/tf/2017\n",
      "   |     0.03s B kind                 from /Users/dirk/github/etcbc/bhsa/tf/2017\n",
      "   |     0.07s B kq_hybrid            from /Users/dirk/github/etcbc/bhsa/tf/2017\n",
      "   |     0.07s B kq_hybrid_utf8       from /Users/dirk/github/etcbc/bhsa/tf/2017\n",
      "   |     0.01s B label                from /Users/dirk/github/etcbc/bhsa/tf/2017\n",
      "   |     0.12s B language             from /Users/dirk/github/etcbc/bhsa/tf/2017\n",
      "   |     0.12s B languageEN           from /Users/dirk/github/etcbc/bhsa/tf/2017\n",
      "   |     0.13s B lex                  from /Users/dirk/github/etcbc/bhsa/tf/2017\n",
      "   |     0.13s B lex0                 from /Users/dirk/github/etcbc/bhsa/tf/2017\n",
      "   |     0.19s B lex_utf8             from /Users/dirk/github/etcbc/bhsa/tf/2017\n",
      "   |     0.08s B lexeme_count         from /Users/dirk/github/etcbc/bhsa/tf/2017\n",
      "   |     0.10s B lexical              from /Users/dirk/github/etcbc/valence/tf/2017\n",
      "   |     0.19s B ls                   from /Users/dirk/github/etcbc/bhsa/tf/2017\n",
      "   |     0.14s B mother               from /Users/dirk/github/etcbc/bhsa/tf/2017\n",
      "   |     0.06s B mother_object_type   from /Users/dirk/github/etcbc/bhsa/tf/2017\n",
      "   |     0.00s B nametype             from /Users/dirk/github/etcbc/bhsa/tf/2017\n",
      "   |     0.12s B nme                  from /Users/dirk/github/etcbc/bhsa/tf/2017\n",
      "   |     0.12s B nu                   from /Users/dirk/github/etcbc/bhsa/tf/2017\n",
      "   |     0.35s B number               from /Users/dirk/github/etcbc/bhsa/tf/2017\n",
      "   |     7.40s T omap@2016-2017       from /Users/dirk/github/etcbc/bhsa/tf/2017\n",
      "   |     0.04s B original             from /Users/dirk/github/etcbc/valence/tf/2017\n",
      "   |     0.03s B pargr                from /Users/dirk/github/etcbc/bhsa/tf/2017\n",
      "   |     0.13s B pdp                  from /Users/dirk/github/etcbc/bhsa/tf/2017\n",
      "   |     0.12s B pfm                  from /Users/dirk/github/etcbc/bhsa/tf/2017\n",
      "   |     0.21s B phono                from /Users/dirk/github/etcbc/phono/tf/2017\n",
      "   |     0.08s B phono_trailer        from /Users/dirk/github/etcbc/phono/tf/2017\n",
      "   |     0.07s B predication          from /Users/dirk/github/etcbc/valence/tf/2017\n",
      "   |     0.13s B prs                  from /Users/dirk/github/etcbc/bhsa/tf/2017\n",
      "   |     0.13s B prs_gn               from /Users/dirk/github/etcbc/bhsa/tf/2017\n",
      "   |     0.14s B prs_nu               from /Users/dirk/github/etcbc/bhsa/tf/2017\n",
      "   |     0.14s B prs_ps               from /Users/dirk/github/etcbc/bhsa/tf/2017\n",
      "   |     0.22s B ps                   from /Users/dirk/github/etcbc/bhsa/tf/2017\n",
      "   |     0.00s B qere                 from /Users/dirk/github/etcbc/bhsa/tf/2017\n",
      "   |     0.00s B qere_trailer         from /Users/dirk/github/etcbc/bhsa/tf/2017\n",
      "   |     0.00s B qere_trailer_utf8    from /Users/dirk/github/etcbc/bhsa/tf/2017\n",
      "   |     0.00s B qere_utf8            from /Users/dirk/github/etcbc/bhsa/tf/2017\n",
      "   |     0.12s B rank_lex             from /Users/dirk/github/etcbc/bhsa/tf/2017\n",
      "   |     0.12s B rank_occ             from /Users/dirk/github/etcbc/bhsa/tf/2017\n",
      "   |     0.27s B rela                 from /Users/dirk/github/etcbc/bhsa/tf/2017\n",
      "   |     0.00s B root                 from /Users/dirk/github/etcbc/bhsa/tf/2017\n",
      "   |     0.05s B s_manual             from /Users/dirk/github/etcbc/valence/tf/2017\n",
      "   |     0.06s B semantic             from /Users/dirk/github/etcbc/valence/tf/2017\n",
      "   |     0.02s B sense                from /Users/dirk/github/etcbc/valence/tf/2017\n",
      "   |     0.14s B sp                   from /Users/dirk/github/etcbc/bhsa/tf/2017\n",
      "   |     0.12s B st                   from /Users/dirk/github/etcbc/bhsa/tf/2017\n",
      "   |     0.15s B suffix_gender        from /Users/dirk/github/etcbc/bhsa/tf/2017\n",
      "   |     0.24s B suffix_number        from /Users/dirk/github/etcbc/bhsa/tf/2017\n",
      "   |     0.18s B suffix_person        from /Users/dirk/github/etcbc/bhsa/tf/2017\n",
      "   |     0.03s B tab                  from /Users/dirk/github/etcbc/bhsa/tf/2017\n",
      "   |     0.11s B trailer              from /Users/dirk/github/etcbc/bhsa/tf/2017\n",
      "   |     0.12s B trailer_utf8         from /Users/dirk/github/etcbc/bhsa/tf/2017\n",
      "   |     0.03s B txt                  from /Users/dirk/github/etcbc/bhsa/tf/2017\n",
      "   |     0.26s B typ                  from /Users/dirk/github/etcbc/bhsa/tf/2017\n",
      "   |     0.12s B uvf                  from /Users/dirk/github/etcbc/bhsa/tf/2017\n",
      "   |     0.07s B valence              from /Users/dirk/github/etcbc/valence/tf/2017\n",
      "   |     0.12s B vbe                  from /Users/dirk/github/etcbc/bhsa/tf/2017\n",
      "   |     0.13s B vbs                  from /Users/dirk/github/etcbc/bhsa/tf/2017\n",
      "   |     0.01s B verse                from /Users/dirk/github/etcbc/bhsa/tf/2017\n",
      "   |     0.01s B voc_lex              from /Users/dirk/github/etcbc/bhsa/tf/2017\n",
      "   |     0.01s B voc_lex_utf8         from /Users/dirk/github/etcbc/bhsa/tf/2017\n",
      "   |     0.13s B vs                   from /Users/dirk/github/etcbc/bhsa/tf/2017\n",
      "   |     0.13s B vt                   from /Users/dirk/github/etcbc/bhsa/tf/2017\n",
      "    23s Writing enumerations\n",
      "\tbook_am        :   39 values, 39 not a name, e.g. «መኃልየ_መኃልይ_ዘሰሎሞን»\n",
      "\tbook_ar        :   39 values, 39 not a name, e.g. «1_اخبار»\n",
      "\tbook_bn        :   39 values, 39 not a name, e.g. «আদিপুস্তক»\n",
      "\tbook_da        :   39 values, 13 not a name, e.g. «1.Kongebog»\n",
      "\tbook_de        :   39 values, 7 not a name, e.g. «1_Chronik»\n",
      "\tbook_el        :   39 values, 39 not a name, e.g. «Άσμα_Ασμάτων»\n",
      "\tbook_en        :   39 values, 6 not a name, e.g. «1_Chronicles»\n",
      "\tbook_es        :   39 values, 22 not a name, e.g. «1_Crónicas»\n",
      "\tbook_fa        :   39 values, 39 not a name, e.g. «استر»\n",
      "\tbook_fr        :   39 values, 19 not a name, e.g. «1_Chroniques»\n",
      "\tbook_he        :   39 values, 39 not a name, e.g. «איוב»\n",
      "\tbook_hi        :   39 values, 39 not a name, e.g. «1_इतिहास»\n",
      "\tbook_id        :   39 values, 7 not a name, e.g. «1_Raja-raja»\n",
      "\tbook_ja        :   39 values, 39 not a name, e.g. «アモス書»\n",
      "\tbook_ko        :   39 values, 39 not a name, e.g. «나훔»\n",
      "\tbook_nl        :   39 values, 8 not a name, e.g. «1_Koningen»\n",
      "\tbook_pa        :   39 values, 39 not a name, e.g. «1_ਇਤਹਾਸ»\n",
      "\tbook_pt        :   39 values, 21 not a name, e.g. «1_Crônicas»\n",
      "\tbook_ru        :   39 values, 39 not a name, e.g. «1-я_Паралипоменон»\n",
      "\tbook_sw        :   39 values, 6 not a name, e.g. «1_Mambo_ya_Nyakati»\n",
      "\tbook_syc       :   39 values, 39 not a name, e.g. «ܐ_ܒܪܝܡܝܢ»\n",
      "\tbook_tr        :   39 values, 16 not a name, e.g. «1_Krallar»\n",
      "\tbook_ur        :   39 values, 39 not a name, e.g. «احبار»\n",
      "\tbook_yo        :   39 values, 8 not a name, e.g. «Amọsi»\n",
      "\tbook_zh        :   38 values, 37 not a name, e.g. «以斯帖记»\n",
      "\tcfunction      :   26 values, 1 not a name, e.g. «»\n",
      "\tdomain         :    4 values, 1 not a name, e.g. «?»\n",
      "\tf_correction   :    1 values, 1 not a name, e.g. «»\n",
      "\tg_nme          :  108 values, 108 not a name, e.g. «»\n",
      "\tg_nme_utf8     :  106 values, 106 not a name, e.g. «»\n",
      "\tg_pfm          :   87 values, 87 not a name, e.g. «»\n",
      "\tg_pfm_utf8     :   86 values, 86 not a name, e.g. «»\n",
      "\tg_prs          :  127 values, 127 not a name, e.g. «»\n",
      "\tg_prs_utf8     :  126 values, 126 not a name, e.g. «»\n",
      "\tg_uvf          :   19 values, 19 not a name, e.g. «»\n",
      "\tg_uvf_utf8     :   17 values, 17 not a name, e.g. «»\n",
      "\tg_vbe          :  101 values, 101 not a name, e.g. «»\n",
      "\tg_vbe_utf8     :   97 values, 97 not a name, e.g. «»\n",
      "\tg_vbs          :   66 values, 66 not a name, e.g. «»\n",
      "\tg_vbs_utf8     :   65 values, 65 not a name, e.g. «»\n"
     ]
    },
    {
     "name": "stdout",
     "output_type": "stream",
     "text": [
      "\tgrammatical    :   11 values, 2 not a name, e.g. «»\n",
      "\tinstruction    :   35 values, 20 not a name, e.g. «.#»\n",
      "\tlexical        :    4 values, 1 not a name, e.g. «»\n",
      "\tnametype       :    9 values, 4 not a name, e.g. «gens,topo»\n",
      "\tnme            :   20 values, 7 not a name, e.g. «»\n",
      "\toriginal       :    2 values, 2 not a name, e.g. «»\n",
      "\tpfm            :   11 values, 4 not a name, e.g. «»\n",
      "\tphono_trailer  :    4 values, 4 not a name, e.g. «»\n",
      "\tprs            :   22 values, 4 not a name, e.g. «H=»\n",
      "\tqere_trailer   :    5 values, 5 not a name, e.g. «»\n",
      "\tqere_trailer_utf8:    5 values, 5 not a name, e.g. «»\n",
      "\troot           :  648 values, 187 not a name, e.g. «<Assyrian>»\n",
      "\ts_manual       :    1 values, 1 not a name, e.g. «»\n",
      "\tsemantic       :    5 values, 1 not a name, e.g. «»\n",
      "\tsense          :   15 values, 11 not a name, e.g. «--»\n",
      "\ttrailer        :   12 values, 12 not a name, e.g. «»\n",
      "\ttrailer_utf8   :   12 values, 12 not a name, e.g. «»\n",
      "\ttxt            :  136 values, 59 not a name, e.g. «?»\n",
      "\tuvf            :    6 values, 1 not a name, e.g. «>»\n",
      "\tvbe            :   19 values, 6 not a name, e.g. «»\n",
      "\tvbs            :   11 values, 3 not a name, e.g. «>»\n",
      "   |     2.10s Writing an all-in-one enum with  237 values\n",
      "    25s Mapping 127 features onto 13 object types\n",
      "    32s Writing 127 features as data in 13 object types\n",
      "   |     0.00s word data ...\n",
      "   |      |     5.07s batch of size               46.6MB with   50000 of   50000 words\n",
      "   |      |     9.97s batch of size               46.7MB with   50000 of  100000 words\n",
      "   |      |       15s batch of size               46.8MB with   50000 of  150000 words\n",
      "   |      |       20s batch of size               46.9MB with   50000 of  200000 words\n",
      "   |      |       25s batch of size               47.1MB with   50000 of  250000 words\n",
      "   |      |       30s batch of size               47.1MB with   50000 of  300000 words\n",
      "   |      |       35s batch of size               47.3MB with   50000 of  350000 words\n",
      "   |      |       41s batch of size               47.0MB with   50000 of  400000 words\n",
      "   |      |       43s batch of size               24.9MB with   26584 of  426584 words\n",
      "   |       43s word data: 426584 objects\n",
      "   |     0.00s subphrase data ...\n",
      "   |      |     0.65s batch of size                7.3MB with   50000 of   50000 subphrases\n",
      "   |      |     1.28s batch of size                7.2MB with   50000 of  100000 subphrases\n",
      "   |      |     1.46s batch of size                2.0MB with   13784 of  113784 subphrases\n",
      "   |     1.47s subphrase data: 113784 objects\n",
      "   |     0.00s phrase_atom data ...\n",
      "   |      |     1.01s batch of size               10.9MB with   50000 of   50000 phrase_atoms\n",
      "   |      |     2.05s batch of size               11.0MB with   50000 of  100000 phrase_atoms\n",
      "   |      |     3.08s batch of size               11.1MB with   50000 of  150000 phrase_atoms\n",
      "   |      |     4.12s batch of size               11.1MB with   50000 of  200000 phrase_atoms\n",
      "   |      |     5.14s batch of size               11.0MB with   50000 of  250000 phrase_atoms\n",
      "   |      |     5.51s batch of size                3.9MB with   17519 of  267519 phrase_atoms\n",
      "   |     5.51s phrase_atom data: 267519 objects\n",
      "   |     0.00s phrase data ...\n",
      "   |      |     1.56s batch of size               15.9MB with   50000 of   50000 phrases\n",
      "   |      |     3.10s batch of size               16.2MB with   50000 of  100000 phrases\n",
      "   |      |     4.62s batch of size               16.1MB with   50000 of  150000 phrases\n",
      "   |      |     6.09s batch of size               15.8MB with   50000 of  200000 phrases\n",
      "   |      |     7.53s batch of size               15.5MB with   50000 of  250000 phrases\n",
      "   |      |     7.64s batch of size                1.0MB with    3187 of  253187 phrases\n",
      "   |     7.64s phrase data: 253187 objects\n",
      "   |     0.00s clause_atom data ...\n",
      "   |      |     1.28s batch of size               13.3MB with   50000 of   50000 clause_atoms\n",
      "   |      |     2.32s batch of size               10.8MB with   40669 of   90669 clause_atoms\n",
      "   |     2.32s clause_atom data: 90669 objects\n",
      "   |     0.00s clause data ...\n",
      "   |      |     1.44s batch of size               12.8MB with   50000 of   50000 clauses\n",
      "   |      |     2.59s batch of size                9.7MB with   38101 of   88101 clauses\n",
      "   |     2.60s clause data: 88101 objects\n",
      "   |     0.00s sentence_atom data ...\n",
      "   |      |     0.58s batch of size                6.7MB with   50000 of   50000 sentence_atoms\n",
      "   |      |     0.75s batch of size                1.9MB with   14486 of   64486 sentence_atoms\n",
      "   |     0.75s sentence_atom data: 64486 objects\n",
      "   |     0.00s sentence data ...\n",
      "   |      |     0.45s batch of size                5.2MB with   50000 of   50000 sentences\n",
      "   |      |     0.57s batch of size                1.4MB with   13711 of   63711 sentences\n",
      "   |     0.58s sentence data: 63711 objects\n",
      "   |     0.00s half_verse data ...\n",
      "   |      |     0.43s batch of size                4.6MB with   45180 of   45180 half_verses\n",
      "   |     0.43s half_verse data: 45180 objects\n",
      "   |     0.00s verse data ...\n",
      "   |      |     0.41s batch of size                4.2MB with   23213 of   23213 verses\n",
      "   |     0.41s verse data: 23213 objects\n",
      "   |     0.00s lex data ...\n",
      "   |      |     0.55s batch of size                4.7MB with    9233 of    9233 lexs\n",
      "   |     0.55s lex data: 9233 objects\n",
      "   |     0.00s chapter data ...\n",
      "   |      |     0.06s batch of size              111.1KB with     929 of     929 chapters\n",
      "   |     0.07s chapter data: 929 objects\n",
      "   |     0.00s book data ...\n",
      "   |      |     0.06s batch of size               28.4KB with      39 of      39 books\n",
      "   |     0.06s book data: 39 objects\n",
      " 1m 38s Done\n",
      "|      1m 38s \tbzipping /Users/dirk/github/etcbc/bhsa/_temp/2017/shebanq/shebanq_etcbc2017.mql\n",
      "|      1m 38s \tand delivering as /Users/dirk/github/etcbc/bhsa/shebanq/2017/shebanq_etcbc2017.mql.bz2 ...\n",
      "|      3m 51s \tDone\n",
      "\n",
      "##############################################################################################\n",
      "#                                                                                            #\n",
      "#      3m 53s Aggregate MQL for version c                                                    #\n",
      "#                                                                                            #\n",
      "##############################################################################################\n",
      "\n",
      "|      3m 53s \tWork to do because the tf in bhsa is recently compiled\n",
      "|      3m 53s \t\t/Users/dirk/github/etcbc/bhsa/tf/c/.tf\n",
      "\n",
      "##############################################################################################\n",
      "#                                                                                            #\n",
      "#      3m 53s Using TF to make an MQL export                                                 #\n",
      "#                                                                                            #\n",
      "##############################################################################################\n",
      "\n",
      "This is Text-Fabric 3.1.1\n",
      "Api reference : https://github.com/Dans-labs/text-fabric/wiki/Api\n",
      "Tutorial      : https://github.com/Dans-labs/text-fabric/blob/master/docs/tutorial.ipynb\n",
      "Example data  : https://github.com/Dans-labs/text-fabric-data\n",
      "\n",
      "131 features found and 0 ignored\n",
      "  0.00s Checking features of dataset shebanq_etcbcc\n",
      "   |     0.00s M book                 from /Users/dirk/github/etcbc/bhsa/tf/c\n",
      "   |     0.00s M book@am              from /Users/dirk/github/etcbc/bhsa/tf/c\n"
     ]
    },
    {
     "name": "stderr",
     "output_type": "stream",
     "text": [
      "   |     0.00s feature \"book@am\" => \"book_am\"\n"
     ]
    },
    {
     "name": "stdout",
     "output_type": "stream",
     "text": [
      "   |     0.00s M book@ar              from /Users/dirk/github/etcbc/bhsa/tf/c\n"
     ]
    },
    {
     "name": "stderr",
     "output_type": "stream",
     "text": [
      "   |     0.00s feature \"book@ar\" => \"book_ar\"\n"
     ]
    },
    {
     "name": "stdout",
     "output_type": "stream",
     "text": [
      "   |     0.00s M book@bn              from /Users/dirk/github/etcbc/bhsa/tf/c\n"
     ]
    },
    {
     "name": "stderr",
     "output_type": "stream",
     "text": [
      "   |     0.00s feature \"book@bn\" => \"book_bn\"\n"
     ]
    },
    {
     "name": "stdout",
     "output_type": "stream",
     "text": [
      "   |     0.00s M book@da              from /Users/dirk/github/etcbc/bhsa/tf/c\n"
     ]
    },
    {
     "name": "stderr",
     "output_type": "stream",
     "text": [
      "   |     0.00s feature \"book@da\" => \"book_da\"\n"
     ]
    },
    {
     "name": "stdout",
     "output_type": "stream",
     "text": [
      "   |     0.00s M book@de              from /Users/dirk/github/etcbc/bhsa/tf/c\n"
     ]
    },
    {
     "name": "stderr",
     "output_type": "stream",
     "text": [
      "   |     0.00s feature \"book@de\" => \"book_de\"\n"
     ]
    },
    {
     "name": "stdout",
     "output_type": "stream",
     "text": [
      "   |     0.00s M book@el              from /Users/dirk/github/etcbc/bhsa/tf/c\n"
     ]
    },
    {
     "name": "stderr",
     "output_type": "stream",
     "text": [
      "   |     0.00s feature \"book@el\" => \"book_el\"\n"
     ]
    },
    {
     "name": "stdout",
     "output_type": "stream",
     "text": [
      "   |     0.00s M book@en              from /Users/dirk/github/etcbc/bhsa/tf/c\n"
     ]
    },
    {
     "name": "stderr",
     "output_type": "stream",
     "text": [
      "   |     0.00s feature \"book@en\" => \"book_en\"\n"
     ]
    },
    {
     "name": "stdout",
     "output_type": "stream",
     "text": [
      "   |     0.00s M book@es              from /Users/dirk/github/etcbc/bhsa/tf/c\n"
     ]
    },
    {
     "name": "stderr",
     "output_type": "stream",
     "text": [
      "   |     0.00s feature \"book@es\" => \"book_es\"\n"
     ]
    },
    {
     "name": "stdout",
     "output_type": "stream",
     "text": [
      "   |     0.00s M book@fa              from /Users/dirk/github/etcbc/bhsa/tf/c\n"
     ]
    },
    {
     "name": "stderr",
     "output_type": "stream",
     "text": [
      "   |     0.00s feature \"book@fa\" => \"book_fa\"\n"
     ]
    },
    {
     "name": "stdout",
     "output_type": "stream",
     "text": [
      "   |     0.00s M book@fr              from /Users/dirk/github/etcbc/bhsa/tf/c\n"
     ]
    },
    {
     "name": "stderr",
     "output_type": "stream",
     "text": [
      "   |     0.00s feature \"book@fr\" => \"book_fr\"\n"
     ]
    },
    {
     "name": "stdout",
     "output_type": "stream",
     "text": [
      "   |     0.00s M book@he              from /Users/dirk/github/etcbc/bhsa/tf/c\n"
     ]
    },
    {
     "name": "stderr",
     "output_type": "stream",
     "text": [
      "   |     0.00s feature \"book@he\" => \"book_he\"\n"
     ]
    },
    {
     "name": "stdout",
     "output_type": "stream",
     "text": [
      "   |     0.00s M book@hi              from /Users/dirk/github/etcbc/bhsa/tf/c\n"
     ]
    },
    {
     "name": "stderr",
     "output_type": "stream",
     "text": [
      "   |     0.00s feature \"book@hi\" => \"book_hi\"\n"
     ]
    },
    {
     "name": "stdout",
     "output_type": "stream",
     "text": [
      "   |     0.00s M book@id              from /Users/dirk/github/etcbc/bhsa/tf/c\n"
     ]
    },
    {
     "name": "stderr",
     "output_type": "stream",
     "text": [
      "   |     0.00s feature \"book@id\" => \"book_id\"\n"
     ]
    },
    {
     "name": "stdout",
     "output_type": "stream",
     "text": [
      "   |     0.00s M book@ja              from /Users/dirk/github/etcbc/bhsa/tf/c\n"
     ]
    },
    {
     "name": "stderr",
     "output_type": "stream",
     "text": [
      "   |     0.00s feature \"book@ja\" => \"book_ja\"\n"
     ]
    },
    {
     "name": "stdout",
     "output_type": "stream",
     "text": [
      "   |     0.00s M book@ko              from /Users/dirk/github/etcbc/bhsa/tf/c\n"
     ]
    },
    {
     "name": "stderr",
     "output_type": "stream",
     "text": [
      "   |     0.00s feature \"book@ko\" => \"book_ko\"\n"
     ]
    },
    {
     "name": "stdout",
     "output_type": "stream",
     "text": [
      "   |     0.00s M book@la              from /Users/dirk/github/etcbc/bhsa/tf/c\n"
     ]
    },
    {
     "name": "stderr",
     "output_type": "stream",
     "text": [
      "   |     0.00s feature \"book@la\" => \"book_la\"\n"
     ]
    },
    {
     "name": "stdout",
     "output_type": "stream",
     "text": [
      "   |     0.00s M book@nl              from /Users/dirk/github/etcbc/bhsa/tf/c\n"
     ]
    },
    {
     "name": "stderr",
     "output_type": "stream",
     "text": [
      "   |     0.00s feature \"book@nl\" => \"book_nl\"\n"
     ]
    },
    {
     "name": "stdout",
     "output_type": "stream",
     "text": [
      "   |     0.00s M book@pa              from /Users/dirk/github/etcbc/bhsa/tf/c\n"
     ]
    },
    {
     "name": "stderr",
     "output_type": "stream",
     "text": [
      "   |     0.00s feature \"book@pa\" => \"book_pa\"\n"
     ]
    },
    {
     "name": "stdout",
     "output_type": "stream",
     "text": [
      "   |     0.00s M book@pt              from /Users/dirk/github/etcbc/bhsa/tf/c\n"
     ]
    },
    {
     "name": "stderr",
     "output_type": "stream",
     "text": [
      "   |     0.00s feature \"book@pt\" => \"book_pt\"\n"
     ]
    },
    {
     "name": "stdout",
     "output_type": "stream",
     "text": [
      "   |     0.00s M book@ru              from /Users/dirk/github/etcbc/bhsa/tf/c\n"
     ]
    },
    {
     "name": "stderr",
     "output_type": "stream",
     "text": [
      "   |     0.00s feature \"book@ru\" => \"book_ru\"\n"
     ]
    },
    {
     "name": "stdout",
     "output_type": "stream",
     "text": [
      "   |     0.00s M book@sw              from /Users/dirk/github/etcbc/bhsa/tf/c\n"
     ]
    },
    {
     "name": "stderr",
     "output_type": "stream",
     "text": [
      "   |     0.00s feature \"book@sw\" => \"book_sw\"\n"
     ]
    },
    {
     "name": "stdout",
     "output_type": "stream",
     "text": [
      "   |     0.00s M book@syc             from /Users/dirk/github/etcbc/bhsa/tf/c\n"
     ]
    },
    {
     "name": "stderr",
     "output_type": "stream",
     "text": [
      "   |     0.00s feature \"book@syc\" => \"book_syc\"\n"
     ]
    },
    {
     "name": "stdout",
     "output_type": "stream",
     "text": [
      "   |     0.00s M book@tr              from /Users/dirk/github/etcbc/bhsa/tf/c\n"
     ]
    },
    {
     "name": "stderr",
     "output_type": "stream",
     "text": [
      "   |     0.00s feature \"book@tr\" => \"book_tr\"\n"
     ]
    },
    {
     "name": "stdout",
     "output_type": "stream",
     "text": [
      "   |     0.00s M book@ur              from /Users/dirk/github/etcbc/bhsa/tf/c\n"
     ]
    },
    {
     "name": "stderr",
     "output_type": "stream",
     "text": [
      "   |     0.00s feature \"book@ur\" => \"book_ur\"\n"
     ]
    },
    {
     "name": "stdout",
     "output_type": "stream",
     "text": [
      "   |     0.00s M book@yo              from /Users/dirk/github/etcbc/bhsa/tf/c\n"
     ]
    },
    {
     "name": "stderr",
     "output_type": "stream",
     "text": [
      "   |     0.00s feature \"book@yo\" => \"book_yo\"\n"
     ]
    },
    {
     "name": "stdout",
     "output_type": "stream",
     "text": [
      "   |     0.00s M book@zh              from /Users/dirk/github/etcbc/bhsa/tf/c\n"
     ]
    },
    {
     "name": "stderr",
     "output_type": "stream",
     "text": [
      "   |     0.00s feature \"book@zh\" => \"book_zh\"\n"
     ]
    },
    {
     "name": "stdout",
     "output_type": "stream",
     "text": [
      "   |     0.00s M cfunction            from /Users/dirk/github/etcbc/valence/tf/c\n",
      "   |     0.00s M chapter              from /Users/dirk/github/etcbc/bhsa/tf/c\n",
      "   |     0.00s M code                 from /Users/dirk/github/etcbc/bhsa/tf/c\n",
      "   |     0.00s M crossref             from /Users/dirk/github/etcbc/parallels/tf/c\n",
      "   |     0.00s M crossrefLCS          from /Users/dirk/github/etcbc/parallels/tf/c\n",
      "   |     0.00s M crossrefSET          from /Users/dirk/github/etcbc/parallels/tf/c\n",
      "   |     0.00s M det                  from /Users/dirk/github/etcbc/bhsa/tf/c\n",
      "   |     0.00s M dist                 from /Users/dirk/github/etcbc/bhsa/tf/c\n",
      "   |     0.00s M dist_unit            from /Users/dirk/github/etcbc/bhsa/tf/c\n",
      "   |     0.00s M distributional_parent from /Users/dirk/github/etcbc/bhsa/tf/c\n",
      "   |     0.00s M domain               from /Users/dirk/github/etcbc/bhsa/tf/c\n",
      "   |     0.00s M f_correction         from /Users/dirk/github/etcbc/valence/tf/c\n",
      "   |     0.00s M freq_lex             from /Users/dirk/github/etcbc/bhsa/tf/c\n",
      "   |     0.00s M freq_occ             from /Users/dirk/github/etcbc/bhsa/tf/c\n",
      "   |     0.00s M function             from /Users/dirk/github/etcbc/bhsa/tf/c\n",
      "   |     0.00s M functional_parent    from /Users/dirk/github/etcbc/bhsa/tf/c\n",
      "   |     0.00s M g_cons               from /Users/dirk/github/etcbc/bhsa/tf/c\n",
      "   |     0.00s M g_cons_utf8          from /Users/dirk/github/etcbc/bhsa/tf/c\n",
      "   |     0.00s M g_lex                from /Users/dirk/github/etcbc/bhsa/tf/c\n",
      "   |     0.00s M g_lex_utf8           from /Users/dirk/github/etcbc/bhsa/tf/c\n",
      "   |     0.00s M g_nme                from /Users/dirk/github/etcbc/bhsa/tf/c\n",
      "   |     0.00s M g_nme_utf8           from /Users/dirk/github/etcbc/bhsa/tf/c\n",
      "   |     0.00s M g_pfm                from /Users/dirk/github/etcbc/bhsa/tf/c\n",
      "   |     0.00s M g_pfm_utf8           from /Users/dirk/github/etcbc/bhsa/tf/c\n",
      "   |     0.00s M g_prs                from /Users/dirk/github/etcbc/bhsa/tf/c\n",
      "   |     0.00s M g_prs_utf8           from /Users/dirk/github/etcbc/bhsa/tf/c\n",
      "   |     0.00s M g_uvf                from /Users/dirk/github/etcbc/bhsa/tf/c\n",
      "   |     0.00s M g_uvf_utf8           from /Users/dirk/github/etcbc/bhsa/tf/c\n",
      "   |     0.00s M g_vbe                from /Users/dirk/github/etcbc/bhsa/tf/c\n",
      "   |     0.00s M g_vbe_utf8           from /Users/dirk/github/etcbc/bhsa/tf/c\n",
      "   |     0.00s M g_vbs                from /Users/dirk/github/etcbc/bhsa/tf/c\n",
      "   |     0.00s M g_vbs_utf8           from /Users/dirk/github/etcbc/bhsa/tf/c\n",
      "   |     0.00s M g_word               from /Users/dirk/github/etcbc/bhsa/tf/c\n",
      "   |     0.00s M g_word_utf8          from /Users/dirk/github/etcbc/bhsa/tf/c\n",
      "   |     0.00s M gloss                from /Users/dirk/github/etcbc/bhsa/tf/c\n",
      "   |     0.00s M gn                   from /Users/dirk/github/etcbc/bhsa/tf/c\n",
      "   |     0.00s M grammatical          from /Users/dirk/github/etcbc/valence/tf/c\n",
      "   |     0.00s M instruction          from /Users/dirk/github/etcbc/bhsa/tf/c\n",
      "   |     0.00s M is_root              from /Users/dirk/github/etcbc/bhsa/tf/c\n",
      "   |     0.00s M kind                 from /Users/dirk/github/etcbc/bhsa/tf/c\n",
      "   |     0.00s M kq_hybrid            from /Users/dirk/github/etcbc/bhsa/tf/c\n",
      "   |     0.00s M kq_hybrid_utf8       from /Users/dirk/github/etcbc/bhsa/tf/c\n",
      "   |     0.00s M label                from /Users/dirk/github/etcbc/bhsa/tf/c\n",
      "   |     0.00s M language             from /Users/dirk/github/etcbc/bhsa/tf/c\n",
      "   |     0.00s M languageEN           from /Users/dirk/github/etcbc/bhsa/tf/c\n",
      "   |     0.00s M lex                  from /Users/dirk/github/etcbc/bhsa/tf/c\n",
      "   |     0.00s M lex0                 from /Users/dirk/github/etcbc/bhsa/tf/c\n",
      "   |     0.00s M lex_utf8             from /Users/dirk/github/etcbc/bhsa/tf/c\n",
      "   |     0.00s M lexeme_count         from /Users/dirk/github/etcbc/bhsa/tf/c\n",
      "   |     0.00s M lexical              from /Users/dirk/github/etcbc/valence/tf/c\n",
      "   |     0.00s M ls                   from /Users/dirk/github/etcbc/bhsa/tf/c\n",
      "   |     0.00s M mother               from /Users/dirk/github/etcbc/bhsa/tf/c\n",
      "   |     0.00s M mother_object_type   from /Users/dirk/github/etcbc/bhsa/tf/c\n",
      "   |     0.00s M nametype             from /Users/dirk/github/etcbc/bhsa/tf/c\n",
      "   |     0.00s M nme                  from /Users/dirk/github/etcbc/bhsa/tf/c\n",
      "   |     0.00s M nu                   from /Users/dirk/github/etcbc/bhsa/tf/c\n",
      "   |     0.00s M number               from /Users/dirk/github/etcbc/bhsa/tf/c\n",
      "   |     0.00s M omap@2017-c          from /Users/dirk/github/etcbc/bhsa/tf/c\n"
     ]
    },
    {
     "name": "stderr",
     "output_type": "stream",
     "text": [
      "   |     0.00s feature \"omap@2017-c\" => \"omap_2017_c\"\n"
     ]
    },
    {
     "name": "stdout",
     "output_type": "stream",
     "text": [
      "   |     0.00s M original             from /Users/dirk/github/etcbc/valence/tf/c\n",
      "   |     0.00s M otext@phono          from /Users/dirk/github/etcbc/phono/tf/c\n",
      "   |     0.00s M pargr                from /Users/dirk/github/etcbc/bhsa/tf/c\n",
      "   |     0.00s M pdp                  from /Users/dirk/github/etcbc/bhsa/tf/c\n",
      "   |     0.00s M pfm                  from /Users/dirk/github/etcbc/bhsa/tf/c\n",
      "   |     0.00s M phono                from /Users/dirk/github/etcbc/phono/tf/c\n",
      "   |     0.00s M phono_trailer        from /Users/dirk/github/etcbc/phono/tf/c\n",
      "   |     0.00s M predication          from /Users/dirk/github/etcbc/valence/tf/c\n",
      "   |     0.00s M prs                  from /Users/dirk/github/etcbc/bhsa/tf/c\n",
      "   |     0.00s M prs_gn               from /Users/dirk/github/etcbc/bhsa/tf/c\n",
      "   |     0.00s M prs_nu               from /Users/dirk/github/etcbc/bhsa/tf/c\n",
      "   |     0.00s M prs_ps               from /Users/dirk/github/etcbc/bhsa/tf/c\n",
      "   |     0.00s M ps                   from /Users/dirk/github/etcbc/bhsa/tf/c\n",
      "   |     0.00s M qere                 from /Users/dirk/github/etcbc/bhsa/tf/c\n",
      "   |     0.00s M qere_trailer         from /Users/dirk/github/etcbc/bhsa/tf/c\n",
      "   |     0.00s M qere_trailer_utf8    from /Users/dirk/github/etcbc/bhsa/tf/c\n",
      "   |     0.00s M qere_utf8            from /Users/dirk/github/etcbc/bhsa/tf/c\n",
      "   |     0.00s M rank_lex             from /Users/dirk/github/etcbc/bhsa/tf/c\n",
      "   |     0.00s M rank_occ             from /Users/dirk/github/etcbc/bhsa/tf/c\n",
      "   |     0.00s M rela                 from /Users/dirk/github/etcbc/bhsa/tf/c\n",
      "   |     0.00s M root                 from /Users/dirk/github/etcbc/bhsa/tf/c\n",
      "   |     0.00s M s_manual             from /Users/dirk/github/etcbc/valence/tf/c\n",
      "   |     0.00s M semantic             from /Users/dirk/github/etcbc/valence/tf/c\n",
      "   |     0.00s M sense                from /Users/dirk/github/etcbc/valence/tf/c\n",
      "   |     0.00s M sp                   from /Users/dirk/github/etcbc/bhsa/tf/c\n",
      "   |     0.00s M st                   from /Users/dirk/github/etcbc/bhsa/tf/c\n",
      "   |     0.00s M suffix_gender        from /Users/dirk/github/etcbc/bhsa/tf/c\n",
      "   |     0.00s M suffix_number        from /Users/dirk/github/etcbc/bhsa/tf/c\n",
      "   |     0.00s M suffix_person        from /Users/dirk/github/etcbc/bhsa/tf/c\n",
      "   |     0.00s M tab                  from /Users/dirk/github/etcbc/bhsa/tf/c\n",
      "   |     0.00s M trailer              from /Users/dirk/github/etcbc/bhsa/tf/c\n",
      "   |     0.00s M trailer_utf8         from /Users/dirk/github/etcbc/bhsa/tf/c\n",
      "   |     0.00s M txt                  from /Users/dirk/github/etcbc/bhsa/tf/c\n",
      "   |     0.00s M typ                  from /Users/dirk/github/etcbc/bhsa/tf/c\n",
      "   |     0.00s M uvf                  from /Users/dirk/github/etcbc/bhsa/tf/c\n",
      "   |     0.00s M valence              from /Users/dirk/github/etcbc/valence/tf/c\n",
      "   |     0.00s M vbe                  from /Users/dirk/github/etcbc/bhsa/tf/c\n",
      "   |     0.00s M vbs                  from /Users/dirk/github/etcbc/bhsa/tf/c\n",
      "   |     0.00s M verse                from /Users/dirk/github/etcbc/bhsa/tf/c\n",
      "   |     0.00s M voc_lex              from /Users/dirk/github/etcbc/bhsa/tf/c\n",
      "   |     0.00s M voc_lex_utf8         from /Users/dirk/github/etcbc/bhsa/tf/c\n",
      "   |     0.00s M vs                   from /Users/dirk/github/etcbc/bhsa/tf/c\n",
      "   |     0.00s M vt                   from /Users/dirk/github/etcbc/bhsa/tf/c\n",
      "   |     0.04s B otype                from /Users/dirk/github/etcbc/bhsa/tf/c\n",
      "   |     0.66s B oslots               from /Users/dirk/github/etcbc/bhsa/tf/c\n",
      "   |     0.00s B __levels__           from otype, oslots\n",
      "  1.14s 127 features to export to MQL ...\n",
      "  1.14s Loading 127 features\n",
      "   |     0.02s B book                 from /Users/dirk/github/etcbc/bhsa/tf/c\n",
      "   |     0.00s B book@am              from /Users/dirk/github/etcbc/bhsa/tf/c\n",
      "   |     0.00s B book@ar              from /Users/dirk/github/etcbc/bhsa/tf/c\n",
      "   |     0.00s B book@bn              from /Users/dirk/github/etcbc/bhsa/tf/c\n",
      "   |     0.00s B book@da              from /Users/dirk/github/etcbc/bhsa/tf/c\n",
      "   |     0.00s B book@de              from /Users/dirk/github/etcbc/bhsa/tf/c\n",
      "   |     0.00s B book@el              from /Users/dirk/github/etcbc/bhsa/tf/c\n",
      "   |     0.00s B book@en              from /Users/dirk/github/etcbc/bhsa/tf/c\n",
      "   |     0.00s B book@es              from /Users/dirk/github/etcbc/bhsa/tf/c\n",
      "   |     0.00s B book@fa              from /Users/dirk/github/etcbc/bhsa/tf/c\n",
      "   |     0.00s B book@fr              from /Users/dirk/github/etcbc/bhsa/tf/c\n",
      "   |     0.00s B book@he              from /Users/dirk/github/etcbc/bhsa/tf/c\n",
      "   |     0.00s B book@hi              from /Users/dirk/github/etcbc/bhsa/tf/c\n",
      "   |     0.00s B book@id              from /Users/dirk/github/etcbc/bhsa/tf/c\n",
      "   |     0.00s B book@ja              from /Users/dirk/github/etcbc/bhsa/tf/c\n",
      "   |     0.00s B book@ko              from /Users/dirk/github/etcbc/bhsa/tf/c\n",
      "   |     0.00s B book@la              from /Users/dirk/github/etcbc/bhsa/tf/c\n",
      "   |     0.00s B book@nl              from /Users/dirk/github/etcbc/bhsa/tf/c\n",
      "   |     0.00s B book@pa              from /Users/dirk/github/etcbc/bhsa/tf/c\n",
      "   |     0.00s B book@pt              from /Users/dirk/github/etcbc/bhsa/tf/c\n",
      "   |     0.00s B book@ru              from /Users/dirk/github/etcbc/bhsa/tf/c\n",
      "   |     0.00s B book@sw              from /Users/dirk/github/etcbc/bhsa/tf/c\n",
      "   |     0.00s B book@syc             from /Users/dirk/github/etcbc/bhsa/tf/c\n",
      "   |     0.00s B book@tr              from /Users/dirk/github/etcbc/bhsa/tf/c\n",
      "   |     0.00s B book@ur              from /Users/dirk/github/etcbc/bhsa/tf/c\n",
      "   |     0.00s B book@yo              from /Users/dirk/github/etcbc/bhsa/tf/c\n",
      "   |     0.00s B book@zh              from /Users/dirk/github/etcbc/bhsa/tf/c\n",
      "   |     0.06s B cfunction            from /Users/dirk/github/etcbc/valence/tf/c\n",
      "   |     0.01s B chapter              from /Users/dirk/github/etcbc/bhsa/tf/c\n",
      "   |     0.02s B code                 from /Users/dirk/github/etcbc/bhsa/tf/c\n",
      "   |     0.04s B crossref             from /Users/dirk/github/etcbc/parallels/tf/c\n",
      "   |     0.01s B crossrefLCS          from /Users/dirk/github/etcbc/parallels/tf/c\n",
      "   |     0.01s B crossrefSET          from /Users/dirk/github/etcbc/parallels/tf/c\n",
      "   |     0.16s B det                  from /Users/dirk/github/etcbc/bhsa/tf/c\n",
      "   |     0.15s B dist                 from /Users/dirk/github/etcbc/bhsa/tf/c\n",
      "   |     0.17s B dist_unit            from /Users/dirk/github/etcbc/bhsa/tf/c\n",
      "   |     1.28s B distributional_parent from /Users/dirk/github/etcbc/bhsa/tf/c\n",
      "   |     0.02s B domain               from /Users/dirk/github/etcbc/bhsa/tf/c\n",
      "   |     0.04s B f_correction         from /Users/dirk/github/etcbc/valence/tf/c\n",
      "   |     0.10s B freq_lex             from /Users/dirk/github/etcbc/bhsa/tf/c\n",
      "   |     0.09s B freq_occ             from /Users/dirk/github/etcbc/bhsa/tf/c\n",
      "   |     0.07s B function             from /Users/dirk/github/etcbc/bhsa/tf/c\n",
      "   |     1.91s B functional_parent    from /Users/dirk/github/etcbc/bhsa/tf/c\n",
      "   |     0.15s B g_cons               from /Users/dirk/github/etcbc/bhsa/tf/c\n",
      "   |     0.22s B g_cons_utf8          from /Users/dirk/github/etcbc/bhsa/tf/c\n",
      "   |     0.16s B g_lex                from /Users/dirk/github/etcbc/bhsa/tf/c\n",
      "   |     0.21s B g_lex_utf8           from /Users/dirk/github/etcbc/bhsa/tf/c\n",
      "   |     0.09s B g_nme                from /Users/dirk/github/etcbc/bhsa/tf/c\n",
      "   |     0.12s B g_nme_utf8           from /Users/dirk/github/etcbc/bhsa/tf/c\n",
      "   |     0.08s B g_pfm                from /Users/dirk/github/etcbc/bhsa/tf/c\n",
      "   |     0.08s B g_pfm_utf8           from /Users/dirk/github/etcbc/bhsa/tf/c\n",
      "   |     0.08s B g_prs                from /Users/dirk/github/etcbc/bhsa/tf/c\n",
      "   |     0.09s B g_prs_utf8           from /Users/dirk/github/etcbc/bhsa/tf/c\n",
      "   |     0.07s B g_uvf                from /Users/dirk/github/etcbc/bhsa/tf/c\n",
      "   |     0.07s B g_uvf_utf8           from /Users/dirk/github/etcbc/bhsa/tf/c\n",
      "   |     0.08s B g_vbe                from /Users/dirk/github/etcbc/bhsa/tf/c\n",
      "   |     0.08s B g_vbe_utf8           from /Users/dirk/github/etcbc/bhsa/tf/c\n",
      "   |     0.07s B g_vbs                from /Users/dirk/github/etcbc/bhsa/tf/c\n"
     ]
    },
    {
     "name": "stdout",
     "output_type": "stream",
     "text": [
      "   |     0.07s B g_vbs_utf8           from /Users/dirk/github/etcbc/bhsa/tf/c\n",
      "   |     0.15s B g_word               from /Users/dirk/github/etcbc/bhsa/tf/c\n",
      "   |     0.30s B g_word_utf8          from /Users/dirk/github/etcbc/bhsa/tf/c\n",
      "   |     0.01s B gloss                from /Users/dirk/github/etcbc/bhsa/tf/c\n",
      "   |     0.14s B gn                   from /Users/dirk/github/etcbc/bhsa/tf/c\n",
      "   |     0.09s B grammatical          from /Users/dirk/github/etcbc/valence/tf/c\n",
      "   |     0.04s B instruction          from /Users/dirk/github/etcbc/bhsa/tf/c\n",
      "   |     0.04s B is_root              from /Users/dirk/github/etcbc/bhsa/tf/c\n",
      "   |     0.04s B kind                 from /Users/dirk/github/etcbc/bhsa/tf/c\n",
      "   |     0.10s B kq_hybrid            from /Users/dirk/github/etcbc/bhsa/tf/c\n",
      "   |     0.08s B kq_hybrid_utf8       from /Users/dirk/github/etcbc/bhsa/tf/c\n",
      "   |     0.02s B label                from /Users/dirk/github/etcbc/bhsa/tf/c\n",
      "   |     0.13s B language             from /Users/dirk/github/etcbc/bhsa/tf/c\n",
      "   |     0.13s B languageEN           from /Users/dirk/github/etcbc/bhsa/tf/c\n",
      "   |     0.14s B lex                  from /Users/dirk/github/etcbc/bhsa/tf/c\n",
      "   |     0.14s B lex0                 from /Users/dirk/github/etcbc/bhsa/tf/c\n",
      "   |     0.19s B lex_utf8             from /Users/dirk/github/etcbc/bhsa/tf/c\n",
      "   |     0.07s B lexeme_count         from /Users/dirk/github/etcbc/bhsa/tf/c\n",
      "   |     0.05s B lexical              from /Users/dirk/github/etcbc/valence/tf/c\n",
      "   |     0.13s B ls                   from /Users/dirk/github/etcbc/bhsa/tf/c\n",
      "   |     0.14s B mother               from /Users/dirk/github/etcbc/bhsa/tf/c\n",
      "   |     0.07s B mother_object_type   from /Users/dirk/github/etcbc/bhsa/tf/c\n",
      "   |     0.00s B nametype             from /Users/dirk/github/etcbc/bhsa/tf/c\n",
      "   |     0.17s B nme                  from /Users/dirk/github/etcbc/bhsa/tf/c\n",
      "   |     0.18s B nu                   from /Users/dirk/github/etcbc/bhsa/tf/c\n",
      "   |     0.30s B number               from /Users/dirk/github/etcbc/bhsa/tf/c\n",
      "   |     7.64s T omap@2017-c          from /Users/dirk/github/etcbc/bhsa/tf/c\n",
      "   |     0.04s B original             from /Users/dirk/github/etcbc/valence/tf/c\n",
      "   |     0.03s B pargr                from /Users/dirk/github/etcbc/bhsa/tf/c\n",
      "   |     0.13s B pdp                  from /Users/dirk/github/etcbc/bhsa/tf/c\n",
      "   |     0.12s B pfm                  from /Users/dirk/github/etcbc/bhsa/tf/c\n",
      "   |     0.22s B phono                from /Users/dirk/github/etcbc/phono/tf/c\n",
      "   |     0.08s B phono_trailer        from /Users/dirk/github/etcbc/phono/tf/c\n",
      "   |     0.07s B predication          from /Users/dirk/github/etcbc/valence/tf/c\n",
      "   |     0.13s B prs                  from /Users/dirk/github/etcbc/bhsa/tf/c\n",
      "   |     0.13s B prs_gn               from /Users/dirk/github/etcbc/bhsa/tf/c\n",
      "   |     0.14s B prs_nu               from /Users/dirk/github/etcbc/bhsa/tf/c\n",
      "   |     0.15s B prs_ps               from /Users/dirk/github/etcbc/bhsa/tf/c\n",
      "   |     0.13s B ps                   from /Users/dirk/github/etcbc/bhsa/tf/c\n",
      "   |     0.00s B qere                 from /Users/dirk/github/etcbc/bhsa/tf/c\n",
      "   |     0.00s B qere_trailer         from /Users/dirk/github/etcbc/bhsa/tf/c\n",
      "   |     0.00s B qere_trailer_utf8    from /Users/dirk/github/etcbc/bhsa/tf/c\n",
      "   |     0.00s B qere_utf8            from /Users/dirk/github/etcbc/bhsa/tf/c\n",
      "   |     0.09s B rank_lex             from /Users/dirk/github/etcbc/bhsa/tf/c\n",
      "   |     0.09s B rank_occ             from /Users/dirk/github/etcbc/bhsa/tf/c\n",
      "   |     0.20s B rela                 from /Users/dirk/github/etcbc/bhsa/tf/c\n",
      "   |     0.00s B root                 from /Users/dirk/github/etcbc/bhsa/tf/c\n",
      "   |     0.04s B s_manual             from /Users/dirk/github/etcbc/valence/tf/c\n",
      "   |     0.05s B semantic             from /Users/dirk/github/etcbc/valence/tf/c\n",
      "   |     0.02s B sense                from /Users/dirk/github/etcbc/valence/tf/c\n",
      "   |     0.14s B sp                   from /Users/dirk/github/etcbc/bhsa/tf/c\n",
      "   |     0.11s B st                   from /Users/dirk/github/etcbc/bhsa/tf/c\n",
      "   |     0.19s B suffix_gender        from /Users/dirk/github/etcbc/bhsa/tf/c\n",
      "   |     0.18s B suffix_number        from /Users/dirk/github/etcbc/bhsa/tf/c\n",
      "   |     0.17s B suffix_person        from /Users/dirk/github/etcbc/bhsa/tf/c\n",
      "   |     0.03s B tab                  from /Users/dirk/github/etcbc/bhsa/tf/c\n",
      "   |     0.10s B trailer              from /Users/dirk/github/etcbc/bhsa/tf/c\n",
      "   |     0.12s B trailer_utf8         from /Users/dirk/github/etcbc/bhsa/tf/c\n",
      "   |     0.03s B txt                  from /Users/dirk/github/etcbc/bhsa/tf/c\n",
      "   |     0.24s B typ                  from /Users/dirk/github/etcbc/bhsa/tf/c\n",
      "   |     0.12s B uvf                  from /Users/dirk/github/etcbc/bhsa/tf/c\n",
      "   |     0.08s B valence              from /Users/dirk/github/etcbc/valence/tf/c\n",
      "   |     0.13s B vbe                  from /Users/dirk/github/etcbc/bhsa/tf/c\n",
      "   |     0.13s B vbs                  from /Users/dirk/github/etcbc/bhsa/tf/c\n",
      "   |     0.01s B verse                from /Users/dirk/github/etcbc/bhsa/tf/c\n",
      "   |     0.01s B voc_lex              from /Users/dirk/github/etcbc/bhsa/tf/c\n",
      "   |     0.01s B voc_lex_utf8         from /Users/dirk/github/etcbc/bhsa/tf/c\n",
      "   |     0.18s B vs                   from /Users/dirk/github/etcbc/bhsa/tf/c\n",
      "   |     0.20s B vt                   from /Users/dirk/github/etcbc/bhsa/tf/c\n",
      "    22s Writing enumerations\n",
      "\tbook_am        :   39 values, 39 not a name, e.g. «መኃልየ_መኃልይ_ዘሰሎሞን»\n",
      "\tbook_ar        :   39 values, 39 not a name, e.g. «1_اخبار»\n",
      "\tbook_bn        :   39 values, 39 not a name, e.g. «আদিপুস্তক»\n",
      "\tbook_da        :   39 values, 13 not a name, e.g. «1.Kongebog»\n",
      "\tbook_de        :   39 values, 7 not a name, e.g. «1_Chronik»\n",
      "\tbook_el        :   39 values, 39 not a name, e.g. «Άσμα_Ασμάτων»\n",
      "\tbook_en        :   39 values, 6 not a name, e.g. «1_Chronicles»\n",
      "\tbook_es        :   39 values, 22 not a name, e.g. «1_Crónicas»\n",
      "\tbook_fa        :   39 values, 39 not a name, e.g. «استر»\n",
      "\tbook_fr        :   39 values, 19 not a name, e.g. «1_Chroniques»\n",
      "\tbook_he        :   39 values, 39 not a name, e.g. «איוב»\n",
      "\tbook_hi        :   39 values, 39 not a name, e.g. «1_इतिहास»\n",
      "\tbook_id        :   39 values, 7 not a name, e.g. «1_Raja-raja»\n",
      "\tbook_ja        :   39 values, 39 not a name, e.g. «アモス書»\n",
      "\tbook_ko        :   39 values, 39 not a name, e.g. «나훔»\n",
      "\tbook_nl        :   39 values, 8 not a name, e.g. «1_Koningen»\n",
      "\tbook_pa        :   39 values, 39 not a name, e.g. «1_ਇਤਹਾਸ»\n",
      "\tbook_pt        :   39 values, 21 not a name, e.g. «1_Crônicas»\n",
      "\tbook_ru        :   39 values, 39 not a name, e.g. «1-я_Паралипоменон»\n",
      "\tbook_sw        :   39 values, 6 not a name, e.g. «1_Mambo_ya_Nyakati»\n",
      "\tbook_syc       :   39 values, 39 not a name, e.g. «ܐ_ܒܪܝܡܝܢ»\n",
      "\tbook_tr        :   39 values, 16 not a name, e.g. «1_Krallar»\n",
      "\tbook_ur        :   39 values, 39 not a name, e.g. «احبار»\n",
      "\tbook_yo        :   39 values, 8 not a name, e.g. «Amọsi»\n",
      "\tbook_zh        :   38 values, 37 not a name, e.g. «以斯帖记»\n",
      "\tcfunction      :   26 values, 1 not a name, e.g. «»\n",
      "\tdomain         :    4 values, 1 not a name, e.g. «?»\n",
      "\tf_correction   :    1 values, 1 not a name, e.g. «»\n",
      "\tg_nme          :  108 values, 108 not a name, e.g. «»\n",
      "\tg_nme_utf8     :  106 values, 106 not a name, e.g. «»\n",
      "\tg_pfm          :   87 values, 87 not a name, e.g. «»\n",
      "\tg_pfm_utf8     :   86 values, 86 not a name, e.g. «»\n",
      "\tg_prs          :  127 values, 127 not a name, e.g. «»\n",
      "\tg_prs_utf8     :  126 values, 126 not a name, e.g. «»\n",
      "\tg_uvf          :   19 values, 19 not a name, e.g. «»\n",
      "\tg_uvf_utf8     :   17 values, 17 not a name, e.g. «»\n",
      "\tg_vbe          :  101 values, 101 not a name, e.g. «»\n",
      "\tg_vbe_utf8     :   97 values, 97 not a name, e.g. «»\n",
      "\tg_vbs          :   66 values, 66 not a name, e.g. «»\n",
      "\tg_vbs_utf8     :   65 values, 65 not a name, e.g. «»\n",
      "\tgrammatical    :   11 values, 2 not a name, e.g. «»\n",
      "\tinstruction    :   35 values, 20 not a name, e.g. «.#»\n",
      "\tlexical        :    4 values, 1 not a name, e.g. «»\n",
      "\tnametype       :    9 values, 4 not a name, e.g. «gens,topo»\n",
      "\tnme            :   20 values, 7 not a name, e.g. «»\n",
      "\toriginal       :    2 values, 2 not a name, e.g. «»\n",
      "\tpfm            :   11 values, 4 not a name, e.g. «»\n"
     ]
    },
    {
     "name": "stdout",
     "output_type": "stream",
     "text": [
      "\tphono_trailer  :    4 values, 4 not a name, e.g. «»\n",
      "\tprs            :   22 values, 4 not a name, e.g. «H=»\n",
      "\tqere_trailer   :    5 values, 5 not a name, e.g. «»\n",
      "\tqere_trailer_utf8:    5 values, 5 not a name, e.g. «»\n",
      "\troot           :  648 values, 187 not a name, e.g. «<Assyrian>»\n",
      "\ts_manual       :    1 values, 1 not a name, e.g. «»\n",
      "\tsemantic       :    5 values, 1 not a name, e.g. «»\n",
      "\tsense          :   15 values, 11 not a name, e.g. «--»\n",
      "\ttrailer        :   12 values, 12 not a name, e.g. «»\n",
      "\ttrailer_utf8   :   12 values, 12 not a name, e.g. «»\n",
      "\ttxt            :  136 values, 59 not a name, e.g. «?»\n",
      "\tuvf            :    6 values, 1 not a name, e.g. «>»\n",
      "\tvbe            :   19 values, 6 not a name, e.g. «»\n",
      "\tvbs            :   11 values, 3 not a name, e.g. «>»\n",
      "   |     2.38s Writing an all-in-one enum with  237 values\n",
      "    24s Mapping 127 features onto 13 object types\n",
      "    30s Writing 127 features as data in 13 object types\n",
      "   |     0.00s word data ...\n",
      "   |      |     5.28s batch of size               46.5MB with   50000 of   50000 words\n",
      "   |      |       10s batch of size               46.5MB with   50000 of  100000 words\n",
      "   |      |       16s batch of size               46.7MB with   50000 of  150000 words\n",
      "   |      |       21s batch of size               46.7MB with   50000 of  200000 words\n",
      "   |      |       25s batch of size               46.9MB with   50000 of  250000 words\n",
      "   |      |       30s batch of size               46.9MB with   50000 of  300000 words\n",
      "   |      |       35s batch of size               47.1MB with   50000 of  350000 words\n",
      "   |      |       40s batch of size               46.9MB with   50000 of  400000 words\n",
      "   |      |       42s batch of size               24.9MB with   26584 of  426584 words\n",
      "   |       42s word data: 426584 objects\n",
      "   |     0.00s subphrase data ...\n",
      "   |      |     0.63s batch of size                7.1MB with   50000 of   50000 subphrases\n",
      "   |      |     1.25s batch of size                7.0MB with   50000 of  100000 subphrases\n",
      "   |      |     1.43s batch of size                2.0MB with   13784 of  113784 subphrases\n",
      "   |     1.43s subphrase data: 113784 objects\n",
      "   |     0.00s phrase_atom data ...\n",
      "   |      |     1.00s batch of size               10.8MB with   50000 of   50000 phrase_atoms\n",
      "   |      |     2.00s batch of size               10.8MB with   50000 of  100000 phrase_atoms\n",
      "   |      |     2.98s batch of size               10.9MB with   50000 of  150000 phrase_atoms\n",
      "   |      |     3.98s batch of size               10.9MB with   50000 of  200000 phrase_atoms\n",
      "   |      |     4.98s batch of size               10.9MB with   50000 of  250000 phrase_atoms\n",
      "   |      |     5.33s batch of size                3.9MB with   17519 of  267519 phrase_atoms\n",
      "   |     5.33s phrase_atom data: 267519 objects\n",
      "   |     0.00s phrase data ...\n",
      "   |      |     1.48s batch of size               15.8MB with   50000 of   50000 phrases\n",
      "   |      |     2.99s batch of size               16.0MB with   50000 of  100000 phrases\n",
      "   |      |     4.48s batch of size               15.9MB with   50000 of  150000 phrases\n",
      "   |      |     6.00s batch of size               15.7MB with   50000 of  200000 phrases\n",
      "   |      |     7.46s batch of size               15.4MB with   50000 of  250000 phrases\n",
      "   |      |     7.56s batch of size                1.0MB with    3187 of  253187 phrases\n",
      "   |     7.56s phrase data: 253187 objects\n",
      "   |     0.00s clause_atom data ...\n",
      "   |      |     1.26s batch of size               13.2MB with   50000 of   50000 clause_atoms\n",
      "   |      |     2.29s batch of size               10.7MB with   40669 of   90669 clause_atoms\n",
      "   |     2.29s clause_atom data: 90669 objects\n",
      "   |     0.00s clause data ...\n",
      "   |      |     1.29s batch of size               12.7MB with   50000 of   50000 clauses\n",
      "   |      |     2.26s batch of size                9.6MB with   38101 of   88101 clauses\n",
      "   |     2.26s clause data: 88101 objects\n",
      "   |     0.00s sentence_atom data ...\n",
      "   |      |     0.59s batch of size                6.5MB with   50000 of   50000 sentence_atoms\n",
      "   |      |     0.77s batch of size                1.9MB with   14486 of   64486 sentence_atoms\n",
      "   |     0.77s sentence_atom data: 64486 objects\n",
      "   |     0.00s sentence data ...\n",
      "   |      |     0.45s batch of size                5.0MB with   50000 of   50000 sentences\n",
      "   |      |     0.58s batch of size                1.4MB with   13711 of   63711 sentences\n",
      "   |     0.58s sentence data: 63711 objects\n",
      "   |     0.00s half_verse data ...\n",
      "   |      |     0.43s batch of size                4.5MB with   45180 of   45180 half_verses\n",
      "   |     0.43s half_verse data: 45180 objects\n",
      "   |     0.00s verse data ...\n",
      "   |      |     0.41s batch of size                4.2MB with   23213 of   23213 verses\n",
      "   |     0.41s verse data: 23213 objects\n",
      "   |     0.00s lex data ...\n",
      "   |      |     0.60s batch of size                4.7MB with    9233 of    9233 lexs\n",
      "   |     0.60s lex data: 9233 objects\n",
      "   |     0.00s chapter data ...\n",
      "   |      |     0.07s batch of size              108.4KB with     929 of     929 chapters\n",
      "   |     0.07s chapter data: 929 objects\n",
      "   |     0.00s book data ...\n",
      "   |      |     0.06s batch of size               28.2KB with      39 of      39 books\n",
      "   |     0.06s book data: 39 objects\n",
      " 1m 34s Done\n",
      "|      5m 27s \tbzipping /Users/dirk/github/etcbc/bhsa/_temp/c/shebanq/shebanq_etcbcc.mql\n",
      "|      5m 27s \tand delivering as /Users/dirk/github/etcbc/bhsa/shebanq/c/shebanq_etcbcc.mql.bz2 ...\n",
      "|      7m 45s \tDone\n"
     ]
    }
   ],
   "source": [
    "good = webPipeline(pipeline, versions=VERSIONS, force=True, kinds={'mql'})"
   ]
  },
  {
   "cell_type": "code",
   "execution_count": 5,
   "metadata": {},
   "outputs": [
    {
     "name": "stdout",
     "output_type": "stream",
     "text": [
      "\n",
      "##############################################################################################\n",
      "#                                                                                            #\n",
      "#     11m 25s Import MQL db for version 2017 locally                                         #\n",
      "#                                                                                            #\n",
      "##############################################################################################\n",
      "\n",
      "|     14m 40s Dropping indices on word_objects...!\n",
      "\n",
      "|     14m 40s Creating indices on word_objects...!\n",
      "\n",
      "|     14m 40s Dropping indices on subphrase_objects...!\n",
      "\n",
      "|     14m 40s Creating indices on subphrase_objects...!\n",
      "\n",
      "|     14m 40s Dropping indices on phrase_atom_objects...!\n",
      "\n",
      "|     14m 40s Creating indices on phrase_atom_objects...!\n",
      "\n",
      "|     14m 40s Dropping indices on phrase_objects...!\n",
      "\n",
      "|     14m 40s Creating indices on phrase_objects...!\n",
      "\n",
      "|     14m 40s Dropping indices on clause_atom_objects...!\n",
      "\n",
      "|     14m 40s Creating indices on clause_atom_objects...!\n",
      "\n",
      "|     14m 40s Dropping indices on clause_objects...!\n",
      "\n",
      "|     14m 40s Creating indices on clause_objects...!\n",
      "\n",
      "|     14m 40s Dropping indices on sentence_atom_objects...!\n",
      "\n",
      "|     14m 40s Creating indices on sentence_atom_objects...!\n",
      "\n",
      "|     14m 40s Dropping indices on sentence_objects...!\n",
      "\n",
      "|     14m 40s Creating indices on sentence_objects...!\n",
      "\n",
      "|     14m 40s Dropping indices on half_verse_objects...!\n",
      "\n",
      "|     14m 40s Creating indices on half_verse_objects...!\n",
      "\n",
      "|     14m 40s Dropping indices on verse_objects...!\n",
      "\n",
      "|     14m 40s Creating indices on verse_objects...!\n",
      "\n",
      "|     14m 40s Dropping indices on lex_objects...!\n",
      "\n",
      "|     14m 40s Creating indices on lex_objects...!\n",
      "\n",
      "|     14m 40s Dropping indices on chapter_objects...!\n",
      "\n",
      "|     14m 40s Creating indices on chapter_objects...!\n",
      "\n",
      "|     14m 40s Dropping indices on book_objects...!\n",
      "\n",
      "|     14m 40s Creating indices on book_objects...!\n",
      "\n",
      "\n",
      "##############################################################################################\n",
      "#                                                                                            #\n",
      "#     14m 40s Import MQL db for version c locally                                            #\n",
      "#                                                                                            #\n",
      "##############################################################################################\n",
      "\n",
      "|     17m 52s Dropping indices on word_objects...!\n",
      "\n",
      "|     17m 52s Creating indices on word_objects...!\n",
      "\n",
      "|     17m 52s Dropping indices on subphrase_objects...!\n",
      "\n",
      "|     17m 52s Creating indices on subphrase_objects...!\n",
      "\n",
      "|     17m 52s Dropping indices on phrase_atom_objects...!\n",
      "\n",
      "|     17m 52s Creating indices on phrase_atom_objects...!\n",
      "\n",
      "|     17m 52s Dropping indices on phrase_objects...!\n",
      "\n",
      "|     17m 52s Creating indices on phrase_objects...!\n",
      "\n",
      "|     17m 52s Dropping indices on clause_atom_objects...!\n",
      "\n",
      "|     17m 52s Creating indices on clause_atom_objects...!\n",
      "\n",
      "|     17m 52s Dropping indices on clause_objects...!\n",
      "\n",
      "|     17m 52s Creating indices on clause_objects...!\n",
      "\n",
      "|     17m 52s Dropping indices on sentence_atom_objects...!\n",
      "\n",
      "|     17m 52s Creating indices on sentence_atom_objects...!\n",
      "\n",
      "|     17m 52s Dropping indices on sentence_objects...!\n",
      "\n",
      "|     17m 52s Creating indices on sentence_objects...!\n",
      "\n",
      "|     17m 52s Dropping indices on half_verse_objects...!\n",
      "\n",
      "|     17m 52s Creating indices on half_verse_objects...!\n",
      "\n",
      "|     17m 52s Dropping indices on verse_objects...!\n",
      "\n",
      "|     17m 52s Creating indices on verse_objects...!\n",
      "\n",
      "|     17m 52s Dropping indices on lex_objects...!\n",
      "\n",
      "|     17m 52s Creating indices on lex_objects...!\n",
      "\n",
      "|     17m 52s Dropping indices on chapter_objects...!\n",
      "\n",
      "|     17m 52s Creating indices on chapter_objects...!\n",
      "\n",
      "|     17m 52s Dropping indices on book_objects...!\n",
      "\n",
      "|     17m 52s Creating indices on book_objects...!\n",
      "\n"
     ]
    }
   ],
   "source": [
    "#good = True\n",
    "if good:\n",
    "    good = importLocal(pipeline, versions=VERSIONS, kinds={'mql'})"
   ]
  },
  {
   "cell_type": "code",
   "execution_count": 6,
   "metadata": {},
   "outputs": [
    {
     "name": "stdout",
     "output_type": "stream",
     "text": [
      "\n",
      "##############################################################################################\n",
      "#                                                                                            #\n",
      "#     17m 52s Sending MQL database for version 2017 to server                                #\n",
      "#                                                                                            #\n",
      "##############################################################################################\n",
      "\n",
      "|     17m 52s \tshebanq_etcbc2017.mql.bz2\n",
      "|     17m 52s \tscp /Users/dirk/github/etcbc/bhsa/shebanq/2017/shebanq_etcbc2017.mql.bz2 dirkr@clarin11.dans.knaw.nl:/home/dirkr/shebanq-install/shebanq_etcbc2017.mql.bz2\n",
      "|     18m 03s \tdone\n",
      "\n",
      "##############################################################################################\n",
      "#                                                                                            #\n",
      "#     18m 03s Sending MQL database for version c to server                                   #\n",
      "#                                                                                            #\n",
      "##############################################################################################\n",
      "\n",
      "|     18m 03s \tshebanq_etcbcc.mql.bz2\n",
      "|     18m 03s \tscp /Users/dirk/github/etcbc/bhsa/shebanq/c/shebanq_etcbcc.mql.bz2 dirkr@clarin11.dans.knaw.nl:/home/dirkr/shebanq-install/shebanq_etcbcc.mql.bz2\n",
      "|     18m 14s \tdone\n"
     ]
    }
   ],
   "source": [
    "#good = True\n",
    "if good:\n",
    "    good = copyServer(pipeline, user, server, remoteDir, versions=VERSIONS, kinds={'mql'})"
   ]
  },
  {
   "cell_type": "code",
   "execution_count": null,
   "metadata": {
    "collapsed": true
   },
   "outputs": [],
   "source": []
  }
 ],
 "metadata": {
  "kernelspec": {
   "display_name": "Python 3",
   "language": "python",
   "name": "python3"
  },
  "language_info": {
   "codemirror_mode": {
    "name": "ipython",
    "version": 3
   },
   "file_extension": ".py",
   "mimetype": "text/x-python",
   "name": "python",
   "nbconvert_exporter": "python",
   "pygments_lexer": "ipython3",
   "version": "3.6.2"
  }
 },
 "nbformat": 4,
 "nbformat_minor": 1
}
