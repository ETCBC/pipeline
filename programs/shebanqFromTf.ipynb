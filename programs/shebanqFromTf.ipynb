{
 "cells": [
  {
   "cell_type": "markdown",
   "metadata": {},
   "source": [
    "![pipeline](pictures/pictures.003.png)\n",
    "\n",
    "# SHEBANQ from Text-Fabric\n",
    "\n",
    "This notebook assembles data from relevant Github repositories of the ETCBC.\n",
    "It selects the data that is needed for the website\n",
    "[SHEBANQ](https://shebanq.ancient-data.org).\n",
    "\n",
    "\n",
    "## Pipeline\n",
    "This is **pipe 2** of the pipeline from ETCBC data to the website SHEBANQ.\n",
    "\n",
    "A run of this pipe produces shebanq data according to a chosen *version*.\n",
    "It should be run whenever there are new or updated data sources present that affect the output data.\n",
    "Since all input data is delivered in Github repositories, we have excellent machinery to \n",
    "work with versioning.\n",
    "\n",
    "Which directories the pipe should access for which version is specified in the configuration below.\n",
    "\n",
    "### Core data\n",
    "The core data is what resides in \n",
    "the Github repo [bhsa](https://github.com/ETCBC/bhsa) in directory `tf`.\n",
    "\n",
    "This data will be converted by notebook `coreData` in its `programs` directory.\n",
    "\n",
    "The result of this action will be an updated TF resource in its \n",
    "`tf` directory, under the chosen *version*.\n",
    "\n",
    "### Additional data\n",
    "\n",
    "The pipe will try to load any text-fabric data features found in the `tf` subdirectories\n",
    "of the designated additional repos.\n",
    "It will descend one level deeper, according to the chosen *version*.\n",
    "\n",
    "### Resulting data\n",
    "The resulting data will be delivered in the `shebanq` subdirectory of the core repo `bhsa`, \n",
    "and then under the chosen *version* subdirectory.\n",
    "\n",
    "The resulting data consists of three parts:\n",
    "\n",
    "* One big mql file, containing the core data plus **all** additions: `bhsa-xx.mql`.\n",
    "  It will be bzipped.\n",
    "* **not yet implemented** \n",
    "  A subdirectory `mysql` with database tables, containing everything SHEBANQ needs to construct its pages.\n",
    "* **not yet implemented**\n",
    "  A subdirectory `annotations`, containing bulk-uploadable annotation sets, that SHEBANQ can show in notes view,\n",
    "  between the clause atoms of the text."
   ]
  },
  {
   "cell_type": "code",
   "execution_count": 1,
   "metadata": {
    "collapsed": true
   },
   "outputs": [],
   "source": [
    "import os,sys,collections\n",
    "from pipeline import webPipeline\n",
    "from tf.fabric import Fabric"
   ]
  },
  {
   "cell_type": "markdown",
   "metadata": {},
   "source": [
    "# Config"
   ]
  },
  {
   "cell_type": "code",
   "execution_count": 2,
   "metadata": {
    "collapsed": true
   },
   "outputs": [],
   "source": [
    "if 'SCRIPT' not in locals(): \n",
    "    SCRIPT = False"
   ]
  },
  {
   "cell_type": "code",
   "execution_count": 3,
   "metadata": {
    "collapsed": true
   },
   "outputs": [],
   "source": [
    "pipeline = dict(\n",
    "    repoOrder = '''\n",
    "        bhsa\n",
    "        phono\n",
    "        valence\n",
    "        parallels\n",
    "    ''',\n",
    ")"
   ]
  },
  {
   "cell_type": "code",
   "execution_count": 4,
   "metadata": {
    "scrolled": false
   },
   "outputs": [
    {
     "name": "stdout",
     "output_type": "stream",
     "text": [
      "\n",
      "##############################################################################################\n",
      "#                                                                                            #\n",
      "#       0.00s Aggregate MLQ for version c                                                    #\n",
      "#                                                                                            #\n",
      "##############################################################################################\n",
      "\n",
      "|       0.00s \tWork to do because the tf in bhsa is recently compiled\n",
      "|       0.00s \t\t/Users/dirk/github/etcbc/bhsa/tf/c/.tf\n",
      "\n",
      "##############################################################################################\n",
      "#                                                                                            #\n",
      "#       0.00s Using TF to make an MQL export                                                 #\n",
      "#                                                                                            #\n",
      "##############################################################################################\n",
      "\n",
      "This is Text-Fabric 2.3.15\n",
      "Api reference : https://github.com/ETCBC/text-fabric/wiki/Api\n",
      "Tutorial      : https://github.com/ETCBC/text-fabric/blob/master/docs/tutorial.ipynb\n",
      "Data sources  : https://github.com/ETCBC/text-fabric-data\n",
      "\n",
      "121 features found and 0 ignored\n",
      "  0.00s Checking features of dataset bhsa_xx\n",
      "   |     0.00s M book                 from /Users/dirk/github/etcbc/bhsa/tf/c\n",
      "   |     0.00s M book@am              from /Users/dirk/github/etcbc/bhsa/tf/c\n"
     ]
    },
    {
     "name": "stderr",
     "output_type": "stream",
     "text": [
      "   |     0.00s feature \"book@am\" => \"book_am\"\n"
     ]
    },
    {
     "name": "stdout",
     "output_type": "stream",
     "text": [
      "   |     0.00s M book@ar              from /Users/dirk/github/etcbc/bhsa/tf/c\n"
     ]
    },
    {
     "name": "stderr",
     "output_type": "stream",
     "text": [
      "   |     0.00s feature \"book@ar\" => \"book_ar\"\n"
     ]
    },
    {
     "name": "stdout",
     "output_type": "stream",
     "text": [
      "   |     0.00s M book@bn              from /Users/dirk/github/etcbc/bhsa/tf/c\n"
     ]
    },
    {
     "name": "stderr",
     "output_type": "stream",
     "text": [
      "   |     0.00s feature \"book@bn\" => \"book_bn\"\n"
     ]
    },
    {
     "name": "stdout",
     "output_type": "stream",
     "text": [
      "   |     0.00s M book@da              from /Users/dirk/github/etcbc/bhsa/tf/c\n"
     ]
    },
    {
     "name": "stderr",
     "output_type": "stream",
     "text": [
      "   |     0.00s feature \"book@da\" => \"book_da\"\n"
     ]
    },
    {
     "name": "stdout",
     "output_type": "stream",
     "text": [
      "   |     0.00s M book@de              from /Users/dirk/github/etcbc/bhsa/tf/c\n"
     ]
    },
    {
     "name": "stderr",
     "output_type": "stream",
     "text": [
      "   |     0.00s feature \"book@de\" => \"book_de\"\n"
     ]
    },
    {
     "name": "stdout",
     "output_type": "stream",
     "text": [
      "   |     0.00s M book@el              from /Users/dirk/github/etcbc/bhsa/tf/c\n"
     ]
    },
    {
     "name": "stderr",
     "output_type": "stream",
     "text": [
      "   |     0.00s feature \"book@el\" => \"book_el\"\n"
     ]
    },
    {
     "name": "stdout",
     "output_type": "stream",
     "text": [
      "   |     0.00s M book@en              from /Users/dirk/github/etcbc/bhsa/tf/c\n"
     ]
    },
    {
     "name": "stderr",
     "output_type": "stream",
     "text": [
      "   |     0.00s feature \"book@en\" => \"book_en\"\n"
     ]
    },
    {
     "name": "stdout",
     "output_type": "stream",
     "text": [
      "   |     0.00s M book@es              from /Users/dirk/github/etcbc/bhsa/tf/c\n"
     ]
    },
    {
     "name": "stderr",
     "output_type": "stream",
     "text": [
      "   |     0.00s feature \"book@es\" => \"book_es\"\n"
     ]
    },
    {
     "name": "stdout",
     "output_type": "stream",
     "text": [
      "   |     0.00s M book@fa              from /Users/dirk/github/etcbc/bhsa/tf/c\n"
     ]
    },
    {
     "name": "stderr",
     "output_type": "stream",
     "text": [
      "   |     0.00s feature \"book@fa\" => \"book_fa\"\n"
     ]
    },
    {
     "name": "stdout",
     "output_type": "stream",
     "text": [
      "   |     0.00s M book@fr              from /Users/dirk/github/etcbc/bhsa/tf/c\n"
     ]
    },
    {
     "name": "stderr",
     "output_type": "stream",
     "text": [
      "   |     0.00s feature \"book@fr\" => \"book_fr\"\n"
     ]
    },
    {
     "name": "stdout",
     "output_type": "stream",
     "text": [
      "   |     0.00s M book@he              from /Users/dirk/github/etcbc/bhsa/tf/c\n"
     ]
    },
    {
     "name": "stderr",
     "output_type": "stream",
     "text": [
      "   |     0.00s feature \"book@he\" => \"book_he\"\n"
     ]
    },
    {
     "name": "stdout",
     "output_type": "stream",
     "text": [
      "   |     0.00s M book@hi              from /Users/dirk/github/etcbc/bhsa/tf/c\n"
     ]
    },
    {
     "name": "stderr",
     "output_type": "stream",
     "text": [
      "   |     0.00s feature \"book@hi\" => \"book_hi\"\n"
     ]
    },
    {
     "name": "stdout",
     "output_type": "stream",
     "text": [
      "   |     0.00s M book@id              from /Users/dirk/github/etcbc/bhsa/tf/c\n"
     ]
    },
    {
     "name": "stderr",
     "output_type": "stream",
     "text": [
      "   |     0.00s feature \"book@id\" => \"book_id\"\n"
     ]
    },
    {
     "name": "stdout",
     "output_type": "stream",
     "text": [
      "   |     0.00s M book@ja              from /Users/dirk/github/etcbc/bhsa/tf/c\n"
     ]
    },
    {
     "name": "stderr",
     "output_type": "stream",
     "text": [
      "   |     0.00s feature \"book@ja\" => \"book_ja\"\n"
     ]
    },
    {
     "name": "stdout",
     "output_type": "stream",
     "text": [
      "   |     0.00s M book@ko              from /Users/dirk/github/etcbc/bhsa/tf/c\n"
     ]
    },
    {
     "name": "stderr",
     "output_type": "stream",
     "text": [
      "   |     0.00s feature \"book@ko\" => \"book_ko\"\n"
     ]
    },
    {
     "name": "stdout",
     "output_type": "stream",
     "text": [
      "   |     0.00s M book@la              from /Users/dirk/github/etcbc/bhsa/tf/c\n"
     ]
    },
    {
     "name": "stderr",
     "output_type": "stream",
     "text": [
      "   |     0.00s feature \"book@la\" => \"book_la\"\n"
     ]
    },
    {
     "name": "stdout",
     "output_type": "stream",
     "text": [
      "   |     0.00s M book@nl              from /Users/dirk/github/etcbc/bhsa/tf/c\n"
     ]
    },
    {
     "name": "stderr",
     "output_type": "stream",
     "text": [
      "   |     0.00s feature \"book@nl\" => \"book_nl\"\n"
     ]
    },
    {
     "name": "stdout",
     "output_type": "stream",
     "text": [
      "   |     0.00s M book@pa              from /Users/dirk/github/etcbc/bhsa/tf/c\n"
     ]
    },
    {
     "name": "stderr",
     "output_type": "stream",
     "text": [
      "   |     0.00s feature \"book@pa\" => \"book_pa\"\n"
     ]
    },
    {
     "name": "stdout",
     "output_type": "stream",
     "text": [
      "   |     0.00s M book@pt              from /Users/dirk/github/etcbc/bhsa/tf/c\n"
     ]
    },
    {
     "name": "stderr",
     "output_type": "stream",
     "text": [
      "   |     0.00s feature \"book@pt\" => \"book_pt\"\n"
     ]
    },
    {
     "name": "stdout",
     "output_type": "stream",
     "text": [
      "   |     0.00s M book@ru              from /Users/dirk/github/etcbc/bhsa/tf/c\n"
     ]
    },
    {
     "name": "stderr",
     "output_type": "stream",
     "text": [
      "   |     0.00s feature \"book@ru\" => \"book_ru\"\n"
     ]
    },
    {
     "name": "stdout",
     "output_type": "stream",
     "text": [
      "   |     0.00s M book@sw              from /Users/dirk/github/etcbc/bhsa/tf/c\n"
     ]
    },
    {
     "name": "stderr",
     "output_type": "stream",
     "text": [
      "   |     0.00s feature \"book@sw\" => \"book_sw\"\n"
     ]
    },
    {
     "name": "stdout",
     "output_type": "stream",
     "text": [
      "   |     0.00s M book@syc             from /Users/dirk/github/etcbc/bhsa/tf/c\n"
     ]
    },
    {
     "name": "stderr",
     "output_type": "stream",
     "text": [
      "   |     0.00s feature \"book@syc\" => \"book_syc\"\n"
     ]
    },
    {
     "name": "stdout",
     "output_type": "stream",
     "text": [
      "   |     0.00s M book@tr              from /Users/dirk/github/etcbc/bhsa/tf/c\n"
     ]
    },
    {
     "name": "stderr",
     "output_type": "stream",
     "text": [
      "   |     0.00s feature \"book@tr\" => \"book_tr\"\n"
     ]
    },
    {
     "name": "stdout",
     "output_type": "stream",
     "text": [
      "   |     0.00s M book@ur              from /Users/dirk/github/etcbc/bhsa/tf/c\n"
     ]
    },
    {
     "name": "stderr",
     "output_type": "stream",
     "text": [
      "   |     0.00s feature \"book@ur\" => \"book_ur\"\n"
     ]
    },
    {
     "name": "stdout",
     "output_type": "stream",
     "text": [
      "   |     0.00s M book@yo              from /Users/dirk/github/etcbc/bhsa/tf/c\n"
     ]
    },
    {
     "name": "stderr",
     "output_type": "stream",
     "text": [
      "   |     0.00s feature \"book@yo\" => \"book_yo\"\n"
     ]
    },
    {
     "name": "stdout",
     "output_type": "stream",
     "text": [
      "   |     0.00s M book@zh              from /Users/dirk/github/etcbc/bhsa/tf/c\n"
     ]
    },
    {
     "name": "stderr",
     "output_type": "stream",
     "text": [
      "   |     0.00s feature \"book@zh\" => \"book_zh\"\n"
     ]
    },
    {
     "name": "stdout",
     "output_type": "stream",
     "text": [
      "   |     0.00s M cfunction            from /Users/dirk/github/etcbc/valence/tf/c\n",
      "   |     0.00s M chapter              from /Users/dirk/github/etcbc/bhsa/tf/c\n",
      "   |     0.00s M code                 from /Users/dirk/github/etcbc/bhsa/tf/c\n",
      "   |     0.00s M crossref             from /Users/dirk/github/etcbc/parallels/tf/c\n",
      "   |     0.00s M det                  from /Users/dirk/github/etcbc/bhsa/tf/c\n",
      "   |     0.00s M dist                 from /Users/dirk/github/etcbc/bhsa/tf/c\n",
      "   |     0.00s M dist_unit            from /Users/dirk/github/etcbc/bhsa/tf/c\n",
      "   |     0.00s M distributional_parent from /Users/dirk/github/etcbc/bhsa/tf/c\n",
      "   |     0.00s M domain               from /Users/dirk/github/etcbc/bhsa/tf/c\n",
      "   |     0.00s M f_correction         from /Users/dirk/github/etcbc/valence/tf/c\n",
      "   |     0.00s M freq_lex             from /Users/dirk/github/etcbc/bhsa/tf/c\n",
      "   |     0.00s M freq_occ             from /Users/dirk/github/etcbc/bhsa/tf/c\n",
      "   |     0.00s M function             from /Users/dirk/github/etcbc/bhsa/tf/c\n",
      "   |     0.00s M functional_parent    from /Users/dirk/github/etcbc/bhsa/tf/c\n",
      "   |     0.00s M g_cons               from /Users/dirk/github/etcbc/bhsa/tf/c\n",
      "   |     0.00s M g_cons_utf8          from /Users/dirk/github/etcbc/bhsa/tf/c\n",
      "   |     0.00s M g_lex                from /Users/dirk/github/etcbc/bhsa/tf/c\n",
      "   |     0.00s M g_lex_utf8           from /Users/dirk/github/etcbc/bhsa/tf/c\n",
      "   |     0.00s M g_nme                from /Users/dirk/github/etcbc/bhsa/tf/c\n",
      "   |     0.00s M g_nme_utf8           from /Users/dirk/github/etcbc/bhsa/tf/c\n",
      "   |     0.00s M g_pfm                from /Users/dirk/github/etcbc/bhsa/tf/c\n",
      "   |     0.00s M g_pfm_utf8           from /Users/dirk/github/etcbc/bhsa/tf/c\n",
      "   |     0.00s M g_prs                from /Users/dirk/github/etcbc/bhsa/tf/c\n",
      "   |     0.00s M g_prs_utf8           from /Users/dirk/github/etcbc/bhsa/tf/c\n",
      "   |     0.00s M g_uvf                from /Users/dirk/github/etcbc/bhsa/tf/c\n",
      "   |     0.00s M g_uvf_utf8           from /Users/dirk/github/etcbc/bhsa/tf/c\n",
      "   |     0.00s M g_vbe                from /Users/dirk/github/etcbc/bhsa/tf/c\n",
      "   |     0.00s M g_vbe_utf8           from /Users/dirk/github/etcbc/bhsa/tf/c\n",
      "   |     0.00s M g_vbs                from /Users/dirk/github/etcbc/bhsa/tf/c\n",
      "   |     0.00s M g_vbs_utf8           from /Users/dirk/github/etcbc/bhsa/tf/c\n",
      "   |     0.00s M g_word               from /Users/dirk/github/etcbc/bhsa/tf/c\n",
      "   |     0.00s M g_word_utf8          from /Users/dirk/github/etcbc/bhsa/tf/c\n",
      "   |     0.00s M gloss                from /Users/dirk/github/etcbc/bhsa/tf/c\n",
      "   |     0.00s M gn                   from /Users/dirk/github/etcbc/bhsa/tf/c\n",
      "   |     0.00s M grammatical          from /Users/dirk/github/etcbc/valence/tf/c\n",
      "   |     0.00s M instruction          from /Users/dirk/github/etcbc/bhsa/tf/c\n",
      "   |     0.00s M is_root              from /Users/dirk/github/etcbc/bhsa/tf/c\n",
      "   |     0.00s M kind                 from /Users/dirk/github/etcbc/bhsa/tf/c\n",
      "   |     0.00s M label                from /Users/dirk/github/etcbc/bhsa/tf/c\n",
      "   |     0.00s M language             from /Users/dirk/github/etcbc/bhsa/tf/c\n",
      "   |     0.00s M lex                  from /Users/dirk/github/etcbc/bhsa/tf/c\n",
      "   |     0.00s M lex0                 from /Users/dirk/github/etcbc/bhsa/tf/c\n",
      "   |     0.00s M lex_utf8             from /Users/dirk/github/etcbc/bhsa/tf/c\n",
      "   |     0.00s M lexical              from /Users/dirk/github/etcbc/valence/tf/c\n",
      "   |     0.00s M ls                   from /Users/dirk/github/etcbc/bhsa/tf/c\n",
      "   |     0.00s M mother               from /Users/dirk/github/etcbc/bhsa/tf/c\n",
      "   |     0.00s M mother_object_type   from /Users/dirk/github/etcbc/bhsa/tf/c\n",
      "   |     0.00s M nametype             from /Users/dirk/github/etcbc/bhsa/tf/c\n",
      "   |     0.00s M nme                  from /Users/dirk/github/etcbc/bhsa/tf/c\n",
      "   |     0.00s M nu                   from /Users/dirk/github/etcbc/bhsa/tf/c\n",
      "   |     0.00s M number               from /Users/dirk/github/etcbc/bhsa/tf/c\n",
      "   |     0.00s M original             from /Users/dirk/github/etcbc/valence/tf/c\n",
      "   |     0.00s M otext@phono          from /Users/dirk/github/etcbc/phono/tf/c\n",
      "   |     0.00s M pargr                from /Users/dirk/github/etcbc/bhsa/tf/c\n",
      "   |     0.00s M pdp                  from /Users/dirk/github/etcbc/bhsa/tf/c\n",
      "   |     0.00s M pfm                  from /Users/dirk/github/etcbc/bhsa/tf/c\n",
      "   |     0.00s M phono                from /Users/dirk/github/etcbc/phono/tf/c\n",
      "   |     0.00s M phono_trailer        from /Users/dirk/github/etcbc/phono/tf/c\n",
      "   |     0.00s M predication          from /Users/dirk/github/etcbc/valence/tf/c\n",
      "   |     0.00s M prs                  from /Users/dirk/github/etcbc/bhsa/tf/c\n",
      "   |     0.00s M prs_gn               from /Users/dirk/github/etcbc/bhsa/tf/c\n",
      "   |     0.00s M prs_nu               from /Users/dirk/github/etcbc/bhsa/tf/c\n",
      "   |     0.00s M prs_ps               from /Users/dirk/github/etcbc/bhsa/tf/c\n",
      "   |     0.00s M ps                   from /Users/dirk/github/etcbc/bhsa/tf/c\n",
      "   |     0.00s M qere                 from /Users/dirk/github/etcbc/bhsa/tf/c\n",
      "   |     0.00s M qere_trailer         from /Users/dirk/github/etcbc/bhsa/tf/c\n",
      "   |     0.00s M qere_trailer_utf8    from /Users/dirk/github/etcbc/bhsa/tf/c\n",
      "   |     0.00s M qere_utf8            from /Users/dirk/github/etcbc/bhsa/tf/c\n",
      "   |     0.00s M rank_lex             from /Users/dirk/github/etcbc/bhsa/tf/c\n",
      "   |     0.00s M rank_occ             from /Users/dirk/github/etcbc/bhsa/tf/c\n",
      "   |     0.00s M rela                 from /Users/dirk/github/etcbc/bhsa/tf/c\n",
      "   |     0.00s M root                 from /Users/dirk/github/etcbc/bhsa/tf/c\n",
      "   |     0.00s M s_manual             from /Users/dirk/github/etcbc/valence/tf/c\n",
      "   |     0.00s M semantic             from /Users/dirk/github/etcbc/valence/tf/c\n",
      "   |     0.00s M sense                from /Users/dirk/github/etcbc/valence/tf/c\n",
      "   |     0.00s M sp                   from /Users/dirk/github/etcbc/bhsa/tf/c\n",
      "   |     0.00s M st                   from /Users/dirk/github/etcbc/bhsa/tf/c\n",
      "   |     0.00s M tab                  from /Users/dirk/github/etcbc/bhsa/tf/c\n",
      "   |     0.00s M trailer              from /Users/dirk/github/etcbc/bhsa/tf/c\n",
      "   |     0.00s M trailer_utf8         from /Users/dirk/github/etcbc/bhsa/tf/c\n",
      "   |     0.00s M txt                  from /Users/dirk/github/etcbc/bhsa/tf/c\n",
      "   |     0.00s M typ                  from /Users/dirk/github/etcbc/bhsa/tf/c\n",
      "   |     0.00s M uvf                  from /Users/dirk/github/etcbc/bhsa/tf/c\n",
      "   |     0.00s M valence              from /Users/dirk/github/etcbc/valence/tf/c\n",
      "   |     0.00s M vbe                  from /Users/dirk/github/etcbc/bhsa/tf/c\n",
      "   |     0.00s M vbs                  from /Users/dirk/github/etcbc/bhsa/tf/c\n",
      "   |     0.00s M verse                from /Users/dirk/github/etcbc/bhsa/tf/c\n",
      "   |     0.00s M voc_lex              from /Users/dirk/github/etcbc/bhsa/tf/c\n",
      "   |     0.00s M voc_lex_utf8         from /Users/dirk/github/etcbc/bhsa/tf/c\n",
      "   |     0.00s M vs                   from /Users/dirk/github/etcbc/bhsa/tf/c\n",
      "   |     0.00s M vt                   from /Users/dirk/github/etcbc/bhsa/tf/c\n",
      "   |     0.05s B otype                from /Users/dirk/github/etcbc/bhsa/tf/c\n",
      "   |     0.55s B oslots               from /Users/dirk/github/etcbc/bhsa/tf/c\n",
      "   |     0.00s B __levels__           from otype, oslots\n",
      "  0.97s 117 features to export to MQL ...\n",
      "  0.97s Loading 117 features\n",
      "   |     0.01s B book                 from /Users/dirk/github/etcbc/bhsa/tf/c\n",
      "   |     0.00s B book@am              from /Users/dirk/github/etcbc/bhsa/tf/c\n",
      "   |     0.00s B book@ar              from /Users/dirk/github/etcbc/bhsa/tf/c\n",
      "   |     0.00s B book@bn              from /Users/dirk/github/etcbc/bhsa/tf/c\n",
      "   |     0.00s B book@da              from /Users/dirk/github/etcbc/bhsa/tf/c\n",
      "   |     0.00s B book@de              from /Users/dirk/github/etcbc/bhsa/tf/c\n",
      "   |     0.00s B book@el              from /Users/dirk/github/etcbc/bhsa/tf/c\n",
      "   |     0.00s B book@en              from /Users/dirk/github/etcbc/bhsa/tf/c\n",
      "   |     0.00s B book@es              from /Users/dirk/github/etcbc/bhsa/tf/c\n",
      "   |     0.00s B book@fa              from /Users/dirk/github/etcbc/bhsa/tf/c\n"
     ]
    },
    {
     "name": "stdout",
     "output_type": "stream",
     "text": [
      "   |     0.00s B book@fr              from /Users/dirk/github/etcbc/bhsa/tf/c\n",
      "   |     0.00s B book@he              from /Users/dirk/github/etcbc/bhsa/tf/c\n",
      "   |     0.00s B book@hi              from /Users/dirk/github/etcbc/bhsa/tf/c\n",
      "   |     0.00s B book@id              from /Users/dirk/github/etcbc/bhsa/tf/c\n",
      "   |     0.00s B book@ja              from /Users/dirk/github/etcbc/bhsa/tf/c\n",
      "   |     0.00s B book@ko              from /Users/dirk/github/etcbc/bhsa/tf/c\n",
      "   |     0.00s B book@la              from /Users/dirk/github/etcbc/bhsa/tf/c\n",
      "   |     0.00s B book@nl              from /Users/dirk/github/etcbc/bhsa/tf/c\n",
      "   |     0.00s B book@pa              from /Users/dirk/github/etcbc/bhsa/tf/c\n",
      "   |     0.00s B book@pt              from /Users/dirk/github/etcbc/bhsa/tf/c\n",
      "   |     0.00s B book@ru              from /Users/dirk/github/etcbc/bhsa/tf/c\n",
      "   |     0.00s B book@sw              from /Users/dirk/github/etcbc/bhsa/tf/c\n",
      "   |     0.00s B book@syc             from /Users/dirk/github/etcbc/bhsa/tf/c\n",
      "   |     0.00s B book@tr              from /Users/dirk/github/etcbc/bhsa/tf/c\n",
      "   |     0.00s B book@ur              from /Users/dirk/github/etcbc/bhsa/tf/c\n",
      "   |     0.00s B book@yo              from /Users/dirk/github/etcbc/bhsa/tf/c\n",
      "   |     0.00s B book@zh              from /Users/dirk/github/etcbc/bhsa/tf/c\n",
      "   |     0.15s B cfunction            from /Users/dirk/github/etcbc/valence/tf/c\n",
      "   |     0.02s B chapter              from /Users/dirk/github/etcbc/bhsa/tf/c\n",
      "   |     0.04s B code                 from /Users/dirk/github/etcbc/bhsa/tf/c\n",
      "   |     0.01s B crossref             from /Users/dirk/github/etcbc/parallels/tf/c\n",
      "   |     0.19s B det                  from /Users/dirk/github/etcbc/bhsa/tf/c\n",
      "   |     0.16s B dist                 from /Users/dirk/github/etcbc/bhsa/tf/c\n",
      "   |     0.21s B dist_unit            from /Users/dirk/github/etcbc/bhsa/tf/c\n",
      "   |     1.30s B distributional_parent from /Users/dirk/github/etcbc/bhsa/tf/c\n",
      "   |     0.02s B domain               from /Users/dirk/github/etcbc/bhsa/tf/c\n",
      "   |     0.05s B f_correction         from /Users/dirk/github/etcbc/valence/tf/c\n",
      "   |     0.10s B freq_lex             from /Users/dirk/github/etcbc/bhsa/tf/c\n",
      "   |     0.08s B freq_occ             from /Users/dirk/github/etcbc/bhsa/tf/c\n",
      "   |     0.09s B function             from /Users/dirk/github/etcbc/bhsa/tf/c\n",
      "   |     1.89s B functional_parent    from /Users/dirk/github/etcbc/bhsa/tf/c\n",
      "   |     0.13s B g_cons               from /Users/dirk/github/etcbc/bhsa/tf/c\n",
      "   |     0.25s B g_cons_utf8          from /Users/dirk/github/etcbc/bhsa/tf/c\n",
      "   |     0.16s B g_lex                from /Users/dirk/github/etcbc/bhsa/tf/c\n",
      "   |     0.19s B g_lex_utf8           from /Users/dirk/github/etcbc/bhsa/tf/c\n",
      "   |     0.08s B g_nme                from /Users/dirk/github/etcbc/bhsa/tf/c\n",
      "   |     0.11s B g_nme_utf8           from /Users/dirk/github/etcbc/bhsa/tf/c\n",
      "   |     0.08s B g_pfm                from /Users/dirk/github/etcbc/bhsa/tf/c\n",
      "   |     0.08s B g_pfm_utf8           from /Users/dirk/github/etcbc/bhsa/tf/c\n",
      "   |     0.07s B g_prs                from /Users/dirk/github/etcbc/bhsa/tf/c\n",
      "   |     0.08s B g_prs_utf8           from /Users/dirk/github/etcbc/bhsa/tf/c\n",
      "   |     0.10s B g_uvf                from /Users/dirk/github/etcbc/bhsa/tf/c\n",
      "   |     0.10s B g_uvf_utf8           from /Users/dirk/github/etcbc/bhsa/tf/c\n",
      "   |     0.07s B g_vbe                from /Users/dirk/github/etcbc/bhsa/tf/c\n",
      "   |     0.07s B g_vbe_utf8           from /Users/dirk/github/etcbc/bhsa/tf/c\n",
      "   |     0.07s B g_vbs                from /Users/dirk/github/etcbc/bhsa/tf/c\n",
      "   |     0.07s B g_vbs_utf8           from /Users/dirk/github/etcbc/bhsa/tf/c\n",
      "   |     0.15s B g_word               from /Users/dirk/github/etcbc/bhsa/tf/c\n",
      "   |     0.21s B g_word_utf8          from /Users/dirk/github/etcbc/bhsa/tf/c\n",
      "   |     0.01s B gloss                from /Users/dirk/github/etcbc/bhsa/tf/c\n",
      "   |     0.14s B gn                   from /Users/dirk/github/etcbc/bhsa/tf/c\n",
      "   |     0.10s B grammatical          from /Users/dirk/github/etcbc/valence/tf/c\n",
      "   |     0.03s B instruction          from /Users/dirk/github/etcbc/bhsa/tf/c\n",
      "   |     0.03s B is_root              from /Users/dirk/github/etcbc/bhsa/tf/c\n",
      "   |     0.03s B kind                 from /Users/dirk/github/etcbc/bhsa/tf/c\n",
      "   |     0.01s B label                from /Users/dirk/github/etcbc/bhsa/tf/c\n",
      "   |     0.12s B language             from /Users/dirk/github/etcbc/bhsa/tf/c\n",
      "   |     0.13s B lex                  from /Users/dirk/github/etcbc/bhsa/tf/c\n",
      "   |     0.11s B lex0                 from /Users/dirk/github/etcbc/bhsa/tf/c\n",
      "   |     0.24s B lex_utf8             from /Users/dirk/github/etcbc/bhsa/tf/c\n",
      "   |     0.08s B lexical              from /Users/dirk/github/etcbc/valence/tf/c\n",
      "   |     0.15s B ls                   from /Users/dirk/github/etcbc/bhsa/tf/c\n",
      "   |     0.20s B mother               from /Users/dirk/github/etcbc/bhsa/tf/c\n",
      "   |     0.08s B mother_object_type   from /Users/dirk/github/etcbc/bhsa/tf/c\n",
      "   |     0.00s B nametype             from /Users/dirk/github/etcbc/bhsa/tf/c\n",
      "   |     0.13s B nme                  from /Users/dirk/github/etcbc/bhsa/tf/c\n",
      "   |     0.12s B nu                   from /Users/dirk/github/etcbc/bhsa/tf/c\n",
      "   |     0.30s B number               from /Users/dirk/github/etcbc/bhsa/tf/c\n",
      "   |     0.05s B original             from /Users/dirk/github/etcbc/valence/tf/c\n",
      "   |     0.03s B pargr                from /Users/dirk/github/etcbc/bhsa/tf/c\n",
      "   |     0.16s B pdp                  from /Users/dirk/github/etcbc/bhsa/tf/c\n",
      "   |     0.18s B pfm                  from /Users/dirk/github/etcbc/bhsa/tf/c\n",
      "   |     0.25s B phono                from /Users/dirk/github/etcbc/phono/tf/c\n",
      "   |     0.11s B phono_trailer        from /Users/dirk/github/etcbc/phono/tf/c\n",
      "   |     0.09s B predication          from /Users/dirk/github/etcbc/valence/tf/c\n",
      "   |     0.16s B prs                  from /Users/dirk/github/etcbc/bhsa/tf/c\n",
      "   |     0.16s B prs_gn               from /Users/dirk/github/etcbc/bhsa/tf/c\n",
      "   |     0.16s B prs_nu               from /Users/dirk/github/etcbc/bhsa/tf/c\n",
      "   |     0.15s B prs_ps               from /Users/dirk/github/etcbc/bhsa/tf/c\n",
      "   |     0.12s B ps                   from /Users/dirk/github/etcbc/bhsa/tf/c\n",
      "   |     0.00s B qere                 from /Users/dirk/github/etcbc/bhsa/tf/c\n",
      "   |     0.00s B qere_trailer         from /Users/dirk/github/etcbc/bhsa/tf/c\n",
      "   |     0.00s B qere_trailer_utf8    from /Users/dirk/github/etcbc/bhsa/tf/c\n",
      "   |     0.00s B qere_utf8            from /Users/dirk/github/etcbc/bhsa/tf/c\n",
      "   |     0.09s B rank_lex             from /Users/dirk/github/etcbc/bhsa/tf/c\n",
      "   |     0.13s B rank_occ             from /Users/dirk/github/etcbc/bhsa/tf/c\n",
      "   |     0.30s B rela                 from /Users/dirk/github/etcbc/bhsa/tf/c\n",
      "   |     0.00s B root                 from /Users/dirk/github/etcbc/bhsa/tf/c\n",
      "   |     0.05s B s_manual             from /Users/dirk/github/etcbc/valence/tf/c\n",
      "   |     0.07s B semantic             from /Users/dirk/github/etcbc/valence/tf/c\n",
      "   |     0.03s B sense                from /Users/dirk/github/etcbc/valence/tf/c\n",
      "   |     0.17s B sp                   from /Users/dirk/github/etcbc/bhsa/tf/c\n",
      "   |     0.12s B st                   from /Users/dirk/github/etcbc/bhsa/tf/c\n",
      "   |     0.02s B tab                  from /Users/dirk/github/etcbc/bhsa/tf/c\n",
      "   |     0.11s B trailer              from /Users/dirk/github/etcbc/bhsa/tf/c\n",
      "   |     0.13s B trailer_utf8         from /Users/dirk/github/etcbc/bhsa/tf/c\n",
      "   |     0.03s B txt                  from /Users/dirk/github/etcbc/bhsa/tf/c\n",
      "   |     0.27s B typ                  from /Users/dirk/github/etcbc/bhsa/tf/c\n",
      "   |     0.16s B uvf                  from /Users/dirk/github/etcbc/bhsa/tf/c\n",
      "   |     0.08s B valence              from /Users/dirk/github/etcbc/valence/tf/c\n",
      "   |     0.16s B vbe                  from /Users/dirk/github/etcbc/bhsa/tf/c\n",
      "   |     0.20s B vbs                  from /Users/dirk/github/etcbc/bhsa/tf/c\n",
      "   |     0.01s B verse                from /Users/dirk/github/etcbc/bhsa/tf/c\n",
      "   |     0.01s B voc_lex              from /Users/dirk/github/etcbc/bhsa/tf/c\n",
      "   |     0.01s B voc_lex_utf8         from /Users/dirk/github/etcbc/bhsa/tf/c\n"
     ]
    },
    {
     "name": "stdout",
     "output_type": "stream",
     "text": [
      "   |     0.15s B vs                   from /Users/dirk/github/etcbc/bhsa/tf/c\n",
      "   |     0.16s B vt                   from /Users/dirk/github/etcbc/bhsa/tf/c\n",
      "    14s Mapping 117 features onto 13 object types\n",
      "    21s Writing 117 features as data in 13 object types\n",
      "   |     0.00s word data ...\n",
      "   |      |     4.72s batch of size               40.2MB with   50000 of   50000 words\n",
      "   |      |     9.02s batch of size               40.2MB with   50000 of  100000 words\n",
      "   |      |       14s batch of size               40.4MB with   50000 of  150000 words\n",
      "   |      |       18s batch of size               40.4MB with   50000 of  200000 words\n",
      "   |      |       23s batch of size               40.6MB with   50000 of  250000 words\n",
      "   |      |       28s batch of size               40.6MB with   50000 of  300000 words\n",
      "   |      |       32s batch of size               40.8MB with   50000 of  350000 words\n",
      "   |      |       36s batch of size               40.5MB with   50000 of  400000 words\n",
      "   |      |       39s batch of size               21.5MB with   26581 of  426581 words\n",
      "   |       39s word data: 426581 objects\n",
      "   |     0.00s subphrase data ...\n",
      "   |      |     0.43s batch of size                5.4MB with   50000 of   50000 subphrases\n",
      "   |      |     0.86s batch of size                5.4MB with   50000 of  100000 subphrases\n",
      "   |      |     0.97s batch of size                1.5MB with   13792 of  113792 subphrases\n",
      "   |     0.98s subphrase data: 113792 objects\n",
      "   |     0.00s phrase_atom data ...\n",
      "   |      |     0.93s batch of size               10.0MB with   50000 of   50000 phrase_atoms\n",
      "   |      |     2.05s batch of size               10.1MB with   50000 of  100000 phrase_atoms\n",
      "   |      |     3.00s batch of size               10.2MB with   50000 of  150000 phrase_atoms\n",
      "   |      |     3.91s batch of size               10.1MB with   50000 of  200000 phrase_atoms\n",
      "   |      |     4.82s batch of size               10.1MB with   50000 of  250000 phrase_atoms\n",
      "   |      |     5.13s batch of size                3.6MB with   17515 of  267515 phrase_atoms\n",
      "   |     5.13s phrase_atom data: 267515 objects\n",
      "   |     0.00s phrase data ...\n",
      "   |      |     1.42s batch of size               15.3MB with   50000 of   50000 phrases\n",
      "   |      |     2.99s batch of size               15.6MB with   50000 of  100000 phrases\n",
      "   |      |     4.43s batch of size               15.5MB with   50000 of  150000 phrases\n",
      "   |      |     5.83s batch of size               15.2MB with   50000 of  200000 phrases\n",
      "   |      |     7.22s batch of size               14.9MB with   50000 of  250000 phrases\n",
      "   |      |     7.32s batch of size             1013.7KB with    3174 of  253174 phrases\n",
      "   |     7.32s phrase data: 253174 objects\n",
      "   |     0.00s clause_atom data ...\n",
      "   |      |     1.17s batch of size               12.3MB with   50000 of   50000 clause_atoms\n",
      "   |      |     2.24s batch of size                9.9MB with   40562 of   90562 clause_atoms\n",
      "   |     2.24s clause_atom data: 90562 objects\n",
      "   |     0.00s clause data ...\n",
      "   |      |     1.20s batch of size               12.1MB with   50000 of   50000 clauses\n",
      "   |      |     2.10s batch of size                9.1MB with   38000 of   88000 clauses\n",
      "   |     2.10s clause data: 88000 objects\n",
      "   |     0.00s sentence_atom data ...\n",
      "   |      |     0.44s batch of size                5.4MB with   50000 of   50000 sentence_atoms\n",
      "   |      |     0.58s batch of size                1.5MB with   14339 of   64339 sentence_atoms\n",
      "   |     0.58s sentence_atom data: 64339 objects\n",
      "   |     0.00s sentence data ...\n",
      "   |      |     0.31s batch of size                3.9MB with   50000 of   50000 sentences\n",
      "   |      |     0.40s batch of size                1.1MB with   13570 of   63570 sentences\n",
      "   |     0.40s sentence data: 63570 objects\n",
      "   |     0.00s half_verse data ...\n",
      "   |      |     0.32s batch of size                3.5MB with   45180 of   45180 half_verses\n",
      "   |     0.32s half_verse data: 45180 objects\n",
      "   |     0.00s verse data ...\n",
      "   |      |     0.39s batch of size                3.1MB with   23213 of   23213 verses\n",
      "   |     0.40s verse data: 23213 objects\n",
      "   |     0.00s lex data ...\n",
      "   |      |     0.62s batch of size                4.5MB with    9236 of    9236 lexs\n",
      "   |     0.63s lex data: 9236 objects\n",
      "   |     0.00s chapter data ...\n",
      "   |      |     0.06s batch of size               89.3KB with     929 of     929 chapters\n",
      "   |     0.06s chapter data: 929 objects\n",
      "   |     0.00s book data ...\n",
      "   |      |     0.06s batch of size               27.5KB with      39 of      39 books\n",
      "   |     0.06s book data: 39 objects\n",
      " 1m 20s Done\n",
      "|      1m 20s \tbzipping /Users/dirk/github/etcbc/bhsa/_temp/c/shebanq/bhsa_xx.mql\n",
      "|      1m 20s \tand delivering as /Users/dirk/github/etcbc/bhsa/shebanq/c/bhsa_xx.mql.bz2\n"
     ]
    }
   ],
   "source": [
    "good = webPipeline(pipeline, version='c', force=False)"
   ]
  },
  {
   "cell_type": "code",
   "execution_count": null,
   "metadata": {
    "collapsed": true
   },
   "outputs": [],
   "source": []
  }
 ],
 "metadata": {
  "kernelspec": {
   "display_name": "Python 3",
   "language": "python",
   "name": "python3"
  },
  "language_info": {
   "codemirror_mode": {
    "name": "ipython",
    "version": 3
   },
   "file_extension": ".py",
   "mimetype": "text/x-python",
   "name": "python",
   "nbconvert_exporter": "python",
   "pygments_lexer": "ipython3",
   "version": "3.6.2"
  }
 },
 "nbformat": 4,
 "nbformat_minor": 1
}
