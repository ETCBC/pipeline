{
 "cells": [
  {
   "cell_type": "markdown",
   "metadata": {},
   "source": [
    "![pipeline](pictures/pictures.003.png)\n",
    "\n",
    "# SHEBANQ from Text-Fabric\n",
    "\n",
    "This notebook assembles data from relevant GitHub repositories of the ETCBC.\n",
    "It selects the data that is needed for the website\n",
    "[SHEBANQ](https://shebanq.ancient-data.org).\n",
    "\n",
    "\n",
    "## Pipeline\n",
    "This is **pipe 2** of the pipeline from ETCBC data to the website SHEBANQ.\n",
    "\n",
    "A run of this pipe produces SHEBANQ data according to a chosen *version*.\n",
    "It should be run whenever there are new or updated data sources present that affect the output data.\n",
    "Since all input data is delivered in GitHub repositories, we have excellent machinery to \n",
    "work with versioning.\n",
    "\n",
    "Which directories the pipe should access for which version is specified in the configuration below.\n",
    "\n",
    "### Core data\n",
    "The core data is what resides in \n",
    "the GitHub repo [BHSA](https://github.com/ETCBC/bhsa) in directory `tf`.\n",
    "\n",
    "This data will be converted by notebook `coreData` in its `programs` directory.\n",
    "\n",
    "The result of this action will be an updated Text-Fabric resource in its \n",
    "`tf` directory, under the chosen *version*.\n",
    "\n",
    "### Additional data\n",
    "\n",
    "The pipe will try to load any text-fabric data features found in the `tf` subdirectories\n",
    "of the designated additional repos.\n",
    "It will descend one level deeper, according to the chosen *version*.\n",
    "\n",
    "### Resulting data\n",
    "The resulting data will be delivered in the `shebanq` subdirectory of the core repo `bhsa`, \n",
    "and then under the chosen *version* subdirectory.\n",
    "\n",
    "The resulting data consists of three parts:\n",
    "\n",
    "* One big MQL file, containing the core data plus **all** additions: `bhsa-xx.mql`.\n",
    "  It will be bzipped.\n",
    "* **not yet implemented** \n",
    "  A subdirectory `mysql` with database tables, containing everything SHEBANQ needs to construct its pages.\n",
    "* **not yet implemented**\n",
    "  A subdirectory `annotations`, containing bulk-uploadable annotation sets, that SHEBANQ can show in notes view,\n",
    "  between the clause atoms of the text."
   ]
  },
  {
   "cell_type": "code",
   "execution_count": 1,
   "metadata": {},
   "outputs": [],
   "source": [
    "import os,sys,collections\n",
    "from pipeline import webPipeline, importLocal, copyServer\n",
    "from tf.fabric import Fabric"
   ]
  },
  {
   "cell_type": "markdown",
   "metadata": {},
   "source": [
    "# Config"
   ]
  },
  {
   "cell_type": "code",
   "execution_count": 2,
   "metadata": {},
   "outputs": [],
   "source": [
    "if 'SCRIPT' not in locals(): \n",
    "    SCRIPT = False\n",
    "    VERSIONS = ['2016', '2017', 'c']\n",
    "    KINDS = {'mql', 'mysql'}"
   ]
  },
  {
   "cell_type": "code",
   "execution_count": 3,
   "metadata": {},
   "outputs": [],
   "source": [
    "pipeline = dict(\n",
    "    repoOrder = '''\n",
    "        bhsa\n",
    "        phono\n",
    "        valence\n",
    "        parallels\n",
    "    ''',\n",
    ")\n",
    "user = 'dirkr'\n",
    "server = 'clarin11.dans.knaw.nl'\n",
    "remoteDir = '/home/dirkr/shebanq-install'"
   ]
  },
  {
   "cell_type": "code",
   "execution_count": 4,
   "metadata": {
    "scrolled": false
   },
   "outputs": [
    {
     "name": "stdout",
     "output_type": "stream",
     "text": [
      "\n",
      "##############################################################################################\n",
      "#                                                                                            #\n",
      "#       0.00s Aggregate MQL for version 2016                                                 #\n",
      "#                                                                                            #\n",
      "##############################################################################################\n",
      "\n",
      "|       0.00s \tWork to do because the tf in bhsa is recently compiled\n",
      "|       0.00s \t\t/Users/dirk/github/etcbc/bhsa/tf/2016/.tf\n",
      "\n",
      "##############################################################################################\n",
      "#                                                                                            #\n",
      "#       0.00s Using TF to make an MQL export                                                 #\n",
      "#                                                                                            #\n",
      "##############################################################################################\n",
      "\n",
      "This is Text-Fabric 3.1.1\n",
      "Api reference : https://github.com/Dans-labs/text-fabric/wiki/Api\n",
      "Tutorial      : https://github.com/Dans-labs/text-fabric/blob/master/docs/tutorial.ipynb\n",
      "Example data  : https://github.com/Dans-labs/text-fabric-data\n",
      "\n",
      "125 features found and 0 ignored\n",
      "  0.00s Checking features of dataset shebanq_etcbc2016\n",
      "   |     0.00s M book                 from /Users/dirk/github/etcbc/bhsa/tf/2016\n",
      "   |     0.00s M book@am              from /Users/dirk/github/etcbc/bhsa/tf/2016\n"
     ]
    },
    {
     "name": "stderr",
     "output_type": "stream",
     "text": [
      "   |     0.00s feature \"book@am\" => \"book_am\"\n"
     ]
    },
    {
     "name": "stdout",
     "output_type": "stream",
     "text": [
      "   |     0.00s M book@ar              from /Users/dirk/github/etcbc/bhsa/tf/2016\n"
     ]
    },
    {
     "name": "stderr",
     "output_type": "stream",
     "text": [
      "   |     0.00s feature \"book@ar\" => \"book_ar\"\n"
     ]
    },
    {
     "name": "stdout",
     "output_type": "stream",
     "text": [
      "   |     0.00s M book@bn              from /Users/dirk/github/etcbc/bhsa/tf/2016\n"
     ]
    },
    {
     "name": "stderr",
     "output_type": "stream",
     "text": [
      "   |     0.01s feature \"book@bn\" => \"book_bn\"\n"
     ]
    },
    {
     "name": "stdout",
     "output_type": "stream",
     "text": [
      "   |     0.00s M book@da              from /Users/dirk/github/etcbc/bhsa/tf/2016\n"
     ]
    },
    {
     "name": "stderr",
     "output_type": "stream",
     "text": [
      "   |     0.00s feature \"book@da\" => \"book_da\"\n"
     ]
    },
    {
     "name": "stdout",
     "output_type": "stream",
     "text": [
      "   |     0.00s M book@de              from /Users/dirk/github/etcbc/bhsa/tf/2016\n"
     ]
    },
    {
     "name": "stderr",
     "output_type": "stream",
     "text": [
      "   |     0.00s feature \"book@de\" => \"book_de\"\n"
     ]
    },
    {
     "name": "stdout",
     "output_type": "stream",
     "text": [
      "   |     0.00s M book@el              from /Users/dirk/github/etcbc/bhsa/tf/2016\n"
     ]
    },
    {
     "name": "stderr",
     "output_type": "stream",
     "text": [
      "   |     0.00s feature \"book@el\" => \"book_el\"\n"
     ]
    },
    {
     "name": "stdout",
     "output_type": "stream",
     "text": [
      "   |     0.00s M book@en              from /Users/dirk/github/etcbc/bhsa/tf/2016\n"
     ]
    },
    {
     "name": "stderr",
     "output_type": "stream",
     "text": [
      "   |     0.00s feature \"book@en\" => \"book_en\"\n"
     ]
    },
    {
     "name": "stdout",
     "output_type": "stream",
     "text": [
      "   |     0.00s M book@es              from /Users/dirk/github/etcbc/bhsa/tf/2016\n"
     ]
    },
    {
     "name": "stderr",
     "output_type": "stream",
     "text": [
      "   |     0.00s feature \"book@es\" => \"book_es\"\n"
     ]
    },
    {
     "name": "stdout",
     "output_type": "stream",
     "text": [
      "   |     0.00s M book@fa              from /Users/dirk/github/etcbc/bhsa/tf/2016\n"
     ]
    },
    {
     "name": "stderr",
     "output_type": "stream",
     "text": [
      "   |     0.00s feature \"book@fa\" => \"book_fa\"\n"
     ]
    },
    {
     "name": "stdout",
     "output_type": "stream",
     "text": [
      "   |     0.00s M book@fr              from /Users/dirk/github/etcbc/bhsa/tf/2016\n"
     ]
    },
    {
     "name": "stderr",
     "output_type": "stream",
     "text": [
      "   |     0.00s feature \"book@fr\" => \"book_fr\"\n"
     ]
    },
    {
     "name": "stdout",
     "output_type": "stream",
     "text": [
      "   |     0.00s M book@he              from /Users/dirk/github/etcbc/bhsa/tf/2016\n"
     ]
    },
    {
     "name": "stderr",
     "output_type": "stream",
     "text": [
      "   |     0.00s feature \"book@he\" => \"book_he\"\n"
     ]
    },
    {
     "name": "stdout",
     "output_type": "stream",
     "text": [
      "   |     0.00s M book@hi              from /Users/dirk/github/etcbc/bhsa/tf/2016\n"
     ]
    },
    {
     "name": "stderr",
     "output_type": "stream",
     "text": [
      "   |     0.00s feature \"book@hi\" => \"book_hi\"\n"
     ]
    },
    {
     "name": "stdout",
     "output_type": "stream",
     "text": [
      "   |     0.00s M book@id              from /Users/dirk/github/etcbc/bhsa/tf/2016\n"
     ]
    },
    {
     "name": "stderr",
     "output_type": "stream",
     "text": [
      "   |     0.00s feature \"book@id\" => \"book_id\"\n"
     ]
    },
    {
     "name": "stdout",
     "output_type": "stream",
     "text": [
      "   |     0.00s M book@ja              from /Users/dirk/github/etcbc/bhsa/tf/2016\n"
     ]
    },
    {
     "name": "stderr",
     "output_type": "stream",
     "text": [
      "   |     0.00s feature \"book@ja\" => \"book_ja\"\n"
     ]
    },
    {
     "name": "stdout",
     "output_type": "stream",
     "text": [
      "   |     0.00s M book@ko              from /Users/dirk/github/etcbc/bhsa/tf/2016\n"
     ]
    },
    {
     "name": "stderr",
     "output_type": "stream",
     "text": [
      "   |     0.00s feature \"book@ko\" => \"book_ko\"\n"
     ]
    },
    {
     "name": "stdout",
     "output_type": "stream",
     "text": [
      "   |     0.00s M book@la              from /Users/dirk/github/etcbc/bhsa/tf/2016\n"
     ]
    },
    {
     "name": "stderr",
     "output_type": "stream",
     "text": [
      "   |     0.00s feature \"book@la\" => \"book_la\"\n"
     ]
    },
    {
     "name": "stdout",
     "output_type": "stream",
     "text": [
      "   |     0.00s M book@nl              from /Users/dirk/github/etcbc/bhsa/tf/2016\n"
     ]
    },
    {
     "name": "stderr",
     "output_type": "stream",
     "text": [
      "   |     0.00s feature \"book@nl\" => \"book_nl\"\n"
     ]
    },
    {
     "name": "stdout",
     "output_type": "stream",
     "text": [
      "   |     0.00s M book@pa              from /Users/dirk/github/etcbc/bhsa/tf/2016\n"
     ]
    },
    {
     "name": "stderr",
     "output_type": "stream",
     "text": [
      "   |     0.00s feature \"book@pa\" => \"book_pa\"\n"
     ]
    },
    {
     "name": "stdout",
     "output_type": "stream",
     "text": [
      "   |     0.00s M book@pt              from /Users/dirk/github/etcbc/bhsa/tf/2016\n"
     ]
    },
    {
     "name": "stderr",
     "output_type": "stream",
     "text": [
      "   |     0.00s feature \"book@pt\" => \"book_pt\"\n"
     ]
    },
    {
     "name": "stdout",
     "output_type": "stream",
     "text": [
      "   |     0.00s M book@ru              from /Users/dirk/github/etcbc/bhsa/tf/2016\n"
     ]
    },
    {
     "name": "stderr",
     "output_type": "stream",
     "text": [
      "   |     0.00s feature \"book@ru\" => \"book_ru\"\n"
     ]
    },
    {
     "name": "stdout",
     "output_type": "stream",
     "text": [
      "   |     0.00s M book@sw              from /Users/dirk/github/etcbc/bhsa/tf/2016\n"
     ]
    },
    {
     "name": "stderr",
     "output_type": "stream",
     "text": [
      "   |     0.00s feature \"book@sw\" => \"book_sw\"\n"
     ]
    },
    {
     "name": "stdout",
     "output_type": "stream",
     "text": [
      "   |     0.00s M book@syc             from /Users/dirk/github/etcbc/bhsa/tf/2016\n"
     ]
    },
    {
     "name": "stderr",
     "output_type": "stream",
     "text": [
      "   |     0.00s feature \"book@syc\" => \"book_syc\"\n"
     ]
    },
    {
     "name": "stdout",
     "output_type": "stream",
     "text": [
      "   |     0.00s M book@tr              from /Users/dirk/github/etcbc/bhsa/tf/2016\n"
     ]
    },
    {
     "name": "stderr",
     "output_type": "stream",
     "text": [
      "   |     0.00s feature \"book@tr\" => \"book_tr\"\n"
     ]
    },
    {
     "name": "stdout",
     "output_type": "stream",
     "text": [
      "   |     0.00s M book@ur              from /Users/dirk/github/etcbc/bhsa/tf/2016\n"
     ]
    },
    {
     "name": "stderr",
     "output_type": "stream",
     "text": [
      "   |     0.00s feature \"book@ur\" => \"book_ur\"\n"
     ]
    },
    {
     "name": "stdout",
     "output_type": "stream",
     "text": [
      "   |     0.00s M book@yo              from /Users/dirk/github/etcbc/bhsa/tf/2016\n"
     ]
    },
    {
     "name": "stderr",
     "output_type": "stream",
     "text": [
      "   |     0.00s feature \"book@yo\" => \"book_yo\"\n"
     ]
    },
    {
     "name": "stdout",
     "output_type": "stream",
     "text": [
      "   |     0.00s M book@zh              from /Users/dirk/github/etcbc/bhsa/tf/2016\n"
     ]
    },
    {
     "name": "stderr",
     "output_type": "stream",
     "text": [
      "   |     0.00s feature \"book@zh\" => \"book_zh\"\n"
     ]
    },
    {
     "name": "stdout",
     "output_type": "stream",
     "text": [
      "   |     0.01s M cfunction            from /Users/dirk/github/etcbc/valence/tf/2016\n",
      "   |     0.00s M chapter              from /Users/dirk/github/etcbc/bhsa/tf/2016\n",
      "   |     0.00s M code                 from /Users/dirk/github/etcbc/bhsa/tf/2016\n",
      "   |     0.00s M crossref             from /Users/dirk/github/etcbc/parallels/tf/2016\n",
      "   |     0.00s M crossrefLCS          from /Users/dirk/github/etcbc/parallels/tf/2016\n",
      "   |     0.00s M crossrefSET          from /Users/dirk/github/etcbc/parallels/tf/2016\n",
      "   |     0.00s M det                  from /Users/dirk/github/etcbc/bhsa/tf/2016\n",
      "   |     0.00s M dist                 from /Users/dirk/github/etcbc/bhsa/tf/2016\n",
      "   |     0.00s M dist_unit            from /Users/dirk/github/etcbc/bhsa/tf/2016\n",
      "   |     0.00s M distributional_parent from /Users/dirk/github/etcbc/bhsa/tf/2016\n",
      "   |     0.00s M domain               from /Users/dirk/github/etcbc/bhsa/tf/2016\n",
      "   |     0.00s M f_correction         from /Users/dirk/github/etcbc/valence/tf/2016\n",
      "   |     0.00s M freq_lex             from /Users/dirk/github/etcbc/bhsa/tf/2016\n",
      "   |     0.00s M freq_occ             from /Users/dirk/github/etcbc/bhsa/tf/2016\n",
      "   |     0.00s M function             from /Users/dirk/github/etcbc/bhsa/tf/2016\n",
      "   |     0.00s M functional_parent    from /Users/dirk/github/etcbc/bhsa/tf/2016\n",
      "   |     0.00s M g_cons               from /Users/dirk/github/etcbc/bhsa/tf/2016\n",
      "   |     0.00s M g_cons_utf8          from /Users/dirk/github/etcbc/bhsa/tf/2016\n",
      "   |     0.00s M g_lex                from /Users/dirk/github/etcbc/bhsa/tf/2016\n",
      "   |     0.00s M g_lex_utf8           from /Users/dirk/github/etcbc/bhsa/tf/2016\n",
      "   |     0.00s M g_nme                from /Users/dirk/github/etcbc/bhsa/tf/2016\n",
      "   |     0.00s M g_nme_utf8           from /Users/dirk/github/etcbc/bhsa/tf/2016\n",
      "   |     0.00s M g_pfm                from /Users/dirk/github/etcbc/bhsa/tf/2016\n",
      "   |     0.00s M g_pfm_utf8           from /Users/dirk/github/etcbc/bhsa/tf/2016\n",
      "   |     0.00s M g_prs                from /Users/dirk/github/etcbc/bhsa/tf/2016\n",
      "   |     0.00s M g_prs_utf8           from /Users/dirk/github/etcbc/bhsa/tf/2016\n",
      "   |     0.00s M g_uvf                from /Users/dirk/github/etcbc/bhsa/tf/2016\n",
      "   |     0.00s M g_uvf_utf8           from /Users/dirk/github/etcbc/bhsa/tf/2016\n",
      "   |     0.00s M g_vbe                from /Users/dirk/github/etcbc/bhsa/tf/2016\n",
      "   |     0.00s M g_vbe_utf8           from /Users/dirk/github/etcbc/bhsa/tf/2016\n",
      "   |     0.00s M g_vbs                from /Users/dirk/github/etcbc/bhsa/tf/2016\n",
      "   |     0.00s M g_vbs_utf8           from /Users/dirk/github/etcbc/bhsa/tf/2016\n",
      "   |     0.00s M g_word               from /Users/dirk/github/etcbc/bhsa/tf/2016\n",
      "   |     0.00s M g_word_utf8          from /Users/dirk/github/etcbc/bhsa/tf/2016\n",
      "   |     0.00s M gloss                from /Users/dirk/github/etcbc/bhsa/tf/2016\n",
      "   |     0.00s M gn                   from /Users/dirk/github/etcbc/bhsa/tf/2016\n",
      "   |     0.00s M grammatical          from /Users/dirk/github/etcbc/valence/tf/2016\n",
      "   |     0.00s M instruction          from /Users/dirk/github/etcbc/bhsa/tf/2016\n",
      "   |     0.00s M is_root              from /Users/dirk/github/etcbc/bhsa/tf/2016\n",
      "   |     0.00s M kind                 from /Users/dirk/github/etcbc/bhsa/tf/2016\n",
      "   |     0.00s M label                from /Users/dirk/github/etcbc/bhsa/tf/2016\n",
      "   |     0.00s M language             from /Users/dirk/github/etcbc/bhsa/tf/2016\n",
      "   |     0.00s M languageISO          from /Users/dirk/github/etcbc/bhsa/tf/2016\n",
      "   |     0.00s M lex                  from /Users/dirk/github/etcbc/bhsa/tf/2016\n",
      "   |     0.00s M lex0                 from /Users/dirk/github/etcbc/bhsa/tf/2016\n",
      "   |     0.00s M lex_utf8             from /Users/dirk/github/etcbc/bhsa/tf/2016\n",
      "   |     0.00s M lexical              from /Users/dirk/github/etcbc/valence/tf/2016\n",
      "   |     0.00s M ls                   from /Users/dirk/github/etcbc/bhsa/tf/2016\n",
      "   |     0.00s M mother               from /Users/dirk/github/etcbc/bhsa/tf/2016\n",
      "   |     0.00s M mother_object_type   from /Users/dirk/github/etcbc/bhsa/tf/2016\n",
      "   |     0.00s M nametype             from /Users/dirk/github/etcbc/bhsa/tf/2016\n",
      "   |     0.00s M nme                  from /Users/dirk/github/etcbc/bhsa/tf/2016\n",
      "   |     0.00s M nu                   from /Users/dirk/github/etcbc/bhsa/tf/2016\n",
      "   |     0.00s M number               from /Users/dirk/github/etcbc/bhsa/tf/2016\n",
      "   |     0.00s M omap@4b-2016         from /Users/dirk/github/etcbc/bhsa/tf/2016\n"
     ]
    },
    {
     "name": "stderr",
     "output_type": "stream",
     "text": [
      "   |     0.00s feature \"omap@4b-2016\" => \"omap_4b_2016\"\n"
     ]
    },
    {
     "name": "stdout",
     "output_type": "stream",
     "text": [
      "   |     0.00s M original             from /Users/dirk/github/etcbc/valence/tf/2016\n",
      "   |     0.00s M otext@phono          from /Users/dirk/github/etcbc/phono/tf/2016\n",
      "   |     0.00s M pargr                from /Users/dirk/github/etcbc/bhsa/tf/2016\n",
      "   |     0.00s M pdp                  from /Users/dirk/github/etcbc/bhsa/tf/2016\n",
      "   |     0.00s M pfm                  from /Users/dirk/github/etcbc/bhsa/tf/2016\n",
      "   |     0.00s M phono                from /Users/dirk/github/etcbc/phono/tf/2016\n",
      "   |     0.00s M phono_trailer        from /Users/dirk/github/etcbc/phono/tf/2016\n",
      "   |     0.00s M predication          from /Users/dirk/github/etcbc/valence/tf/2016\n",
      "   |     0.00s M prs                  from /Users/dirk/github/etcbc/bhsa/tf/2016\n",
      "   |     0.00s M prs_gn               from /Users/dirk/github/etcbc/bhsa/tf/2016\n",
      "   |     0.00s M prs_nu               from /Users/dirk/github/etcbc/bhsa/tf/2016\n",
      "   |     0.00s M prs_ps               from /Users/dirk/github/etcbc/bhsa/tf/2016\n",
      "   |     0.00s M ps                   from /Users/dirk/github/etcbc/bhsa/tf/2016\n",
      "   |     0.00s M qere                 from /Users/dirk/github/etcbc/bhsa/tf/2016\n",
      "   |     0.00s M qere_trailer         from /Users/dirk/github/etcbc/bhsa/tf/2016\n",
      "   |     0.00s M qere_trailer_utf8    from /Users/dirk/github/etcbc/bhsa/tf/2016\n",
      "   |     0.00s M qere_utf8            from /Users/dirk/github/etcbc/bhsa/tf/2016\n",
      "   |     0.00s M rank_lex             from /Users/dirk/github/etcbc/bhsa/tf/2016\n",
      "   |     0.00s M rank_occ             from /Users/dirk/github/etcbc/bhsa/tf/2016\n",
      "   |     0.00s M rela                 from /Users/dirk/github/etcbc/bhsa/tf/2016\n",
      "   |     0.00s M root                 from /Users/dirk/github/etcbc/bhsa/tf/2016\n",
      "   |     0.00s M s_manual             from /Users/dirk/github/etcbc/valence/tf/2016\n",
      "   |     0.00s M semantic             from /Users/dirk/github/etcbc/valence/tf/2016\n",
      "   |     0.00s M sense                from /Users/dirk/github/etcbc/valence/tf/2016\n",
      "   |     0.00s M sp                   from /Users/dirk/github/etcbc/bhsa/tf/2016\n",
      "   |     0.00s M st                   from /Users/dirk/github/etcbc/bhsa/tf/2016\n",
      "   |     0.00s M tab                  from /Users/dirk/github/etcbc/bhsa/tf/2016\n",
      "   |     0.00s M trailer              from /Users/dirk/github/etcbc/bhsa/tf/2016\n",
      "   |     0.00s M trailer_utf8         from /Users/dirk/github/etcbc/bhsa/tf/2016\n",
      "   |     0.00s M txt                  from /Users/dirk/github/etcbc/bhsa/tf/2016\n",
      "   |     0.00s M typ                  from /Users/dirk/github/etcbc/bhsa/tf/2016\n",
      "   |     0.00s M uvf                  from /Users/dirk/github/etcbc/bhsa/tf/2016\n",
      "   |     0.00s M valence              from /Users/dirk/github/etcbc/valence/tf/2016\n",
      "   |     0.00s M vbe                  from /Users/dirk/github/etcbc/bhsa/tf/2016\n",
      "   |     0.00s M vbs                  from /Users/dirk/github/etcbc/bhsa/tf/2016\n",
      "   |     0.00s M verse                from /Users/dirk/github/etcbc/bhsa/tf/2016\n",
      "   |     0.00s M voc_lex              from /Users/dirk/github/etcbc/bhsa/tf/2016\n",
      "   |     0.00s M voc_lex_utf8         from /Users/dirk/github/etcbc/bhsa/tf/2016\n",
      "   |     0.00s M vs                   from /Users/dirk/github/etcbc/bhsa/tf/2016\n",
      "   |     0.00s M vt                   from /Users/dirk/github/etcbc/bhsa/tf/2016\n",
      "   |     0.05s B otype                from /Users/dirk/github/etcbc/bhsa/tf/2016\n",
      "   |     0.61s B oslots               from /Users/dirk/github/etcbc/bhsa/tf/2016\n",
      "   |     0.03s B __levels__           from otype, oslots\n",
      "  1.09s 121 features to export to MQL ...\n",
      "  1.09s Loading 121 features\n",
      "   |     0.01s B book                 from /Users/dirk/github/etcbc/bhsa/tf/2016\n",
      "   |     0.00s B book@am              from /Users/dirk/github/etcbc/bhsa/tf/2016\n",
      "   |     0.00s B book@ar              from /Users/dirk/github/etcbc/bhsa/tf/2016\n",
      "   |     0.00s B book@bn              from /Users/dirk/github/etcbc/bhsa/tf/2016\n",
      "   |     0.00s B book@da              from /Users/dirk/github/etcbc/bhsa/tf/2016\n",
      "   |     0.00s B book@de              from /Users/dirk/github/etcbc/bhsa/tf/2016\n",
      "   |     0.00s B book@el              from /Users/dirk/github/etcbc/bhsa/tf/2016\n",
      "   |     0.00s B book@en              from /Users/dirk/github/etcbc/bhsa/tf/2016\n",
      "   |     0.00s B book@es              from /Users/dirk/github/etcbc/bhsa/tf/2016\n",
      "   |     0.00s B book@fa              from /Users/dirk/github/etcbc/bhsa/tf/2016\n",
      "   |     0.00s B book@fr              from /Users/dirk/github/etcbc/bhsa/tf/2016\n",
      "   |     0.00s B book@he              from /Users/dirk/github/etcbc/bhsa/tf/2016\n",
      "   |     0.00s B book@hi              from /Users/dirk/github/etcbc/bhsa/tf/2016\n",
      "   |     0.00s B book@id              from /Users/dirk/github/etcbc/bhsa/tf/2016\n",
      "   |     0.00s B book@ja              from /Users/dirk/github/etcbc/bhsa/tf/2016\n",
      "   |     0.00s B book@ko              from /Users/dirk/github/etcbc/bhsa/tf/2016\n",
      "   |     0.00s B book@la              from /Users/dirk/github/etcbc/bhsa/tf/2016\n",
      "   |     0.00s B book@nl              from /Users/dirk/github/etcbc/bhsa/tf/2016\n",
      "   |     0.00s B book@pa              from /Users/dirk/github/etcbc/bhsa/tf/2016\n",
      "   |     0.00s B book@pt              from /Users/dirk/github/etcbc/bhsa/tf/2016\n",
      "   |     0.00s B book@ru              from /Users/dirk/github/etcbc/bhsa/tf/2016\n",
      "   |     0.00s B book@sw              from /Users/dirk/github/etcbc/bhsa/tf/2016\n",
      "   |     0.00s B book@syc             from /Users/dirk/github/etcbc/bhsa/tf/2016\n",
      "   |     0.00s B book@tr              from /Users/dirk/github/etcbc/bhsa/tf/2016\n",
      "   |     0.00s B book@ur              from /Users/dirk/github/etcbc/bhsa/tf/2016\n",
      "   |     0.00s B book@yo              from /Users/dirk/github/etcbc/bhsa/tf/2016\n",
      "   |     0.00s B book@zh              from /Users/dirk/github/etcbc/bhsa/tf/2016\n",
      "   |     0.06s B cfunction            from /Users/dirk/github/etcbc/valence/tf/2016\n",
      "   |     0.00s B chapter              from /Users/dirk/github/etcbc/bhsa/tf/2016\n",
      "   |     0.02s B code                 from /Users/dirk/github/etcbc/bhsa/tf/2016\n",
      "   |     0.01s B crossref             from /Users/dirk/github/etcbc/parallels/tf/2016\n",
      "   |     0.04s B crossrefLCS          from /Users/dirk/github/etcbc/parallels/tf/2016\n",
      "   |     0.01s B crossrefSET          from /Users/dirk/github/etcbc/parallels/tf/2016\n",
      "   |     0.16s B det                  from /Users/dirk/github/etcbc/bhsa/tf/2016\n",
      "   |     0.14s B dist                 from /Users/dirk/github/etcbc/bhsa/tf/2016\n",
      "   |     0.29s B dist_unit            from /Users/dirk/github/etcbc/bhsa/tf/2016\n",
      "   |     1.46s B distributional_parent from /Users/dirk/github/etcbc/bhsa/tf/2016\n",
      "   |     0.03s B domain               from /Users/dirk/github/etcbc/bhsa/tf/2016\n",
      "   |     0.05s B f_correction         from /Users/dirk/github/etcbc/valence/tf/2016\n",
      "   |     0.13s B freq_lex             from /Users/dirk/github/etcbc/bhsa/tf/2016\n",
      "   |     0.12s B freq_occ             from /Users/dirk/github/etcbc/bhsa/tf/2016\n",
      "   |     0.10s B function             from /Users/dirk/github/etcbc/bhsa/tf/2016\n",
      "   |     3.02s B functional_parent    from /Users/dirk/github/etcbc/bhsa/tf/2016\n",
      "   |     0.17s B g_cons               from /Users/dirk/github/etcbc/bhsa/tf/2016\n",
      "   |     0.27s B g_cons_utf8          from /Users/dirk/github/etcbc/bhsa/tf/2016\n",
      "   |     0.15s B g_lex                from /Users/dirk/github/etcbc/bhsa/tf/2016\n",
      "   |     0.28s B g_lex_utf8           from /Users/dirk/github/etcbc/bhsa/tf/2016\n",
      "   |     0.09s B g_nme                from /Users/dirk/github/etcbc/bhsa/tf/2016\n",
      "   |     0.16s B g_nme_utf8           from /Users/dirk/github/etcbc/bhsa/tf/2016\n",
      "   |     0.19s B g_pfm                from /Users/dirk/github/etcbc/bhsa/tf/2016\n",
      "   |     0.10s B g_pfm_utf8           from /Users/dirk/github/etcbc/bhsa/tf/2016\n",
      "   |     0.12s B g_prs                from /Users/dirk/github/etcbc/bhsa/tf/2016\n",
      "   |     0.11s B g_prs_utf8           from /Users/dirk/github/etcbc/bhsa/tf/2016\n",
      "   |     0.08s B g_uvf                from /Users/dirk/github/etcbc/bhsa/tf/2016\n",
      "   |     0.08s B g_uvf_utf8           from /Users/dirk/github/etcbc/bhsa/tf/2016\n",
      "   |     0.10s B g_vbe                from /Users/dirk/github/etcbc/bhsa/tf/2016\n",
      "   |     0.16s B g_vbe_utf8           from /Users/dirk/github/etcbc/bhsa/tf/2016\n",
      "   |     0.08s B g_vbs                from /Users/dirk/github/etcbc/bhsa/tf/2016\n",
      "   |     0.08s B g_vbs_utf8           from /Users/dirk/github/etcbc/bhsa/tf/2016\n",
      "   |     0.16s B g_word               from /Users/dirk/github/etcbc/bhsa/tf/2016\n",
      "   |     0.31s B g_word_utf8          from /Users/dirk/github/etcbc/bhsa/tf/2016\n",
      "   |     0.01s B gloss                from /Users/dirk/github/etcbc/bhsa/tf/2016\n",
      "   |     0.17s B gn                   from /Users/dirk/github/etcbc/bhsa/tf/2016\n",
      "   |     0.10s B grammatical          from /Users/dirk/github/etcbc/valence/tf/2016\n",
      "   |     0.04s B instruction          from /Users/dirk/github/etcbc/bhsa/tf/2016\n",
      "   |     0.05s B is_root              from /Users/dirk/github/etcbc/bhsa/tf/2016\n",
      "   |     0.04s B kind                 from /Users/dirk/github/etcbc/bhsa/tf/2016\n",
      "   |     0.03s B label                from /Users/dirk/github/etcbc/bhsa/tf/2016\n",
      "   |     0.19s B language             from /Users/dirk/github/etcbc/bhsa/tf/2016\n",
      "   |     0.26s B languageISO          from /Users/dirk/github/etcbc/bhsa/tf/2016\n",
      "   |     0.16s B lex                  from /Users/dirk/github/etcbc/bhsa/tf/2016\n",
      "   |     0.18s B lex0                 from /Users/dirk/github/etcbc/bhsa/tf/2016\n",
      "   |     0.28s B lex_utf8             from /Users/dirk/github/etcbc/bhsa/tf/2016\n",
      "   |     0.07s B lexical              from /Users/dirk/github/etcbc/valence/tf/2016\n",
      "   |     0.22s B ls                   from /Users/dirk/github/etcbc/bhsa/tf/2016\n",
      "   |     0.24s B mother               from /Users/dirk/github/etcbc/bhsa/tf/2016\n",
      "   |     0.08s B mother_object_type   from /Users/dirk/github/etcbc/bhsa/tf/2016\n",
      "   |     0.01s B nametype             from /Users/dirk/github/etcbc/bhsa/tf/2016\n",
      "   |     0.22s B nme                  from /Users/dirk/github/etcbc/bhsa/tf/2016\n",
      "   |     0.18s B nu                   from /Users/dirk/github/etcbc/bhsa/tf/2016\n",
      "   |     0.33s B number               from /Users/dirk/github/etcbc/bhsa/tf/2016\n",
      "   |     6.65s T omap@4b-2016         from /Users/dirk/github/etcbc/bhsa/tf/2016\n",
      "   |     0.04s B original             from /Users/dirk/github/etcbc/valence/tf/2016\n",
      "   |     0.03s B pargr                from /Users/dirk/github/etcbc/bhsa/tf/2016\n",
      "   |     0.16s B pdp                  from /Users/dirk/github/etcbc/bhsa/tf/2016\n",
      "   |     0.23s B pfm                  from /Users/dirk/github/etcbc/bhsa/tf/2016\n",
      "   |     0.28s B phono                from /Users/dirk/github/etcbc/phono/tf/2016\n",
      "   |     0.23s B phono_trailer        from /Users/dirk/github/etcbc/phono/tf/2016\n",
      "   |     0.09s B predication          from /Users/dirk/github/etcbc/valence/tf/2016\n",
      "   |     0.15s B prs                  from /Users/dirk/github/etcbc/bhsa/tf/2016\n",
      "   |     0.14s B prs_gn               from /Users/dirk/github/etcbc/bhsa/tf/2016\n",
      "   |     0.14s B prs_nu               from /Users/dirk/github/etcbc/bhsa/tf/2016\n",
      "   |     0.14s B prs_ps               from /Users/dirk/github/etcbc/bhsa/tf/2016\n",
      "   |     0.30s B ps                   from /Users/dirk/github/etcbc/bhsa/tf/2016\n",
      "   |     0.00s B qere                 from /Users/dirk/github/etcbc/bhsa/tf/2016\n",
      "   |     0.00s B qere_trailer         from /Users/dirk/github/etcbc/bhsa/tf/2016\n",
      "   |     0.00s B qere_trailer_utf8    from /Users/dirk/github/etcbc/bhsa/tf/2016\n",
      "   |     0.00s B qere_utf8            from /Users/dirk/github/etcbc/bhsa/tf/2016\n",
      "   |     0.14s B rank_lex             from /Users/dirk/github/etcbc/bhsa/tf/2016\n",
      "   |     0.15s B rank_occ             from /Users/dirk/github/etcbc/bhsa/tf/2016\n",
      "   |     0.34s B rela                 from /Users/dirk/github/etcbc/bhsa/tf/2016\n",
      "   |     0.00s B root                 from /Users/dirk/github/etcbc/bhsa/tf/2016\n",
      "   |     0.05s B s_manual             from /Users/dirk/github/etcbc/valence/tf/2016\n",
      "   |     0.07s B semantic             from /Users/dirk/github/etcbc/valence/tf/2016\n",
      "   |     0.03s B sense                from /Users/dirk/github/etcbc/valence/tf/2016\n",
      "   |     0.22s B sp                   from /Users/dirk/github/etcbc/bhsa/tf/2016\n",
      "   |     0.22s B st                   from /Users/dirk/github/etcbc/bhsa/tf/2016\n",
      "   |     0.03s B tab                  from /Users/dirk/github/etcbc/bhsa/tf/2016\n",
      "   |     0.13s B trailer              from /Users/dirk/github/etcbc/bhsa/tf/2016\n",
      "   |     0.15s B trailer_utf8         from /Users/dirk/github/etcbc/bhsa/tf/2016\n",
      "   |     0.03s B txt                  from /Users/dirk/github/etcbc/bhsa/tf/2016\n",
      "   |     0.35s B typ                  from /Users/dirk/github/etcbc/bhsa/tf/2016\n",
      "   |     0.27s B uvf                  from /Users/dirk/github/etcbc/bhsa/tf/2016\n",
      "   |     0.09s B valence              from /Users/dirk/github/etcbc/valence/tf/2016\n",
      "   |     0.19s B vbe                  from /Users/dirk/github/etcbc/bhsa/tf/2016\n",
      "   |     0.18s B vbs                  from /Users/dirk/github/etcbc/bhsa/tf/2016\n",
      "   |     0.01s B verse                from /Users/dirk/github/etcbc/bhsa/tf/2016\n",
      "   |     0.00s B voc_lex              from /Users/dirk/github/etcbc/bhsa/tf/2016\n",
      "   |     0.01s B voc_lex_utf8         from /Users/dirk/github/etcbc/bhsa/tf/2016\n",
      "   |     0.21s B vs                   from /Users/dirk/github/etcbc/bhsa/tf/2016\n",
      "   |     0.28s B vt                   from /Users/dirk/github/etcbc/bhsa/tf/2016\n",
      "    24s Writing enumerations\n",
      "\tbook_am        :   39 values, 39 not a name, e.g. «መኃልየ_መኃልይ_ዘሰሎሞን»\n",
      "\tbook_ar        :   39 values, 39 not a name, e.g. «1_اخبار»\n",
      "\tbook_bn        :   39 values, 39 not a name, e.g. «আদিপুস্তক»\n",
      "\tbook_da        :   39 values, 13 not a name, e.g. «1.Kongebog»\n",
      "\tbook_de        :   39 values, 7 not a name, e.g. «1_Chronik»\n",
      "\tbook_el        :   39 values, 39 not a name, e.g. «Άσμα_Ασμάτων»\n",
      "\tbook_en        :   39 values, 6 not a name, e.g. «1_Chronicles»\n",
      "\tbook_es        :   39 values, 22 not a name, e.g. «1_Crónicas»\n",
      "\tbook_fa        :   39 values, 39 not a name, e.g. «استر»\n",
      "\tbook_fr        :   39 values, 19 not a name, e.g. «1_Chroniques»\n",
      "\tbook_he        :   39 values, 39 not a name, e.g. «איוב»\n",
      "\tbook_hi        :   39 values, 39 not a name, e.g. «1_इतिहास»\n",
      "\tbook_id        :   39 values, 7 not a name, e.g. «1_Raja-raja»\n",
      "\tbook_ja        :   39 values, 39 not a name, e.g. «アモス書»\n",
      "\tbook_ko        :   39 values, 39 not a name, e.g. «나훔»\n",
      "\tbook_nl        :   39 values, 8 not a name, e.g. «1_Koningen»\n",
      "\tbook_pa        :   39 values, 39 not a name, e.g. «1_ਇਤਹਾਸ»\n",
      "\tbook_pt        :   39 values, 21 not a name, e.g. «1_Crônicas»\n",
      "\tbook_ru        :   39 values, 39 not a name, e.g. «1-я_Паралипоменон»\n",
      "\tbook_sw        :   39 values, 6 not a name, e.g. «1_Mambo_ya_Nyakati»\n",
      "\tbook_syc       :   39 values, 39 not a name, e.g. «ܐ_ܒܪܝܡܝܢ»\n",
      "\tbook_tr        :   39 values, 16 not a name, e.g. «1_Krallar»\n",
      "\tbook_ur        :   39 values, 39 not a name, e.g. «احبار»\n",
      "\tbook_yo        :   39 values, 8 not a name, e.g. «Amọsi»\n",
      "\tbook_zh        :   38 values, 37 not a name, e.g. «以斯帖记»\n",
      "\tcfunction      :   26 values, 1 not a name, e.g. «»\n",
      "\tdomain         :    4 values, 1 not a name, e.g. «?»\n",
      "\tf_correction   :    1 values, 1 not a name, e.g. «»\n",
      "\tg_nme          :  108 values, 108 not a name, e.g. «»\n",
      "\tg_nme_utf8     :  106 values, 106 not a name, e.g. «»\n",
      "\tg_pfm          :   87 values, 87 not a name, e.g. «»\n",
      "\tg_pfm_utf8     :   86 values, 86 not a name, e.g. «»\n",
      "\tg_prs          :  128 values, 128 not a name, e.g. «»\n",
      "\tg_prs_utf8     :  127 values, 127 not a name, e.g. «»\n",
      "\tg_uvf          :   19 values, 19 not a name, e.g. «»\n",
      "\tg_uvf_utf8     :   17 values, 17 not a name, e.g. «»\n",
      "\tg_vbe          :  101 values, 101 not a name, e.g. «»\n",
      "\tg_vbe_utf8     :   97 values, 97 not a name, e.g. «»\n",
      "\tg_vbs          :   66 values, 66 not a name, e.g. «»\n",
      "\tg_vbs_utf8     :   65 values, 65 not a name, e.g. «»\n",
      "\tgrammatical    :   11 values, 2 not a name, e.g. «»\n",
      "\tinstruction    :   34 values, 20 not a name, e.g. «.#»\n",
      "\tlexical        :    4 values, 1 not a name, e.g. «»\n",
      "\tnametype       :    9 values, 4 not a name, e.g. «gens,topo»\n",
      "\tnme            :   20 values, 7 not a name, e.g. «»\n",
      "\toriginal       :    2 values, 2 not a name, e.g. «»\n",
      "\tpfm            :   11 values, 4 not a name, e.g. «»\n",
      "\tphono_trailer  :    4 values, 4 not a name, e.g. «»\n",
      "\tprs            :   22 values, 4 not a name, e.g. «H=»\n",
      "\tqere_trailer   :    5 values, 5 not a name, e.g. «»\n",
      "\tqere_trailer_utf8:    5 values, 5 not a name, e.g. «»\n",
      "\troot           :  592 values, 177 not a name, e.g. «<Assyrian>»\n",
      "\ts_manual       :    1 values, 1 not a name, e.g. «»\n",
      "\tsemantic       :    5 values, 1 not a name, e.g. «»\n",
      "\tsense          :   15 values, 11 not a name, e.g. «--»\n",
      "\ttrailer        :   12 values, 12 not a name, e.g. «»\n",
      "\ttrailer_utf8   :   12 values, 12 not a name, e.g. «»\n",
      "\ttxt            :  139 values, 60 not a name, e.g. «?»\n",
      "\tuvf            :    6 values, 1 not a name, e.g. «>»\n",
      "\tvbe            :   19 values, 6 not a name, e.g. «»\n",
      "\tvbs            :   11 values, 3 not a name, e.g. «>»\n",
      "   |     4.03s Writing an all-in-one enum with  238 values\n",
      "    28s Mapping 121 features onto 13 object types\n",
      "    37s Writing 121 features as data in 13 object types\n",
      "   |     0.00s word data ...\n",
      "   |      |     5.68s batch of size               41.0MB with   50000 of   50000 words\n",
      "   |      |       10s batch of size               41.0MB with   50000 of  100000 words\n",
      "   |      |       15s batch of size               41.2MB with   50000 of  150000 words\n",
      "   |      |       19s batch of size               41.2MB with   50000 of  200000 words\n",
      "   |      |       23s batch of size               41.4MB with   50000 of  250000 words\n",
      "   |      |       28s batch of size               41.4MB with   50000 of  300000 words\n",
      "   |      |       32s batch of size               41.6MB with   50000 of  350000 words\n",
      "   |      |       37s batch of size               41.4MB with   50000 of  400000 words\n",
      "   |      |       40s batch of size               21.9MB with   26581 of  426581 words\n",
      "   |       40s word data: 426581 objects\n",
      "   |     0.00s subphrase data ...\n",
      "   |      |     0.63s batch of size                6.7MB with   50000 of   50000 subphrases\n",
      "   |      |     1.26s batch of size                6.6MB with   50000 of  100000 subphrases\n",
      "   |      |     1.48s batch of size                1.9MB with   13792 of  113792 subphrases\n",
      "   |     1.48s subphrase data: 113792 objects\n",
      "   |     0.00s phrase_atom data ...\n",
      "   |      |     1.06s batch of size               10.8MB with   50000 of   50000 phrase_atoms\n",
      "   |      |     2.12s batch of size               10.9MB with   50000 of  100000 phrase_atoms\n",
      "   |      |     3.18s batch of size               11.0MB with   50000 of  150000 phrase_atoms\n",
      "   |      |     4.23s batch of size               11.0MB with   50000 of  200000 phrase_atoms\n",
      "   |      |     5.28s batch of size               11.0MB with   50000 of  250000 phrase_atoms\n",
      "   |      |     5.66s batch of size                3.9MB with   17515 of  267515 phrase_atoms\n",
      "   |     5.66s phrase_atom data: 267515 objects\n",
      "   |     0.00s phrase data ...\n",
      "   |      |     1.56s batch of size               15.8MB with   50000 of   50000 phrases\n",
      "   |      |     3.27s batch of size               16.1MB with   50000 of  100000 phrases\n",
      "   |      |     5.08s batch of size               16.0MB with   50000 of  150000 phrases\n",
      "   |      |     6.61s batch of size               15.7MB with   50000 of  200000 phrases\n",
      "   |      |     8.24s batch of size               15.4MB with   50000 of  250000 phrases\n",
      "   |      |     8.34s batch of size                1.0MB with    3174 of  253174 phrases\n",
      "   |     8.34s phrase data: 253174 objects\n",
      "   |     0.00s clause_atom data ...\n",
      "   |      |     1.44s batch of size               13.2MB with   50000 of   50000 clause_atoms\n",
      "   |      |     2.56s batch of size               10.7MB with   40562 of   90562 clause_atoms\n",
      "   |     2.57s clause_atom data: 90562 objects\n",
      "   |     0.00s clause data ...\n",
      "   |      |     1.47s batch of size               12.7MB with   50000 of   50000 clauses\n",
      "   |      |     2.52s batch of size                9.6MB with   38000 of   88000 clauses\n",
      "   |     2.52s clause data: 88000 objects\n",
      "   |     0.00s sentence_atom data ...\n",
      "   |      |     0.68s batch of size                6.6MB with   50000 of   50000 sentence_atoms\n",
      "   |      |     0.86s batch of size                1.9MB with   14339 of   64339 sentence_atoms\n",
      "   |     0.86s sentence_atom data: 64339 objects\n",
      "   |     0.00s sentence data ...\n",
      "   |      |     0.47s batch of size                5.1MB with   50000 of   50000 sentences\n",
      "   |      |     0.60s batch of size                1.4MB with   13570 of   63570 sentences\n",
      "   |     0.60s sentence data: 63570 objects\n",
      "   |     0.00s half_verse data ...\n",
      "   |      |     0.45s batch of size                4.5MB with   45180 of   45180 half_verses\n",
      "   |     0.45s half_verse data: 45180 objects\n",
      "   |     0.00s verse data ...\n",
      "   |      |     0.53s batch of size                4.2MB with   23213 of   23213 verses\n",
      "   |     0.53s verse data: 23213 objects\n",
      "   |     0.00s lex data ...\n",
      "   |      |     0.64s batch of size                4.7MB with    9236 of    9236 lexs\n",
      "   |     0.64s lex data: 9236 objects\n",
      "   |     0.00s chapter data ...\n",
      "   |      |     0.07s batch of size              109.3KB with     929 of     929 chapters\n",
      "   |     0.07s chapter data: 929 objects\n",
      "   |     0.00s book data ...\n",
      "   |      |     0.06s batch of size               28.3KB with      39 of      39 books\n",
      "   |     0.07s book data: 39 objects\n",
      " 1m 40s Done\n",
      "|      1m 40s \tbzipping /Users/dirk/github/etcbc/bhsa/_temp/2016/shebanq/shebanq_etcbc2016.mql\n",
      "|      1m 40s \tand delivering as /Users/dirk/github/etcbc/bhsa/shebanq/2016/shebanq_etcbc2016.mql.bz2 ...\n",
      "|      3m 22s \tDone\n",
      "\n",
      "##############################################################################################\n",
      "#                                                                                            #\n",
      "#      3m 22s Create Mysql passage db for version 2016                                       #\n",
      "#                                                                                            #\n",
      "##############################################################################################\n",
      "\n",
      "\n",
      "----------------------------------------------------------------------------------------------\n",
      "-      3m 22s Run notebook [pipeline/passageFromTf] with parameters:                         -\n",
      "----------------------------------------------------------------------------------------------\n",
      "\n",
      "|      3m 22s \tVERSION              = 2016\n",
      "|      3m 24s \tDestination /Users/dirk/github/etcbc/bhsa/shebanq/2016/shebanq_passage2016.sql.gz exists\n",
      "|      3m 24s NOTE: repo seems up to date. Will be run because of \"force=True\"\n",
      "..............................................................................................\n",
      ".      3m 24s Loading relevant features                                                      .\n",
      "..............................................................................................\n",
      "This is Text-Fabric 3.1.1\n",
      "Api reference : https://github.com/Dans-labs/text-fabric/wiki/Api\n",
      "Tutorial      : https://github.com/Dans-labs/text-fabric/blob/master/docs/tutorial.ipynb\n",
      "Example data  : https://github.com/Dans-labs/text-fabric-data\n",
      "\n",
      "112 features found and 0 ignored\n",
      "  0.00s loading features ...\n",
      "   |     0.01s B book                 from /Users/dirk/github/etcbc/bhsa/tf/2016\n",
      "   |     0.01s B chapter              from /Users/dirk/github/etcbc/bhsa/tf/2016\n",
      "   |     0.01s B verse                from /Users/dirk/github/etcbc/bhsa/tf/2016\n",
      "   |     0.15s B g_cons               from /Users/dirk/github/etcbc/bhsa/tf/2016\n",
      "   |     0.19s B g_cons_utf8          from /Users/dirk/github/etcbc/bhsa/tf/2016\n",
      "   |     0.15s B g_lex                from /Users/dirk/github/etcbc/bhsa/tf/2016\n",
      "   |     0.16s B g_word               from /Users/dirk/github/etcbc/bhsa/tf/2016\n",
      "   |     0.23s B g_word_utf8          from /Users/dirk/github/etcbc/bhsa/tf/2016\n",
      "   |     0.22s B lex_utf8             from /Users/dirk/github/etcbc/bhsa/tf/2016\n",
      "   |     0.22s B phono                from /Users/dirk/github/etcbc/phono/tf/2016\n",
      "   |     0.08s B phono_trailer        from /Users/dirk/github/etcbc/phono/tf/2016\n",
      "   |     0.00s B qere_trailer_utf8    from /Users/dirk/github/etcbc/bhsa/tf/2016\n",
      "   |     0.00s B qere_utf8            from /Users/dirk/github/etcbc/bhsa/tf/2016\n",
      "   |     0.09s B trailer_utf8         from /Users/dirk/github/etcbc/bhsa/tf/2016\n",
      "   |     0.13s B languageISO          from /Users/dirk/github/etcbc/bhsa/tf/2016\n",
      "   |     0.14s B lex                  from /Users/dirk/github/etcbc/bhsa/tf/2016\n",
      "   |     0.13s B sp                   from /Users/dirk/github/etcbc/bhsa/tf/2016\n",
      "   |     0.13s B pdp                  from /Users/dirk/github/etcbc/bhsa/tf/2016\n",
      "   |     0.13s B ls                   from /Users/dirk/github/etcbc/bhsa/tf/2016\n",
      "   |     0.01s B voc_lex              from /Users/dirk/github/etcbc/bhsa/tf/2016\n",
      "   |     0.01s B voc_lex_utf8         from /Users/dirk/github/etcbc/bhsa/tf/2016\n",
      "   |     0.14s B vt                   from /Users/dirk/github/etcbc/bhsa/tf/2016\n",
      "   |     0.14s B vs                   from /Users/dirk/github/etcbc/bhsa/tf/2016\n",
      "   |     0.11s B gn                   from /Users/dirk/github/etcbc/bhsa/tf/2016\n",
      "   |     0.13s B nu                   from /Users/dirk/github/etcbc/bhsa/tf/2016\n",
      "   |     0.14s B ps                   from /Users/dirk/github/etcbc/bhsa/tf/2016\n",
      "   |     0.12s B st                   from /Users/dirk/github/etcbc/bhsa/tf/2016\n",
      "   |     0.13s B nme                  from /Users/dirk/github/etcbc/bhsa/tf/2016\n",
      "   |     0.14s B pfm                  from /Users/dirk/github/etcbc/bhsa/tf/2016\n",
      "   |     0.16s B prs                  from /Users/dirk/github/etcbc/bhsa/tf/2016\n",
      "   |     0.15s B uvf                  from /Users/dirk/github/etcbc/bhsa/tf/2016\n",
      "   |     0.14s B vbe                  from /Users/dirk/github/etcbc/bhsa/tf/2016\n",
      "   |     0.15s B vbs                  from /Users/dirk/github/etcbc/bhsa/tf/2016\n",
      "   |     0.01s B gloss                from /Users/dirk/github/etcbc/bhsa/tf/2016\n",
      "   |     0.00s B nametype             from /Users/dirk/github/etcbc/bhsa/tf/2016\n",
      "   |     0.00s B root                 from /Users/dirk/github/etcbc/bhsa/tf/2016\n",
      "   |     0.04s B pargr                from /Users/dirk/github/etcbc/bhsa/tf/2016\n",
      "   |     0.09s B function             from /Users/dirk/github/etcbc/bhsa/tf/2016\n",
      "   |     0.24s B typ                  from /Users/dirk/github/etcbc/bhsa/tf/2016\n",
      "   |     0.25s B rela                 from /Users/dirk/github/etcbc/bhsa/tf/2016\n",
      "   |     0.03s B txt                  from /Users/dirk/github/etcbc/bhsa/tf/2016\n",
      "   |     0.16s B det                  from /Users/dirk/github/etcbc/bhsa/tf/2016\n",
      "   |     0.03s B code                 from /Users/dirk/github/etcbc/bhsa/tf/2016\n",
      "   |     0.02s B tab                  from /Users/dirk/github/etcbc/bhsa/tf/2016\n",
      "   |     0.24s B number               from /Users/dirk/github/etcbc/bhsa/tf/2016\n",
      "   |     0.11s B freq_lex             from /Users/dirk/github/etcbc/bhsa/tf/2016\n",
      "   |     0.18s B freq_occ             from /Users/dirk/github/etcbc/bhsa/tf/2016\n",
      "   |     0.13s B rank_lex             from /Users/dirk/github/etcbc/bhsa/tf/2016\n",
      "   |     0.15s B rank_occ             from /Users/dirk/github/etcbc/bhsa/tf/2016\n",
      "   |     0.00s Feature overview: 105 for nodes; 5 for edges; 2 configs; 7 computed\n",
      "  9.13s All features loaded/computed - for details use loadLog()\n",
      "|      3m 34s Lexicon arc has   708 entries\n",
      "|      3m 34s Lexicon hbo has  8528 entries\n",
      "|      3m 34s Building qere index\n",
      "|      3m 35s Found 1892 qeres\n",
      "|      3m 35s Building para index\n",
      "|      3m 35s Found para information for 90562 clause_atoms\n",
      "..............................................................................................\n",
      ".      3m 35s Fill the tables ...                                                            .\n",
      "..............................................................................................\n",
      "|      3m 43s OK    book           name           : max size =      13 of    32\n",
      "|      3m 43s OK    clause_atom    text           : max size =     271 of   512\n",
      "|      3m 43s OK    lexicon        entry          : max size =      14 of    32\n",
      "|      3m 43s OK    lexicon        entry_heb      : max size =      15 of    32\n",
      "|      3m 43s OK    lexicon        entryid        : max size =      15 of    32\n",
      "|      3m 43s OK    lexicon        entryid_heb    : max size =      16 of    32\n",
      "|      3m 43s OK    lexicon        g_entry        : max size =      24 of    32\n",
      "|      3m 43s OK    lexicon        g_entry_heb    : max size =      23 of    32\n",
      "|      3m 43s OK    lexicon        gloss          : max size =      27 of    32\n",
      "|      3m 43s OK    lexicon        id             : max size =      16 of    32\n",
      "|      3m 43s OK    lexicon        lan            : max size =       3 of     4\n",
      "|      3m 43s OK    lexicon        nametype       : max size =      14 of    16\n",
      "|      3m 43s OK    lexicon        pos            : max size =       4 of     8\n",
      "|      3m 43s OK    lexicon        root           : max size =      11 of    32\n",
      "|      3m 43s OK    lexicon        subpos         : max size =       4 of     8\n",
      "|      3m 43s OK    verse          text           : max size =     449 of  1024\n",
      "|      3m 43s OK    verse          xml            : max size =    2869 of  4096\n",
      "|      3m 43s Done\n",
      "All lexemes have been found in the lexicon\n",
      "..............................................................................................\n",
      ".      3m 43s Generating word info data ...                                                  .\n",
      "..............................................................................................\n",
      "|      3m 43s \tGenesis\n",
      "|      3m 57s \tExodus\n",
      "|      4m 09s \tLeviticus\n",
      "|      4m 18s \tNumeri\n",
      "|      4m 30s \tDeuteronomium\n",
      "|      4m 40s \tJosua\n",
      "|      4m 46s \tJudices\n",
      "|      4m 53s \tSamuel_I\n",
      "|      5m 02s \tSamuel_II\n",
      "|      5m 10s \tReges_I\n",
      "|      5m 18s \tReges_II\n",
      "|      5m 27s \tJesaia\n",
      "|      5m 38s \tJeremia\n",
      "|      5m 52s \tEzechiel\n",
      "|      6m 05s \tHosea\n",
      "|      6m 06s \tJoel\n",
      "|      6m 07s \tAmos\n",
      "|      6m 08s \tObadia\n",
      "|      6m 08s \tJona\n",
      "|      6m 09s \tMicha\n",
      "|      6m 10s \tNahum\n",
      "|      6m 10s \tHabakuk\n",
      "|      6m 11s \tZephania\n",
      "|      6m 11s \tHaggai\n",
      "|      6m 12s \tSacharia\n",
      "|      6m 14s \tMaleachi\n",
      "|      6m 14s \tPsalmi\n",
      "|      6m 27s \tIob\n",
      "|      6m 32s \tProverbia\n",
      "|      6m 37s \tRuth\n",
      "|      6m 38s \tCanticum\n",
      "|      6m 39s \tEcclesiastes\n",
      "|      6m 41s \tThreni\n",
      "|      6m 42s \tEsther\n",
      "|      6m 44s \tDaniel\n",
      "|      6m 48s \tEsra\n",
      "|      6m 50s \tNehemia\n",
      "|      6m 54s \tChronica_I\n",
      "|      7m 01s \tChronica_II\n",
      "|      7m 10s Done\n",
      "OK    word           word_heb            : max size =      28 of    32\n",
      "OK    word           word_ktv            : max size =      15 of    32\n",
      "OK    word           word_vlex           : max size =      23 of    32\n",
      "OK    word           word_clex           : max size =      15 of    32\n",
      "OK    word           word_tran           : max size =      28 of    32\n",
      "OK    word           word_phono          : max size =      23 of    32\n",
      "OK    word           word_phono_sep      : max size =       3 of     8\n",
      "OK    word           word_lex            : max size =      15 of    32\n",
      "OK    word           word_glex           : max size =      24 of    32\n",
      "OK    word           word_gloss          : max size =      27 of    32\n",
      "OK    word           word_lang           : max size =       3 of     8\n",
      "OK    word           word_pos            : max size =       4 of     8\n",
      "OK    word           word_pdp            : max size =       4 of     8\n",
      "OK    word           word_subpos         : max size =       4 of     8\n",
      "OK    word           word_nmtp           : max size =      14 of    32\n",
      "OK    word           word_tense          : max size =       4 of     8\n",
      "OK    word           word_stem           : max size =       4 of     8\n",
      "OK    word           word_gender         : max size =       7 of     8\n",
      "OK    word           word_gnumber        : max size =       7 of     8\n",
      "OK    word           word_person         : max size =       7 of     8\n",
      "OK    word           word_state          : max size =       2 of     8\n",
      "OK    word           word_nme            : max size =       6 of     8\n",
      "OK    word           word_pfm            : max size =       6 of     8\n",
      "OK    word           word_prs            : max size =       6 of     8\n",
      "OK    word           word_uvf            : max size =       6 of     8\n",
      "OK    word           word_vbe            : max size =       3 of     8\n",
      "OK    word           word_vbs            : max size =       6 of     8\n",
      "OK    word           subphrase_border    : max size =       8 of    16\n",
      "OK    word           subphrase_number    : max size =      14 of    32\n",
      "OK    word           subphrase_rela      : max size =       3 of     8\n",
      "OK    word           phrase_border       : max size =       5 of     8\n",
      "OK    word           phrase_atom_rela    : max size =       4 of     8\n",
      "OK    word           phrase_function     : max size =       4 of     8\n",
      "OK    word           phrase_rela         : max size =       4 of     8\n",
      "OK    word           phrase_typ          : max size =       4 of     8\n",
      "OK    word           phrase_det          : max size =       3 of     8\n",
      "OK    word           clause_border       : max size =       5 of     8\n",
      "OK    word           clause_atom_pargr   : max size =      39 of    64\n",
      "OK    word           clause_rela         : max size =       4 of     8\n",
      "OK    word           clause_typ          : max size =       4 of     8\n",
      "OK    word           clause_txt          : max size =       7 of     8\n",
      "OK    word           sentence_border     : max size =       5 of     8\n",
      "..............................................................................................\n",
      ".      7m 10s Generating SQL ...                                                             .\n",
      "..............................................................................................\n",
      "|      7m 10s \ttable book\n",
      "|      7m 10s \ttable chapter\n",
      "|      7m 10s \ttable verse\n",
      "|      7m 10s \ttable clause_atom\n",
      "|      7m 11s \ttable lexicon\n",
      "|      7m 11s \ttable word\n",
      "|      7m 11s \ttable word_verse\n",
      "|      7m 12s Done\n",
      "|      7m 41s SUCCESS passageFromTf\n",
      "\n",
      "----------------------------------------------------------------------------------------------\n",
      "-      7m 41s SUCCES [pipeline/passageFromTf]                                                -\n",
      "----------------------------------------------------------------------------------------------\n",
      "\n",
      "|      7m 41s \tDone\n",
      "\n",
      "##############################################################################################\n",
      "#                                                                                            #\n",
      "#      7m 42s Aggregate MQL for version 2017                                                 #\n",
      "#                                                                                            #\n",
      "##############################################################################################\n",
      "\n",
      "|      7m 42s \tWork to do because the tf in bhsa is recently compiled\n",
      "|      7m 42s \t\t/Users/dirk/github/etcbc/bhsa/tf/2017/.tf\n",
      "\n",
      "##############################################################################################\n",
      "#                                                                                            #\n",
      "#      7m 42s Using TF to make an MQL export                                                 #\n",
      "#                                                                                            #\n",
      "##############################################################################################\n",
      "\n",
      "This is Text-Fabric 3.1.1\n",
      "Api reference : https://github.com/Dans-labs/text-fabric/wiki/Api\n",
      "Tutorial      : https://github.com/Dans-labs/text-fabric/blob/master/docs/tutorial.ipynb\n",
      "Example data  : https://github.com/Dans-labs/text-fabric-data\n",
      "\n",
      "131 features found and 0 ignored\n",
      "  0.00s Checking features of dataset shebanq_etcbc2017\n",
      "   |     0.00s M book                 from /Users/dirk/github/etcbc/bhsa/tf/2017\n",
      "   |     0.00s M book@am              from /Users/dirk/github/etcbc/bhsa/tf/2017\n"
     ]
    },
    {
     "name": "stderr",
     "output_type": "stream",
     "text": [
      "   |     0.00s feature \"book@am\" => \"book_am\"\n"
     ]
    },
    {
     "name": "stdout",
     "output_type": "stream",
     "text": [
      "   |     0.00s M book@ar              from /Users/dirk/github/etcbc/bhsa/tf/2017\n"
     ]
    },
    {
     "name": "stderr",
     "output_type": "stream",
     "text": [
      "   |     0.00s feature \"book@ar\" => \"book_ar\"\n"
     ]
    },
    {
     "name": "stdout",
     "output_type": "stream",
     "text": [
      "   |     0.00s M book@bn              from /Users/dirk/github/etcbc/bhsa/tf/2017\n"
     ]
    },
    {
     "name": "stderr",
     "output_type": "stream",
     "text": [
      "   |     0.00s feature \"book@bn\" => \"book_bn\"\n"
     ]
    },
    {
     "name": "stdout",
     "output_type": "stream",
     "text": [
      "   |     0.00s M book@da              from /Users/dirk/github/etcbc/bhsa/tf/2017\n"
     ]
    },
    {
     "name": "stderr",
     "output_type": "stream",
     "text": [
      "   |     0.00s feature \"book@da\" => \"book_da\"\n"
     ]
    },
    {
     "name": "stdout",
     "output_type": "stream",
     "text": [
      "   |     0.00s M book@de              from /Users/dirk/github/etcbc/bhsa/tf/2017\n"
     ]
    },
    {
     "name": "stderr",
     "output_type": "stream",
     "text": [
      "   |     0.00s feature \"book@de\" => \"book_de\"\n"
     ]
    },
    {
     "name": "stdout",
     "output_type": "stream",
     "text": [
      "   |     0.00s M book@el              from /Users/dirk/github/etcbc/bhsa/tf/2017\n"
     ]
    },
    {
     "name": "stderr",
     "output_type": "stream",
     "text": [
      "   |     0.00s feature \"book@el\" => \"book_el\"\n"
     ]
    },
    {
     "name": "stdout",
     "output_type": "stream",
     "text": [
      "   |     0.00s M book@en              from /Users/dirk/github/etcbc/bhsa/tf/2017\n"
     ]
    },
    {
     "name": "stderr",
     "output_type": "stream",
     "text": [
      "   |     0.00s feature \"book@en\" => \"book_en\"\n"
     ]
    },
    {
     "name": "stdout",
     "output_type": "stream",
     "text": [
      "   |     0.00s M book@es              from /Users/dirk/github/etcbc/bhsa/tf/2017\n"
     ]
    },
    {
     "name": "stderr",
     "output_type": "stream",
     "text": [
      "   |     0.00s feature \"book@es\" => \"book_es\"\n"
     ]
    },
    {
     "name": "stdout",
     "output_type": "stream",
     "text": [
      "   |     0.00s M book@fa              from /Users/dirk/github/etcbc/bhsa/tf/2017\n"
     ]
    },
    {
     "name": "stderr",
     "output_type": "stream",
     "text": [
      "   |     0.00s feature \"book@fa\" => \"book_fa\"\n"
     ]
    },
    {
     "name": "stdout",
     "output_type": "stream",
     "text": [
      "   |     0.00s M book@fr              from /Users/dirk/github/etcbc/bhsa/tf/2017\n"
     ]
    },
    {
     "name": "stderr",
     "output_type": "stream",
     "text": [
      "   |     0.00s feature \"book@fr\" => \"book_fr\"\n"
     ]
    },
    {
     "name": "stdout",
     "output_type": "stream",
     "text": [
      "   |     0.00s M book@he              from /Users/dirk/github/etcbc/bhsa/tf/2017\n"
     ]
    },
    {
     "name": "stderr",
     "output_type": "stream",
     "text": [
      "   |     0.00s feature \"book@he\" => \"book_he\"\n"
     ]
    },
    {
     "name": "stdout",
     "output_type": "stream",
     "text": [
      "   |     0.00s M book@hi              from /Users/dirk/github/etcbc/bhsa/tf/2017\n"
     ]
    },
    {
     "name": "stderr",
     "output_type": "stream",
     "text": [
      "   |     0.00s feature \"book@hi\" => \"book_hi\"\n"
     ]
    },
    {
     "name": "stdout",
     "output_type": "stream",
     "text": [
      "   |     0.00s M book@id              from /Users/dirk/github/etcbc/bhsa/tf/2017\n"
     ]
    },
    {
     "name": "stderr",
     "output_type": "stream",
     "text": [
      "   |     0.00s feature \"book@id\" => \"book_id\"\n"
     ]
    },
    {
     "name": "stdout",
     "output_type": "stream",
     "text": [
      "   |     0.00s M book@ja              from /Users/dirk/github/etcbc/bhsa/tf/2017\n"
     ]
    },
    {
     "name": "stderr",
     "output_type": "stream",
     "text": [
      "   |     0.00s feature \"book@ja\" => \"book_ja\"\n"
     ]
    },
    {
     "name": "stdout",
     "output_type": "stream",
     "text": [
      "   |     0.00s M book@ko              from /Users/dirk/github/etcbc/bhsa/tf/2017\n"
     ]
    },
    {
     "name": "stderr",
     "output_type": "stream",
     "text": [
      "   |     0.00s feature \"book@ko\" => \"book_ko\"\n"
     ]
    },
    {
     "name": "stdout",
     "output_type": "stream",
     "text": [
      "   |     0.00s M book@la              from /Users/dirk/github/etcbc/bhsa/tf/2017\n"
     ]
    },
    {
     "name": "stderr",
     "output_type": "stream",
     "text": [
      "   |     0.00s feature \"book@la\" => \"book_la\"\n"
     ]
    },
    {
     "name": "stdout",
     "output_type": "stream",
     "text": [
      "   |     0.00s M book@nl              from /Users/dirk/github/etcbc/bhsa/tf/2017\n"
     ]
    },
    {
     "name": "stderr",
     "output_type": "stream",
     "text": [
      "   |     0.00s feature \"book@nl\" => \"book_nl\"\n"
     ]
    },
    {
     "name": "stdout",
     "output_type": "stream",
     "text": [
      "   |     0.00s M book@pa              from /Users/dirk/github/etcbc/bhsa/tf/2017\n"
     ]
    },
    {
     "name": "stderr",
     "output_type": "stream",
     "text": [
      "   |     0.01s feature \"book@pa\" => \"book_pa\"\n"
     ]
    },
    {
     "name": "stdout",
     "output_type": "stream",
     "text": [
      "   |     0.00s M book@pt              from /Users/dirk/github/etcbc/bhsa/tf/2017\n"
     ]
    },
    {
     "name": "stderr",
     "output_type": "stream",
     "text": [
      "   |     0.00s feature \"book@pt\" => \"book_pt\"\n"
     ]
    },
    {
     "name": "stdout",
     "output_type": "stream",
     "text": [
      "   |     0.00s M book@ru              from /Users/dirk/github/etcbc/bhsa/tf/2017\n"
     ]
    },
    {
     "name": "stderr",
     "output_type": "stream",
     "text": [
      "   |     0.00s feature \"book@ru\" => \"book_ru\"\n"
     ]
    },
    {
     "name": "stdout",
     "output_type": "stream",
     "text": [
      "   |     0.00s M book@sw              from /Users/dirk/github/etcbc/bhsa/tf/2017\n"
     ]
    },
    {
     "name": "stderr",
     "output_type": "stream",
     "text": [
      "   |     0.00s feature \"book@sw\" => \"book_sw\"\n"
     ]
    },
    {
     "name": "stdout",
     "output_type": "stream",
     "text": [
      "   |     0.00s M book@syc             from /Users/dirk/github/etcbc/bhsa/tf/2017\n"
     ]
    },
    {
     "name": "stderr",
     "output_type": "stream",
     "text": [
      "   |     0.00s feature \"book@syc\" => \"book_syc\"\n"
     ]
    },
    {
     "name": "stdout",
     "output_type": "stream",
     "text": [
      "   |     0.00s M book@tr              from /Users/dirk/github/etcbc/bhsa/tf/2017\n"
     ]
    },
    {
     "name": "stderr",
     "output_type": "stream",
     "text": [
      "   |     0.00s feature \"book@tr\" => \"book_tr\"\n"
     ]
    },
    {
     "name": "stdout",
     "output_type": "stream",
     "text": [
      "   |     0.00s M book@ur              from /Users/dirk/github/etcbc/bhsa/tf/2017\n"
     ]
    },
    {
     "name": "stderr",
     "output_type": "stream",
     "text": [
      "   |     0.00s feature \"book@ur\" => \"book_ur\"\n"
     ]
    },
    {
     "name": "stdout",
     "output_type": "stream",
     "text": [
      "   |     0.00s M book@yo              from /Users/dirk/github/etcbc/bhsa/tf/2017\n"
     ]
    },
    {
     "name": "stderr",
     "output_type": "stream",
     "text": [
      "   |     0.00s feature \"book@yo\" => \"book_yo\"\n"
     ]
    },
    {
     "name": "stdout",
     "output_type": "stream",
     "text": [
      "   |     0.00s M book@zh              from /Users/dirk/github/etcbc/bhsa/tf/2017\n"
     ]
    },
    {
     "name": "stderr",
     "output_type": "stream",
     "text": [
      "   |     0.00s feature \"book@zh\" => \"book_zh\"\n"
     ]
    },
    {
     "name": "stdout",
     "output_type": "stream",
     "text": [
      "   |     0.00s M cfunction            from /Users/dirk/github/etcbc/valence/tf/2017\n",
      "   |     0.00s M chapter              from /Users/dirk/github/etcbc/bhsa/tf/2017\n",
      "   |     0.00s M code                 from /Users/dirk/github/etcbc/bhsa/tf/2017\n",
      "   |     0.00s M crossref             from /Users/dirk/github/etcbc/parallels/tf/2017\n",
      "   |     0.00s M crossrefLCS          from /Users/dirk/github/etcbc/parallels/tf/2017\n",
      "   |     0.00s M crossrefSET          from /Users/dirk/github/etcbc/parallels/tf/2017\n",
      "   |     0.00s M det                  from /Users/dirk/github/etcbc/bhsa/tf/2017\n",
      "   |     0.00s M dist                 from /Users/dirk/github/etcbc/bhsa/tf/2017\n",
      "   |     0.00s M dist_unit            from /Users/dirk/github/etcbc/bhsa/tf/2017\n",
      "   |     0.00s M distributional_parent from /Users/dirk/github/etcbc/bhsa/tf/2017\n",
      "   |     0.00s M domain               from /Users/dirk/github/etcbc/bhsa/tf/2017\n",
      "   |     0.00s M f_correction         from /Users/dirk/github/etcbc/valence/tf/2017\n",
      "   |     0.00s M freq_lex             from /Users/dirk/github/etcbc/bhsa/tf/2017\n",
      "   |     0.00s M freq_occ             from /Users/dirk/github/etcbc/bhsa/tf/2017\n",
      "   |     0.00s M function             from /Users/dirk/github/etcbc/bhsa/tf/2017\n",
      "   |     0.00s M functional_parent    from /Users/dirk/github/etcbc/bhsa/tf/2017\n",
      "   |     0.00s M g_cons               from /Users/dirk/github/etcbc/bhsa/tf/2017\n",
      "   |     0.00s M g_cons_utf8          from /Users/dirk/github/etcbc/bhsa/tf/2017\n",
      "   |     0.00s M g_lex                from /Users/dirk/github/etcbc/bhsa/tf/2017\n",
      "   |     0.00s M g_lex_utf8           from /Users/dirk/github/etcbc/bhsa/tf/2017\n",
      "   |     0.00s M g_nme                from /Users/dirk/github/etcbc/bhsa/tf/2017\n",
      "   |     0.00s M g_nme_utf8           from /Users/dirk/github/etcbc/bhsa/tf/2017\n",
      "   |     0.00s M g_pfm                from /Users/dirk/github/etcbc/bhsa/tf/2017\n",
      "   |     0.00s M g_pfm_utf8           from /Users/dirk/github/etcbc/bhsa/tf/2017\n",
      "   |     0.00s M g_prs                from /Users/dirk/github/etcbc/bhsa/tf/2017\n",
      "   |     0.00s M g_prs_utf8           from /Users/dirk/github/etcbc/bhsa/tf/2017\n",
      "   |     0.00s M g_uvf                from /Users/dirk/github/etcbc/bhsa/tf/2017\n",
      "   |     0.00s M g_uvf_utf8           from /Users/dirk/github/etcbc/bhsa/tf/2017\n",
      "   |     0.00s M g_vbe                from /Users/dirk/github/etcbc/bhsa/tf/2017\n",
      "   |     0.00s M g_vbe_utf8           from /Users/dirk/github/etcbc/bhsa/tf/2017\n",
      "   |     0.00s M g_vbs                from /Users/dirk/github/etcbc/bhsa/tf/2017\n",
      "   |     0.00s M g_vbs_utf8           from /Users/dirk/github/etcbc/bhsa/tf/2017\n",
      "   |     0.00s M g_word               from /Users/dirk/github/etcbc/bhsa/tf/2017\n",
      "   |     0.00s M g_word_utf8          from /Users/dirk/github/etcbc/bhsa/tf/2017\n",
      "   |     0.00s M gloss                from /Users/dirk/github/etcbc/bhsa/tf/2017\n",
      "   |     0.00s M gn                   from /Users/dirk/github/etcbc/bhsa/tf/2017\n",
      "   |     0.00s M grammatical          from /Users/dirk/github/etcbc/valence/tf/2017\n",
      "   |     0.00s M instruction          from /Users/dirk/github/etcbc/bhsa/tf/2017\n",
      "   |     0.00s M is_root              from /Users/dirk/github/etcbc/bhsa/tf/2017\n",
      "   |     0.00s M kind                 from /Users/dirk/github/etcbc/bhsa/tf/2017\n",
      "   |     0.00s M kq_hybrid            from /Users/dirk/github/etcbc/bhsa/tf/2017\n",
      "   |     0.00s M kq_hybrid_utf8       from /Users/dirk/github/etcbc/bhsa/tf/2017\n",
      "   |     0.00s M label                from /Users/dirk/github/etcbc/bhsa/tf/2017\n",
      "   |     0.00s M language             from /Users/dirk/github/etcbc/bhsa/tf/2017\n",
      "   |     0.00s M languageISO          from /Users/dirk/github/etcbc/bhsa/tf/2017\n",
      "   |     0.00s M lex                  from /Users/dirk/github/etcbc/bhsa/tf/2017\n",
      "   |     0.00s M lex0                 from /Users/dirk/github/etcbc/bhsa/tf/2017\n",
      "   |     0.00s M lex_utf8             from /Users/dirk/github/etcbc/bhsa/tf/2017\n",
      "   |     0.00s M lexeme_count         from /Users/dirk/github/etcbc/bhsa/tf/2017\n",
      "   |     0.00s M lexical              from /Users/dirk/github/etcbc/valence/tf/2017\n",
      "   |     0.00s M ls                   from /Users/dirk/github/etcbc/bhsa/tf/2017\n",
      "   |     0.00s M mother               from /Users/dirk/github/etcbc/bhsa/tf/2017\n",
      "   |     0.00s M mother_object_type   from /Users/dirk/github/etcbc/bhsa/tf/2017\n",
      "   |     0.00s M nametype             from /Users/dirk/github/etcbc/bhsa/tf/2017\n",
      "   |     0.00s M nme                  from /Users/dirk/github/etcbc/bhsa/tf/2017\n",
      "   |     0.00s M nu                   from /Users/dirk/github/etcbc/bhsa/tf/2017\n",
      "   |     0.00s M number               from /Users/dirk/github/etcbc/bhsa/tf/2017\n",
      "   |     0.00s M omap@2016-2017       from /Users/dirk/github/etcbc/bhsa/tf/2017\n"
     ]
    },
    {
     "name": "stderr",
     "output_type": "stream",
     "text": [
      "   |     0.00s feature \"omap@2016-2017\" => \"omap_2016_2017\"\n"
     ]
    },
    {
     "name": "stdout",
     "output_type": "stream",
     "text": [
      "   |     0.00s M original             from /Users/dirk/github/etcbc/valence/tf/2017\n",
      "   |     0.00s M otext@phono          from /Users/dirk/github/etcbc/phono/tf/2017\n",
      "   |     0.00s M pargr                from /Users/dirk/github/etcbc/bhsa/tf/2017\n",
      "   |     0.00s M pdp                  from /Users/dirk/github/etcbc/bhsa/tf/2017\n",
      "   |     0.00s M pfm                  from /Users/dirk/github/etcbc/bhsa/tf/2017\n",
      "   |     0.00s M phono                from /Users/dirk/github/etcbc/phono/tf/2017\n",
      "   |     0.00s M phono_trailer        from /Users/dirk/github/etcbc/phono/tf/2017\n",
      "   |     0.00s M predication          from /Users/dirk/github/etcbc/valence/tf/2017\n",
      "   |     0.00s M prs                  from /Users/dirk/github/etcbc/bhsa/tf/2017\n",
      "   |     0.00s M prs_gn               from /Users/dirk/github/etcbc/bhsa/tf/2017\n",
      "   |     0.00s M prs_nu               from /Users/dirk/github/etcbc/bhsa/tf/2017\n",
      "   |     0.00s M prs_ps               from /Users/dirk/github/etcbc/bhsa/tf/2017\n",
      "   |     0.00s M ps                   from /Users/dirk/github/etcbc/bhsa/tf/2017\n",
      "   |     0.00s M qere                 from /Users/dirk/github/etcbc/bhsa/tf/2017\n",
      "   |     0.00s M qere_trailer         from /Users/dirk/github/etcbc/bhsa/tf/2017\n",
      "   |     0.00s M qere_trailer_utf8    from /Users/dirk/github/etcbc/bhsa/tf/2017\n",
      "   |     0.00s M qere_utf8            from /Users/dirk/github/etcbc/bhsa/tf/2017\n",
      "   |     0.00s M rank_lex             from /Users/dirk/github/etcbc/bhsa/tf/2017\n",
      "   |     0.00s M rank_occ             from /Users/dirk/github/etcbc/bhsa/tf/2017\n",
      "   |     0.00s M rela                 from /Users/dirk/github/etcbc/bhsa/tf/2017\n",
      "   |     0.00s M root                 from /Users/dirk/github/etcbc/bhsa/tf/2017\n",
      "   |     0.00s M s_manual             from /Users/dirk/github/etcbc/valence/tf/2017\n",
      "   |     0.00s M semantic             from /Users/dirk/github/etcbc/valence/tf/2017\n",
      "   |     0.00s M sense                from /Users/dirk/github/etcbc/valence/tf/2017\n",
      "   |     0.00s M sp                   from /Users/dirk/github/etcbc/bhsa/tf/2017\n",
      "   |     0.00s M st                   from /Users/dirk/github/etcbc/bhsa/tf/2017\n",
      "   |     0.00s M suffix_gender        from /Users/dirk/github/etcbc/bhsa/tf/2017\n",
      "   |     0.00s M suffix_number        from /Users/dirk/github/etcbc/bhsa/tf/2017\n",
      "   |     0.00s M suffix_person        from /Users/dirk/github/etcbc/bhsa/tf/2017\n",
      "   |     0.00s M tab                  from /Users/dirk/github/etcbc/bhsa/tf/2017\n",
      "   |     0.00s M trailer              from /Users/dirk/github/etcbc/bhsa/tf/2017\n",
      "   |     0.00s M trailer_utf8         from /Users/dirk/github/etcbc/bhsa/tf/2017\n",
      "   |     0.00s M txt                  from /Users/dirk/github/etcbc/bhsa/tf/2017\n",
      "   |     0.00s M typ                  from /Users/dirk/github/etcbc/bhsa/tf/2017\n",
      "   |     0.00s M uvf                  from /Users/dirk/github/etcbc/bhsa/tf/2017\n",
      "   |     0.00s M valence              from /Users/dirk/github/etcbc/valence/tf/2017\n",
      "   |     0.00s M vbe                  from /Users/dirk/github/etcbc/bhsa/tf/2017\n",
      "   |     0.00s M vbs                  from /Users/dirk/github/etcbc/bhsa/tf/2017\n",
      "   |     0.00s M verse                from /Users/dirk/github/etcbc/bhsa/tf/2017\n",
      "   |     0.00s M voc_lex              from /Users/dirk/github/etcbc/bhsa/tf/2017\n",
      "   |     0.00s M voc_lex_utf8         from /Users/dirk/github/etcbc/bhsa/tf/2017\n",
      "   |     0.00s M vs                   from /Users/dirk/github/etcbc/bhsa/tf/2017\n",
      "   |     0.00s M vt                   from /Users/dirk/github/etcbc/bhsa/tf/2017\n",
      "   |     0.03s B otype                from /Users/dirk/github/etcbc/bhsa/tf/2017\n",
      "   |     0.49s B oslots               from /Users/dirk/github/etcbc/bhsa/tf/2017\n",
      "   |     0.00s B __levels__           from otype, oslots\n",
      "  0.98s 127 features to export to MQL ...\n",
      "  0.99s Loading 127 features\n",
      "   |     0.01s B book                 from /Users/dirk/github/etcbc/bhsa/tf/2017\n",
      "   |     0.00s B book@am              from /Users/dirk/github/etcbc/bhsa/tf/2017\n",
      "   |     0.00s B book@ar              from /Users/dirk/github/etcbc/bhsa/tf/2017\n",
      "   |     0.00s B book@bn              from /Users/dirk/github/etcbc/bhsa/tf/2017\n",
      "   |     0.00s B book@da              from /Users/dirk/github/etcbc/bhsa/tf/2017\n",
      "   |     0.00s B book@de              from /Users/dirk/github/etcbc/bhsa/tf/2017\n",
      "   |     0.00s B book@el              from /Users/dirk/github/etcbc/bhsa/tf/2017\n",
      "   |     0.00s B book@en              from /Users/dirk/github/etcbc/bhsa/tf/2017\n",
      "   |     0.00s B book@es              from /Users/dirk/github/etcbc/bhsa/tf/2017\n",
      "   |     0.00s B book@fa              from /Users/dirk/github/etcbc/bhsa/tf/2017\n",
      "   |     0.00s B book@fr              from /Users/dirk/github/etcbc/bhsa/tf/2017\n",
      "   |     0.00s B book@he              from /Users/dirk/github/etcbc/bhsa/tf/2017\n",
      "   |     0.00s B book@hi              from /Users/dirk/github/etcbc/bhsa/tf/2017\n",
      "   |     0.00s B book@id              from /Users/dirk/github/etcbc/bhsa/tf/2017\n",
      "   |     0.00s B book@ja              from /Users/dirk/github/etcbc/bhsa/tf/2017\n",
      "   |     0.00s B book@ko              from /Users/dirk/github/etcbc/bhsa/tf/2017\n",
      "   |     0.00s B book@la              from /Users/dirk/github/etcbc/bhsa/tf/2017\n",
      "   |     0.00s B book@nl              from /Users/dirk/github/etcbc/bhsa/tf/2017\n",
      "   |     0.00s B book@pa              from /Users/dirk/github/etcbc/bhsa/tf/2017\n",
      "   |     0.00s B book@pt              from /Users/dirk/github/etcbc/bhsa/tf/2017\n",
      "   |     0.00s B book@ru              from /Users/dirk/github/etcbc/bhsa/tf/2017\n",
      "   |     0.00s B book@sw              from /Users/dirk/github/etcbc/bhsa/tf/2017\n",
      "   |     0.00s B book@syc             from /Users/dirk/github/etcbc/bhsa/tf/2017\n",
      "   |     0.00s B book@tr              from /Users/dirk/github/etcbc/bhsa/tf/2017\n",
      "   |     0.00s B book@ur              from /Users/dirk/github/etcbc/bhsa/tf/2017\n",
      "   |     0.00s B book@yo              from /Users/dirk/github/etcbc/bhsa/tf/2017\n",
      "   |     0.00s B book@zh              from /Users/dirk/github/etcbc/bhsa/tf/2017\n",
      "   |     0.06s B cfunction            from /Users/dirk/github/etcbc/valence/tf/2017\n",
      "   |     0.01s B chapter              from /Users/dirk/github/etcbc/bhsa/tf/2017\n",
      "   |     0.02s B code                 from /Users/dirk/github/etcbc/bhsa/tf/2017\n",
      "   |     0.01s B crossref             from /Users/dirk/github/etcbc/parallels/tf/2017\n",
      "   |     0.04s B crossrefLCS          from /Users/dirk/github/etcbc/parallels/tf/2017\n",
      "   |     0.01s B crossrefSET          from /Users/dirk/github/etcbc/parallels/tf/2017\n",
      "   |     0.15s B det                  from /Users/dirk/github/etcbc/bhsa/tf/2017\n",
      "   |     0.15s B dist                 from /Users/dirk/github/etcbc/bhsa/tf/2017\n",
      "   |     0.17s B dist_unit            from /Users/dirk/github/etcbc/bhsa/tf/2017\n",
      "   |     3.77s B distributional_parent from /Users/dirk/github/etcbc/bhsa/tf/2017\n",
      "   |     0.02s B domain               from /Users/dirk/github/etcbc/bhsa/tf/2017\n",
      "   |     0.04s B f_correction         from /Users/dirk/github/etcbc/valence/tf/2017\n",
      "   |     0.11s B freq_lex             from /Users/dirk/github/etcbc/bhsa/tf/2017\n",
      "   |     0.10s B freq_occ             from /Users/dirk/github/etcbc/bhsa/tf/2017\n",
      "   |     0.07s B function             from /Users/dirk/github/etcbc/bhsa/tf/2017\n",
      "   |     1.83s B functional_parent    from /Users/dirk/github/etcbc/bhsa/tf/2017\n",
      "   |     0.13s B g_cons               from /Users/dirk/github/etcbc/bhsa/tf/2017\n",
      "   |     0.19s B g_cons_utf8          from /Users/dirk/github/etcbc/bhsa/tf/2017\n",
      "   |     0.15s B g_lex                from /Users/dirk/github/etcbc/bhsa/tf/2017\n",
      "   |     0.20s B g_lex_utf8           from /Users/dirk/github/etcbc/bhsa/tf/2017\n",
      "   |     0.08s B g_nme                from /Users/dirk/github/etcbc/bhsa/tf/2017\n",
      "   |     0.12s B g_nme_utf8           from /Users/dirk/github/etcbc/bhsa/tf/2017\n",
      "   |     0.08s B g_pfm                from /Users/dirk/github/etcbc/bhsa/tf/2017\n",
      "   |     0.08s B g_pfm_utf8           from /Users/dirk/github/etcbc/bhsa/tf/2017\n",
      "   |     0.08s B g_prs                from /Users/dirk/github/etcbc/bhsa/tf/2017\n",
      "   |     0.08s B g_prs_utf8           from /Users/dirk/github/etcbc/bhsa/tf/2017\n",
      "   |     0.07s B g_uvf                from /Users/dirk/github/etcbc/bhsa/tf/2017\n",
      "   |     0.07s B g_uvf_utf8           from /Users/dirk/github/etcbc/bhsa/tf/2017\n",
      "   |     0.07s B g_vbe                from /Users/dirk/github/etcbc/bhsa/tf/2017\n",
      "   |     0.08s B g_vbe_utf8           from /Users/dirk/github/etcbc/bhsa/tf/2017\n",
      "   |     0.07s B g_vbs                from /Users/dirk/github/etcbc/bhsa/tf/2017\n",
      "   |     0.07s B g_vbs_utf8           from /Users/dirk/github/etcbc/bhsa/tf/2017\n",
      "   |     0.15s B g_word               from /Users/dirk/github/etcbc/bhsa/tf/2017\n",
      "   |     0.21s B g_word_utf8          from /Users/dirk/github/etcbc/bhsa/tf/2017\n",
      "   |     0.01s B gloss                from /Users/dirk/github/etcbc/bhsa/tf/2017\n",
      "   |     0.11s B gn                   from /Users/dirk/github/etcbc/bhsa/tf/2017\n",
      "   |     0.07s B grammatical          from /Users/dirk/github/etcbc/valence/tf/2017\n",
      "   |     0.03s B instruction          from /Users/dirk/github/etcbc/bhsa/tf/2017\n",
      "   |     0.03s B is_root              from /Users/dirk/github/etcbc/bhsa/tf/2017\n",
      "   |     0.03s B kind                 from /Users/dirk/github/etcbc/bhsa/tf/2017\n",
      "   |     0.07s B kq_hybrid            from /Users/dirk/github/etcbc/bhsa/tf/2017\n",
      "   |     0.07s B kq_hybrid_utf8       from /Users/dirk/github/etcbc/bhsa/tf/2017\n",
      "   |     0.02s B label                from /Users/dirk/github/etcbc/bhsa/tf/2017\n",
      "   |     0.13s B language             from /Users/dirk/github/etcbc/bhsa/tf/2017\n",
      "   |     0.12s B languageISO          from /Users/dirk/github/etcbc/bhsa/tf/2017\n",
      "   |     0.13s B lex                  from /Users/dirk/github/etcbc/bhsa/tf/2017\n",
      "   |     0.12s B lex0                 from /Users/dirk/github/etcbc/bhsa/tf/2017\n",
      "   |     0.19s B lex_utf8             from /Users/dirk/github/etcbc/bhsa/tf/2017\n",
      "   |     0.07s B lexeme_count         from /Users/dirk/github/etcbc/bhsa/tf/2017\n",
      "   |     0.05s B lexical              from /Users/dirk/github/etcbc/valence/tf/2017\n",
      "   |     0.12s B ls                   from /Users/dirk/github/etcbc/bhsa/tf/2017\n",
      "   |     0.14s B mother               from /Users/dirk/github/etcbc/bhsa/tf/2017\n",
      "   |     0.07s B mother_object_type   from /Users/dirk/github/etcbc/bhsa/tf/2017\n",
      "   |     0.00s B nametype             from /Users/dirk/github/etcbc/bhsa/tf/2017\n",
      "   |     0.12s B nme                  from /Users/dirk/github/etcbc/bhsa/tf/2017\n",
      "   |     0.12s B nu                   from /Users/dirk/github/etcbc/bhsa/tf/2017\n",
      "   |     0.23s B number               from /Users/dirk/github/etcbc/bhsa/tf/2017\n",
      "   |     6.25s T omap@2016-2017       from /Users/dirk/github/etcbc/bhsa/tf/2017\n",
      "   |     0.03s B original             from /Users/dirk/github/etcbc/valence/tf/2017\n",
      "   |     0.02s B pargr                from /Users/dirk/github/etcbc/bhsa/tf/2017\n",
      "   |     0.12s B pdp                  from /Users/dirk/github/etcbc/bhsa/tf/2017\n",
      "   |     0.12s B pfm                  from /Users/dirk/github/etcbc/bhsa/tf/2017\n",
      "   |     0.21s B phono                from /Users/dirk/github/etcbc/phono/tf/2017\n",
      "   |     0.08s B phono_trailer        from /Users/dirk/github/etcbc/phono/tf/2017\n",
      "   |     0.06s B predication          from /Users/dirk/github/etcbc/valence/tf/2017\n",
      "   |     0.13s B prs                  from /Users/dirk/github/etcbc/bhsa/tf/2017\n",
      "   |     0.13s B prs_gn               from /Users/dirk/github/etcbc/bhsa/tf/2017\n",
      "   |     0.13s B prs_nu               from /Users/dirk/github/etcbc/bhsa/tf/2017\n",
      "   |     0.14s B prs_ps               from /Users/dirk/github/etcbc/bhsa/tf/2017\n",
      "   |     0.13s B ps                   from /Users/dirk/github/etcbc/bhsa/tf/2017\n",
      "   |     0.00s B qere                 from /Users/dirk/github/etcbc/bhsa/tf/2017\n",
      "   |     0.00s B qere_trailer         from /Users/dirk/github/etcbc/bhsa/tf/2017\n",
      "   |     0.00s B qere_trailer_utf8    from /Users/dirk/github/etcbc/bhsa/tf/2017\n",
      "   |     0.00s B qere_utf8            from /Users/dirk/github/etcbc/bhsa/tf/2017\n",
      "   |     0.09s B rank_lex             from /Users/dirk/github/etcbc/bhsa/tf/2017\n",
      "   |     0.09s B rank_occ             from /Users/dirk/github/etcbc/bhsa/tf/2017\n",
      "   |     0.21s B rela                 from /Users/dirk/github/etcbc/bhsa/tf/2017\n",
      "   |     0.00s B root                 from /Users/dirk/github/etcbc/bhsa/tf/2017\n",
      "   |     0.04s B s_manual             from /Users/dirk/github/etcbc/valence/tf/2017\n",
      "   |     0.05s B semantic             from /Users/dirk/github/etcbc/valence/tf/2017\n",
      "   |     0.02s B sense                from /Users/dirk/github/etcbc/valence/tf/2017\n",
      "   |     0.13s B sp                   from /Users/dirk/github/etcbc/bhsa/tf/2017\n",
      "   |     0.11s B st                   from /Users/dirk/github/etcbc/bhsa/tf/2017\n",
      "   |     0.13s B suffix_gender        from /Users/dirk/github/etcbc/bhsa/tf/2017\n",
      "   |     0.13s B suffix_number        from /Users/dirk/github/etcbc/bhsa/tf/2017\n",
      "   |     0.13s B suffix_person        from /Users/dirk/github/etcbc/bhsa/tf/2017\n",
      "   |     0.02s B tab                  from /Users/dirk/github/etcbc/bhsa/tf/2017\n",
      "   |     0.08s B trailer              from /Users/dirk/github/etcbc/bhsa/tf/2017\n",
      "   |     0.09s B trailer_utf8         from /Users/dirk/github/etcbc/bhsa/tf/2017\n",
      "   |     0.02s B txt                  from /Users/dirk/github/etcbc/bhsa/tf/2017\n",
      "   |     0.23s B typ                  from /Users/dirk/github/etcbc/bhsa/tf/2017\n",
      "   |     0.13s B uvf                  from /Users/dirk/github/etcbc/bhsa/tf/2017\n",
      "   |     0.07s B valence              from /Users/dirk/github/etcbc/valence/tf/2017\n",
      "   |     0.13s B vbe                  from /Users/dirk/github/etcbc/bhsa/tf/2017\n",
      "   |     0.13s B vbs                  from /Users/dirk/github/etcbc/bhsa/tf/2017\n",
      "   |     0.01s B verse                from /Users/dirk/github/etcbc/bhsa/tf/2017\n",
      "   |     0.01s B voc_lex              from /Users/dirk/github/etcbc/bhsa/tf/2017\n",
      "   |     0.01s B voc_lex_utf8         from /Users/dirk/github/etcbc/bhsa/tf/2017\n",
      "   |     0.13s B vs                   from /Users/dirk/github/etcbc/bhsa/tf/2017\n",
      "   |     0.13s B vt                   from /Users/dirk/github/etcbc/bhsa/tf/2017\n",
      "    22s Writing enumerations\n",
      "\tbook_am        :   39 values, 39 not a name, e.g. «መኃልየ_መኃልይ_ዘሰሎሞን»\n",
      "\tbook_ar        :   39 values, 39 not a name, e.g. «1_اخبار»\n",
      "\tbook_bn        :   39 values, 39 not a name, e.g. «আদিপুস্তক»\n",
      "\tbook_da        :   39 values, 13 not a name, e.g. «1.Kongebog»\n",
      "\tbook_de        :   39 values, 7 not a name, e.g. «1_Chronik»\n",
      "\tbook_el        :   39 values, 39 not a name, e.g. «Άσμα_Ασμάτων»\n",
      "\tbook_en        :   39 values, 6 not a name, e.g. «1_Chronicles»\n",
      "\tbook_es        :   39 values, 22 not a name, e.g. «1_Crónicas»\n",
      "\tbook_fa        :   39 values, 39 not a name, e.g. «استر»\n",
      "\tbook_fr        :   39 values, 19 not a name, e.g. «1_Chroniques»\n",
      "\tbook_he        :   39 values, 39 not a name, e.g. «איוב»\n",
      "\tbook_hi        :   39 values, 39 not a name, e.g. «1_इतिहास»\n",
      "\tbook_id        :   39 values, 7 not a name, e.g. «1_Raja-raja»\n",
      "\tbook_ja        :   39 values, 39 not a name, e.g. «アモス書»\n",
      "\tbook_ko        :   39 values, 39 not a name, e.g. «나훔»\n",
      "\tbook_nl        :   39 values, 8 not a name, e.g. «1_Koningen»\n",
      "\tbook_pa        :   39 values, 39 not a name, e.g. «1_ਇਤਹਾਸ»\n",
      "\tbook_pt        :   39 values, 21 not a name, e.g. «1_Crônicas»\n",
      "\tbook_ru        :   39 values, 39 not a name, e.g. «1-я_Паралипоменон»\n",
      "\tbook_sw        :   39 values, 6 not a name, e.g. «1_Mambo_ya_Nyakati»\n",
      "\tbook_syc       :   39 values, 39 not a name, e.g. «ܐ_ܒܪܝܡܝܢ»\n",
      "\tbook_tr        :   39 values, 16 not a name, e.g. «1_Krallar»\n",
      "\tbook_ur        :   39 values, 39 not a name, e.g. «احبار»\n",
      "\tbook_yo        :   39 values, 8 not a name, e.g. «Amọsi»\n",
      "\tbook_zh        :   38 values, 37 not a name, e.g. «以斯帖记»\n",
      "\tcfunction      :   26 values, 1 not a name, e.g. «»\n",
      "\tdomain         :    4 values, 1 not a name, e.g. «?»\n",
      "\tf_correction   :    1 values, 1 not a name, e.g. «»\n",
      "\tg_nme          :  108 values, 108 not a name, e.g. «»\n",
      "\tg_nme_utf8     :  106 values, 106 not a name, e.g. «»\n",
      "\tg_pfm          :   87 values, 87 not a name, e.g. «»\n",
      "\tg_pfm_utf8     :   86 values, 86 not a name, e.g. «»\n",
      "\tg_prs          :  127 values, 127 not a name, e.g. «»\n",
      "\tg_prs_utf8     :  126 values, 126 not a name, e.g. «»\n",
      "\tg_uvf          :   19 values, 19 not a name, e.g. «»\n",
      "\tg_uvf_utf8     :   17 values, 17 not a name, e.g. «»\n",
      "\tg_vbe          :  101 values, 101 not a name, e.g. «»\n",
      "\tg_vbe_utf8     :   97 values, 97 not a name, e.g. «»\n",
      "\tg_vbs          :   66 values, 66 not a name, e.g. «»\n",
      "\tg_vbs_utf8     :   65 values, 65 not a name, e.g. «»\n",
      "\tgrammatical    :   11 values, 2 not a name, e.g. «»\n",
      "\tinstruction    :   35 values, 20 not a name, e.g. «.#»\n",
      "\tlexical        :    4 values, 1 not a name, e.g. «»\n",
      "\tnametype       :    9 values, 4 not a name, e.g. «gens,topo»\n",
      "\tnme            :   20 values, 7 not a name, e.g. «»\n",
      "\toriginal       :    2 values, 2 not a name, e.g. «»\n",
      "\tpfm            :   11 values, 4 not a name, e.g. «»\n",
      "\tphono_trailer  :    4 values, 4 not a name, e.g. «»\n",
      "\tprs            :   22 values, 4 not a name, e.g. «H=»\n",
      "\tqere_trailer   :    5 values, 5 not a name, e.g. «»\n",
      "\tqere_trailer_utf8:    5 values, 5 not a name, e.g. «»\n",
      "\troot           :  648 values, 187 not a name, e.g. «<Assyrian>»\n",
      "\ts_manual       :    1 values, 1 not a name, e.g. «»\n",
      "\tsemantic       :    5 values, 1 not a name, e.g. «»\n",
      "\tsense          :   15 values, 11 not a name, e.g. «--»\n",
      "\ttrailer        :   12 values, 12 not a name, e.g. «»\n",
      "\ttrailer_utf8   :   12 values, 12 not a name, e.g. «»\n",
      "\ttxt            :  136 values, 59 not a name, e.g. «?»\n",
      "\tuvf            :    6 values, 1 not a name, e.g. «>»\n",
      "\tvbe            :   19 values, 6 not a name, e.g. «»\n",
      "\tvbs            :   11 values, 3 not a name, e.g. «>»\n",
      "   |     1.91s Writing an all-in-one enum with  237 values\n",
      "    23s Mapping 127 features onto 13 object types\n",
      "    30s Writing 127 features as data in 13 object types\n",
      "   |     0.00s word data ...\n",
      "   |      |     4.75s batch of size               46.7MB with   50000 of   50000 words\n",
      "   |      |     9.60s batch of size               46.7MB with   50000 of  100000 words\n",
      "   |      |       14s batch of size               46.9MB with   50000 of  150000 words\n",
      "   |      |       19s batch of size               46.9MB with   50000 of  200000 words\n",
      "   |      |       24s batch of size               47.1MB with   50000 of  250000 words\n",
      "   |      |       29s batch of size               47.1MB with   50000 of  300000 words\n",
      "   |      |       34s batch of size               47.3MB with   50000 of  350000 words\n",
      "   |      |       38s batch of size               47.1MB with   50000 of  400000 words\n",
      "   |      |       41s batch of size               25.0MB with   26584 of  426584 words\n",
      "   |       41s word data: 426584 objects\n",
      "   |     0.00s subphrase data ...\n",
      "   |      |     0.63s batch of size                7.3MB with   50000 of   50000 subphrases\n",
      "   |      |     1.28s batch of size                7.2MB with   50000 of  100000 subphrases\n",
      "   |      |     1.46s batch of size                2.0MB with   13784 of  113784 subphrases\n",
      "   |     1.46s subphrase data: 113784 objects\n",
      "   |     0.00s phrase_atom data ...\n",
      "   |      |     0.99s batch of size               10.9MB with   50000 of   50000 phrase_atoms\n",
      "   |      |     1.98s batch of size               11.0MB with   50000 of  100000 phrase_atoms\n",
      "   |      |     2.96s batch of size               11.1MB with   50000 of  150000 phrase_atoms\n",
      "   |      |     3.94s batch of size               11.1MB with   50000 of  200000 phrase_atoms\n",
      "   |      |     4.92s batch of size               11.0MB with   50000 of  250000 phrase_atoms\n",
      "   |      |     5.27s batch of size                3.9MB with   17519 of  267519 phrase_atoms\n",
      "   |     5.27s phrase_atom data: 267519 objects\n",
      "   |     0.00s phrase data ...\n",
      "   |      |     1.48s batch of size               15.9MB with   50000 of   50000 phrases\n",
      "   |      |     3.00s batch of size               16.2MB with   50000 of  100000 phrases\n",
      "   |      |     4.48s batch of size               16.1MB with   50000 of  150000 phrases\n",
      "   |      |     5.95s batch of size               15.8MB with   50000 of  200000 phrases\n",
      "   |      |     7.47s batch of size               15.5MB with   50000 of  250000 phrases\n",
      "   |      |     7.57s batch of size                1.0MB with    3187 of  253187 phrases\n",
      "   |     7.57s phrase data: 253187 objects\n",
      "   |     0.00s clause_atom data ...\n",
      "   |      |     1.29s batch of size               13.3MB with   50000 of   50000 clause_atoms\n",
      "   |      |     2.34s batch of size               10.8MB with   40669 of   90669 clause_atoms\n",
      "   |     2.34s clause_atom data: 90669 objects\n",
      "   |     0.00s clause data ...\n",
      "   |      |     1.32s batch of size               12.8MB with   50000 of   50000 clauses\n",
      "   |      |     2.32s batch of size                9.7MB with   38101 of   88101 clauses\n",
      "   |     2.32s clause data: 88101 objects\n",
      "   |     0.00s sentence_atom data ...\n",
      "   |      |     0.59s batch of size                6.7MB with   50000 of   50000 sentence_atoms\n",
      "   |      |     0.75s batch of size                1.9MB with   14486 of   64486 sentence_atoms\n",
      "   |     0.76s sentence_atom data: 64486 objects\n",
      "   |     0.00s sentence data ...\n",
      "   |      |     0.46s batch of size                5.2MB with   50000 of   50000 sentences\n",
      "   |      |     0.58s batch of size                1.4MB with   13711 of   63711 sentences\n",
      "   |     0.59s sentence data: 63711 objects\n",
      "   |     0.00s half_verse data ...\n",
      "   |      |     0.44s batch of size                4.6MB with   45180 of   45180 half_verses\n",
      "   |     0.44s half_verse data: 45180 objects\n",
      "   |     0.00s verse data ...\n",
      "   |      |     0.41s batch of size                4.2MB with   23213 of   23213 verses\n",
      "   |     0.41s verse data: 23213 objects\n",
      "   |     0.00s lex data ...\n",
      "   |      |     0.54s batch of size                4.8MB with    9233 of    9233 lexs\n",
      "   |     0.54s lex data: 9233 objects\n",
      "   |     0.00s chapter data ...\n",
      "   |      |     0.06s batch of size              111.1KB with     929 of     929 chapters\n",
      "   |     0.06s chapter data: 929 objects\n",
      "   |     0.00s book data ...\n",
      "   |      |     0.05s batch of size               28.4KB with      39 of      39 books\n",
      "   |     0.06s book data: 39 objects\n",
      " 1m 32s Done\n",
      "|      9m 15s \tbzipping /Users/dirk/github/etcbc/bhsa/_temp/2017/shebanq/shebanq_etcbc2017.mql\n",
      "|      9m 15s \tand delivering as /Users/dirk/github/etcbc/bhsa/shebanq/2017/shebanq_etcbc2017.mql.bz2 ...\n",
      "|     11m 14s \tDone\n",
      "\n",
      "##############################################################################################\n",
      "#                                                                                            #\n",
      "#     11m 14s Create Mysql passage db for version 2017                                       #\n",
      "#                                                                                            #\n",
      "##############################################################################################\n",
      "\n",
      "\n",
      "----------------------------------------------------------------------------------------------\n",
      "-     11m 14s Run notebook [pipeline/passageFromTf] with parameters:                         -\n",
      "----------------------------------------------------------------------------------------------\n",
      "\n",
      "|     11m 14s \tVERSION              = 2017\n",
      "|     11m 16s \tDestination /Users/dirk/github/etcbc/bhsa/shebanq/2017/shebanq_passage2017.sql.gz exists\n",
      "|     11m 16s NOTE: repo seems up to date. Will be run because of \"force=True\"\n",
      "..............................................................................................\n",
      ".     11m 16s Loading relevant features                                                      .\n",
      "..............................................................................................\n",
      "This is Text-Fabric 3.1.1\n",
      "Api reference : https://github.com/Dans-labs/text-fabric/wiki/Api\n",
      "Tutorial      : https://github.com/Dans-labs/text-fabric/blob/master/docs/tutorial.ipynb\n",
      "Example data  : https://github.com/Dans-labs/text-fabric-data\n",
      "\n",
      "118 features found and 0 ignored\n",
      "  0.00s loading features ...\n",
      "   |     0.01s B book                 from /Users/dirk/github/etcbc/bhsa/tf/2017\n",
      "   |     0.01s B chapter              from /Users/dirk/github/etcbc/bhsa/tf/2017\n",
      "   |     0.01s B verse                from /Users/dirk/github/etcbc/bhsa/tf/2017\n",
      "   |     0.14s B g_cons               from /Users/dirk/github/etcbc/bhsa/tf/2017\n",
      "   |     0.19s B g_cons_utf8          from /Users/dirk/github/etcbc/bhsa/tf/2017\n",
      "   |     0.15s B g_lex                from /Users/dirk/github/etcbc/bhsa/tf/2017\n",
      "   |     0.16s B g_word               from /Users/dirk/github/etcbc/bhsa/tf/2017\n",
      "   |     0.22s B g_word_utf8          from /Users/dirk/github/etcbc/bhsa/tf/2017\n",
      "   |     0.19s B lex_utf8             from /Users/dirk/github/etcbc/bhsa/tf/2017\n",
      "   |     0.23s B phono                from /Users/dirk/github/etcbc/phono/tf/2017\n",
      "   |     0.08s B phono_trailer        from /Users/dirk/github/etcbc/phono/tf/2017\n",
      "   |     0.00s B qere_trailer_utf8    from /Users/dirk/github/etcbc/bhsa/tf/2017\n",
      "   |     0.00s B qere_utf8            from /Users/dirk/github/etcbc/bhsa/tf/2017\n",
      "   |     0.09s B trailer_utf8         from /Users/dirk/github/etcbc/bhsa/tf/2017\n",
      "   |     0.12s B languageISO          from /Users/dirk/github/etcbc/bhsa/tf/2017\n",
      "   |     0.14s B lex                  from /Users/dirk/github/etcbc/bhsa/tf/2017\n",
      "   |     0.13s B sp                   from /Users/dirk/github/etcbc/bhsa/tf/2017\n",
      "   |     0.13s B pdp                  from /Users/dirk/github/etcbc/bhsa/tf/2017\n",
      "   |     0.13s B ls                   from /Users/dirk/github/etcbc/bhsa/tf/2017\n",
      "   |     0.01s B voc_lex              from /Users/dirk/github/etcbc/bhsa/tf/2017\n",
      "   |     0.01s B voc_lex_utf8         from /Users/dirk/github/etcbc/bhsa/tf/2017\n",
      "   |     0.13s B vt                   from /Users/dirk/github/etcbc/bhsa/tf/2017\n",
      "   |     0.13s B vs                   from /Users/dirk/github/etcbc/bhsa/tf/2017\n",
      "   |     0.11s B gn                   from /Users/dirk/github/etcbc/bhsa/tf/2017\n",
      "   |     0.13s B nu                   from /Users/dirk/github/etcbc/bhsa/tf/2017\n",
      "   |     0.13s B ps                   from /Users/dirk/github/etcbc/bhsa/tf/2017\n",
      "   |     0.11s B st                   from /Users/dirk/github/etcbc/bhsa/tf/2017\n",
      "   |     0.12s B nme                  from /Users/dirk/github/etcbc/bhsa/tf/2017\n",
      "   |     0.13s B pfm                  from /Users/dirk/github/etcbc/bhsa/tf/2017\n",
      "   |     0.13s B prs                  from /Users/dirk/github/etcbc/bhsa/tf/2017\n",
      "   |     0.13s B uvf                  from /Users/dirk/github/etcbc/bhsa/tf/2017\n",
      "   |     0.17s B vbe                  from /Users/dirk/github/etcbc/bhsa/tf/2017\n",
      "   |     0.13s B vbs                  from /Users/dirk/github/etcbc/bhsa/tf/2017\n",
      "   |     0.01s B gloss                from /Users/dirk/github/etcbc/bhsa/tf/2017\n",
      "   |     0.00s B nametype             from /Users/dirk/github/etcbc/bhsa/tf/2017\n",
      "   |     0.00s B root                 from /Users/dirk/github/etcbc/bhsa/tf/2017\n",
      "   |     0.04s B pargr                from /Users/dirk/github/etcbc/bhsa/tf/2017\n",
      "   |     0.10s B function             from /Users/dirk/github/etcbc/bhsa/tf/2017\n",
      "   |     0.24s B typ                  from /Users/dirk/github/etcbc/bhsa/tf/2017\n",
      "   |     0.23s B rela                 from /Users/dirk/github/etcbc/bhsa/tf/2017\n",
      "   |     0.03s B txt                  from /Users/dirk/github/etcbc/bhsa/tf/2017\n",
      "   |     0.14s B det                  from /Users/dirk/github/etcbc/bhsa/tf/2017\n",
      "   |     0.03s B code                 from /Users/dirk/github/etcbc/bhsa/tf/2017\n",
      "   |     0.02s B tab                  from /Users/dirk/github/etcbc/bhsa/tf/2017\n",
      "   |     0.24s B number               from /Users/dirk/github/etcbc/bhsa/tf/2017\n",
      "   |     0.09s B freq_lex             from /Users/dirk/github/etcbc/bhsa/tf/2017\n",
      "   |     0.09s B freq_occ             from /Users/dirk/github/etcbc/bhsa/tf/2017\n",
      "   |     0.10s B rank_lex             from /Users/dirk/github/etcbc/bhsa/tf/2017\n",
      "   |     0.09s B rank_occ             from /Users/dirk/github/etcbc/bhsa/tf/2017\n",
      "   |     0.00s Feature overview: 111 for nodes; 5 for edges; 2 configs; 7 computed\n",
      "  8.74s All features loaded/computed - for details use loadLog()\n",
      "|     11m 26s Lexicon arc has   708 entries\n",
      "|     11m 26s Lexicon hbo has  8525 entries\n",
      "|     11m 26s Building qere index\n",
      "|     11m 26s Found 1892 qeres\n",
      "|     11m 26s Building para index\n",
      "|     11m 26s Found para information for 90669 clause_atoms\n",
      "..............................................................................................\n",
      ".     11m 26s Fill the tables ...                                                            .\n",
      "..............................................................................................\n",
      "|     11m 33s OK    book           name           : max size =      13 of    32\n",
      "|     11m 33s OK    clause_atom    text           : max size =     271 of   512\n",
      "|     11m 33s OK    lexicon        entry          : max size =      14 of    32\n",
      "|     11m 33s OK    lexicon        entry_heb      : max size =      15 of    32\n",
      "|     11m 33s OK    lexicon        entryid        : max size =      15 of    32\n",
      "|     11m 33s OK    lexicon        entryid_heb    : max size =      16 of    32\n",
      "|     11m 33s OK    lexicon        g_entry        : max size =      24 of    32\n",
      "|     11m 33s OK    lexicon        g_entry_heb    : max size =      23 of    32\n",
      "|     11m 33s OK    lexicon        gloss          : max size =      27 of    32\n",
      "|     11m 33s OK    lexicon        id             : max size =      16 of    32\n",
      "|     11m 33s OK    lexicon        lan            : max size =       3 of     4\n",
      "|     11m 33s OK    lexicon        nametype       : max size =      14 of    16\n",
      "|     11m 33s OK    lexicon        pos            : max size =       4 of     8\n",
      "|     11m 33s OK    lexicon        root           : max size =      11 of    32\n",
      "|     11m 33s OK    lexicon        subpos         : max size =       4 of     8\n",
      "|     11m 33s OK    verse          text           : max size =     449 of  1024\n",
      "|     11m 33s OK    verse          xml            : max size =    2869 of  4096\n",
      "|     11m 33s Done\n",
      "All lexemes have been found in the lexicon\n",
      "..............................................................................................\n",
      ".     11m 33s Generating word info data ...                                                  .\n",
      "..............................................................................................\n",
      "|     11m 33s \tGenesis\n",
      "|     11m 47s \tExodus\n",
      "|     11m 58s \tLeviticus\n",
      "|     12m 06s \tNumeri\n",
      "|     12m 16s \tDeuteronomium\n",
      "|     12m 26s \tJosua\n",
      "|     12m 32s \tJudices\n",
      "|     12m 39s \tSamuel_I\n",
      "|     12m 49s \tSamuel_II\n",
      "|     12m 57s \tReges_I\n",
      "|     13m 05s \tReges_II\n",
      "|     13m 14s \tJesaia\n",
      "|     13m 25s \tJeremia\n",
      "|     13m 39s \tEzechiel\n",
      "|     13m 52s \tHosea\n",
      "|     13m 54s \tJoel\n",
      "|     13m 54s \tAmos\n",
      "|     13m 56s \tObadia\n",
      "|     13m 56s \tJona\n",
      "|     13m 56s \tMicha\n",
      "|     13m 57s \tNahum\n",
      "|     13m 58s \tHabakuk\n",
      "|     13m 58s \tZephania\n",
      "|     13m 58s \tHaggai\n",
      "|     13m 59s \tSacharia\n",
      "|     14m 01s \tMaleachi\n",
      "|     14m 02s \tPsalmi\n",
      "|     14m 14s \tIob\n",
      "|     14m 19s \tProverbia\n",
      "|     14m 24s \tRuth\n",
      "|     14m 25s \tCanticum\n",
      "|     14m 25s \tEcclesiastes\n",
      "|     14m 28s \tThreni\n",
      "|     14m 29s \tEsther\n",
      "|     14m 31s \tDaniel\n",
      "|     14m 35s \tEsra\n",
      "|     14m 37s \tNehemia\n",
      "|     14m 41s \tChronica_I\n",
      "|     14m 48s \tChronica_II\n",
      "|     14m 57s Done\n",
      "OK    word           word_heb            : max size =      28 of    32\n",
      "OK    word           word_ktv            : max size =      15 of    32\n",
      "OK    word           word_vlex           : max size =      23 of    32\n",
      "OK    word           word_clex           : max size =      15 of    32\n",
      "OK    word           word_tran           : max size =      28 of    32\n",
      "OK    word           word_phono          : max size =      23 of    32\n",
      "OK    word           word_phono_sep      : max size =       3 of     8\n",
      "OK    word           word_lex            : max size =      15 of    32\n",
      "OK    word           word_glex           : max size =      24 of    32\n",
      "OK    word           word_gloss          : max size =      27 of    32\n",
      "OK    word           word_lang           : max size =       3 of     8\n",
      "OK    word           word_pos            : max size =       4 of     8\n",
      "OK    word           word_pdp            : max size =       4 of     8\n",
      "OK    word           word_subpos         : max size =       4 of     8\n",
      "OK    word           word_nmtp           : max size =      14 of    32\n",
      "OK    word           word_tense          : max size =       4 of     8\n",
      "OK    word           word_stem           : max size =       4 of     8\n",
      "OK    word           word_gender         : max size =       7 of     8\n",
      "OK    word           word_gnumber        : max size =       7 of     8\n",
      "OK    word           word_person         : max size =       7 of     8\n",
      "OK    word           word_state          : max size =       2 of     8\n",
      "OK    word           word_nme            : max size =       6 of     8\n",
      "OK    word           word_pfm            : max size =       6 of     8\n",
      "OK    word           word_prs            : max size =       6 of     8\n",
      "OK    word           word_uvf            : max size =       6 of     8\n",
      "OK    word           word_vbe            : max size =       3 of     8\n",
      "OK    word           word_vbs            : max size =       6 of     8\n",
      "OK    word           subphrase_border    : max size =       8 of    16\n",
      "OK    word           subphrase_number    : max size =      14 of    32\n",
      "OK    word           subphrase_rela      : max size =       3 of     8\n",
      "OK    word           phrase_border       : max size =       5 of     8\n",
      "OK    word           phrase_atom_rela    : max size =       4 of     8\n",
      "OK    word           phrase_function     : max size =       4 of     8\n",
      "OK    word           phrase_rela         : max size =       4 of     8\n",
      "OK    word           phrase_typ          : max size =       4 of     8\n",
      "OK    word           phrase_det          : max size =       3 of     8\n",
      "OK    word           clause_border       : max size =       5 of     8\n",
      "OK    word           clause_atom_pargr   : max size =      39 of    64\n",
      "OK    word           clause_rela         : max size =       4 of     8\n",
      "OK    word           clause_typ          : max size =       4 of     8\n",
      "OK    word           clause_txt          : max size =       7 of     8\n",
      "OK    word           sentence_border     : max size =       5 of     8\n",
      "..............................................................................................\n",
      ".     14m 57s Generating SQL ...                                                             .\n",
      "..............................................................................................\n",
      "|     14m 57s \ttable book\n",
      "|     14m 57s \ttable chapter\n",
      "|     14m 57s \ttable verse\n",
      "|     14m 57s \ttable clause_atom\n",
      "|     14m 57s \ttable lexicon\n",
      "|     14m 57s \ttable word\n",
      "|     14m 58s \ttable word_verse\n",
      "|     14m 58s Done\n",
      "|     15m 28s SUCCESS passageFromTf\n",
      "\n",
      "----------------------------------------------------------------------------------------------\n",
      "-     15m 28s SUCCES [pipeline/passageFromTf]                                                -\n",
      "----------------------------------------------------------------------------------------------\n",
      "\n",
      "|     15m 28s \tDone\n",
      "\n",
      "##############################################################################################\n",
      "#                                                                                            #\n",
      "#     15m 32s Aggregate MQL for version c                                                    #\n",
      "#                                                                                            #\n",
      "##############################################################################################\n",
      "\n",
      "|     15m 32s \tWork to do because the tf in bhsa is recently compiled\n",
      "|     15m 32s \t\t/Users/dirk/github/etcbc/bhsa/tf/c/.tf\n",
      "\n",
      "##############################################################################################\n",
      "#                                                                                            #\n",
      "#     15m 32s Using TF to make an MQL export                                                 #\n",
      "#                                                                                            #\n",
      "##############################################################################################\n",
      "\n",
      "This is Text-Fabric 3.1.1\n",
      "Api reference : https://github.com/Dans-labs/text-fabric/wiki/Api\n",
      "Tutorial      : https://github.com/Dans-labs/text-fabric/blob/master/docs/tutorial.ipynb\n",
      "Example data  : https://github.com/Dans-labs/text-fabric-data\n",
      "\n",
      "131 features found and 0 ignored\n",
      "  0.00s Checking features of dataset shebanq_etcbcc\n",
      "   |     0.00s M book                 from /Users/dirk/github/etcbc/bhsa/tf/c\n",
      "   |     0.00s M book@am              from /Users/dirk/github/etcbc/bhsa/tf/c\n"
     ]
    },
    {
     "name": "stderr",
     "output_type": "stream",
     "text": [
      "   |     0.00s feature \"book@am\" => \"book_am\"\n"
     ]
    },
    {
     "name": "stdout",
     "output_type": "stream",
     "text": [
      "   |     0.00s M book@ar              from /Users/dirk/github/etcbc/bhsa/tf/c\n"
     ]
    },
    {
     "name": "stderr",
     "output_type": "stream",
     "text": [
      "   |     0.00s feature \"book@ar\" => \"book_ar\"\n"
     ]
    },
    {
     "name": "stdout",
     "output_type": "stream",
     "text": [
      "   |     0.00s M book@bn              from /Users/dirk/github/etcbc/bhsa/tf/c\n"
     ]
    },
    {
     "name": "stderr",
     "output_type": "stream",
     "text": [
      "   |     0.00s feature \"book@bn\" => \"book_bn\"\n"
     ]
    },
    {
     "name": "stdout",
     "output_type": "stream",
     "text": [
      "   |     0.00s M book@da              from /Users/dirk/github/etcbc/bhsa/tf/c\n"
     ]
    },
    {
     "name": "stderr",
     "output_type": "stream",
     "text": [
      "   |     0.00s feature \"book@da\" => \"book_da\"\n"
     ]
    },
    {
     "name": "stdout",
     "output_type": "stream",
     "text": [
      "   |     0.00s M book@de              from /Users/dirk/github/etcbc/bhsa/tf/c\n"
     ]
    },
    {
     "name": "stderr",
     "output_type": "stream",
     "text": [
      "   |     0.00s feature \"book@de\" => \"book_de\"\n"
     ]
    },
    {
     "name": "stdout",
     "output_type": "stream",
     "text": [
      "   |     0.00s M book@el              from /Users/dirk/github/etcbc/bhsa/tf/c\n"
     ]
    },
    {
     "name": "stderr",
     "output_type": "stream",
     "text": [
      "   |     0.00s feature \"book@el\" => \"book_el\"\n"
     ]
    },
    {
     "name": "stdout",
     "output_type": "stream",
     "text": [
      "   |     0.01s M book@en              from /Users/dirk/github/etcbc/bhsa/tf/c\n"
     ]
    },
    {
     "name": "stderr",
     "output_type": "stream",
     "text": [
      "   |     0.01s feature \"book@en\" => \"book_en\"\n"
     ]
    },
    {
     "name": "stdout",
     "output_type": "stream",
     "text": [
      "   |     0.00s M book@es              from /Users/dirk/github/etcbc/bhsa/tf/c\n"
     ]
    },
    {
     "name": "stderr",
     "output_type": "stream",
     "text": [
      "   |     0.01s feature \"book@es\" => \"book_es\"\n"
     ]
    },
    {
     "name": "stdout",
     "output_type": "stream",
     "text": [
      "   |     0.00s M book@fa              from /Users/dirk/github/etcbc/bhsa/tf/c\n"
     ]
    },
    {
     "name": "stderr",
     "output_type": "stream",
     "text": [
      "   |     0.00s feature \"book@fa\" => \"book_fa\"\n"
     ]
    },
    {
     "name": "stdout",
     "output_type": "stream",
     "text": [
      "   |     0.00s M book@fr              from /Users/dirk/github/etcbc/bhsa/tf/c\n"
     ]
    },
    {
     "name": "stderr",
     "output_type": "stream",
     "text": [
      "   |     0.00s feature \"book@fr\" => \"book_fr\"\n"
     ]
    },
    {
     "name": "stdout",
     "output_type": "stream",
     "text": [
      "   |     0.00s M book@he              from /Users/dirk/github/etcbc/bhsa/tf/c\n"
     ]
    },
    {
     "name": "stderr",
     "output_type": "stream",
     "text": [
      "   |     0.00s feature \"book@he\" => \"book_he\"\n"
     ]
    },
    {
     "name": "stdout",
     "output_type": "stream",
     "text": [
      "   |     0.00s M book@hi              from /Users/dirk/github/etcbc/bhsa/tf/c\n"
     ]
    },
    {
     "name": "stderr",
     "output_type": "stream",
     "text": [
      "   |     0.00s feature \"book@hi\" => \"book_hi\"\n"
     ]
    },
    {
     "name": "stdout",
     "output_type": "stream",
     "text": [
      "   |     0.00s M book@id              from /Users/dirk/github/etcbc/bhsa/tf/c\n"
     ]
    },
    {
     "name": "stderr",
     "output_type": "stream",
     "text": [
      "   |     0.00s feature \"book@id\" => \"book_id\"\n"
     ]
    },
    {
     "name": "stdout",
     "output_type": "stream",
     "text": [
      "   |     0.00s M book@ja              from /Users/dirk/github/etcbc/bhsa/tf/c\n"
     ]
    },
    {
     "name": "stderr",
     "output_type": "stream",
     "text": [
      "   |     0.01s feature \"book@ja\" => \"book_ja\"\n"
     ]
    },
    {
     "name": "stdout",
     "output_type": "stream",
     "text": [
      "   |     0.00s M book@ko              from /Users/dirk/github/etcbc/bhsa/tf/c\n"
     ]
    },
    {
     "name": "stderr",
     "output_type": "stream",
     "text": [
      "   |     0.00s feature \"book@ko\" => \"book_ko\"\n"
     ]
    },
    {
     "name": "stdout",
     "output_type": "stream",
     "text": [
      "   |     0.00s M book@la              from /Users/dirk/github/etcbc/bhsa/tf/c\n"
     ]
    },
    {
     "name": "stderr",
     "output_type": "stream",
     "text": [
      "   |     0.00s feature \"book@la\" => \"book_la\"\n"
     ]
    },
    {
     "name": "stdout",
     "output_type": "stream",
     "text": [
      "   |     0.00s M book@nl              from /Users/dirk/github/etcbc/bhsa/tf/c\n"
     ]
    },
    {
     "name": "stderr",
     "output_type": "stream",
     "text": [
      "   |     0.00s feature \"book@nl\" => \"book_nl\"\n"
     ]
    },
    {
     "name": "stdout",
     "output_type": "stream",
     "text": [
      "   |     0.00s M book@pa              from /Users/dirk/github/etcbc/bhsa/tf/c\n"
     ]
    },
    {
     "name": "stderr",
     "output_type": "stream",
     "text": [
      "   |     0.00s feature \"book@pa\" => \"book_pa\"\n"
     ]
    },
    {
     "name": "stdout",
     "output_type": "stream",
     "text": [
      "   |     0.00s M book@pt              from /Users/dirk/github/etcbc/bhsa/tf/c\n"
     ]
    },
    {
     "name": "stderr",
     "output_type": "stream",
     "text": [
      "   |     0.00s feature \"book@pt\" => \"book_pt\"\n"
     ]
    },
    {
     "name": "stdout",
     "output_type": "stream",
     "text": [
      "   |     0.00s M book@ru              from /Users/dirk/github/etcbc/bhsa/tf/c\n"
     ]
    },
    {
     "name": "stderr",
     "output_type": "stream",
     "text": [
      "   |     0.00s feature \"book@ru\" => \"book_ru\"\n"
     ]
    },
    {
     "name": "stdout",
     "output_type": "stream",
     "text": [
      "   |     0.00s M book@sw              from /Users/dirk/github/etcbc/bhsa/tf/c\n"
     ]
    },
    {
     "name": "stderr",
     "output_type": "stream",
     "text": [
      "   |     0.00s feature \"book@sw\" => \"book_sw\"\n"
     ]
    },
    {
     "name": "stdout",
     "output_type": "stream",
     "text": [
      "   |     0.00s M book@syc             from /Users/dirk/github/etcbc/bhsa/tf/c\n"
     ]
    },
    {
     "name": "stderr",
     "output_type": "stream",
     "text": [
      "   |     0.00s feature \"book@syc\" => \"book_syc\"\n"
     ]
    },
    {
     "name": "stdout",
     "output_type": "stream",
     "text": [
      "   |     0.00s M book@tr              from /Users/dirk/github/etcbc/bhsa/tf/c\n"
     ]
    },
    {
     "name": "stderr",
     "output_type": "stream",
     "text": [
      "   |     0.00s feature \"book@tr\" => \"book_tr\"\n"
     ]
    },
    {
     "name": "stdout",
     "output_type": "stream",
     "text": [
      "   |     0.00s M book@ur              from /Users/dirk/github/etcbc/bhsa/tf/c\n"
     ]
    },
    {
     "name": "stderr",
     "output_type": "stream",
     "text": [
      "   |     0.00s feature \"book@ur\" => \"book_ur\"\n"
     ]
    },
    {
     "name": "stdout",
     "output_type": "stream",
     "text": [
      "   |     0.00s M book@yo              from /Users/dirk/github/etcbc/bhsa/tf/c\n"
     ]
    },
    {
     "name": "stderr",
     "output_type": "stream",
     "text": [
      "   |     0.00s feature \"book@yo\" => \"book_yo\"\n"
     ]
    },
    {
     "name": "stdout",
     "output_type": "stream",
     "text": [
      "   |     0.00s M book@zh              from /Users/dirk/github/etcbc/bhsa/tf/c\n"
     ]
    },
    {
     "name": "stderr",
     "output_type": "stream",
     "text": [
      "   |     0.00s feature \"book@zh\" => \"book_zh\"\n"
     ]
    },
    {
     "name": "stdout",
     "output_type": "stream",
     "text": [
      "   |     0.00s M cfunction            from /Users/dirk/github/etcbc/valence/tf/c\n",
      "   |     0.00s M chapter              from /Users/dirk/github/etcbc/bhsa/tf/c\n",
      "   |     0.00s M code                 from /Users/dirk/github/etcbc/bhsa/tf/c\n",
      "   |     0.00s M crossref             from /Users/dirk/github/etcbc/parallels/tf/c\n",
      "   |     0.00s M crossrefLCS          from /Users/dirk/github/etcbc/parallels/tf/c\n",
      "   |     0.00s M crossrefSET          from /Users/dirk/github/etcbc/parallels/tf/c\n",
      "   |     0.00s M det                  from /Users/dirk/github/etcbc/bhsa/tf/c\n",
      "   |     0.00s M dist                 from /Users/dirk/github/etcbc/bhsa/tf/c\n",
      "   |     0.00s M dist_unit            from /Users/dirk/github/etcbc/bhsa/tf/c\n",
      "   |     0.00s M distributional_parent from /Users/dirk/github/etcbc/bhsa/tf/c\n",
      "   |     0.00s M domain               from /Users/dirk/github/etcbc/bhsa/tf/c\n",
      "   |     0.00s M f_correction         from /Users/dirk/github/etcbc/valence/tf/c\n",
      "   |     0.00s M freq_lex             from /Users/dirk/github/etcbc/bhsa/tf/c\n",
      "   |     0.00s M freq_occ             from /Users/dirk/github/etcbc/bhsa/tf/c\n",
      "   |     0.00s M function             from /Users/dirk/github/etcbc/bhsa/tf/c\n",
      "   |     0.00s M functional_parent    from /Users/dirk/github/etcbc/bhsa/tf/c\n",
      "   |     0.00s M g_cons               from /Users/dirk/github/etcbc/bhsa/tf/c\n",
      "   |     0.00s M g_cons_utf8          from /Users/dirk/github/etcbc/bhsa/tf/c\n",
      "   |     0.00s M g_lex                from /Users/dirk/github/etcbc/bhsa/tf/c\n",
      "   |     0.00s M g_lex_utf8           from /Users/dirk/github/etcbc/bhsa/tf/c\n",
      "   |     0.00s M g_nme                from /Users/dirk/github/etcbc/bhsa/tf/c\n",
      "   |     0.00s M g_nme_utf8           from /Users/dirk/github/etcbc/bhsa/tf/c\n",
      "   |     0.00s M g_pfm                from /Users/dirk/github/etcbc/bhsa/tf/c\n",
      "   |     0.00s M g_pfm_utf8           from /Users/dirk/github/etcbc/bhsa/tf/c\n",
      "   |     0.00s M g_prs                from /Users/dirk/github/etcbc/bhsa/tf/c\n",
      "   |     0.00s M g_prs_utf8           from /Users/dirk/github/etcbc/bhsa/tf/c\n",
      "   |     0.00s M g_uvf                from /Users/dirk/github/etcbc/bhsa/tf/c\n",
      "   |     0.00s M g_uvf_utf8           from /Users/dirk/github/etcbc/bhsa/tf/c\n",
      "   |     0.00s M g_vbe                from /Users/dirk/github/etcbc/bhsa/tf/c\n",
      "   |     0.00s M g_vbe_utf8           from /Users/dirk/github/etcbc/bhsa/tf/c\n",
      "   |     0.00s M g_vbs                from /Users/dirk/github/etcbc/bhsa/tf/c\n",
      "   |     0.00s M g_vbs_utf8           from /Users/dirk/github/etcbc/bhsa/tf/c\n",
      "   |     0.00s M g_word               from /Users/dirk/github/etcbc/bhsa/tf/c\n",
      "   |     0.00s M g_word_utf8          from /Users/dirk/github/etcbc/bhsa/tf/c\n",
      "   |     0.00s M gloss                from /Users/dirk/github/etcbc/bhsa/tf/c\n",
      "   |     0.00s M gn                   from /Users/dirk/github/etcbc/bhsa/tf/c\n",
      "   |     0.00s M grammatical          from /Users/dirk/github/etcbc/valence/tf/c\n",
      "   |     0.00s M instruction          from /Users/dirk/github/etcbc/bhsa/tf/c\n",
      "   |     0.00s M is_root              from /Users/dirk/github/etcbc/bhsa/tf/c\n",
      "   |     0.00s M kind                 from /Users/dirk/github/etcbc/bhsa/tf/c\n",
      "   |     0.00s M kq_hybrid            from /Users/dirk/github/etcbc/bhsa/tf/c\n",
      "   |     0.00s M kq_hybrid_utf8       from /Users/dirk/github/etcbc/bhsa/tf/c\n",
      "   |     0.00s M label                from /Users/dirk/github/etcbc/bhsa/tf/c\n",
      "   |     0.00s M language             from /Users/dirk/github/etcbc/bhsa/tf/c\n",
      "   |     0.00s M languageISO          from /Users/dirk/github/etcbc/bhsa/tf/c\n",
      "   |     0.00s M lex                  from /Users/dirk/github/etcbc/bhsa/tf/c\n",
      "   |     0.00s M lex0                 from /Users/dirk/github/etcbc/bhsa/tf/c\n",
      "   |     0.00s M lex_utf8             from /Users/dirk/github/etcbc/bhsa/tf/c\n",
      "   |     0.00s M lexeme_count         from /Users/dirk/github/etcbc/bhsa/tf/c\n",
      "   |     0.00s M lexical              from /Users/dirk/github/etcbc/valence/tf/c\n",
      "   |     0.00s M ls                   from /Users/dirk/github/etcbc/bhsa/tf/c\n",
      "   |     0.00s M mother               from /Users/dirk/github/etcbc/bhsa/tf/c\n",
      "   |     0.00s M mother_object_type   from /Users/dirk/github/etcbc/bhsa/tf/c\n",
      "   |     0.00s M nametype             from /Users/dirk/github/etcbc/bhsa/tf/c\n",
      "   |     0.00s M nme                  from /Users/dirk/github/etcbc/bhsa/tf/c\n",
      "   |     0.00s M nu                   from /Users/dirk/github/etcbc/bhsa/tf/c\n",
      "   |     0.00s M number               from /Users/dirk/github/etcbc/bhsa/tf/c\n",
      "   |     0.00s M omap@2017-c          from /Users/dirk/github/etcbc/bhsa/tf/c\n"
     ]
    },
    {
     "name": "stderr",
     "output_type": "stream",
     "text": [
      "   |     0.00s feature \"omap@2017-c\" => \"omap_2017_c\"\n"
     ]
    },
    {
     "name": "stdout",
     "output_type": "stream",
     "text": [
      "   |     0.00s M original             from /Users/dirk/github/etcbc/valence/tf/c\n",
      "   |     0.00s M otext@phono          from /Users/dirk/github/etcbc/phono/tf/c\n",
      "   |     0.00s M pargr                from /Users/dirk/github/etcbc/bhsa/tf/c\n",
      "   |     0.00s M pdp                  from /Users/dirk/github/etcbc/bhsa/tf/c\n",
      "   |     0.00s M pfm                  from /Users/dirk/github/etcbc/bhsa/tf/c\n",
      "   |     0.00s M phono                from /Users/dirk/github/etcbc/phono/tf/c\n",
      "   |     0.00s M phono_trailer        from /Users/dirk/github/etcbc/phono/tf/c\n",
      "   |     0.00s M predication          from /Users/dirk/github/etcbc/valence/tf/c\n",
      "   |     0.00s M prs                  from /Users/dirk/github/etcbc/bhsa/tf/c\n",
      "   |     0.00s M prs_gn               from /Users/dirk/github/etcbc/bhsa/tf/c\n",
      "   |     0.00s M prs_nu               from /Users/dirk/github/etcbc/bhsa/tf/c\n",
      "   |     0.00s M prs_ps               from /Users/dirk/github/etcbc/bhsa/tf/c\n",
      "   |     0.00s M ps                   from /Users/dirk/github/etcbc/bhsa/tf/c\n",
      "   |     0.00s M qere                 from /Users/dirk/github/etcbc/bhsa/tf/c\n",
      "   |     0.00s M qere_trailer         from /Users/dirk/github/etcbc/bhsa/tf/c\n",
      "   |     0.00s M qere_trailer_utf8    from /Users/dirk/github/etcbc/bhsa/tf/c\n",
      "   |     0.00s M qere_utf8            from /Users/dirk/github/etcbc/bhsa/tf/c\n",
      "   |     0.00s M rank_lex             from /Users/dirk/github/etcbc/bhsa/tf/c\n",
      "   |     0.00s M rank_occ             from /Users/dirk/github/etcbc/bhsa/tf/c\n",
      "   |     0.00s M rela                 from /Users/dirk/github/etcbc/bhsa/tf/c\n",
      "   |     0.00s M root                 from /Users/dirk/github/etcbc/bhsa/tf/c\n",
      "   |     0.00s M s_manual             from /Users/dirk/github/etcbc/valence/tf/c\n",
      "   |     0.00s M semantic             from /Users/dirk/github/etcbc/valence/tf/c\n",
      "   |     0.00s M sense                from /Users/dirk/github/etcbc/valence/tf/c\n",
      "   |     0.00s M sp                   from /Users/dirk/github/etcbc/bhsa/tf/c\n",
      "   |     0.00s M st                   from /Users/dirk/github/etcbc/bhsa/tf/c\n",
      "   |     0.00s M suffix_gender        from /Users/dirk/github/etcbc/bhsa/tf/c\n",
      "   |     0.00s M suffix_number        from /Users/dirk/github/etcbc/bhsa/tf/c\n",
      "   |     0.00s M suffix_person        from /Users/dirk/github/etcbc/bhsa/tf/c\n",
      "   |     0.00s M tab                  from /Users/dirk/github/etcbc/bhsa/tf/c\n",
      "   |     0.00s M trailer              from /Users/dirk/github/etcbc/bhsa/tf/c\n",
      "   |     0.00s M trailer_utf8         from /Users/dirk/github/etcbc/bhsa/tf/c\n",
      "   |     0.00s M txt                  from /Users/dirk/github/etcbc/bhsa/tf/c\n",
      "   |     0.00s M typ                  from /Users/dirk/github/etcbc/bhsa/tf/c\n",
      "   |     0.00s M uvf                  from /Users/dirk/github/etcbc/bhsa/tf/c\n",
      "   |     0.00s M valence              from /Users/dirk/github/etcbc/valence/tf/c\n",
      "   |     0.00s M vbe                  from /Users/dirk/github/etcbc/bhsa/tf/c\n",
      "   |     0.00s M vbs                  from /Users/dirk/github/etcbc/bhsa/tf/c\n",
      "   |     0.00s M verse                from /Users/dirk/github/etcbc/bhsa/tf/c\n",
      "   |     0.00s M voc_lex              from /Users/dirk/github/etcbc/bhsa/tf/c\n",
      "   |     0.00s M voc_lex_utf8         from /Users/dirk/github/etcbc/bhsa/tf/c\n",
      "   |     0.00s M vs                   from /Users/dirk/github/etcbc/bhsa/tf/c\n",
      "   |     0.00s M vt                   from /Users/dirk/github/etcbc/bhsa/tf/c\n",
      "   |     0.03s B otype                from /Users/dirk/github/etcbc/bhsa/tf/c\n",
      "   |     0.50s B oslots               from /Users/dirk/github/etcbc/bhsa/tf/c\n",
      "   |     0.00s B __levels__           from otype, oslots\n",
      "  1.01s 127 features to export to MQL ...\n",
      "  1.04s Loading 127 features\n",
      "   |     0.01s B book                 from /Users/dirk/github/etcbc/bhsa/tf/c\n",
      "   |     0.00s B book@am              from /Users/dirk/github/etcbc/bhsa/tf/c\n",
      "   |     0.00s B book@ar              from /Users/dirk/github/etcbc/bhsa/tf/c\n",
      "   |     0.00s B book@bn              from /Users/dirk/github/etcbc/bhsa/tf/c\n",
      "   |     0.00s B book@da              from /Users/dirk/github/etcbc/bhsa/tf/c\n",
      "   |     0.00s B book@de              from /Users/dirk/github/etcbc/bhsa/tf/c\n",
      "   |     0.00s B book@el              from /Users/dirk/github/etcbc/bhsa/tf/c\n",
      "   |     0.00s B book@en              from /Users/dirk/github/etcbc/bhsa/tf/c\n",
      "   |     0.00s B book@es              from /Users/dirk/github/etcbc/bhsa/tf/c\n",
      "   |     0.00s B book@fa              from /Users/dirk/github/etcbc/bhsa/tf/c\n",
      "   |     0.00s B book@fr              from /Users/dirk/github/etcbc/bhsa/tf/c\n",
      "   |     0.00s B book@he              from /Users/dirk/github/etcbc/bhsa/tf/c\n",
      "   |     0.00s B book@hi              from /Users/dirk/github/etcbc/bhsa/tf/c\n",
      "   |     0.00s B book@id              from /Users/dirk/github/etcbc/bhsa/tf/c\n",
      "   |     0.00s B book@ja              from /Users/dirk/github/etcbc/bhsa/tf/c\n",
      "   |     0.00s B book@ko              from /Users/dirk/github/etcbc/bhsa/tf/c\n",
      "   |     0.00s B book@la              from /Users/dirk/github/etcbc/bhsa/tf/c\n",
      "   |     0.00s B book@nl              from /Users/dirk/github/etcbc/bhsa/tf/c\n",
      "   |     0.00s B book@pa              from /Users/dirk/github/etcbc/bhsa/tf/c\n",
      "   |     0.00s B book@pt              from /Users/dirk/github/etcbc/bhsa/tf/c\n",
      "   |     0.00s B book@ru              from /Users/dirk/github/etcbc/bhsa/tf/c\n",
      "   |     0.00s B book@sw              from /Users/dirk/github/etcbc/bhsa/tf/c\n",
      "   |     0.00s B book@syc             from /Users/dirk/github/etcbc/bhsa/tf/c\n",
      "   |     0.00s B book@tr              from /Users/dirk/github/etcbc/bhsa/tf/c\n",
      "   |     0.00s B book@ur              from /Users/dirk/github/etcbc/bhsa/tf/c\n",
      "   |     0.00s B book@yo              from /Users/dirk/github/etcbc/bhsa/tf/c\n",
      "   |     0.00s B book@zh              from /Users/dirk/github/etcbc/bhsa/tf/c\n",
      "   |     0.06s B cfunction            from /Users/dirk/github/etcbc/valence/tf/c\n",
      "   |     0.01s B chapter              from /Users/dirk/github/etcbc/bhsa/tf/c\n",
      "   |     0.02s B code                 from /Users/dirk/github/etcbc/bhsa/tf/c\n",
      "   |     0.01s B crossref             from /Users/dirk/github/etcbc/parallels/tf/c\n",
      "   |     0.04s B crossrefLCS          from /Users/dirk/github/etcbc/parallels/tf/c\n",
      "   |     0.01s B crossrefSET          from /Users/dirk/github/etcbc/parallels/tf/c\n",
      "   |     0.15s B det                  from /Users/dirk/github/etcbc/bhsa/tf/c\n",
      "   |     0.16s B dist                 from /Users/dirk/github/etcbc/bhsa/tf/c\n",
      "   |     0.17s B dist_unit            from /Users/dirk/github/etcbc/bhsa/tf/c\n",
      "   |     2.76s B distributional_parent from /Users/dirk/github/etcbc/bhsa/tf/c\n",
      "   |     0.02s B domain               from /Users/dirk/github/etcbc/bhsa/tf/c\n",
      "   |     0.03s B f_correction         from /Users/dirk/github/etcbc/valence/tf/c\n",
      "   |     0.10s B freq_lex             from /Users/dirk/github/etcbc/bhsa/tf/c\n",
      "   |     0.09s B freq_occ             from /Users/dirk/github/etcbc/bhsa/tf/c\n",
      "   |     0.07s B function             from /Users/dirk/github/etcbc/bhsa/tf/c\n",
      "   |     2.15s B functional_parent    from /Users/dirk/github/etcbc/bhsa/tf/c\n",
      "   |     0.14s B g_cons               from /Users/dirk/github/etcbc/bhsa/tf/c\n",
      "   |     0.20s B g_cons_utf8          from /Users/dirk/github/etcbc/bhsa/tf/c\n",
      "   |     0.23s B g_lex                from /Users/dirk/github/etcbc/bhsa/tf/c\n",
      "   |     0.30s B g_lex_utf8           from /Users/dirk/github/etcbc/bhsa/tf/c\n",
      "   |     0.10s B g_nme                from /Users/dirk/github/etcbc/bhsa/tf/c\n",
      "   |     0.15s B g_nme_utf8           from /Users/dirk/github/etcbc/bhsa/tf/c\n",
      "   |     0.09s B g_pfm                from /Users/dirk/github/etcbc/bhsa/tf/c\n",
      "   |     0.08s B g_pfm_utf8           from /Users/dirk/github/etcbc/bhsa/tf/c\n",
      "   |     0.08s B g_prs                from /Users/dirk/github/etcbc/bhsa/tf/c\n",
      "   |     0.08s B g_prs_utf8           from /Users/dirk/github/etcbc/bhsa/tf/c\n",
      "   |     0.07s B g_uvf                from /Users/dirk/github/etcbc/bhsa/tf/c\n",
      "   |     0.07s B g_uvf_utf8           from /Users/dirk/github/etcbc/bhsa/tf/c\n",
      "   |     0.07s B g_vbe                from /Users/dirk/github/etcbc/bhsa/tf/c\n",
      "   |     0.07s B g_vbe_utf8           from /Users/dirk/github/etcbc/bhsa/tf/c\n",
      "   |     0.07s B g_vbs                from /Users/dirk/github/etcbc/bhsa/tf/c\n",
      "   |     0.07s B g_vbs_utf8           from /Users/dirk/github/etcbc/bhsa/tf/c\n",
      "   |     0.15s B g_word               from /Users/dirk/github/etcbc/bhsa/tf/c\n",
      "   |     0.22s B g_word_utf8          from /Users/dirk/github/etcbc/bhsa/tf/c\n",
      "   |     0.01s B gloss                from /Users/dirk/github/etcbc/bhsa/tf/c\n",
      "   |     0.10s B gn                   from /Users/dirk/github/etcbc/bhsa/tf/c\n",
      "   |     0.07s B grammatical          from /Users/dirk/github/etcbc/valence/tf/c\n",
      "   |     0.03s B instruction          from /Users/dirk/github/etcbc/bhsa/tf/c\n",
      "   |     0.03s B is_root              from /Users/dirk/github/etcbc/bhsa/tf/c\n",
      "   |     0.03s B kind                 from /Users/dirk/github/etcbc/bhsa/tf/c\n",
      "   |     0.08s B kq_hybrid            from /Users/dirk/github/etcbc/bhsa/tf/c\n",
      "   |     0.07s B kq_hybrid_utf8       from /Users/dirk/github/etcbc/bhsa/tf/c\n",
      "   |     0.02s B label                from /Users/dirk/github/etcbc/bhsa/tf/c\n",
      "   |     0.13s B language             from /Users/dirk/github/etcbc/bhsa/tf/c\n",
      "   |     0.12s B languageISO          from /Users/dirk/github/etcbc/bhsa/tf/c\n",
      "   |     0.13s B lex                  from /Users/dirk/github/etcbc/bhsa/tf/c\n",
      "   |     0.12s B lex0                 from /Users/dirk/github/etcbc/bhsa/tf/c\n",
      "   |     0.19s B lex_utf8             from /Users/dirk/github/etcbc/bhsa/tf/c\n",
      "   |     0.07s B lexeme_count         from /Users/dirk/github/etcbc/bhsa/tf/c\n",
      "   |     0.05s B lexical              from /Users/dirk/github/etcbc/valence/tf/c\n",
      "   |     0.13s B ls                   from /Users/dirk/github/etcbc/bhsa/tf/c\n",
      "   |     0.14s B mother               from /Users/dirk/github/etcbc/bhsa/tf/c\n",
      "   |     0.06s B mother_object_type   from /Users/dirk/github/etcbc/bhsa/tf/c\n",
      "   |     0.00s B nametype             from /Users/dirk/github/etcbc/bhsa/tf/c\n",
      "   |     0.11s B nme                  from /Users/dirk/github/etcbc/bhsa/tf/c\n",
      "   |     0.12s B nu                   from /Users/dirk/github/etcbc/bhsa/tf/c\n",
      "   |     0.23s B number               from /Users/dirk/github/etcbc/bhsa/tf/c\n",
      "   |     6.92s T omap@2017-c          from /Users/dirk/github/etcbc/bhsa/tf/c\n",
      "   |     0.04s B original             from /Users/dirk/github/etcbc/valence/tf/c\n",
      "   |     0.04s B pargr                from /Users/dirk/github/etcbc/bhsa/tf/c\n",
      "   |     0.20s B pdp                  from /Users/dirk/github/etcbc/bhsa/tf/c\n",
      "   |     0.17s B pfm                  from /Users/dirk/github/etcbc/bhsa/tf/c\n",
      "   |     0.27s B phono                from /Users/dirk/github/etcbc/phono/tf/c\n",
      "   |     0.09s B phono_trailer        from /Users/dirk/github/etcbc/phono/tf/c\n",
      "   |     0.08s B predication          from /Users/dirk/github/etcbc/valence/tf/c\n",
      "   |     0.20s B prs                  from /Users/dirk/github/etcbc/bhsa/tf/c\n",
      "   |     0.18s B prs_gn               from /Users/dirk/github/etcbc/bhsa/tf/c\n",
      "   |     0.17s B prs_nu               from /Users/dirk/github/etcbc/bhsa/tf/c\n",
      "   |     0.17s B prs_ps               from /Users/dirk/github/etcbc/bhsa/tf/c\n",
      "   |     0.15s B ps                   from /Users/dirk/github/etcbc/bhsa/tf/c\n",
      "   |     0.00s B qere                 from /Users/dirk/github/etcbc/bhsa/tf/c\n",
      "   |     0.00s B qere_trailer         from /Users/dirk/github/etcbc/bhsa/tf/c\n",
      "   |     0.00s B qere_trailer_utf8    from /Users/dirk/github/etcbc/bhsa/tf/c\n",
      "   |     0.00s B qere_utf8            from /Users/dirk/github/etcbc/bhsa/tf/c\n",
      "   |     0.14s B rank_lex             from /Users/dirk/github/etcbc/bhsa/tf/c\n",
      "   |     0.13s B rank_occ             from /Users/dirk/github/etcbc/bhsa/tf/c\n",
      "   |     0.27s B rela                 from /Users/dirk/github/etcbc/bhsa/tf/c\n",
      "   |     0.00s B root                 from /Users/dirk/github/etcbc/bhsa/tf/c\n",
      "   |     0.05s B s_manual             from /Users/dirk/github/etcbc/valence/tf/c\n",
      "   |     0.07s B semantic             from /Users/dirk/github/etcbc/valence/tf/c\n",
      "   |     0.03s B sense                from /Users/dirk/github/etcbc/valence/tf/c\n",
      "   |     0.17s B sp                   from /Users/dirk/github/etcbc/bhsa/tf/c\n",
      "   |     0.16s B st                   from /Users/dirk/github/etcbc/bhsa/tf/c\n",
      "   |     0.19s B suffix_gender        from /Users/dirk/github/etcbc/bhsa/tf/c\n",
      "   |     0.17s B suffix_number        from /Users/dirk/github/etcbc/bhsa/tf/c\n",
      "   |     0.17s B suffix_person        from /Users/dirk/github/etcbc/bhsa/tf/c\n",
      "   |     0.03s B tab                  from /Users/dirk/github/etcbc/bhsa/tf/c\n",
      "   |     0.10s B trailer              from /Users/dirk/github/etcbc/bhsa/tf/c\n",
      "   |     0.12s B trailer_utf8         from /Users/dirk/github/etcbc/bhsa/tf/c\n",
      "   |     0.04s B txt                  from /Users/dirk/github/etcbc/bhsa/tf/c\n",
      "   |     0.34s B typ                  from /Users/dirk/github/etcbc/bhsa/tf/c\n",
      "   |     0.19s B uvf                  from /Users/dirk/github/etcbc/bhsa/tf/c\n",
      "   |     0.08s B valence              from /Users/dirk/github/etcbc/valence/tf/c\n",
      "   |     0.15s B vbe                  from /Users/dirk/github/etcbc/bhsa/tf/c\n",
      "   |     0.14s B vbs                  from /Users/dirk/github/etcbc/bhsa/tf/c\n",
      "   |     0.01s B verse                from /Users/dirk/github/etcbc/bhsa/tf/c\n",
      "   |     0.01s B voc_lex              from /Users/dirk/github/etcbc/bhsa/tf/c\n",
      "   |     0.01s B voc_lex_utf8         from /Users/dirk/github/etcbc/bhsa/tf/c\n",
      "   |     0.14s B vs                   from /Users/dirk/github/etcbc/bhsa/tf/c\n",
      "   |     0.14s B vt                   from /Users/dirk/github/etcbc/bhsa/tf/c\n",
      "    23s Writing enumerations\n",
      "\tbook_am        :   39 values, 39 not a name, e.g. «መኃልየ_መኃልይ_ዘሰሎሞን»\n",
      "\tbook_ar        :   39 values, 39 not a name, e.g. «1_اخبار»\n",
      "\tbook_bn        :   39 values, 39 not a name, e.g. «আদিপুস্তক»\n",
      "\tbook_da        :   39 values, 13 not a name, e.g. «1.Kongebog»\n",
      "\tbook_de        :   39 values, 7 not a name, e.g. «1_Chronik»\n",
      "\tbook_el        :   39 values, 39 not a name, e.g. «Άσμα_Ασμάτων»\n",
      "\tbook_en        :   39 values, 6 not a name, e.g. «1_Chronicles»\n",
      "\tbook_es        :   39 values, 22 not a name, e.g. «1_Crónicas»\n",
      "\tbook_fa        :   39 values, 39 not a name, e.g. «استر»\n",
      "\tbook_fr        :   39 values, 19 not a name, e.g. «1_Chroniques»\n",
      "\tbook_he        :   39 values, 39 not a name, e.g. «איוב»\n",
      "\tbook_hi        :   39 values, 39 not a name, e.g. «1_इतिहास»\n",
      "\tbook_id        :   39 values, 7 not a name, e.g. «1_Raja-raja»\n",
      "\tbook_ja        :   39 values, 39 not a name, e.g. «アモス書»\n",
      "\tbook_ko        :   39 values, 39 not a name, e.g. «나훔»\n",
      "\tbook_nl        :   39 values, 8 not a name, e.g. «1_Koningen»\n",
      "\tbook_pa        :   39 values, 39 not a name, e.g. «1_ਇਤਹਾਸ»\n",
      "\tbook_pt        :   39 values, 21 not a name, e.g. «1_Crônicas»\n",
      "\tbook_ru        :   39 values, 39 not a name, e.g. «1-я_Паралипоменон»\n",
      "\tbook_sw        :   39 values, 6 not a name, e.g. «1_Mambo_ya_Nyakati»\n",
      "\tbook_syc       :   39 values, 39 not a name, e.g. «ܐ_ܒܪܝܡܝܢ»\n",
      "\tbook_tr        :   39 values, 16 not a name, e.g. «1_Krallar»\n",
      "\tbook_ur        :   39 values, 39 not a name, e.g. «احبار»\n",
      "\tbook_yo        :   39 values, 8 not a name, e.g. «Amọsi»\n",
      "\tbook_zh        :   38 values, 37 not a name, e.g. «以斯帖记»\n",
      "\tcfunction      :   26 values, 1 not a name, e.g. «»\n",
      "\tdomain         :    4 values, 1 not a name, e.g. «?»\n",
      "\tf_correction   :    1 values, 1 not a name, e.g. «»\n",
      "\tg_nme          :  108 values, 108 not a name, e.g. «»\n",
      "\tg_nme_utf8     :  106 values, 106 not a name, e.g. «»\n",
      "\tg_pfm          :   87 values, 87 not a name, e.g. «»\n",
      "\tg_pfm_utf8     :   86 values, 86 not a name, e.g. «»\n",
      "\tg_prs          :  127 values, 127 not a name, e.g. «»\n",
      "\tg_prs_utf8     :  126 values, 126 not a name, e.g. «»\n",
      "\tg_uvf          :   19 values, 19 not a name, e.g. «»\n",
      "\tg_uvf_utf8     :   17 values, 17 not a name, e.g. «»\n",
      "\tg_vbe          :  101 values, 101 not a name, e.g. «»\n",
      "\tg_vbe_utf8     :   97 values, 97 not a name, e.g. «»\n",
      "\tg_vbs          :   66 values, 66 not a name, e.g. «»\n",
      "\tg_vbs_utf8     :   65 values, 65 not a name, e.g. «»\n",
      "\tgrammatical    :   11 values, 2 not a name, e.g. «»\n",
      "\tinstruction    :   35 values, 20 not a name, e.g. «.#»\n",
      "\tlexical        :    4 values, 1 not a name, e.g. «»\n",
      "\tnametype       :    9 values, 4 not a name, e.g. «gens,topo»\n",
      "\tnme            :   20 values, 7 not a name, e.g. «»\n",
      "\toriginal       :    2 values, 2 not a name, e.g. «»\n",
      "\tpfm            :   11 values, 4 not a name, e.g. «»\n",
      "\tphono_trailer  :    4 values, 4 not a name, e.g. «»\n",
      "\tprs            :   22 values, 4 not a name, e.g. «H=»\n",
      "\tqere_trailer   :    5 values, 5 not a name, e.g. «»\n",
      "\tqere_trailer_utf8:    5 values, 5 not a name, e.g. «»\n",
      "\troot           :  648 values, 187 not a name, e.g. «<Assyrian>»\n",
      "\ts_manual       :    1 values, 1 not a name, e.g. «»\n",
      "\tsemantic       :    5 values, 1 not a name, e.g. «»\n",
      "\tsense          :   15 values, 11 not a name, e.g. «--»\n",
      "\ttrailer        :   12 values, 12 not a name, e.g. «»\n",
      "\ttrailer_utf8   :   12 values, 12 not a name, e.g. «»\n",
      "\ttxt            :  136 values, 59 not a name, e.g. «?»\n",
      "\tuvf            :    6 values, 1 not a name, e.g. «>»\n",
      "\tvbe            :   19 values, 6 not a name, e.g. «»\n",
      "\tvbs            :   11 values, 3 not a name, e.g. «>»\n",
      "   |     1.96s Writing an all-in-one enum with  237 values\n",
      "    25s Mapping 127 features onto 13 object types\n",
      "    32s Writing 127 features as data in 13 object types\n",
      "   |     0.00s word data ...\n",
      "   |      |     4.81s batch of size               46.6MB with   50000 of   50000 words\n",
      "   |      |     9.66s batch of size               46.6MB with   50000 of  100000 words\n",
      "   |      |       15s batch of size               46.7MB with   50000 of  150000 words\n",
      "   |      |       19s batch of size               46.8MB with   50000 of  200000 words\n",
      "   |      |       24s batch of size               47.0MB with   50000 of  250000 words\n",
      "   |      |       29s batch of size               47.0MB with   50000 of  300000 words\n",
      "   |      |       34s batch of size               47.2MB with   50000 of  350000 words\n",
      "   |      |       39s batch of size               46.9MB with   50000 of  400000 words\n",
      "   |      |       41s batch of size               24.9MB with   26584 of  426584 words\n",
      "   |       41s word data: 426584 objects\n",
      "   |     0.00s subphrase data ...\n",
      "   |      |     0.63s batch of size                7.1MB with   50000 of   50000 subphrases\n",
      "   |      |     1.28s batch of size                7.0MB with   50000 of  100000 subphrases\n",
      "   |      |     1.46s batch of size                2.0MB with   13784 of  113784 subphrases\n",
      "   |     1.46s subphrase data: 113784 objects\n",
      "   |     0.00s phrase_atom data ...\n",
      "   |      |     1.00s batch of size               10.8MB with   50000 of   50000 phrase_atoms\n",
      "   |      |     2.07s batch of size               10.8MB with   50000 of  100000 phrase_atoms\n",
      "   |      |     3.08s batch of size               10.9MB with   50000 of  150000 phrase_atoms\n",
      "   |      |     4.09s batch of size               10.9MB with   50000 of  200000 phrase_atoms\n",
      "   |      |     5.09s batch of size               10.9MB with   50000 of  250000 phrase_atoms\n",
      "   |      |     5.45s batch of size                3.9MB with   17519 of  267519 phrase_atoms\n",
      "   |     5.45s phrase_atom data: 267519 objects\n",
      "   |     0.00s phrase data ...\n",
      "   |      |     1.51s batch of size               15.8MB with   50000 of   50000 phrases\n",
      "   |      |     3.02s batch of size               16.0MB with   50000 of  100000 phrases\n",
      "   |      |     4.52s batch of size               15.9MB with   50000 of  150000 phrases\n",
      "   |      |     6.01s batch of size               15.7MB with   50000 of  200000 phrases\n",
      "   |      |     7.47s batch of size               15.4MB with   50000 of  250000 phrases\n",
      "   |      |     7.58s batch of size                1.0MB with    3187 of  253187 phrases\n",
      "   |     7.58s phrase data: 253187 objects\n",
      "   |     0.00s clause_atom data ...\n",
      "   |      |     1.28s batch of size               13.2MB with   50000 of   50000 clause_atoms\n",
      "   |      |     2.30s batch of size               10.7MB with   40669 of   90669 clause_atoms\n",
      "   |     2.30s clause_atom data: 90669 objects\n",
      "   |     0.00s clause data ...\n",
      "   |      |     1.31s batch of size               12.7MB with   50000 of   50000 clauses\n",
      "   |      |     2.30s batch of size                9.6MB with   38101 of   88101 clauses\n",
      "   |     2.30s clause data: 88101 objects\n",
      "   |     0.00s sentence_atom data ...\n",
      "   |      |     0.59s batch of size                6.5MB with   50000 of   50000 sentence_atoms\n",
      "   |      |     0.76s batch of size                1.9MB with   14486 of   64486 sentence_atoms\n",
      "   |     0.76s sentence_atom data: 64486 objects\n",
      "   |     0.00s sentence data ...\n",
      "   |      |     0.47s batch of size                5.0MB with   50000 of   50000 sentences\n",
      "   |      |     0.60s batch of size                1.4MB with   13711 of   63711 sentences\n",
      "   |     0.60s sentence data: 63711 objects\n",
      "   |     0.00s half_verse data ...\n",
      "   |      |     0.43s batch of size                4.5MB with   45180 of   45180 half_verses\n",
      "   |     0.44s half_verse data: 45180 objects\n",
      "   |     0.00s verse data ...\n",
      "   |      |     0.44s batch of size                4.2MB with   23213 of   23213 verses\n",
      "   |     0.44s verse data: 23213 objects\n",
      "   |     0.00s lex data ...\n",
      "   |      |     0.60s batch of size                4.7MB with    9233 of    9233 lexs\n",
      "   |     0.60s lex data: 9233 objects\n",
      "   |     0.00s chapter data ...\n",
      "   |      |     0.08s batch of size              108.4KB with     929 of     929 chapters\n",
      "   |     0.09s chapter data: 929 objects\n",
      "   |     0.00s book data ...\n",
      "   |      |     0.06s batch of size               28.2KB with      39 of      39 books\n",
      "   |     0.06s book data: 39 objects\n",
      " 1m 35s Done\n",
      "|     17m 07s \tbzipping /Users/dirk/github/etcbc/bhsa/_temp/c/shebanq/shebanq_etcbcc.mql\n",
      "|     17m 07s \tand delivering as /Users/dirk/github/etcbc/bhsa/shebanq/c/shebanq_etcbcc.mql.bz2 ...\n",
      "|     19m 01s \tDone\n",
      "\n",
      "##############################################################################################\n",
      "#                                                                                            #\n",
      "#     19m 01s Create Mysql passage db for version c                                          #\n",
      "#                                                                                            #\n",
      "##############################################################################################\n",
      "\n",
      "\n",
      "----------------------------------------------------------------------------------------------\n",
      "-     19m 01s Run notebook [pipeline/passageFromTf] with parameters:                         -\n",
      "----------------------------------------------------------------------------------------------\n",
      "\n",
      "|     19m 01s \tVERSION              = c\n",
      "|     19m 03s \tDestination /Users/dirk/github/etcbc/bhsa/shebanq/c/shebanq_passagec.sql.gz exists\n",
      "|     19m 03s NOTE: repo seems up to date. Will be run because of \"force=True\"\n",
      "..............................................................................................\n",
      ".     19m 03s Loading relevant features                                                      .\n",
      "..............................................................................................\n",
      "This is Text-Fabric 3.1.1\n",
      "Api reference : https://github.com/Dans-labs/text-fabric/wiki/Api\n",
      "Tutorial      : https://github.com/Dans-labs/text-fabric/blob/master/docs/tutorial.ipynb\n",
      "Example data  : https://github.com/Dans-labs/text-fabric-data\n",
      "\n",
      "118 features found and 0 ignored\n",
      "  0.00s loading features ...\n",
      "   |     0.01s B book                 from /Users/dirk/github/etcbc/bhsa/tf/c\n",
      "   |     0.01s B chapter              from /Users/dirk/github/etcbc/bhsa/tf/c\n",
      "   |     0.01s B verse                from /Users/dirk/github/etcbc/bhsa/tf/c\n",
      "   |     0.14s B g_cons               from /Users/dirk/github/etcbc/bhsa/tf/c\n",
      "   |     0.20s B g_cons_utf8          from /Users/dirk/github/etcbc/bhsa/tf/c\n",
      "   |     0.15s B g_lex                from /Users/dirk/github/etcbc/bhsa/tf/c\n",
      "   |     0.16s B g_word               from /Users/dirk/github/etcbc/bhsa/tf/c\n",
      "   |     0.22s B g_word_utf8          from /Users/dirk/github/etcbc/bhsa/tf/c\n",
      "   |     0.19s B lex_utf8             from /Users/dirk/github/etcbc/bhsa/tf/c\n",
      "   |     0.22s B phono                from /Users/dirk/github/etcbc/phono/tf/c\n",
      "   |     0.08s B phono_trailer        from /Users/dirk/github/etcbc/phono/tf/c\n",
      "   |     0.00s B qere_trailer_utf8    from /Users/dirk/github/etcbc/bhsa/tf/c\n",
      "   |     0.00s B qere_utf8            from /Users/dirk/github/etcbc/bhsa/tf/c\n",
      "   |     0.09s B trailer_utf8         from /Users/dirk/github/etcbc/bhsa/tf/c\n",
      "   |     0.14s B languageISO          from /Users/dirk/github/etcbc/bhsa/tf/c\n",
      "   |     0.15s B lex                  from /Users/dirk/github/etcbc/bhsa/tf/c\n",
      "   |     0.15s B sp                   from /Users/dirk/github/etcbc/bhsa/tf/c\n",
      "   |     0.13s B pdp                  from /Users/dirk/github/etcbc/bhsa/tf/c\n",
      "   |     0.13s B ls                   from /Users/dirk/github/etcbc/bhsa/tf/c\n",
      "   |     0.01s B voc_lex              from /Users/dirk/github/etcbc/bhsa/tf/c\n",
      "   |     0.01s B voc_lex_utf8         from /Users/dirk/github/etcbc/bhsa/tf/c\n",
      "   |     0.13s B vt                   from /Users/dirk/github/etcbc/bhsa/tf/c\n",
      "   |     0.14s B vs                   from /Users/dirk/github/etcbc/bhsa/tf/c\n",
      "   |     0.11s B gn                   from /Users/dirk/github/etcbc/bhsa/tf/c\n",
      "   |     0.13s B nu                   from /Users/dirk/github/etcbc/bhsa/tf/c\n",
      "   |     0.13s B ps                   from /Users/dirk/github/etcbc/bhsa/tf/c\n",
      "   |     0.11s B st                   from /Users/dirk/github/etcbc/bhsa/tf/c\n",
      "   |     0.12s B nme                  from /Users/dirk/github/etcbc/bhsa/tf/c\n",
      "   |     0.13s B pfm                  from /Users/dirk/github/etcbc/bhsa/tf/c\n",
      "   |     0.13s B prs                  from /Users/dirk/github/etcbc/bhsa/tf/c\n",
      "   |     0.13s B uvf                  from /Users/dirk/github/etcbc/bhsa/tf/c\n",
      "   |     0.13s B vbe                  from /Users/dirk/github/etcbc/bhsa/tf/c\n",
      "   |     0.13s B vbs                  from /Users/dirk/github/etcbc/bhsa/tf/c\n",
      "   |     0.01s B gloss                from /Users/dirk/github/etcbc/bhsa/tf/c\n",
      "   |     0.00s B nametype             from /Users/dirk/github/etcbc/bhsa/tf/c\n",
      "   |     0.00s B root                 from /Users/dirk/github/etcbc/bhsa/tf/c\n",
      "   |     0.03s B pargr                from /Users/dirk/github/etcbc/bhsa/tf/c\n",
      "   |     0.08s B function             from /Users/dirk/github/etcbc/bhsa/tf/c\n",
      "   |     0.29s B typ                  from /Users/dirk/github/etcbc/bhsa/tf/c\n",
      "   |     0.26s B rela                 from /Users/dirk/github/etcbc/bhsa/tf/c\n",
      "   |     0.03s B txt                  from /Users/dirk/github/etcbc/bhsa/tf/c\n",
      "   |     0.15s B det                  from /Users/dirk/github/etcbc/bhsa/tf/c\n",
      "   |     0.02s B code                 from /Users/dirk/github/etcbc/bhsa/tf/c\n",
      "   |     0.02s B tab                  from /Users/dirk/github/etcbc/bhsa/tf/c\n",
      "   |     0.24s B number               from /Users/dirk/github/etcbc/bhsa/tf/c\n",
      "   |     0.09s B freq_lex             from /Users/dirk/github/etcbc/bhsa/tf/c\n",
      "   |     0.10s B freq_occ             from /Users/dirk/github/etcbc/bhsa/tf/c\n",
      "   |     0.09s B rank_lex             from /Users/dirk/github/etcbc/bhsa/tf/c\n",
      "   |     0.09s B rank_occ             from /Users/dirk/github/etcbc/bhsa/tf/c\n",
      "   |     0.00s Feature overview: 111 for nodes; 5 for edges; 2 configs; 7 computed\n",
      "  8.76s All features loaded/computed - for details use loadLog()\n",
      "|     19m 13s Lexicon arc has   708 entries\n",
      "|     19m 13s Lexicon hbo has  8525 entries\n",
      "|     19m 13s Building qere index\n",
      "|     19m 13s Found 1892 qeres\n",
      "|     19m 13s Building para index\n",
      "|     19m 13s Found para information for 90669 clause_atoms\n",
      "..............................................................................................\n",
      ".     19m 13s Fill the tables ...                                                            .\n",
      "..............................................................................................\n",
      "|     19m 20s OK    book           name           : max size =      13 of    32\n",
      "|     19m 20s OK    clause_atom    text           : max size =     271 of   512\n",
      "|     19m 20s OK    lexicon        entry          : max size =      14 of    32\n",
      "|     19m 20s OK    lexicon        entry_heb      : max size =      15 of    32\n",
      "|     19m 20s OK    lexicon        entryid        : max size =      15 of    32\n",
      "|     19m 20s OK    lexicon        entryid_heb    : max size =      16 of    32\n",
      "|     19m 20s OK    lexicon        g_entry        : max size =      24 of    32\n",
      "|     19m 20s OK    lexicon        g_entry_heb    : max size =      23 of    32\n",
      "|     19m 20s OK    lexicon        gloss          : max size =      27 of    32\n",
      "|     19m 20s OK    lexicon        id             : max size =      16 of    32\n",
      "|     19m 20s OK    lexicon        lan            : max size =       3 of     4\n",
      "|     19m 20s OK    lexicon        nametype       : max size =      14 of    16\n",
      "|     19m 20s OK    lexicon        pos            : max size =       4 of     8\n",
      "|     19m 20s OK    lexicon        root           : max size =      11 of    32\n",
      "|     19m 20s OK    lexicon        subpos         : max size =       4 of     8\n",
      "|     19m 20s OK    verse          text           : max size =     449 of  1024\n",
      "|     19m 20s OK    verse          xml            : max size =    2869 of  4096\n",
      "|     19m 20s Done\n",
      "All lexemes have been found in the lexicon\n",
      "..............................................................................................\n",
      ".     19m 20s Generating word info data ...                                                  .\n",
      "..............................................................................................\n",
      "|     19m 20s \tGenesis\n",
      "|     19m 34s \tExodus\n",
      "|     19m 45s \tLeviticus\n",
      "|     19m 53s \tNumeri\n",
      "|     20m 04s \tDeuteronomium\n",
      "|     20m 13s \tJosua\n",
      "|     20m 20s \tJudices\n",
      "|     20m 26s \tSamuel_I\n",
      "|     20m 36s \tSamuel_II\n",
      "|     20m 43s \tReges_I\n",
      "|     20m 53s \tReges_II\n",
      "|     21m 01s \tJesaia\n",
      "|     21m 12s \tJeremia\n",
      "|     21m 26s \tEzechiel\n",
      "|     21m 39s \tHosea\n",
      "|     21m 40s \tJoel\n",
      "|     21m 41s \tAmos\n",
      "|     21m 42s \tObadia\n",
      "|     21m 42s \tJona\n",
      "|     21m 43s \tMicha\n",
      "|     21m 44s \tNahum\n",
      "|     21m 44s \tHabakuk\n",
      "|     21m 45s \tZephania\n",
      "|     21m 45s \tHaggai\n",
      "|     21m 46s \tSacharia\n",
      "|     21m 48s \tMaleachi\n",
      "|     21m 48s \tPsalmi\n",
      "|     22m 01s \tIob\n",
      "|     22m 06s \tProverbia\n",
      "|     22m 11s \tRuth\n",
      "|     22m 12s \tCanticum\n",
      "|     22m 13s \tEcclesiastes\n",
      "|     22m 15s \tThreni\n",
      "|     22m 16s \tEsther\n",
      "|     22m 18s \tDaniel\n",
      "|     22m 22s \tEsra\n",
      "|     22m 24s \tNehemia\n",
      "|     22m 28s \tChronica_I\n",
      "|     22m 35s \tChronica_II\n",
      "|     22m 44s Done\n",
      "OK    word           word_heb            : max size =      28 of    32\n",
      "OK    word           word_ktv            : max size =      15 of    32\n",
      "OK    word           word_vlex           : max size =      23 of    32\n",
      "OK    word           word_clex           : max size =      15 of    32\n",
      "OK    word           word_tran           : max size =      28 of    32\n",
      "OK    word           word_phono          : max size =      23 of    32\n",
      "OK    word           word_phono_sep      : max size =       3 of     8\n",
      "OK    word           word_lex            : max size =      15 of    32\n",
      "OK    word           word_glex           : max size =      24 of    32\n",
      "OK    word           word_gloss          : max size =      27 of    32\n",
      "OK    word           word_lang           : max size =       3 of     8\n",
      "OK    word           word_pos            : max size =       4 of     8\n",
      "OK    word           word_pdp            : max size =       4 of     8\n",
      "OK    word           word_subpos         : max size =       4 of     8\n",
      "OK    word           word_nmtp           : max size =      14 of    32\n",
      "OK    word           word_tense          : max size =       4 of     8\n",
      "OK    word           word_stem           : max size =       4 of     8\n",
      "OK    word           word_gender         : max size =       7 of     8\n",
      "OK    word           word_gnumber        : max size =       7 of     8\n",
      "OK    word           word_person         : max size =       7 of     8\n",
      "OK    word           word_state          : max size =       2 of     8\n",
      "OK    word           word_nme            : max size =       6 of     8\n",
      "OK    word           word_pfm            : max size =       6 of     8\n",
      "OK    word           word_prs            : max size =       6 of     8\n",
      "OK    word           word_uvf            : max size =       6 of     8\n",
      "OK    word           word_vbe            : max size =       3 of     8\n",
      "OK    word           word_vbs            : max size =       6 of     8\n",
      "OK    word           subphrase_border    : max size =       8 of    16\n",
      "OK    word           subphrase_number    : max size =      14 of    32\n",
      "OK    word           subphrase_rela      : max size =       3 of     8\n",
      "OK    word           phrase_border       : max size =       5 of     8\n",
      "OK    word           phrase_atom_rela    : max size =       4 of     8\n",
      "OK    word           phrase_function     : max size =       4 of     8\n",
      "OK    word           phrase_rela         : max size =       4 of     8\n",
      "OK    word           phrase_typ          : max size =       4 of     8\n",
      "OK    word           phrase_det          : max size =       3 of     8\n",
      "OK    word           clause_border       : max size =       5 of     8\n",
      "OK    word           clause_atom_pargr   : max size =      39 of    64\n",
      "OK    word           clause_rela         : max size =       4 of     8\n",
      "OK    word           clause_typ          : max size =       4 of     8\n",
      "OK    word           clause_txt          : max size =       7 of     8\n",
      "OK    word           sentence_border     : max size =       5 of     8\n",
      "..............................................................................................\n",
      ".     22m 44s Generating SQL ...                                                             .\n",
      "..............................................................................................\n",
      "|     22m 44s \ttable book\n",
      "|     22m 44s \ttable chapter\n",
      "|     22m 44s \ttable verse\n",
      "|     22m 44s \ttable clause_atom\n",
      "|     22m 44s \ttable lexicon\n",
      "|     22m 44s \ttable word\n",
      "|     22m 45s \ttable word_verse\n",
      "|     22m 46s Done\n",
      "|     23m 15s SUCCESS passageFromTf\n",
      "\n",
      "----------------------------------------------------------------------------------------------\n",
      "-     23m 15s SUCCES [pipeline/passageFromTf]                                                -\n",
      "----------------------------------------------------------------------------------------------\n",
      "\n",
      "|     23m 15s \tDone\n"
     ]
    }
   ],
   "source": [
    "good = webPipeline(pipeline, versions=VERSIONS, force=True, kinds=KINDS)"
   ]
  },
  {
   "cell_type": "code",
   "execution_count": 5,
   "metadata": {},
   "outputs": [
    {
     "name": "stdout",
     "output_type": "stream",
     "text": [
      "\n",
      "##############################################################################################\n",
      "#                                                                                            #\n",
      "#     23m 58s Import MQL db for version 2016 locally                                         #\n",
      "#                                                                                            #\n",
      "##############################################################################################\n",
      "\n",
      "|     26m 51s Dropping indices on word_objects...!\n",
      "\n",
      "|     26m 51s Creating indices on word_objects...!\n",
      "\n",
      "|     26m 51s Dropping indices on subphrase_objects...!\n",
      "\n",
      "|     26m 51s Creating indices on subphrase_objects...!\n",
      "\n",
      "|     26m 51s Dropping indices on phrase_atom_objects...!\n",
      "\n",
      "|     26m 51s Creating indices on phrase_atom_objects...!\n",
      "\n",
      "|     26m 51s Dropping indices on phrase_objects...!\n",
      "\n",
      "|     26m 51s Creating indices on phrase_objects...!\n",
      "\n",
      "|     26m 51s Dropping indices on clause_atom_objects...!\n",
      "\n",
      "|     26m 51s Creating indices on clause_atom_objects...!\n",
      "\n",
      "|     26m 51s Dropping indices on clause_objects...!\n",
      "\n",
      "|     26m 51s Creating indices on clause_objects...!\n",
      "\n",
      "|     26m 51s Dropping indices on sentence_atom_objects...!\n",
      "\n",
      "|     26m 51s Creating indices on sentence_atom_objects...!\n",
      "\n",
      "|     26m 51s Dropping indices on sentence_objects...!\n",
      "\n",
      "|     26m 51s Creating indices on sentence_objects...!\n",
      "\n",
      "|     26m 51s Dropping indices on half_verse_objects...!\n",
      "\n",
      "|     26m 51s Creating indices on half_verse_objects...!\n",
      "\n",
      "|     26m 51s Dropping indices on verse_objects...!\n",
      "\n",
      "|     26m 51s Creating indices on verse_objects...!\n",
      "\n",
      "|     26m 51s Dropping indices on lex_objects...!\n",
      "\n",
      "|     26m 51s Creating indices on lex_objects...!\n",
      "\n",
      "|     26m 51s Dropping indices on chapter_objects...!\n",
      "\n",
      "|     26m 51s Creating indices on chapter_objects...!\n",
      "\n",
      "|     26m 51s Dropping indices on book_objects...!\n",
      "\n",
      "|     26m 51s Creating indices on book_objects...!\n",
      "\n",
      "\n",
      "##############################################################################################\n",
      "#                                                                                            #\n",
      "#     26m 51s Import passage db for version 2016                                             #\n",
      "#                                                                                            #\n",
      "##############################################################################################\n",
      "\n",
      "\n",
      "##############################################################################################\n",
      "#                                                                                            #\n",
      "#     27m 20s Import MQL db for version 2017 locally                                         #\n",
      "#                                                                                            #\n",
      "##############################################################################################\n",
      "\n",
      "|     30m 36s Dropping indices on word_objects...!\n",
      "\n",
      "|     30m 36s Creating indices on word_objects...!\n",
      "\n",
      "|     30m 36s Dropping indices on subphrase_objects...!\n",
      "\n",
      "|     30m 36s Creating indices on subphrase_objects...!\n",
      "\n",
      "|     30m 36s Dropping indices on phrase_atom_objects...!\n",
      "\n",
      "|     30m 36s Creating indices on phrase_atom_objects...!\n",
      "\n",
      "|     30m 36s Dropping indices on phrase_objects...!\n",
      "\n",
      "|     30m 36s Creating indices on phrase_objects...!\n",
      "\n",
      "|     30m 36s Dropping indices on clause_atom_objects...!\n",
      "\n",
      "|     30m 36s Creating indices on clause_atom_objects...!\n",
      "\n",
      "|     30m 36s Dropping indices on clause_objects...!\n",
      "\n",
      "|     30m 36s Creating indices on clause_objects...!\n",
      "\n",
      "|     30m 36s Dropping indices on sentence_atom_objects...!\n",
      "\n",
      "|     30m 36s Creating indices on sentence_atom_objects...!\n",
      "\n",
      "|     30m 36s Dropping indices on sentence_objects...!\n",
      "\n",
      "|     30m 36s Creating indices on sentence_objects...!\n",
      "\n",
      "|     30m 36s Dropping indices on half_verse_objects...!\n",
      "\n",
      "|     30m 36s Creating indices on half_verse_objects...!\n",
      "\n",
      "|     30m 36s Dropping indices on verse_objects...!\n",
      "\n",
      "|     30m 36s Creating indices on verse_objects...!\n",
      "\n",
      "|     30m 36s Dropping indices on lex_objects...!\n",
      "\n",
      "|     30m 36s Creating indices on lex_objects...!\n",
      "\n",
      "|     30m 36s Dropping indices on chapter_objects...!\n",
      "\n",
      "|     30m 36s Creating indices on chapter_objects...!\n",
      "\n",
      "|     30m 36s Dropping indices on book_objects...!\n",
      "\n",
      "|     30m 36s Creating indices on book_objects...!\n",
      "\n",
      "\n",
      "##############################################################################################\n",
      "#                                                                                            #\n",
      "#     30m 36s Import passage db for version 2017                                             #\n",
      "#                                                                                            #\n",
      "##############################################################################################\n",
      "\n",
      "\n",
      "##############################################################################################\n",
      "#                                                                                            #\n",
      "#     31m 06s Import MQL db for version c locally                                            #\n",
      "#                                                                                            #\n",
      "##############################################################################################\n",
      "\n",
      "|     34m 14s Dropping indices on word_objects...!\n",
      "\n",
      "|     34m 14s Creating indices on word_objects...!\n",
      "\n",
      "|     34m 14s Dropping indices on subphrase_objects...!\n",
      "\n",
      "|     34m 14s Creating indices on subphrase_objects...!\n",
      "\n",
      "|     34m 14s Dropping indices on phrase_atom_objects...!\n",
      "\n",
      "|     34m 14s Creating indices on phrase_atom_objects...!\n",
      "\n",
      "|     34m 14s Dropping indices on phrase_objects...!\n",
      "\n",
      "|     34m 14s Creating indices on phrase_objects...!\n",
      "\n",
      "|     34m 14s Dropping indices on clause_atom_objects...!\n",
      "\n",
      "|     34m 14s Creating indices on clause_atom_objects...!\n",
      "\n",
      "|     34m 14s Dropping indices on clause_objects...!\n",
      "\n",
      "|     34m 14s Creating indices on clause_objects...!\n",
      "\n",
      "|     34m 14s Dropping indices on sentence_atom_objects...!\n",
      "\n",
      "|     34m 14s Creating indices on sentence_atom_objects...!\n",
      "\n",
      "|     34m 14s Dropping indices on sentence_objects...!\n",
      "\n",
      "|     34m 14s Creating indices on sentence_objects...!\n",
      "\n",
      "|     34m 14s Dropping indices on half_verse_objects...!\n",
      "\n",
      "|     34m 14s Creating indices on half_verse_objects...!\n",
      "\n",
      "|     34m 14s Dropping indices on verse_objects...!\n",
      "\n",
      "|     34m 14s Creating indices on verse_objects...!\n",
      "\n",
      "|     34m 14s Dropping indices on lex_objects...!\n",
      "\n",
      "|     34m 14s Creating indices on lex_objects...!\n",
      "\n",
      "|     34m 14s Dropping indices on chapter_objects...!\n",
      "\n",
      "|     34m 14s Creating indices on chapter_objects...!\n",
      "\n",
      "|     34m 14s Dropping indices on book_objects...!\n",
      "\n",
      "|     34m 14s Creating indices on book_objects...!\n",
      "\n",
      "\n",
      "##############################################################################################\n",
      "#                                                                                            #\n",
      "#     34m 14s Import passage db for version c                                                #\n",
      "#                                                                                            #\n",
      "##############################################################################################\n",
      "\n"
     ]
    }
   ],
   "source": [
    "#good = True\n",
    "if good:\n",
    "    good = importLocal(pipeline, versions=VERSIONS, kinds=KINDS)"
   ]
  },
  {
   "cell_type": "code",
   "execution_count": 6,
   "metadata": {},
   "outputs": [
    {
     "name": "stdout",
     "output_type": "stream",
     "text": [
      "\n",
      "##############################################################################################\n",
      "#                                                                                            #\n",
      "#  1h 27m 18s Sending MQL database for version 2016 to server                                #\n",
      "#                                                                                            #\n",
      "##############################################################################################\n",
      "\n",
      "|  1h 27m 18s \tshebanq_etcbc2016.mql.bz2\n",
      "|  1h 27m 18s \tscp /Users/dirk/github/etcbc/bhsa/shebanq/2016/shebanq_etcbc2016.mql.bz2 dirkr@clarin11.dans.knaw.nl:/home/dirkr/shebanq-install/shebanq_etcbc2016.mql.bz2\n",
      "|  1h 27m 32s \tdone\n",
      "\n",
      "##############################################################################################\n",
      "#                                                                                            #\n",
      "#  1h 27m 32s Sending passage database for version 2016 to server                            #\n",
      "#                                                                                            #\n",
      "##############################################################################################\n",
      "\n",
      "|  1h 27m 32s \tshebanq_passage2016.sql.gz\n",
      "|  1h 27m 32s \tscp /Users/dirk/github/etcbc/bhsa/shebanq/2016/shebanq_passage2016.sql.gz dirkr@clarin11.dans.knaw.nl:/home/dirkr/shebanq-install/shebanq_passage2016.sql.gz\n",
      "|  1h 27m 46s \tdone\n",
      "\n",
      "##############################################################################################\n",
      "#                                                                                            #\n",
      "#  1h 27m 46s Sending MQL database for version 2017 to server                                #\n",
      "#                                                                                            #\n",
      "##############################################################################################\n",
      "\n",
      "|  1h 27m 46s \tshebanq_etcbc2017.mql.bz2\n",
      "|  1h 27m 46s \tscp /Users/dirk/github/etcbc/bhsa/shebanq/2017/shebanq_etcbc2017.mql.bz2 dirkr@clarin11.dans.knaw.nl:/home/dirkr/shebanq-install/shebanq_etcbc2017.mql.bz2\n",
      "|  1h 28m 01s \tdone\n",
      "\n",
      "##############################################################################################\n",
      "#                                                                                            #\n",
      "#  1h 28m 01s Sending passage database for version 2017 to server                            #\n",
      "#                                                                                            #\n",
      "##############################################################################################\n",
      "\n",
      "|  1h 28m 01s \tshebanq_passage2017.sql.gz\n",
      "|  1h 28m 01s \tscp /Users/dirk/github/etcbc/bhsa/shebanq/2017/shebanq_passage2017.sql.gz dirkr@clarin11.dans.knaw.nl:/home/dirkr/shebanq-install/shebanq_passage2017.sql.gz\n",
      "|  1h 28m 14s \tdone\n",
      "\n",
      "##############################################################################################\n",
      "#                                                                                            #\n",
      "#  1h 28m 14s Sending MQL database for version c to server                                   #\n",
      "#                                                                                            #\n",
      "##############################################################################################\n",
      "\n",
      "|  1h 28m 14s \tshebanq_etcbcc.mql.bz2\n",
      "|  1h 28m 14s \tscp /Users/dirk/github/etcbc/bhsa/shebanq/c/shebanq_etcbcc.mql.bz2 dirkr@clarin11.dans.knaw.nl:/home/dirkr/shebanq-install/shebanq_etcbcc.mql.bz2\n",
      "|  1h 28m 28s \tdone\n",
      "\n",
      "##############################################################################################\n",
      "#                                                                                            #\n",
      "#  1h 28m 28s Sending passage database for version c to server                               #\n",
      "#                                                                                            #\n",
      "##############################################################################################\n",
      "\n",
      "|  1h 28m 28s \tshebanq_passagec.sql.gz\n",
      "|  1h 28m 28s \tscp /Users/dirk/github/etcbc/bhsa/shebanq/c/shebanq_passagec.sql.gz dirkr@clarin11.dans.knaw.nl:/home/dirkr/shebanq-install/shebanq_passagec.sql.gz\n",
      "|  1h 28m 42s \tdone\n"
     ]
    }
   ],
   "source": [
    "#good = True\n",
    "if good:\n",
    "    good = copyServer(pipeline, user, server, remoteDir, versions=VERSIONS, kinds=KINDS)"
   ]
  },
  {
   "cell_type": "code",
   "execution_count": null,
   "metadata": {
    "collapsed": true
   },
   "outputs": [],
   "source": []
  }
 ],
 "metadata": {
  "kernelspec": {
   "display_name": "Python 3",
   "language": "python",
   "name": "python3"
  },
  "language_info": {
   "codemirror_mode": {
    "name": "ipython",
    "version": 3
   },
   "file_extension": ".py",
   "mimetype": "text/x-python",
   "name": "python",
   "nbconvert_exporter": "python",
   "pygments_lexer": "ipython3",
   "version": "3.6.3"
  }
 },
 "nbformat": 4,
 "nbformat_minor": 2
}
