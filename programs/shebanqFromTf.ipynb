{
 "cells": [
  {
   "cell_type": "markdown",
   "metadata": {},
   "source": [
    "<img align=\"right\" src=\"tf-small.png\"/>\n",
    "\n",
    "# SHEBANQ from Text-Fabric\n",
    "\n",
    "This notebook assembles the data from the text-fabric repositories \n",
    "of the ETCBC that is needed\n",
    "to compile the webstie data for\n",
    "[SHEBANQ](https://shebanq.ancient-data.org).\n",
    "\n",
    "## Pipeline\n",
    "\n",
    "A run of the pipeline produces a shebanq data *version*.\n",
    "It should be run whenever there are new or updated data sources present that affect the output data.\n",
    "Since all input data is delivered in a Github repo, we have excellent machinery to \n",
    "work with versioning.\n",
    "\n",
    "The pipe line works by pointing text-fabric to the data contained in the github repositories.\n",
    "\n",
    "All this is specified in the configuration below.\n",
    "\n",
    "### Core data\n",
    "\n",
    "The core data is what resides in \n",
    "the Github repo [bhsa](https://github.com/ETCBC/bhsa) in directory `tf`.\n",
    "\n",
    "This data will be converted by `tfFromMQL` in the `programs` directory.\n",
    "\n",
    "The result of this action will be an updated TF resource in its \n",
    "`tf/core` directory.\n",
    "\n",
    "### Additional data\n",
    "\n",
    "The pipeline will try to load any text-fabric features found in the `tf` subdirectories\n",
    "of the designated additional repos.\n",
    "It will descend one level deeper, according to the *version* that is to be gathered.\n",
    "\n",
    "### Resulting data\n",
    "The resulting data will be delivered in the `shebanq` subdirectory of the core repo `bhsa`, \n",
    "and then under a *version* subdirectory.\n",
    "\n",
    "The resulting data consists of three parts:\n",
    "\n",
    "* One big mql file, containing the core data plus **all** additions: `bhsa-xx.mql`.\n",
    "  It will be bzipped. This smallish file (<30MB) is your *portable ETCBC*.\n",
    "  You can easily transfer it to your own machine (preferably by just `git pull origin master`),\n",
    "  and then you can run MQL queries on the full, actual, ETCBC data.\n",
    "* **not yet implemented** \n",
    "  A subdirectory `mysql` with database tables, containing everything SHEBANQ needs to construct its pages.\n",
    "* **not yet implemented**\n",
    "  A subdirectory `annotations`, containing bulk-uploadable annotation sets, that SHEBANQ can show in notes view,\n",
    "  between the clause atoms of the text."
   ]
  },
  {
   "cell_type": "code",
   "execution_count": 1,
   "metadata": {
    "collapsed": true
   },
   "outputs": [],
   "source": [
    "import os,sys,collections\n",
    "from pipeline import webPipeline\n",
    "from tf.fabric import Fabric"
   ]
  },
  {
   "cell_type": "markdown",
   "metadata": {},
   "source": [
    "# Config"
   ]
  },
  {
   "cell_type": "code",
   "execution_count": 2,
   "metadata": {
    "collapsed": true
   },
   "outputs": [],
   "source": [
    "if 'SCRIPT' not in locals(): \n",
    "    SCRIPT = False"
   ]
  },
  {
   "cell_type": "code",
   "execution_count": 3,
   "metadata": {
    "collapsed": true
   },
   "outputs": [],
   "source": [
    "pipeline = dict(\n",
    "    repoOrder = '''\n",
    "        bhsa\n",
    "        phono\n",
    "        valence\n",
    "        parallels\n",
    "    ''',\n",
    "    coreModule='core',\n",
    ")"
   ]
  },
  {
   "cell_type": "code",
   "execution_count": 4,
   "metadata": {
    "scrolled": false
   },
   "outputs": [
    {
     "name": "stdout",
     "output_type": "stream",
     "text": [
      "\n",
      "##############################################################################################\n",
      "#                                                                                            #\n",
      "#       0.00s Aggregate MLQ for version c                                                    #\n",
      "#                                                                                            #\n",
      "##############################################################################################\n",
      "\n",
      "|       0.00s \tAlready up to date\n",
      "|       0.00s \tbzipping /Users/dirk/github/etcbc/bhsa/_temp/c/bhsa_xx.mql\n",
      "|       0.00s \tand delivering as /Users/dirk/github/etcbc/bhsa/shebanq/c/bhsa_xx.mql.bz2\n",
      "|       0.00s \tNOTE: Using existing bzipped file which is newer than unzipped one\n"
     ]
    }
   ],
   "source": [
    "good = webPipeline(pipeline, version='c', force=False)"
   ]
  },
  {
   "cell_type": "code",
   "execution_count": null,
   "metadata": {
    "collapsed": true
   },
   "outputs": [],
   "source": []
  }
 ],
 "metadata": {
  "kernelspec": {
   "display_name": "Python 3",
   "language": "python",
   "name": "python3"
  },
  "language_info": {
   "codemirror_mode": {
    "name": "ipython",
    "version": 3
   },
   "file_extension": ".py",
   "mimetype": "text/x-python",
   "name": "python",
   "nbconvert_exporter": "python",
   "pygments_lexer": "ipython3",
   "version": "3.6.2"
  }
 },
 "nbformat": 4,
 "nbformat_minor": 1
}
