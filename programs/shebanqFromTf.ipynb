{
 "cells": [
  {
   "cell_type": "markdown",
   "metadata": {},
   "source": [
    "![pipeline](pictures/pictures.003.png)\n",
    "\n",
    "# SHEBANQ from Text-Fabric\n",
    "\n",
    "This notebook assembles data from relevant GitHub repositories of the ETCBC.\n",
    "It selects the data that is needed for the website\n",
    "[SHEBANQ](https://shebanq.ancient-data.org).\n",
    "\n",
    "\n",
    "## Pipeline\n",
    "This is **pipe 2** of the pipeline from ETCBC data to the website SHEBANQ.\n",
    "\n",
    "A run of this pipe produces SHEBANQ data according to a chosen *version*.\n",
    "It should be run whenever there are new or updated data sources present that affect the output data.\n",
    "Since all input data is delivered in GitHub repositories, we have excellent machinery to\n",
    "work with versioning.\n",
    "\n",
    "Which directories the pipe should access for which version is specified in the configuration below.\n",
    "\n",
    "### Core data\n",
    "The core data is what resides in\n",
    "the GitHub repo [BHSA](https://github.com/ETCBC/bhsa) in directory `tf`.\n",
    "\n",
    "This data will be converted by notebook `coreData` in its `programs` directory.\n",
    "\n",
    "The result of this action will be an updated Text-Fabric resource in its\n",
    "`tf` directory, under the chosen *version*.\n",
    "\n",
    "### Additional data\n",
    "\n",
    "The pipe will try to load any text-fabric data features found in the `tf` subdirectories\n",
    "of the designated additional repos.\n",
    "It will descend one level deeper, according to the chosen *version*.\n",
    "\n",
    "### Resulting data\n",
    "The resulting data will be delivered in the `shebanq` subdirectory of the core repo `bhsa`,\n",
    "and then under the chosen *version* subdirectory.\n",
    "\n",
    "The resulting data consists of three parts:\n",
    "\n",
    "* One big MQL file, containing the core data plus **all** additions: `bhsa-xx.mql`.\n",
    "  It will be bzipped.\n",
    "* An `sql` with database tables, containing everything SHEBANQ needs to construct its pages.\n",
    "* **not yet implemented**\n",
    "  A subdirectory `annotations`, containing bulk-uploadable annotation sets, that SHEBANQ can show in notes view,\n",
    "  between the clause atoms of the text."
   ]
  },
  {
   "cell_type": "code",
   "execution_count": 1,
   "metadata": {},
   "outputs": [],
   "source": [
    "%load_ext autoreload\n",
    "%autoreload 2"
   ]
  },
  {
   "cell_type": "code",
   "execution_count": 2,
   "metadata": {},
   "outputs": [],
   "source": [
    "from pipeline import webPipeline, importLocal, copyServer"
   ]
  },
  {
   "cell_type": "markdown",
   "metadata": {},
   "source": [
    "# Config"
   ]
  },
  {
   "cell_type": "code",
   "execution_count": 3,
   "metadata": {},
   "outputs": [],
   "source": [
    "if \"SCRIPT\" not in locals():\n",
    "    SCRIPT = False\n",
    "    VERSIONS = [\"2021\"]\n",
    "    KINDS = {\"mql\", \"mysql\"}"
   ]
  },
  {
   "cell_type": "code",
   "execution_count": 4,
   "metadata": {},
   "outputs": [],
   "source": [
    "pipeline = dict(\n",
    "    repoOrder=\"\"\"\n",
    "        bhsa\n",
    "        phono\n",
    "        valence\n",
    "        parallels\n",
    "    \"\"\",\n",
    ")\n",
    "user = \"dirkr\"\n",
    "server = \"clarin11.dans.knaw.nl\"\n",
    "remoteDir = \"/home/dirkr/shebanq-install\""
   ]
  },
  {
   "cell_type": "code",
   "execution_count": 5,
   "metadata": {},
   "outputs": [
    {
     "name": "stdout",
     "output_type": "stream",
     "text": [
      "\n",
      "##############################################################################################\n",
      "#                                                                                            #\n",
      "#       0.00s Aggregate MQL for version 2021                                                 #\n",
      "#                                                                                            #\n",
      "##############################################################################################\n",
      "\n",
      "|       0.00s \tAlready up to date\n",
      "|       0.00s \tbzipping /Users/dirk/github/etcbc/bhsa/_temp/2021/shebanq/shebanq_etcbc2021.mql\n",
      "|       0.00s \tand delivering as /Users/dirk/github/etcbc/bhsa/shebanq/2021/shebanq_etcbc2021.mql.bz2 ...\n",
      "|       0.00s \tNOTE: Using existing bzipped file which is newer than unzipped one\n",
      "|       0.00s \tDone\n",
      "\n",
      "##############################################################################################\n",
      "#                                                                                            #\n",
      "#       0.00s Create Mysql passage db for version 2021                                       #\n",
      "#                                                                                            #\n",
      "##############################################################################################\n",
      "\n",
      "\n",
      "----------------------------------------------------------------------------------------------\n",
      "-       0.00s Run notebook [pipeline/passageFromTf] with parameters:                         -\n",
      "----------------------------------------------------------------------------------------------\n",
      "\n",
      "|       0.00s \tVERSION              = 2021\n",
      "|       0.35s \tDestination /Users/dirk/github/etcbc/bhsa/shebanq/2021/shebanq_passage2021.sql.gz exists\n",
      "|       0.35s SUCCESS passageFromTf\n",
      "\n",
      "----------------------------------------------------------------------------------------------\n",
      "-       0.35s SUCCES [pipeline/passageFromTf]                                                -\n",
      "----------------------------------------------------------------------------------------------\n",
      "\n",
      "|       0.35s \tDone\n"
     ]
    }
   ],
   "source": [
    "good = webPipeline(pipeline, versions=VERSIONS, force=False, kinds=KINDS)"
   ]
  },
  {
   "cell_type": "code",
   "execution_count": 6,
   "metadata": {},
   "outputs": [
    {
     "name": "stdout",
     "output_type": "stream",
     "text": [
      "\n",
      "##############################################################################################\n",
      "#                                                                                            #\n",
      "#       5.86s Import MQL db for version 2021 locally                                         #\n",
      "#                                                                                            #\n",
      "##############################################################################################\n",
      "\n",
      "\n",
      "##############################################################################################\n",
      "#                                                                                            #\n",
      "#       5.86s Drop database shebanq_etcbc2021                                                #\n",
      "#                                                                                            #\n",
      "##############################################################################################\n",
      "\n",
      "\n",
      "##############################################################################################\n",
      "#                                                                                            #\n",
      "#       5.89s Importing MQL shebanq_etcbc2021 ...                                            #\n",
      "#                                                                                            #\n",
      "##############################################################################################\n",
      "\n",
      "|      2m 26s Dropping indices on word_objects...!\n",
      "\n",
      "|      2m 26s Creating indices on word_objects...!\n",
      "\n",
      "|      2m 26s Dropping indices on subphrase_objects...!\n",
      "\n",
      "|      2m 26s Creating indices on subphrase_objects...!\n",
      "\n",
      "|      2m 26s Dropping indices on phrase_atom_objects...!\n",
      "\n",
      "|      2m 26s Creating indices on phrase_atom_objects...!\n",
      "\n",
      "|      2m 26s Dropping indices on phrase_objects...!\n",
      "\n",
      "|      2m 26s Creating indices on phrase_objects...!\n",
      "\n",
      "|      2m 26s Dropping indices on clause_atom_objects...!\n",
      "\n",
      "|      2m 26s Creating indices on clause_atom_objects...!\n",
      "\n",
      "|      2m 26s Dropping indices on clause_objects...!\n",
      "\n",
      "|      2m 26s Creating indices on clause_objects...!\n",
      "\n",
      "|      2m 26s Dropping indices on sentence_atom_objects...!\n",
      "\n",
      "|      2m 26s Creating indices on sentence_atom_objects...!\n",
      "\n",
      "|      2m 26s Dropping indices on sentence_objects...!\n",
      "\n",
      "|      2m 26s Creating indices on sentence_objects...!\n",
      "\n",
      "|      2m 26s Dropping indices on half_verse_objects...!\n",
      "\n",
      "|      2m 26s Creating indices on half_verse_objects...!\n",
      "\n",
      "|      2m 26s Dropping indices on verse_objects...!\n",
      "\n",
      "|      2m 26s Creating indices on verse_objects...!\n",
      "\n",
      "|      2m 26s Dropping indices on lex_objects...!\n",
      "\n",
      "|      2m 26s Creating indices on lex_objects...!\n",
      "\n",
      "|      2m 26s Dropping indices on chapter_objects...!\n",
      "\n",
      "|      2m 26s Creating indices on chapter_objects...!\n",
      "\n",
      "|      2m 26s Dropping indices on book_objects...!\n",
      "\n",
      "|      2m 26s Creating indices on book_objects...!\n",
      "\n",
      "\n",
      "##############################################################################################\n",
      "#                                                                                            #\n",
      "#      2m 26s Imported MQL shebanq_etcbc2021                                                 #\n",
      "#                                                                                            #\n",
      "##############################################################################################\n",
      "\n",
      "\n",
      "##############################################################################################\n",
      "#                                                                                            #\n",
      "#      2m 26s Importing passage db for version 2021 ...                                      #\n",
      "#                                                                                            #\n",
      "##############################################################################################\n",
      "\n",
      "\n",
      "##############################################################################################\n",
      "#                                                                                            #\n",
      "#      2m 49s Imported passage db for version 2021                                           #\n",
      "#                                                                                            #\n",
      "##############################################################################################\n",
      "\n"
     ]
    }
   ],
   "source": [
    "# good = True\n",
    "if good:\n",
    "    good = importLocal(pipeline, versions=VERSIONS, kinds=KINDS)"
   ]
  },
  {
   "cell_type": "code",
   "execution_count": null,
   "metadata": {},
   "outputs": [],
   "source": [
    "# good = True\n",
    "if good:\n",
    "    good = copyServer(pipeline, user, server, remoteDir, versions=VERSIONS, kinds=KINDS)"
   ]
  }
 ],
 "metadata": {
  "kernelspec": {
   "display_name": "Python 3",
   "language": "python",
   "name": "python3"
  },
  "language_info": {
   "codemirror_mode": {
    "name": "ipython",
    "version": 3
   },
   "file_extension": ".py",
   "mimetype": "text/x-python",
   "name": "python",
   "nbconvert_exporter": "python",
   "pygments_lexer": "ipython3",
   "version": "3.9.5"
  },
  "widgets": {
   "application/vnd.jupyter.widget-state+json": {
    "state": {},
    "version_major": 2,
    "version_minor": 0
   }
  }
 },
 "nbformat": 4,
 "nbformat_minor": 4
}
