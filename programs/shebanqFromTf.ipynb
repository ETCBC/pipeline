{
 "cells": [
  {
   "cell_type": "markdown",
   "metadata": {},
   "source": [
    "![pipeline](pictures/pictures.003.png)\n",
    "\n",
    "# SHEBANQ from Text-Fabric\n",
    "\n",
    "This notebook assembles data from relevant GitHub repositories of the ETCBC.\n",
    "It selects the data that is needed for the website\n",
    "[SHEBANQ](https://shebanq.ancient-data.org).\n",
    "\n",
    "\n",
    "## Pipeline\n",
    "This is **pipe 2** of the pipeline from ETCBC data to the website SHEBANQ.\n",
    "\n",
    "A run of this pipe produces SHEBANQ data according to a chosen *version*.\n",
    "It should be run whenever there are new or updated data sources present that affect the output data.\n",
    "Since all input data is delivered in GitHub repositories, we have excellent machinery to \n",
    "work with versioning.\n",
    "\n",
    "Which directories the pipe should access for which version is specified in the configuration below.\n",
    "\n",
    "### Core data\n",
    "The core data is what resides in \n",
    "the GitHub repo [BHSA](https://github.com/ETCBC/bhsa) in directory `tf`.\n",
    "\n",
    "This data will be converted by notebook `coreData` in its `programs` directory.\n",
    "\n",
    "The result of this action will be an updated Text-Fabric resource in its \n",
    "`tf` directory, under the chosen *version*.\n",
    "\n",
    "### Additional data\n",
    "\n",
    "The pipe will try to load any text-fabric data features found in the `tf` subdirectories\n",
    "of the designated additional repos.\n",
    "It will descend one level deeper, according to the chosen *version*.\n",
    "\n",
    "### Resulting data\n",
    "The resulting data will be delivered in the `shebanq` subdirectory of the core repo `bhsa`, \n",
    "and then under the chosen *version* subdirectory.\n",
    "\n",
    "The resulting data consists of three parts:\n",
    "\n",
    "* One big MQL file, containing the core data plus **all** additions: `bhsa-xx.mql`.\n",
    "  It will be bzipped.\n",
    "* An `sql` with database tables, containing everything SHEBANQ needs to construct its pages.\n",
    "* **not yet implemented**\n",
    "  A subdirectory `annotations`, containing bulk-uploadable annotation sets, that SHEBANQ can show in notes view,\n",
    "  between the clause atoms of the text."
   ]
  },
  {
   "cell_type": "code",
   "execution_count": 1,
   "metadata": {},
   "outputs": [],
   "source": [
    "import os,sys,collections\n",
    "from pipeline import webPipeline, importLocal, copyServer\n",
    "from tf.fabric import Fabric"
   ]
  },
  {
   "cell_type": "markdown",
   "metadata": {},
   "source": [
    "# Config"
   ]
  },
  {
   "cell_type": "code",
   "execution_count": 2,
   "metadata": {},
   "outputs": [],
   "source": [
    "if 'SCRIPT' not in locals(): \n",
    "    SCRIPT = False\n",
    "    VERSIONS = ['4b']\n",
    "    KINDS = {'mql'}"
   ]
  },
  {
   "cell_type": "code",
   "execution_count": 3,
   "metadata": {},
   "outputs": [],
   "source": [
    "pipeline = dict(\n",
    "    repoOrder = '''\n",
    "        bhsa\n",
    "        phono\n",
    "        valence\n",
    "        parallels\n",
    "    ''',\n",
    ")\n",
    "user = 'dirkr'\n",
    "server = 'clarin11.dans.knaw.nl'\n",
    "remoteDir = '/home/dirkr/shebanq-install'"
   ]
  },
  {
   "cell_type": "code",
   "execution_count": 4,
   "metadata": {},
   "outputs": [
    {
     "name": "stdout",
     "output_type": "stream",
     "text": [
      "\n",
      "##############################################################################################\n",
      "#                                                                                            #\n",
      "#       0.00s Aggregate MQL for version 4b                                                   #\n",
      "#                                                                                            #\n",
      "##############################################################################################\n",
      "\n",
      "|       0.00s \tWork to do because the tf in bhsa is recently compiled\n",
      "|       0.00s \t\t/Users/dirk/github/etcbc/bhsa/tf/4b/.tf\n",
      "\n",
      "##############################################################################################\n",
      "#                                                                                            #\n",
      "#       0.00s Using TF to make an MQL export                                                 #\n",
      "#                                                                                            #\n",
      "##############################################################################################\n",
      "\n",
      "This is Text-Fabric 6.3.1\n",
      "Api reference : https://dans-labs.github.io/text-fabric/Api/General/\n",
      "Tutorial      : https://github.com/Dans-labs/text-fabric/blob/master/docs/tutorial.ipynb\n",
      "Example data  : https://github.com/Dans-labs/text-fabric-data\n",
      "\n",
      "116 features found and 0 ignored\n",
      "  0.00s Checking features of dataset shebanq_etcbc4b\n",
      "   |     0.00s M book                 from /Users/dirk/github/etcbc/bhsa/tf/4b\n",
      "   |     0.00s M book@am              from /Users/dirk/github/etcbc/bhsa/tf/4b\n"
     ]
    },
    {
     "name": "stderr",
     "output_type": "stream",
     "text": [
      "   |     0.00s feature \"book@am\" => \"book_am\"\n"
     ]
    },
    {
     "name": "stdout",
     "output_type": "stream",
     "text": [
      "   |     0.00s M book@ar              from /Users/dirk/github/etcbc/bhsa/tf/4b\n"
     ]
    },
    {
     "name": "stderr",
     "output_type": "stream",
     "text": [
      "   |     0.00s feature \"book@ar\" => \"book_ar\"\n"
     ]
    },
    {
     "name": "stdout",
     "output_type": "stream",
     "text": [
      "   |     0.00s M book@bn              from /Users/dirk/github/etcbc/bhsa/tf/4b\n"
     ]
    },
    {
     "name": "stderr",
     "output_type": "stream",
     "text": [
      "   |     0.00s feature \"book@bn\" => \"book_bn\"\n"
     ]
    },
    {
     "name": "stdout",
     "output_type": "stream",
     "text": [
      "   |     0.00s M book@da              from /Users/dirk/github/etcbc/bhsa/tf/4b\n"
     ]
    },
    {
     "name": "stderr",
     "output_type": "stream",
     "text": [
      "   |     0.00s feature \"book@da\" => \"book_da\"\n"
     ]
    },
    {
     "name": "stdout",
     "output_type": "stream",
     "text": [
      "   |     0.00s M book@de              from /Users/dirk/github/etcbc/bhsa/tf/4b\n"
     ]
    },
    {
     "name": "stderr",
     "output_type": "stream",
     "text": [
      "   |     0.00s feature \"book@de\" => \"book_de\"\n"
     ]
    },
    {
     "name": "stdout",
     "output_type": "stream",
     "text": [
      "   |     0.00s M book@el              from /Users/dirk/github/etcbc/bhsa/tf/4b\n"
     ]
    },
    {
     "name": "stderr",
     "output_type": "stream",
     "text": [
      "   |     0.00s feature \"book@el\" => \"book_el\"\n"
     ]
    },
    {
     "name": "stdout",
     "output_type": "stream",
     "text": [
      "   |     0.00s M book@en              from /Users/dirk/github/etcbc/bhsa/tf/4b\n"
     ]
    },
    {
     "name": "stderr",
     "output_type": "stream",
     "text": [
      "   |     0.00s feature \"book@en\" => \"book_en\"\n"
     ]
    },
    {
     "name": "stdout",
     "output_type": "stream",
     "text": [
      "   |     0.00s M book@es              from /Users/dirk/github/etcbc/bhsa/tf/4b\n"
     ]
    },
    {
     "name": "stderr",
     "output_type": "stream",
     "text": [
      "   |     0.00s feature \"book@es\" => \"book_es\"\n"
     ]
    },
    {
     "name": "stdout",
     "output_type": "stream",
     "text": [
      "   |     0.00s M book@fa              from /Users/dirk/github/etcbc/bhsa/tf/4b\n"
     ]
    },
    {
     "name": "stderr",
     "output_type": "stream",
     "text": [
      "   |     0.00s feature \"book@fa\" => \"book_fa\"\n"
     ]
    },
    {
     "name": "stdout",
     "output_type": "stream",
     "text": [
      "   |     0.00s M book@fr              from /Users/dirk/github/etcbc/bhsa/tf/4b\n"
     ]
    },
    {
     "name": "stderr",
     "output_type": "stream",
     "text": [
      "   |     0.00s feature \"book@fr\" => \"book_fr\"\n"
     ]
    },
    {
     "name": "stdout",
     "output_type": "stream",
     "text": [
      "   |     0.00s M book@he              from /Users/dirk/github/etcbc/bhsa/tf/4b\n"
     ]
    },
    {
     "name": "stderr",
     "output_type": "stream",
     "text": [
      "   |     0.00s feature \"book@he\" => \"book_he\"\n"
     ]
    },
    {
     "name": "stdout",
     "output_type": "stream",
     "text": [
      "   |     0.00s M book@hi              from /Users/dirk/github/etcbc/bhsa/tf/4b\n"
     ]
    },
    {
     "name": "stderr",
     "output_type": "stream",
     "text": [
      "   |     0.00s feature \"book@hi\" => \"book_hi\"\n"
     ]
    },
    {
     "name": "stdout",
     "output_type": "stream",
     "text": [
      "   |     0.00s M book@id              from /Users/dirk/github/etcbc/bhsa/tf/4b\n"
     ]
    },
    {
     "name": "stderr",
     "output_type": "stream",
     "text": [
      "   |     0.00s feature \"book@id\" => \"book_id\"\n"
     ]
    },
    {
     "name": "stdout",
     "output_type": "stream",
     "text": [
      "   |     0.00s M book@ja              from /Users/dirk/github/etcbc/bhsa/tf/4b\n"
     ]
    },
    {
     "name": "stderr",
     "output_type": "stream",
     "text": [
      "   |     0.00s feature \"book@ja\" => \"book_ja\"\n"
     ]
    },
    {
     "name": "stdout",
     "output_type": "stream",
     "text": [
      "   |     0.00s M book@ko              from /Users/dirk/github/etcbc/bhsa/tf/4b\n"
     ]
    },
    {
     "name": "stderr",
     "output_type": "stream",
     "text": [
      "   |     0.00s feature \"book@ko\" => \"book_ko\"\n"
     ]
    },
    {
     "name": "stdout",
     "output_type": "stream",
     "text": [
      "   |     0.00s M book@la              from /Users/dirk/github/etcbc/bhsa/tf/4b\n"
     ]
    },
    {
     "name": "stderr",
     "output_type": "stream",
     "text": [
      "   |     0.00s feature \"book@la\" => \"book_la\"\n"
     ]
    },
    {
     "name": "stdout",
     "output_type": "stream",
     "text": [
      "   |     0.00s M book@nl              from /Users/dirk/github/etcbc/bhsa/tf/4b\n"
     ]
    },
    {
     "name": "stderr",
     "output_type": "stream",
     "text": [
      "   |     0.00s feature \"book@nl\" => \"book_nl\"\n"
     ]
    },
    {
     "name": "stdout",
     "output_type": "stream",
     "text": [
      "   |     0.00s M book@pa              from /Users/dirk/github/etcbc/bhsa/tf/4b\n"
     ]
    },
    {
     "name": "stderr",
     "output_type": "stream",
     "text": [
      "   |     0.00s feature \"book@pa\" => \"book_pa\"\n"
     ]
    },
    {
     "name": "stdout",
     "output_type": "stream",
     "text": [
      "   |     0.00s M book@pt              from /Users/dirk/github/etcbc/bhsa/tf/4b\n"
     ]
    },
    {
     "name": "stderr",
     "output_type": "stream",
     "text": [
      "   |     0.00s feature \"book@pt\" => \"book_pt\"\n"
     ]
    },
    {
     "name": "stdout",
     "output_type": "stream",
     "text": [
      "   |     0.00s M book@ru              from /Users/dirk/github/etcbc/bhsa/tf/4b\n"
     ]
    },
    {
     "name": "stderr",
     "output_type": "stream",
     "text": [
      "   |     0.00s feature \"book@ru\" => \"book_ru\"\n"
     ]
    },
    {
     "name": "stdout",
     "output_type": "stream",
     "text": [
      "   |     0.00s M book@sw              from /Users/dirk/github/etcbc/bhsa/tf/4b\n"
     ]
    },
    {
     "name": "stderr",
     "output_type": "stream",
     "text": [
      "   |     0.00s feature \"book@sw\" => \"book_sw\"\n"
     ]
    },
    {
     "name": "stdout",
     "output_type": "stream",
     "text": [
      "   |     0.00s M book@syc             from /Users/dirk/github/etcbc/bhsa/tf/4b\n"
     ]
    },
    {
     "name": "stderr",
     "output_type": "stream",
     "text": [
      "   |     0.00s feature \"book@syc\" => \"book_syc\"\n"
     ]
    },
    {
     "name": "stdout",
     "output_type": "stream",
     "text": [
      "   |     0.00s M book@tr              from /Users/dirk/github/etcbc/bhsa/tf/4b\n"
     ]
    },
    {
     "name": "stderr",
     "output_type": "stream",
     "text": [
      "   |     0.00s feature \"book@tr\" => \"book_tr\"\n"
     ]
    },
    {
     "name": "stdout",
     "output_type": "stream",
     "text": [
      "   |     0.00s M book@ur              from /Users/dirk/github/etcbc/bhsa/tf/4b\n"
     ]
    },
    {
     "name": "stderr",
     "output_type": "stream",
     "text": [
      "   |     0.00s feature \"book@ur\" => \"book_ur\"\n"
     ]
    },
    {
     "name": "stdout",
     "output_type": "stream",
     "text": [
      "   |     0.00s M book@yo              from /Users/dirk/github/etcbc/bhsa/tf/4b\n"
     ]
    },
    {
     "name": "stderr",
     "output_type": "stream",
     "text": [
      "   |     0.00s feature \"book@yo\" => \"book_yo\"\n"
     ]
    },
    {
     "name": "stdout",
     "output_type": "stream",
     "text": [
      "   |     0.00s M book@zh              from /Users/dirk/github/etcbc/bhsa/tf/4b\n"
     ]
    },
    {
     "name": "stderr",
     "output_type": "stream",
     "text": [
      "   |     0.00s feature \"book@zh\" => \"book_zh\"\n"
     ]
    },
    {
     "name": "stdout",
     "output_type": "stream",
     "text": [
      "   |     0.02s M cfunction            from /Users/dirk/github/etcbc/valence/tf/4b\n",
      "   |     0.00s M chapter              from /Users/dirk/github/etcbc/bhsa/tf/4b\n",
      "   |     0.00s M code                 from /Users/dirk/github/etcbc/bhsa/tf/4b\n",
      "   |     0.01s M crossref             from /Users/dirk/github/etcbc/parallels/tf/4b\n",
      "   |     0.00s M crossrefLCS          from /Users/dirk/github/etcbc/parallels/tf/4b\n",
      "   |     0.00s M crossrefSET          from /Users/dirk/github/etcbc/parallels/tf/4b\n",
      "   |     0.00s M det                  from /Users/dirk/github/etcbc/bhsa/tf/4b\n",
      "   |     0.00s M dist                 from /Users/dirk/github/etcbc/bhsa/tf/4b\n",
      "   |     0.00s M dist_unit            from /Users/dirk/github/etcbc/bhsa/tf/4b\n",
      "   |     0.00s M distributional_parent from /Users/dirk/github/etcbc/bhsa/tf/4b\n",
      "   |     0.00s M domain               from /Users/dirk/github/etcbc/bhsa/tf/4b\n",
      "   |     0.01s M f_correction         from /Users/dirk/github/etcbc/valence/tf/4b\n",
      "   |     0.00s M freq_lex             from /Users/dirk/github/etcbc/bhsa/tf/4b\n",
      "   |     0.00s M freq_occ             from /Users/dirk/github/etcbc/bhsa/tf/4b\n",
      "   |     0.00s M function             from /Users/dirk/github/etcbc/bhsa/tf/4b\n",
      "   |     0.00s M functional_parent    from /Users/dirk/github/etcbc/bhsa/tf/4b\n",
      "   |     0.00s M g_cons               from /Users/dirk/github/etcbc/bhsa/tf/4b\n",
      "   |     0.01s M g_cons_utf8          from /Users/dirk/github/etcbc/bhsa/tf/4b\n",
      "   |     0.00s M g_entry              from /Users/dirk/github/etcbc/bhsa/tf/4b\n",
      "   |     0.01s M g_entry_heb          from /Users/dirk/github/etcbc/bhsa/tf/4b\n",
      "   |     0.00s M g_lex                from /Users/dirk/github/etcbc/bhsa/tf/4b\n",
      "   |     0.01s M g_lex_utf8           from /Users/dirk/github/etcbc/bhsa/tf/4b\n",
      "   |     0.00s M g_nme                from /Users/dirk/github/etcbc/bhsa/tf/4b\n",
      "   |     0.01s M g_nme_utf8           from /Users/dirk/github/etcbc/bhsa/tf/4b\n",
      "   |     0.00s M g_pfm                from /Users/dirk/github/etcbc/bhsa/tf/4b\n",
      "   |     0.00s M g_pfm_utf8           from /Users/dirk/github/etcbc/bhsa/tf/4b\n",
      "   |     0.00s M g_prs                from /Users/dirk/github/etcbc/bhsa/tf/4b\n",
      "   |     0.00s M g_prs_utf8           from /Users/dirk/github/etcbc/bhsa/tf/4b\n",
      "   |     0.00s M g_qere_utf8          from /Users/dirk/github/etcbc/bhsa/tf/4b\n",
      "   |     0.01s M g_uvf                from /Users/dirk/github/etcbc/bhsa/tf/4b\n",
      "   |     0.00s M g_uvf_utf8           from /Users/dirk/github/etcbc/bhsa/tf/4b\n",
      "   |     0.00s M g_vbe                from /Users/dirk/github/etcbc/bhsa/tf/4b\n",
      "   |     0.00s M g_vbe_utf8           from /Users/dirk/github/etcbc/bhsa/tf/4b\n",
      "   |     0.00s M g_vbs                from /Users/dirk/github/etcbc/bhsa/tf/4b\n",
      "   |     0.00s M g_vbs_utf8           from /Users/dirk/github/etcbc/bhsa/tf/4b\n",
      "   |     0.00s M g_word               from /Users/dirk/github/etcbc/bhsa/tf/4b\n",
      "   |     0.00s M g_word_utf8          from /Users/dirk/github/etcbc/bhsa/tf/4b\n",
      "   |     0.00s M gloss                from /Users/dirk/github/etcbc/bhsa/tf/4b\n",
      "   |     0.00s M gn                   from /Users/dirk/github/etcbc/bhsa/tf/4b\n",
      "   |     0.00s M grammatical          from /Users/dirk/github/etcbc/valence/tf/4b\n",
      "   |     0.00s M is_root              from /Users/dirk/github/etcbc/bhsa/tf/4b\n",
      "   |     0.00s M kind                 from /Users/dirk/github/etcbc/bhsa/tf/4b\n",
      "   |     0.00s M label                from /Users/dirk/github/etcbc/bhsa/tf/4b\n",
      "   |     0.00s M language             from /Users/dirk/github/etcbc/bhsa/tf/4b\n",
      "   |     0.00s M lex                  from /Users/dirk/github/etcbc/bhsa/tf/4b\n",
      "   |     0.00s M lex0                 from /Users/dirk/github/etcbc/bhsa/tf/4b\n",
      "   |     0.01s M lex_utf8             from /Users/dirk/github/etcbc/bhsa/tf/4b\n",
      "   |     0.00s M lexical              from /Users/dirk/github/etcbc/valence/tf/4b\n",
      "   |     0.00s M ls                   from /Users/dirk/github/etcbc/bhsa/tf/4b\n",
      "   |     0.00s M mother               from /Users/dirk/github/etcbc/bhsa/tf/4b\n",
      "   |     0.00s M mother_object_type   from /Users/dirk/github/etcbc/bhsa/tf/4b\n",
      "   |     0.00s M nametype             from /Users/dirk/github/etcbc/bhsa/tf/4b\n",
      "   |     0.00s M nme                  from /Users/dirk/github/etcbc/bhsa/tf/4b\n",
      "   |     0.00s M nu                   from /Users/dirk/github/etcbc/bhsa/tf/4b\n",
      "   |     0.00s M number               from /Users/dirk/github/etcbc/bhsa/tf/4b\n",
      "   |     0.00s M omap@4-4b            from /Users/dirk/github/etcbc/bhsa/tf/4b\n"
     ]
    },
    {
     "name": "stderr",
     "output_type": "stream",
     "text": [
      "   |     0.00s feature \"omap@4-4b\" => \"omap_4_4b\"\n"
     ]
    },
    {
     "name": "stdout",
     "output_type": "stream",
     "text": [
      "   |     0.00s M original             from /Users/dirk/github/etcbc/valence/tf/4b\n",
      "   |     0.00s M pargr                from /Users/dirk/github/etcbc/bhsa/tf/4b\n",
      "   |     0.00s M pdp                  from /Users/dirk/github/etcbc/bhsa/tf/4b\n",
      "   |     0.00s M pfm                  from /Users/dirk/github/etcbc/bhsa/tf/4b\n",
      "   |     0.00s M phono                from /Users/dirk/github/etcbc/bhsa/tf/4b\n",
      "   |     0.00s M phono_sep            from /Users/dirk/github/etcbc/bhsa/tf/4b\n",
      "   |     0.03s M predication          from /Users/dirk/github/etcbc/valence/tf/4b\n",
      "   |     0.00s M prs                  from /Users/dirk/github/etcbc/bhsa/tf/4b\n",
      "   |     0.00s M ps                   from /Users/dirk/github/etcbc/bhsa/tf/4b\n",
      "   |     0.00s M qtrailer_utf8        from /Users/dirk/github/etcbc/bhsa/tf/4b\n",
      "   |     0.00s M rank_lex             from /Users/dirk/github/etcbc/bhsa/tf/4b\n",
      "   |     0.00s M rank_occ             from /Users/dirk/github/etcbc/bhsa/tf/4b\n",
      "   |     0.00s M rela                 from /Users/dirk/github/etcbc/bhsa/tf/4b\n",
      "   |     0.00s M root                 from /Users/dirk/github/etcbc/bhsa/tf/4b\n",
      "   |     0.00s M s_manual             from /Users/dirk/github/etcbc/valence/tf/4b\n",
      "   |     0.00s M semantic             from /Users/dirk/github/etcbc/valence/tf/4b\n",
      "   |     0.00s M sense                from /Users/dirk/github/etcbc/valence/tf/4b\n",
      "   |     0.00s M sp                   from /Users/dirk/github/etcbc/bhsa/tf/4b\n",
      "   |     0.00s M st                   from /Users/dirk/github/etcbc/bhsa/tf/4b\n",
      "   |     0.00s M tab                  from /Users/dirk/github/etcbc/bhsa/tf/4b\n",
      "   |     0.00s M trailer_utf8         from /Users/dirk/github/etcbc/bhsa/tf/4b\n",
      "   |     0.00s M txt                  from /Users/dirk/github/etcbc/bhsa/tf/4b\n",
      "   |     0.00s M typ                  from /Users/dirk/github/etcbc/bhsa/tf/4b\n",
      "   |     0.00s M uvf                  from /Users/dirk/github/etcbc/bhsa/tf/4b\n",
      "   |     0.00s M valence              from /Users/dirk/github/etcbc/valence/tf/4b\n",
      "   |     0.00s M vbe                  from /Users/dirk/github/etcbc/bhsa/tf/4b\n",
      "   |     0.00s M vbs                  from /Users/dirk/github/etcbc/bhsa/tf/4b\n",
      "   |     0.00s M verse                from /Users/dirk/github/etcbc/bhsa/tf/4b\n",
      "   |     0.00s M vs                   from /Users/dirk/github/etcbc/bhsa/tf/4b\n",
      "   |     0.00s M vt                   from /Users/dirk/github/etcbc/bhsa/tf/4b\n",
      "   |     0.02s B otype                from /Users/dirk/github/etcbc/bhsa/tf/4b\n",
      "   |     0.42s B oslots               from /Users/dirk/github/etcbc/bhsa/tf/4b\n",
      "   |     0.00s B __levels__           from otype, oslots, otext\n",
      "  0.87s 113 features to export to MQL ...\n",
      "  0.87s Loading 113 features\n",
      "   |     0.01s B book                 from /Users/dirk/github/etcbc/bhsa/tf/4b\n",
      "   |     0.00s B book@am              from /Users/dirk/github/etcbc/bhsa/tf/4b\n",
      "   |     0.00s B book@ar              from /Users/dirk/github/etcbc/bhsa/tf/4b\n",
      "   |     0.00s B book@bn              from /Users/dirk/github/etcbc/bhsa/tf/4b\n",
      "   |     0.00s B book@da              from /Users/dirk/github/etcbc/bhsa/tf/4b\n",
      "   |     0.00s B book@de              from /Users/dirk/github/etcbc/bhsa/tf/4b\n",
      "   |     0.00s B book@el              from /Users/dirk/github/etcbc/bhsa/tf/4b\n",
      "   |     0.00s B book@en              from /Users/dirk/github/etcbc/bhsa/tf/4b\n",
      "   |     0.00s B book@es              from /Users/dirk/github/etcbc/bhsa/tf/4b\n",
      "   |     0.00s B book@fa              from /Users/dirk/github/etcbc/bhsa/tf/4b\n",
      "   |     0.00s B book@fr              from /Users/dirk/github/etcbc/bhsa/tf/4b\n",
      "   |     0.00s B book@he              from /Users/dirk/github/etcbc/bhsa/tf/4b\n",
      "   |     0.00s B book@hi              from /Users/dirk/github/etcbc/bhsa/tf/4b\n",
      "   |     0.00s B book@id              from /Users/dirk/github/etcbc/bhsa/tf/4b\n",
      "   |     0.00s B book@ja              from /Users/dirk/github/etcbc/bhsa/tf/4b\n",
      "   |     0.00s B book@ko              from /Users/dirk/github/etcbc/bhsa/tf/4b\n",
      "   |     0.00s B book@la              from /Users/dirk/github/etcbc/bhsa/tf/4b\n",
      "   |     0.00s B book@nl              from /Users/dirk/github/etcbc/bhsa/tf/4b\n",
      "   |     0.00s B book@pa              from /Users/dirk/github/etcbc/bhsa/tf/4b\n",
      "   |     0.00s B book@pt              from /Users/dirk/github/etcbc/bhsa/tf/4b\n",
      "   |     0.00s B book@ru              from /Users/dirk/github/etcbc/bhsa/tf/4b\n",
      "   |     0.00s B book@sw              from /Users/dirk/github/etcbc/bhsa/tf/4b\n",
      "   |     0.00s B book@syc             from /Users/dirk/github/etcbc/bhsa/tf/4b\n",
      "   |     0.00s B book@tr              from /Users/dirk/github/etcbc/bhsa/tf/4b\n",
      "   |     0.00s B book@ur              from /Users/dirk/github/etcbc/bhsa/tf/4b\n",
      "   |     0.00s B book@yo              from /Users/dirk/github/etcbc/bhsa/tf/4b\n",
      "   |     0.00s B book@zh              from /Users/dirk/github/etcbc/bhsa/tf/4b\n",
      "   |     0.05s B cfunction            from /Users/dirk/github/etcbc/valence/tf/4b\n",
      "   |     0.01s B chapter              from /Users/dirk/github/etcbc/bhsa/tf/4b\n",
      "   |     0.02s B code                 from /Users/dirk/github/etcbc/bhsa/tf/4b\n",
      "   |     0.03s B crossref             from /Users/dirk/github/etcbc/parallels/tf/4b\n",
      "   |     0.03s B crossrefLCS          from /Users/dirk/github/etcbc/parallels/tf/4b\n",
      "   |     0.01s B crossrefSET          from /Users/dirk/github/etcbc/parallels/tf/4b\n",
      "   |     0.12s B det                  from /Users/dirk/github/etcbc/bhsa/tf/4b\n",
      "   |     0.83s T dist                 from /Users/dirk/github/etcbc/bhsa/tf/4b\n",
      "   |     1.36s T dist_unit            from /Users/dirk/github/etcbc/bhsa/tf/4b\n",
      "   |     2.98s T distributional_parent from /Users/dirk/github/etcbc/bhsa/tf/4b\n",
      "   |     0.18s T domain               from /Users/dirk/github/etcbc/bhsa/tf/4b\n",
      "   |     0.03s B f_correction         from /Users/dirk/github/etcbc/valence/tf/4b\n",
      "   |     0.10s B freq_lex             from /Users/dirk/github/etcbc/bhsa/tf/4b\n",
      "   |     0.07s B freq_occ             from /Users/dirk/github/etcbc/bhsa/tf/4b\n",
      "   |     0.07s B function             from /Users/dirk/github/etcbc/bhsa/tf/4b\n",
      "   |     4.54s T functional_parent    from /Users/dirk/github/etcbc/bhsa/tf/4b\n",
      "   |     0.09s B g_cons               from /Users/dirk/github/etcbc/bhsa/tf/4b\n",
      "   |     0.14s B g_cons_utf8          from /Users/dirk/github/etcbc/bhsa/tf/4b\n",
      "   |     0.11s B g_entry              from /Users/dirk/github/etcbc/bhsa/tf/4b\n",
      "   |     0.18s B g_entry_heb          from /Users/dirk/github/etcbc/bhsa/tf/4b\n",
      "   |     0.15s B g_lex                from /Users/dirk/github/etcbc/bhsa/tf/4b\n",
      "   |     0.16s B g_lex_utf8           from /Users/dirk/github/etcbc/bhsa/tf/4b\n",
      "   |     0.61s T g_nme                from /Users/dirk/github/etcbc/bhsa/tf/4b\n",
      "   |     0.62s T g_nme_utf8           from /Users/dirk/github/etcbc/bhsa/tf/4b\n",
      "   |     0.47s T g_pfm                from /Users/dirk/github/etcbc/bhsa/tf/4b\n",
      "   |     0.47s T g_pfm_utf8           from /Users/dirk/github/etcbc/bhsa/tf/4b\n",
      "   |     0.51s T g_prs                from /Users/dirk/github/etcbc/bhsa/tf/4b\n",
      "   |     0.51s T g_prs_utf8           from /Users/dirk/github/etcbc/bhsa/tf/4b\n",
      "   |     0.05s B g_qere_utf8          from /Users/dirk/github/etcbc/bhsa/tf/4b\n",
      "   |     0.45s T g_uvf                from /Users/dirk/github/etcbc/bhsa/tf/4b\n",
      "   |     0.42s T g_uvf_utf8           from /Users/dirk/github/etcbc/bhsa/tf/4b\n",
      "   |     0.49s T g_vbe                from /Users/dirk/github/etcbc/bhsa/tf/4b\n",
      "   |     0.57s T g_vbe_utf8           from /Users/dirk/github/etcbc/bhsa/tf/4b\n",
      "   |     0.44s T g_vbs                from /Users/dirk/github/etcbc/bhsa/tf/4b\n",
      "   |     0.42s T g_vbs_utf8           from /Users/dirk/github/etcbc/bhsa/tf/4b\n",
      "   |     0.11s B g_word               from /Users/dirk/github/etcbc/bhsa/tf/4b\n",
      "   |     0.15s B g_word_utf8          from /Users/dirk/github/etcbc/bhsa/tf/4b\n",
      "   |     0.11s B gloss                from /Users/dirk/github/etcbc/bhsa/tf/4b\n",
      "   |     0.08s B gn                   from /Users/dirk/github/etcbc/bhsa/tf/4b\n",
      "   |     0.05s B grammatical          from /Users/dirk/github/etcbc/valence/tf/4b\n",
      "   |     0.19s T is_root              from /Users/dirk/github/etcbc/bhsa/tf/4b\n",
      "   |     0.18s T kind                 from /Users/dirk/github/etcbc/bhsa/tf/4b\n",
      "   |     0.02s B label                from /Users/dirk/github/etcbc/bhsa/tf/4b\n",
      "   |     0.09s B language             from /Users/dirk/github/etcbc/bhsa/tf/4b\n",
      "   |     0.09s B lex                  from /Users/dirk/github/etcbc/bhsa/tf/4b\n",
      "   |     0.96s T lex0                 from /Users/dirk/github/etcbc/bhsa/tf/4b\n",
      "   |     0.15s B lex_utf8             from /Users/dirk/github/etcbc/bhsa/tf/4b\n",
      "   |     0.04s B lexical              from /Users/dirk/github/etcbc/valence/tf/4b\n",
      "   |     0.10s B ls                   from /Users/dirk/github/etcbc/bhsa/tf/4b\n",
      "   |     0.57s T mother               from /Users/dirk/github/etcbc/bhsa/tf/4b\n",
      "   |     0.48s T mother_object_type   from /Users/dirk/github/etcbc/bhsa/tf/4b\n",
      "   |     0.06s B nametype             from /Users/dirk/github/etcbc/bhsa/tf/4b\n",
      "   |     0.09s B nme                  from /Users/dirk/github/etcbc/bhsa/tf/4b\n",
      "   |     0.09s B nu                   from /Users/dirk/github/etcbc/bhsa/tf/4b\n",
      "   |     0.17s B number               from /Users/dirk/github/etcbc/bhsa/tf/4b\n",
      "   |     4.45s T omap@4-4b            from /Users/dirk/github/etcbc/bhsa/tf/4b\n",
      "   |     0.03s B original             from /Users/dirk/github/etcbc/valence/tf/4b\n",
      "   |     0.02s B pargr                from /Users/dirk/github/etcbc/bhsa/tf/4b\n",
      "   |     0.10s B pdp                  from /Users/dirk/github/etcbc/bhsa/tf/4b\n",
      "   |     0.10s B pfm                  from /Users/dirk/github/etcbc/bhsa/tf/4b\n",
      "   |     0.17s B phono                from /Users/dirk/github/etcbc/bhsa/tf/4b\n",
      "   |     0.06s B phono_sep            from /Users/dirk/github/etcbc/bhsa/tf/4b\n",
      "   |     0.07s B predication          from /Users/dirk/github/etcbc/valence/tf/4b\n",
      "   |     0.10s B prs                  from /Users/dirk/github/etcbc/bhsa/tf/4b\n",
      "   |     0.12s B ps                   from /Users/dirk/github/etcbc/bhsa/tf/4b\n",
      "   |     0.05s B qtrailer_utf8        from /Users/dirk/github/etcbc/bhsa/tf/4b\n",
      "   |     0.06s B rank_lex             from /Users/dirk/github/etcbc/bhsa/tf/4b\n",
      "   |     0.06s B rank_occ             from /Users/dirk/github/etcbc/bhsa/tf/4b\n",
      "   |     0.15s B rela                 from /Users/dirk/github/etcbc/bhsa/tf/4b\n",
      "   |     0.00s B root                 from /Users/dirk/github/etcbc/bhsa/tf/4b\n",
      "   |     0.04s B s_manual             from /Users/dirk/github/etcbc/valence/tf/4b\n",
      "   |     0.06s B semantic             from /Users/dirk/github/etcbc/valence/tf/4b\n",
      "   |     0.04s B sense                from /Users/dirk/github/etcbc/valence/tf/4b\n",
      "   |     0.10s B sp                   from /Users/dirk/github/etcbc/bhsa/tf/4b\n",
      "   |     0.08s B st                   from /Users/dirk/github/etcbc/bhsa/tf/4b\n",
      "   |     0.02s B tab                  from /Users/dirk/github/etcbc/bhsa/tf/4b\n",
      "   |     0.07s B trailer_utf8         from /Users/dirk/github/etcbc/bhsa/tf/4b\n",
      "   |     0.02s B txt                  from /Users/dirk/github/etcbc/bhsa/tf/4b\n",
      "   |     0.17s B typ                  from /Users/dirk/github/etcbc/bhsa/tf/4b\n",
      "   |     0.10s B uvf                  from /Users/dirk/github/etcbc/bhsa/tf/4b\n",
      "   |     0.10s B valence              from /Users/dirk/github/etcbc/valence/tf/4b\n",
      "   |     0.10s B vbe                  from /Users/dirk/github/etcbc/bhsa/tf/4b\n",
      "   |     0.10s B vbs                  from /Users/dirk/github/etcbc/bhsa/tf/4b\n",
      "   |     0.01s B verse                from /Users/dirk/github/etcbc/bhsa/tf/4b\n",
      "   |     0.14s B vs                   from /Users/dirk/github/etcbc/bhsa/tf/4b\n",
      "   |     0.13s B vt                   from /Users/dirk/github/etcbc/bhsa/tf/4b\n",
      "    29s Writing enumerations\n",
      "\tbook_am        :   39 values, 39 not a name, e.g. «መኃልየ_መኃልይ_ዘሰሎሞን»\n",
      "\tbook_ar        :   39 values, 39 not a name, e.g. «1_اخبار»\n",
      "\tbook_bn        :   39 values, 39 not a name, e.g. «আদিপুস্তক»\n",
      "\tbook_da        :   39 values, 13 not a name, e.g. «1.Kongebog»\n",
      "\tbook_de        :   39 values, 7 not a name, e.g. «1_Chronik»\n",
      "\tbook_el        :   39 values, 39 not a name, e.g. «Άσμα_Ασμάτων»\n",
      "\tbook_en        :   39 values, 6 not a name, e.g. «1_Chronicles»\n",
      "\tbook_es        :   39 values, 22 not a name, e.g. «1_Crónicas»\n",
      "\tbook_fa        :   39 values, 39 not a name, e.g. «استر»\n",
      "\tbook_fr        :   39 values, 19 not a name, e.g. «1_Chroniques»\n",
      "\tbook_he        :   39 values, 39 not a name, e.g. «איוב»\n",
      "\tbook_hi        :   39 values, 39 not a name, e.g. «1_इतिहास»\n",
      "\tbook_id        :   39 values, 7 not a name, e.g. «1_Raja-raja»\n",
      "\tbook_ja        :   39 values, 39 not a name, e.g. «アモス書»\n",
      "\tbook_ko        :   39 values, 39 not a name, e.g. «나훔»\n",
      "\tbook_nl        :   39 values, 8 not a name, e.g. «1_Koningen»\n",
      "\tbook_pa        :   39 values, 39 not a name, e.g. «1_ਇਤਹਾਸ»\n",
      "\tbook_pt        :   39 values, 21 not a name, e.g. «1_Crônicas»\n",
      "\tbook_ru        :   39 values, 39 not a name, e.g. «1-я_Паралипоменон»\n",
      "\tbook_sw        :   39 values, 6 not a name, e.g. «1_Mambo_ya_Nyakati»\n",
      "\tbook_syc       :   39 values, 39 not a name, e.g. «ܐ_ܒܪܝܡܝܢ»\n",
      "\tbook_tr        :   39 values, 16 not a name, e.g. «1_Krallar»\n",
      "\tbook_ur        :   39 values, 39 not a name, e.g. «احبار»\n",
      "\tbook_yo        :   39 values, 8 not a name, e.g. «Amọsi»\n",
      "\tbook_zh        :   38 values, 37 not a name, e.g. «以斯帖记»\n",
      "\tcfunction      :   26 values, 1 not a name, e.g. «»\n",
      "\tdomain         :    4 values, 1 not a name, e.g. «?»\n",
      "\tf_correction   :    1 values, 1 not a name, e.g. «»\n",
      "\tg_nme          :  108 values, 108 not a name, e.g. «»\n",
      "\tg_nme_utf8     :  108 values, 108 not a name, e.g. «»\n",
      "\tg_pfm          :   87 values, 87 not a name, e.g. «»\n",
      "\tg_pfm_utf8     :   87 values, 87 not a name, e.g. «»\n",
      "\tg_prs          :  128 values, 128 not a name, e.g. «»\n",
      "\tg_prs_utf8     :  128 values, 128 not a name, e.g. «»\n",
      "\tg_uvf          :   19 values, 19 not a name, e.g. «»\n",
      "\tg_uvf_utf8     :   19 values, 19 not a name, e.g. «»\n",
      "\tg_vbe          :  101 values, 101 not a name, e.g. «»\n",
      "\tg_vbe_utf8     :  101 values, 101 not a name, e.g. «»\n",
      "\tg_vbs          :   66 values, 66 not a name, e.g. «»\n",
      "\tg_vbs_utf8     :   66 values, 66 not a name, e.g. «»\n",
      "\tgrammatical    :   11 values, 2 not a name, e.g. «»\n",
      "\tlexical        :    4 values, 1 not a name, e.g. «»\n",
      "\tnametype       :   10 values, 5 not a name, e.g. «»\n",
      "\tnme            :   20 values, 7 not a name, e.g. «»\n",
      "\toriginal       :    2 values, 2 not a name, e.g. «»\n",
      "\tpfm            :   11 values, 4 not a name, e.g. «»\n",
      "\tphono_sep      :    3 values, 3 not a name, e.g. «»\n",
      "\tprs            :   22 values, 4 not a name, e.g. «H=»\n",
      "\tqtrailer_utf8  :    5 values, 5 not a name, e.g. «»\n",
      "\troot           :  589 values, 175 not a name, e.g. «<Assyrian>»\n",
      "\ts_manual       :    1 values, 1 not a name, e.g. «»\n",
      "\tsemantic       :    5 values, 1 not a name, e.g. «»\n",
      "\tsense          :   15 values, 11 not a name, e.g. «--»\n",
      "\ttrailer_utf8   :   12 values, 12 not a name, e.g. «»\n",
      "\ttxt            :  146 values, 62 not a name, e.g. «?»\n",
      "\tuvf            :    6 values, 1 not a name, e.g. «>»\n",
      "\tvbe            :   19 values, 6 not a name, e.g. «»\n",
      "\tvbs            :   11 values, 3 not a name, e.g. «>»\n",
      "   |     1.39s Writing an all-in-one enum with  233 values\n",
      "    30s Mapping 113 features onto 13 object types\n",
      "    35s Writing 113 features as data in 13 object types\n",
      "   |     0.00s word data ...\n",
      "   |      |     4.85s batch of size               42.1MB with   50000 of   50000 words\n",
      "   |      |     9.05s batch of size               42.1MB with   50000 of  100000 words\n",
      "   |      |       12s batch of size               42.3MB with   50000 of  150000 words\n",
      "   |      |       16s batch of size               42.3MB with   50000 of  200000 words\n",
      "   |      |       19s batch of size               42.5MB with   50000 of  250000 words\n",
      "   |      |       22s batch of size               42.5MB with   50000 of  300000 words\n",
      "   |      |       25s batch of size               42.6MB with   50000 of  350000 words\n",
      "   |      |       28s batch of size               42.4MB with   50000 of  400000 words\n",
      "   |      |       29s batch of size               22.5MB with   26568 of  426568 words\n",
      "   |       29s word data: 426568 objects\n",
      "   |     0.00s subphrase data ...\n",
      "   |      |     0.37s batch of size                6.5MB with   50000 of   50000 subphrases\n",
      "   |      |     0.72s batch of size                6.4MB with   50000 of  100000 subphrases\n",
      "   |      |     0.83s batch of size                1.8MB with   13764 of  113764 subphrases\n",
      "   |     0.83s subphrase data: 113764 objects\n",
      "   |     0.00s phrase_atom data ...\n",
      "   |      |     0.70s batch of size               10.6MB with   50000 of   50000 phrase_atoms\n",
      "   |      |     1.36s batch of size               10.7MB with   50000 of  100000 phrase_atoms\n",
      "   |      |     2.01s batch of size               10.8MB with   50000 of  150000 phrase_atoms\n",
      "   |      |     2.65s batch of size               10.8MB with   50000 of  200000 phrase_atoms\n",
      "   |      |     3.30s batch of size               10.8MB with   50000 of  250000 phrase_atoms\n",
      "   |      |     3.53s batch of size                3.8MB with   17499 of  267499 phrase_atoms\n",
      "   |     3.53s phrase_atom data: 267499 objects\n",
      "   |     0.00s phrase data ...\n",
      "   |      |     0.97s batch of size               15.6MB with   50000 of   50000 phrases\n",
      "   |      |     1.95s batch of size               15.9MB with   50000 of  100000 phrases\n",
      "   |      |     2.93s batch of size               15.8MB with   50000 of  150000 phrases\n",
      "   |      |     3.89s batch of size               15.5MB with   50000 of  200000 phrases\n",
      "   |      |     4.84s batch of size               15.3MB with   50000 of  250000 phrases\n",
      "   |      |     4.90s batch of size                1.0MB with    3161 of  253161 phrases\n",
      "   |     4.90s phrase data: 253161 objects\n",
      "   |     0.00s clause_atom data ...\n",
      "   |      |     0.78s batch of size               12.1MB with   50000 of   50000 clause_atoms\n",
      "   |      |     1.40s batch of size                9.8MB with   40554 of   90554 clause_atoms\n",
      "   |     1.41s clause_atom data: 90554 objects\n",
      "   |     0.00s clause data ...\n",
      "   |      |     0.98s batch of size               12.6MB with   50000 of   50000 clauses\n",
      "   |      |     1.69s batch of size                9.5MB with   38011 of   88011 clauses\n",
      "   |     1.69s clause data: 88011 objects\n",
      "   |     0.00s sentence_atom data ...\n",
      "   |      |     0.38s batch of size                6.4MB with   50000 of   50000 sentence_atoms\n",
      "   |      |     0.50s batch of size                1.8MB with   14354 of   64354 sentence_atoms\n",
      "   |     0.50s sentence_atom data: 64354 objects\n",
      "   |     0.00s sentence data ...\n",
      "   |      |     0.36s batch of size                4.9MB with   50000 of   50000 sentences\n",
      "   |      |     0.44s batch of size                1.3MB with   13586 of   63586 sentences\n",
      "   |     0.44s sentence data: 63586 objects\n",
      "   |     0.00s half_verse data ...\n",
      "   |      |     0.28s batch of size                4.3MB with   45180 of   45180 half_verses\n",
      "   |     0.28s half_verse data: 45180 objects\n",
      "   |     0.00s verse data ...\n",
      "   |      |     0.27s batch of size                4.1MB with   23213 of   23213 verses\n",
      "   |     0.27s verse data: 23213 objects\n",
      "   |     0.00s lex data ...\n",
      "   |      |     0.33s batch of size                4.0MB with    9238 of    9238 lexs\n",
      "   |     0.33s lex data: 9238 objects\n",
      "   |     0.00s chapter data ...\n",
      "   |      |     0.03s batch of size              105.7KB with     929 of     929 chapters\n",
      "   |     0.03s chapter data: 929 objects\n",
      "   |     0.00s book data ...\n",
      "   |      |     0.03s batch of size               28.1KB with      39 of      39 books\n",
      "   |     0.03s book data: 39 objects\n",
      " 1m 18s Done\n",
      "|      1m 18s \tbzipping /Users/dirk/github/etcbc/bhsa/_temp/4b/shebanq/shebanq_etcbc4b.mql\n",
      "|      1m 18s \tand delivering as /Users/dirk/github/etcbc/bhsa/shebanq/4b/shebanq_etcbc4b.mql.bz2 ...\n",
      "|      2m 30s \tDone\n"
     ]
    }
   ],
   "source": [
    "good = webPipeline(pipeline, versions=VERSIONS, force=False, kinds=KINDS)"
   ]
  },
  {
   "cell_type": "code",
   "execution_count": null,
   "metadata": {},
   "outputs": [],
   "source": [
    "#good = True\n",
    "if good:\n",
    "    good = importLocal(pipeline, versions=VERSIONS, kinds=KINDS)"
   ]
  },
  {
   "cell_type": "code",
   "execution_count": 5,
   "metadata": {},
   "outputs": [
    {
     "name": "stdout",
     "output_type": "stream",
     "text": [
      "\n",
      "##############################################################################################\n",
      "#                                                                                            #\n",
      "#     10m 01s Sending MQL database for version c to server                                   #\n",
      "#                                                                                            #\n",
      "##############################################################################################\n",
      "\n",
      "|     10m 01s \tshebanq_etcbcc.mql.bz2\n",
      "|     10m 01s \tscp /Users/dirk/github/etcbc/bhsa/shebanq/c/shebanq_etcbcc.mql.bz2 dirkr@clarin11.dans.knaw.nl:/home/dirkr/shebanq-install/shebanq_etcbcc.mql.bz2\n",
      "|     10m 14s \tdone\n",
      "\n",
      "##############################################################################################\n",
      "#                                                                                            #\n",
      "#     10m 14s Sending passage database for version c to server                               #\n",
      "#                                                                                            #\n",
      "##############################################################################################\n",
      "\n",
      "|     10m 14s \tshebanq_passagec.sql.gz\n",
      "|     10m 14s \tscp /Users/dirk/github/etcbc/bhsa/shebanq/c/shebanq_passagec.sql.gz dirkr@clarin11.dans.knaw.nl:/home/dirkr/shebanq-install/shebanq_passagec.sql.gz\n",
      "|     10m 26s \tdone\n"
     ]
    }
   ],
   "source": [
    "#good = True\n",
    "if good:\n",
    "    good = copyServer(pipeline, user, server, remoteDir, versions=VERSIONS, kinds=KINDS)"
   ]
  },
  {
   "cell_type": "code",
   "execution_count": null,
   "metadata": {
    "tags": []
   },
   "outputs": [],
   "source": []
  }
 ],
 "metadata": {
  "kernelspec": {
   "display_name": "Python 3",
   "language": "python",
   "name": "python3"
  },
  "language_info": {
   "codemirror_mode": {
    "name": "ipython",
    "version": 3
   },
   "file_extension": ".py",
   "mimetype": "text/x-python",
   "name": "python",
   "nbconvert_exporter": "python",
   "pygments_lexer": "ipython3",
   "version": "3.9.5"
  },
  "widgets": {
   "application/vnd.jupyter.widget-state+json": {
    "state": {},
    "version_major": 2,
    "version_minor": 0
   }
  }
 },
 "nbformat": 4,
 "nbformat_minor": 4
}
