{
 "cells": [
  {
   "cell_type": "code",
   "execution_count": 9,
   "id": "e358cc33-253c-432c-97df-4a8aab246a92",
   "metadata": {},
   "outputs": [],
   "source": [
    "from tf.fabric import Fabric"
   ]
  },
  {
   "cell_type": "code",
   "execution_count": 10,
   "id": "bde56257-c4dd-4592-b6b5-1469a7af8681",
   "metadata": {},
   "outputs": [
    {
     "name": "stdout",
     "output_type": "stream",
     "text": [
      "This is Text-Fabric 8.5.12\n",
      "Api reference : https://annotation.github.io/text-fabric/tf/cheatsheet.html\n",
      "\n",
      "104 features found and 0 ignored\n"
     ]
    }
   ],
   "source": [
    "TF = Fabric(locations=\"~/github/etcbc/bhsa/tf\", modules=\"4\")"
   ]
  },
  {
   "cell_type": "code",
   "execution_count": 15,
   "id": "2c3f3303-aaf7-4a87-9b92-cba665d631e2",
   "metadata": {},
   "outputs": [
    {
     "name": "stdout",
     "output_type": "stream",
     "text": [
      "  0.00s loading features ...\n",
      "   |     0.00s Dataset without structure sections in otext:no structure functions in the T-API\n",
      "  0.18s All features loaded/computed - for details use loadLog()\n"
     ]
    }
   ],
   "source": [
    "api = TF.load(\"lex g_entry g_entry_heb\")"
   ]
  },
  {
   "cell_type": "code",
   "execution_count": 16,
   "id": "547a3be2-4526-4703-8888-afde605a9063",
   "metadata": {},
   "outputs": [
    {
     "data": {
      "text/plain": [
       "[('Computed',\n",
       "  'computed-data',\n",
       "  ('C Computed', 'Call AllComputeds', 'Cs ComputedString')),\n",
       " ('Features', 'edge-features', ('E Edge', 'Eall AllEdges', 'Es EdgeString')),\n",
       " ('Fabric', 'loading', ('TF',)),\n",
       " ('Locality', 'locality', ('L Locality',)),\n",
       " ('Nodes', 'navigating-nodes', ('N Nodes',)),\n",
       " ('Features',\n",
       "  'node-features',\n",
       "  ('F Feature', 'Fall AllFeatures', 'Fs FeatureString')),\n",
       " ('Search', 'search', ('S Search',)),\n",
       " ('Text', 'text', ('T Text',))]"
      ]
     },
     "execution_count": 16,
     "metadata": {},
     "output_type": "execute_result"
    }
   ],
   "source": [
    "api.makeAvailableIn(globals())"
   ]
  },
  {
   "cell_type": "code",
   "execution_count": 18,
   "id": "41be64a6-7a5b-4cc8-9ea6-cd4b7ab404ec",
   "metadata": {},
   "outputs": [],
   "source": [
    "ff = F.lex.freqList()\n",
    "ge = F.g_entry.freqList()\n",
    "gh = F.g_entry_heb.freqList()"
   ]
  },
  {
   "cell_type": "code",
   "execution_count": 19,
   "id": "767f69f5-7d56-45a8-b86f-242ea91e52ab",
   "metadata": {},
   "outputs": [
    {
     "data": {
      "text/plain": [
       "(('W', 51006),\n",
       " ('H', 30377),\n",
       " ('L', 20449),\n",
       " ('B', 15769),\n",
       " ('>T', 11087),\n",
       " ('MN', 7682),\n",
       " ('JHWH/', 6829),\n",
       " ('<L', 5871),\n",
       " ('>L', 5523),\n",
       " ('>CR', 5501))"
      ]
     },
     "execution_count": 19,
     "metadata": {},
     "output_type": "execute_result"
    }
   ],
   "source": [
    "ff[0:10]"
   ]
  },
  {
   "cell_type": "code",
   "execution_count": 20,
   "id": "91a77e39-e456-4653-ab1d-8ebdd30a0e28",
   "metadata": {},
   "outputs": [
    {
     "data": {
      "text/plain": [
       "(('W:', 51004),\n",
       " ('HA', 30369),\n",
       " ('L:', 20447),\n",
       " ('', 19894),\n",
       " ('B.:', 15767),\n",
       " ('>;T', 11870),\n",
       " ('MIN', 7680),\n",
       " ('JHWH', 6828),\n",
       " ('<AL', 5878),\n",
       " ('>EL', 5517))"
      ]
     },
     "execution_count": 20,
     "metadata": {},
     "output_type": "execute_result"
    }
   ],
   "source": [
    "ge[0:10]"
   ]
  },
  {
   "cell_type": "code",
   "execution_count": 21,
   "id": "8a4c9401-b46b-4d81-b78a-72f2c00d3d6b",
   "metadata": {},
   "outputs": [
    {
     "data": {
      "text/plain": [
       "(('וְ', 51004),\n",
       " ('הַ', 30369),\n",
       " ('לְ', 20447),\n",
       " ('', 19894),\n",
       " ('בְּ', 15767),\n",
       " ('אֵת', 11870),\n",
       " ('מִן', 7680),\n",
       " ('יהוה', 6828),\n",
       " ('עַל', 5878),\n",
       " ('אֶל', 5517))"
      ]
     },
     "execution_count": 21,
     "metadata": {},
     "output_type": "execute_result"
    }
   ],
   "source": [
    "gh[0:10]"
   ]
  },
  {
   "cell_type": "code",
   "execution_count": null,
   "id": "9a671413-d976-4149-8217-188561694242",
   "metadata": {},
   "outputs": [],
   "source": []
  }
 ],
 "metadata": {
  "kernelspec": {
   "display_name": "Python 3",
   "language": "python",
   "name": "python3"
  },
  "language_info": {
   "codemirror_mode": {
    "name": "ipython",
    "version": 3
   },
   "file_extension": ".py",
   "mimetype": "text/x-python",
   "name": "python",
   "nbconvert_exporter": "python",
   "pygments_lexer": "ipython3",
   "version": "3.9.5"
  },
  "widgets": {
   "application/vnd.jupyter.widget-state+json": {
    "state": {},
    "version_major": 2,
    "version_minor": 0
   }
  }
 },
 "nbformat": 4,
 "nbformat_minor": 5
}
